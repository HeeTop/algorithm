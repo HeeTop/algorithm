{
 "cells": [
  {
   "cell_type": "code",
   "execution_count": 51,
   "metadata": {},
   "outputs": [],
   "source": [
    "clothes = [['yellow_hat', 'headgear'], ['blue_sunglasses', 'eyewear'], ['green_turban', 'headgear']]"
   ]
  },
  {
   "cell_type": "code",
   "execution_count": 52,
   "metadata": {},
   "outputs": [
    {
     "data": {
      "text/plain": [
       "[['yellow_hat', 'headgear'],\n",
       " ['blue_sunglasses', 'eyewear'],\n",
       " ['green_turban', 'headgear']]"
      ]
     },
     "execution_count": 52,
     "metadata": {},
     "output_type": "execute_result"
    }
   ],
   "source": [
    "clothes"
   ]
  },
  {
   "cell_type": "code",
   "execution_count": 53,
   "metadata": {},
   "outputs": [],
   "source": [
    "cloth_dict = {}\n",
    "for cloth in clothes:\n",
    "    if cloth[1] in cloth_dict:\n",
    "        cloth_dict[cloth[1]] += 1\n",
    "    else:\n",
    "        cloth_dict[cloth[1]] = 1"
   ]
  },
  {
   "cell_type": "code",
   "execution_count": 54,
   "metadata": {},
   "outputs": [],
   "source": [
    "N = len(cloth_dict)"
   ]
  },
  {
   "cell_type": "code",
   "execution_count": 82,
   "metadata": {},
   "outputs": [],
   "source": [
    "keys = list(cloth_dict.keys())\n",
    "\n",
    "def combi(n):\n",
    "    result = 1\n",
    "    index = 1\n",
    "    while(n):\n",
    "        if n & 1:\n",
    "            result *= cloth_dict[keys[-index]]\n",
    "        n = n>>1\n",
    "        index += 1\n",
    "    return result"
   ]
  },
  {
   "cell_type": "code",
   "execution_count": 84,
   "metadata": {},
   "outputs": [],
   "source": [
    "result = 0\n",
    "for n in range(1, 1<< N):\n",
    "    result += combi(n)"
   ]
  },
  {
   "cell_type": "code",
   "execution_count": 77,
   "metadata": {},
   "outputs": [
    {
     "data": {
      "text/plain": [
       "5"
      ]
     },
     "execution_count": 77,
     "metadata": {},
     "output_type": "execute_result"
    }
   ],
   "source": [
    "result"
   ]
  },
  {
   "cell_type": "code",
   "execution_count": 90,
   "metadata": {},
   "outputs": [],
   "source": [
    "result = 1\n",
    "\n",
    "for value in cloth_dict.values():\n",
    "    result *= value + 1\n",
    "result -= 1"
   ]
  },
  {
   "cell_type": "code",
   "execution_count": 91,
   "metadata": {},
   "outputs": [
    {
     "data": {
      "text/plain": [
       "5"
      ]
     },
     "execution_count": 91,
     "metadata": {},
     "output_type": "execute_result"
    }
   ],
   "source": [
    "result"
   ]
  },
  {
   "cell_type": "code",
   "execution_count": 85,
   "metadata": {},
   "outputs": [],
   "source": [
    "def solution(clothes):\n",
    "    cloth_dict = {}\n",
    "    for cloth in clothes:\n",
    "        if cloth[1] in cloth_dict:\n",
    "            cloth_dict[cloth[1]] += 1\n",
    "        else:\n",
    "            cloth_dict[cloth[1]] = 1\n",
    "    result = 1\n",
    "\n",
    "    for value in cloth_dict.values():\n",
    "        result *= value + 1\n",
    "    result -= 1\n",
    "    return result"
   ]
  }
 ],
 "metadata": {
  "kernelspec": {
   "display_name": "Python 3",
   "language": "python",
   "name": "python3"
  },
  "language_info": {
   "codemirror_mode": {
    "name": "ipython",
    "version": 3
   },
   "file_extension": ".py",
   "mimetype": "text/x-python",
   "name": "python",
   "nbconvert_exporter": "python",
   "pygments_lexer": "ipython3",
   "version": "3.7.3"
  }
 },
 "nbformat": 4,
 "nbformat_minor": 2
}

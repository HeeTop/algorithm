{
 "cells": [
  {
   "cell_type": "code",
   "execution_count": 199,
   "metadata": {},
   "outputs": [],
   "source": [
    "left = [3, 2, 5]\n",
    "right = [2, 4, 1]\n",
    "result = 7"
   ]
  },
  {
   "cell_type": "code",
   "execution_count": 200,
   "metadata": {},
   "outputs": [],
   "source": [
    "N = len(left)"
   ]
  },
  {
   "cell_type": "code",
   "execution_count": 201,
   "metadata": {},
   "outputs": [],
   "source": [
    "dp = [[0] * N for n in range(N)]"
   ]
  },
  {
   "cell_type": "code",
   "execution_count": 189,
   "metadata": {},
   "outputs": [],
   "source": [
    "for r in range(N - 1):\n",
    "    for l in range(N - 1):\n",
    "        if (r + 1 != N - 1 and l + 1 != N - 1) or (r + 1 == N - 1 and l + 1 == N - 1):\n",
    "            if left[l] > right[r + 1]:\n",
    "                dp[l][r + 1] = max(dp[l][r + 1], dp[l][r] + right[r + 1])\n",
    "            else:\n",
    "                dp[l][r + 1] = max(dp[l][r + 1], dp[l][r])\n",
    "            \n",
    "            dp[l + 1][r] = max(dp[l + 1][r], dp[l][r])\n",
    "        elif r + 1 == N - 1:\n",
    "    \n",
    "            if left[l] > right[r + 1]:\n",
    "                dp[l][r + 1] = max(dp[l][r + 1], dp[l][r] + right[r + 1])\n",
    "            else:\n",
    "                dp[l][r + 1] = max(dp[l][r + 1], dp[l][r])\n",
    "        elif l + 1 == N - 1:\n",
    "            dp[l + 1][r] = max(dp[l + 1][r], dp[l][r])\n",
    "        else:\n",
    "            print('ere')"
   ]
  },
  {
   "cell_type": "code",
   "execution_count": 184,
   "metadata": {},
   "outputs": [
    {
     "data": {
      "text/plain": [
       "[[0, 0, 1], [0, 0, 1], [0, 0, 0]]"
      ]
     },
     "execution_count": 184,
     "metadata": {},
     "output_type": "execute_result"
    }
   ],
   "source": [
    "dp"
   ]
  },
  {
   "cell_type": "code",
   "execution_count": 185,
   "metadata": {},
   "outputs": [
    {
     "data": {
      "text/plain": [
       "3"
      ]
     },
     "execution_count": 185,
     "metadata": {},
     "output_type": "execute_result"
    }
   ],
   "source": [
    "N"
   ]
  },
  {
   "cell_type": "code",
   "execution_count": 202,
   "metadata": {},
   "outputs": [],
   "source": [
    "dp = [[0] * N for n in range(N)]\n",
    "for r in range(N - 1):\n",
    "    for l in range(N - 1):\n",
    "        if r + 1 != N - 1 and l + 1 != N -1:\n",
    "            if left[l] > right[r + 1]:\n",
    "                dp[l][r + 1] = max(dp[l][r + 1], dp[l][r] + right[r + 1])\n",
    "            else:\n",
    "                dp[l][r + 1] = max(dp[l][r + 1], dp[l][r])\n",
    "\n",
    "            dp[l + 1][r] = max(dp[l + 1][r], dp[l][r])\n",
    "\n",
    "        elif r + 1 == N - 1:\n",
    "            if left[l] > right[r + 1]:\n",
    "                dp[l][r + 1] = max(dp[l][r + 1], dp[l][r] + right[r + 1])\n",
    "            else:\n",
    "                dp[l][r + 1] = max(dp[l][r + 1], dp[l][r])\n",
    "        elif l + 1 == N - 1:\n",
    "            dp[l + 1][r] = max(dp[l + 1][r], dp[l][r])"
   ]
  },
  {
   "cell_type": "code",
   "execution_count": 203,
   "metadata": {},
   "outputs": [
    {
     "data": {
      "text/plain": [
       "[[0, 0, 1], [0, 0, 1], [0, 0, 0]]"
      ]
     },
     "execution_count": 203,
     "metadata": {},
     "output_type": "execute_result"
    }
   ],
   "source": [
    "dp"
   ]
  },
  {
   "cell_type": "code",
   "execution_count": 133,
   "metadata": {},
   "outputs": [],
   "source": [
    "def solution(left, right):\n",
    "    N = len(left)\n",
    "    dp = [[0] * N for n in range(N)]\n",
    "    anwser = 0\n",
    "    for l in range(0, N):\n",
    "        for r in range(0,N):\n",
    "            if l == 0 and r == 0:\n",
    "                continue\n",
    "            tmp = 0\n",
    "            if left[l] > right[r]:\n",
    "                tmp = right[r]\n",
    "            dp[l][r] = max(dp[l -1][r], dp[l - 1][r - 1], dp[l][r - 1] + tmp)\n",
    "    return dp[N -1][N -1]\n"
   ]
  },
  {
   "cell_type": "code",
   "execution_count": 134,
   "metadata": {},
   "outputs": [
    {
     "data": {
      "text/plain": [
       "7"
      ]
     },
     "execution_count": 134,
     "metadata": {},
     "output_type": "execute_result"
    }
   ],
   "source": [
    "solution(left, right)"
   ]
  },
  {
   "cell_type": "code",
   "execution_count": null,
   "metadata": {},
   "outputs": [],
   "source": [
    "def solution(left, right):\n",
    "    N = len(left)\n",
    "    dp = [[0] * N for n in range(N)]\n",
    "    for l in range(N - 1):\n",
    "        for r in range(N - 1):\n",
    "            if r + 1 != N - 1 and l + 1 != N -1:\n",
    "                if left[l] > right[r + 1]:\n",
    "                    dp[l][r + 1] = max(dp[l][r + 1], dp[l][r] + right[r + 1])\n",
    "                else:\n",
    "                    dp[l][r + 1] = max(dp[l][r + 1], dp[l][r])\n",
    "\n",
    "                dp[l + 1][r] = max(dp[l + 1][r], dp[l][r])\n",
    "                \n",
    "            elif r + 1 == N - 1:\n",
    "                if left[l] > right[r + 1]:\n",
    "                    dp[l][r + 1] = max(dp[l][r + 1], dp[l][r] + right[r + 1])\n",
    "                else:\n",
    "                    dp[l][r + 1] = max(dp[l][r + 1], dp[l][r])\n",
    "            elif l + 1 == N - 1:\n",
    "                dp[l + 1][r] = max(dp[l + 1][r], dp[l][r])\n",
    "    return dp[-1][-1]"
   ]
  }
 ],
 "metadata": {
  "kernelspec": {
   "display_name": "Python 3",
   "language": "python",
   "name": "python3"
  },
  "language_info": {
   "codemirror_mode": {
    "name": "ipython",
    "version": 3
   },
   "file_extension": ".py",
   "mimetype": "text/x-python",
   "name": "python",
   "nbconvert_exporter": "python",
   "pygments_lexer": "ipython3",
   "version": "3.7.3"
  }
 },
 "nbformat": 4,
 "nbformat_minor": 2
}

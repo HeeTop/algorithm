{
 "cells": [
  {
   "cell_type": "code",
   "execution_count": 67,
   "metadata": {},
   "outputs": [],
   "source": [
    "n = 4\n",
    "edges = [[0,1,1],[0,2,2],[1,2,5],[1,3,1],[2,3,8]]\n",
    "edges.sort(key=lambda x: x[2])"
   ]
  },
  {
   "cell_type": "code",
   "execution_count": 54,
   "metadata": {},
   "outputs": [],
   "source": [
    "root = [x for x in range(101)]\n",
    "rank = [0] * 101\n",
    "\n",
    "def find(x):\n",
    "    if root[x] != x:\n",
    "        root[x] = find(root[x])\n",
    "    return root[x]"
   ]
  },
  {
   "cell_type": "code",
   "execution_count": 55,
   "metadata": {},
   "outputs": [],
   "source": [
    "def union(x, y):\n",
    "    x = find(x)\n",
    "    y = find(y)\n",
    "    \n",
    "    if rank[x] > rank[y]:\n",
    "        root[y] = x\n",
    "    else:\n",
    "        root[x] = y\n",
    "        if rank[x] == rank[y]:\n",
    "            rank[y] += 1\n"
   ]
  },
  {
   "cell_type": "code",
   "execution_count": 56,
   "metadata": {},
   "outputs": [],
   "source": [
    "def is_union(x, y):\n",
    "    return find(x) == find(y)"
   ]
  },
  {
   "cell_type": "code",
   "execution_count": 57,
   "metadata": {
    "scrolled": true
   },
   "outputs": [],
   "source": [
    "result = 0\n",
    "for edge in edges:\n",
    "    x, y, value = edge\n",
    "    \n",
    "    if is_union(x, y):\n",
    "        continue\n",
    "    union(x,y)\n",
    "    result += value"
   ]
  },
  {
   "cell_type": "code",
   "execution_count": 58,
   "metadata": {},
   "outputs": [
    {
     "data": {
      "text/plain": [
       "4"
      ]
     },
     "execution_count": 58,
     "metadata": {},
     "output_type": "execute_result"
    }
   ],
   "source": [
    "result"
   ]
  },
  {
   "cell_type": "code",
   "execution_count": 84,
   "metadata": {},
   "outputs": [],
   "source": [
    "root = [x for x in range(101)]\n",
    "rank = [0] * 101\n",
    "\n",
    "def find(x):\n",
    "    if root[x] != x:\n",
    "        root[x] = find(root[x])\n",
    "    return root[x]\n",
    "\n",
    "def union(x, y):\n",
    "    x = find(x)\n",
    "    y = find(y)\n",
    "    \n",
    "    if rank[x] > rank[y]:\n",
    "        root[y] = x\n",
    "    else:\n",
    "        root[x] = y\n",
    "        if rank[x] == rank[y]:\n",
    "            rank[y] += 1\n",
    "def is_union(x, y):\n",
    "    return find(x) == find(y)\n",
    "\n",
    "def solution(n, edges):\n",
    "    result = 0\n",
    "    edges.sort(key=lambda x: x[2])\n",
    "    for edge in edges:\n",
    "        x, y, value = edge\n",
    "\n",
    "        if find(x) != find(y):\n",
    "            union(x,y)\n",
    "            result += value\n",
    "    return result"
   ]
  },
  {
   "cell_type": "code",
   "execution_count": 85,
   "metadata": {},
   "outputs": [
    {
     "data": {
      "text/plain": [
       "4"
      ]
     },
     "execution_count": 85,
     "metadata": {},
     "output_type": "execute_result"
    }
   ],
   "source": [
    "solution(n, edges)"
   ]
  },
  {
   "cell_type": "code",
   "execution_count": null,
   "metadata": {},
   "outputs": [],
   "source": []
  }
 ],
 "metadata": {
  "kernelspec": {
   "display_name": "Python 3",
   "language": "python",
   "name": "python3"
  },
  "language_info": {
   "codemirror_mode": {
    "name": "ipython",
    "version": 3
   },
   "file_extension": ".py",
   "mimetype": "text/x-python",
   "name": "python",
   "nbconvert_exporter": "python",
   "pygments_lexer": "ipython3",
   "version": "3.7.3"
  }
 },
 "nbformat": 4,
 "nbformat_minor": 2
}

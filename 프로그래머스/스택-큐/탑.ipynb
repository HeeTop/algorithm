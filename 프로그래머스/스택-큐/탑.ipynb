{
 "cells": [
  {
   "cell_type": "code",
   "execution_count": 18,
   "metadata": {},
   "outputs": [],
   "source": [
    "heights = [6,9,5,7,4]\n",
    "result = [0,0,2,2,4]"
   ]
  },
  {
   "cell_type": "code",
   "execution_count": 19,
   "metadata": {},
   "outputs": [],
   "source": [
    "result = [0] * len(heights)\n",
    "stack = []\n",
    "\n",
    "for i in range(len(heights) - 1, -1, -1):\n",
    "    if stack == [] or stack[-1][0] > heights[i]:\n",
    "        stack.append((heights[i], i))\n",
    "        continue\n",
    "    else:\n",
    "        while(stack):\n",
    "            if stack[-1][0] < heights[i]:\n",
    "                height, index = stack.pop()\n",
    "                result[index] = i + 1\n",
    "            else:\n",
    "                break\n",
    "        stack.append((heights[i], i))"
   ]
  },
  {
   "cell_type": "code",
   "execution_count": 20,
   "metadata": {},
   "outputs": [
    {
     "data": {
      "text/plain": [
       "[0, 0, 2, 2, 4]"
      ]
     },
     "execution_count": 20,
     "metadata": {},
     "output_type": "execute_result"
    }
   ],
   "source": [
    "result"
   ]
  },
  {
   "cell_type": "code",
   "execution_count": null,
   "metadata": {},
   "outputs": [],
   "source": [
    "def solution(heights):\n",
    "    result = [0] * len(heights)\n",
    "    stack = []\n",
    "\n",
    "    for i in range(len(heights) - 1, -1, -1):\n",
    "        if stack == [] or stack[-1][0] > heights[i]:\n",
    "            stack.append((heights[i], i))\n",
    "            continue\n",
    "        else:\n",
    "            while(stack):\n",
    "                if stack[-1][0] < heights[i]:\n",
    "                    height, index = stack.pop()\n",
    "                    result[index] = i + 1\n",
    "                else:\n",
    "                    break\n",
    "            stack.append((heights[i], i))\n",
    "    return result"
   ]
  }
 ],
 "metadata": {
  "kernelspec": {
   "display_name": "Python 3",
   "language": "python",
   "name": "python3"
  },
  "language_info": {
   "codemirror_mode": {
    "name": "ipython",
    "version": 3
   },
   "file_extension": ".py",
   "mimetype": "text/x-python",
   "name": "python",
   "nbconvert_exporter": "python",
   "pygments_lexer": "ipython3",
   "version": "3.7.3"
  }
 },
 "nbformat": 4,
 "nbformat_minor": 2
}

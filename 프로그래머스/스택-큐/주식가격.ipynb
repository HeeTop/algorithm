{
 "cells": [
  {
   "cell_type": "code",
   "execution_count": 56,
   "metadata": {},
   "outputs": [],
   "source": [
    "result = [4, 3, 1, 1, 0]\n",
    "prices = [1, 2, 3, 2, 3]"
   ]
  },
  {
   "cell_type": "code",
   "execution_count": 57,
   "metadata": {
    "scrolled": true
   },
   "outputs": [],
   "source": [
    "stack = []\n",
    "result = [0] * len(prices)\n",
    "\n",
    "for index, price in enumerate(prices):\n",
    "    if stack == []:\n",
    "        pass\n",
    "    elif stack[-1][0] > price:\n",
    "        while(stack):\n",
    "            if stack[-1][0] > price:\n",
    "                result[stack[-1][1]] = index - stack[-1][1]\n",
    "                stack.pop()\n",
    "            else:\n",
    "                break\n",
    "    stack.append((price, index))\n",
    "while(stack):\n",
    "    price, pre_index= stack.pop()\n",
    "    result[pre_index] = index - pre_index"
   ]
  },
  {
   "cell_type": "code",
   "execution_count": 58,
   "metadata": {},
   "outputs": [
    {
     "data": {
      "text/plain": [
       "[]"
      ]
     },
     "execution_count": 58,
     "metadata": {},
     "output_type": "execute_result"
    }
   ],
   "source": [
    "stack"
   ]
  },
  {
   "cell_type": "code",
   "execution_count": 59,
   "metadata": {},
   "outputs": [
    {
     "data": {
      "text/plain": [
       "[4, 3, 1, 1, 0]"
      ]
     },
     "execution_count": 59,
     "metadata": {},
     "output_type": "execute_result"
    }
   ],
   "source": [
    "result"
   ]
  },
  {
   "cell_type": "code",
   "execution_count": null,
   "metadata": {},
   "outputs": [],
   "source": [
    "def solution(prices):\n",
    "    stack = []\n",
    "    result = [0] * len(prices)\n",
    "\n",
    "    for index, price in enumerate(prices):\n",
    "        if stack == []:\n",
    "            pass\n",
    "        elif stack[-1][0] > price:\n",
    "            while(stack):\n",
    "                if stack[-1][0] > price:\n",
    "                    result[stack[-1][1]] = index - stack[-1][1]\n",
    "                    stack.pop()\n",
    "                else:\n",
    "                    break\n",
    "        stack.append((price, index))\n",
    "    while(stack):\n",
    "        price, pre_index= stack.pop()\n",
    "        result[pre_index] = index - pre_index\n",
    "    \n",
    "    return result"
   ]
  },
  {
   "cell_type": "code",
   "execution_count": null,
   "metadata": {},
   "outputs": [],
   "source": []
  }
 ],
 "metadata": {
  "kernelspec": {
   "display_name": "Python 3",
   "language": "python",
   "name": "python3"
  },
  "language_info": {
   "codemirror_mode": {
    "name": "ipython",
    "version": 3
   },
   "file_extension": ".py",
   "mimetype": "text/x-python",
   "name": "python",
   "nbconvert_exporter": "python",
   "pygments_lexer": "ipython3",
   "version": "3.7.3"
  }
 },
 "nbformat": 4,
 "nbformat_minor": 2
}

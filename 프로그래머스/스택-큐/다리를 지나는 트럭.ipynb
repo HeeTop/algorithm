{
 "cells": [
  {
   "cell_type": "code",
   "execution_count": 57,
   "metadata": {},
   "outputs": [],
   "source": [
    "bridge_length = 100\n",
    "weight = 100\n",
    "truck_weights = [10] * 10"
   ]
  },
  {
   "cell_type": "code",
   "execution_count": 58,
   "metadata": {},
   "outputs": [],
   "source": []
  },
  {
   "cell_type": "code",
   "execution_count": 59,
   "metadata": {},
   "outputs": [],
   "source": [
    "time = 0\n",
    "q = []\n",
    "while(truck_weights or q):\n",
    "    if len(q) == 0:\n",
    "        q.append((truck_weights.pop(0), time))\n",
    "    else:\n",
    "        while(q):\n",
    "            if q[0][1] + bridge_length <= time:\n",
    "                q.pop(0)\n",
    "            else:\n",
    "                break\n",
    "        if len(truck_weights) == 0:\n",
    "            pass\n",
    "        elif len(q) < bridge_length and sum([x[0] for x in q]) + truck_weights[0] <= weight:\n",
    "            q.append((truck_weights.pop(0), time))\n",
    "    time+=1"
   ]
  },
  {
   "cell_type": "code",
   "execution_count": 60,
   "metadata": {},
   "outputs": [
    {
     "data": {
      "text/plain": [
       "110"
      ]
     },
     "execution_count": 60,
     "metadata": {},
     "output_type": "execute_result"
    }
   ],
   "source": [
    "time"
   ]
  },
  {
   "cell_type": "code",
   "execution_count": 62,
   "metadata": {},
   "outputs": [],
   "source": [
    "def solution(bridge_length, weight, truck_weights):\n",
    "    time = 0\n",
    "    q = []\n",
    "    while(truck_weights or q):\n",
    "        if len(q) == 0:\n",
    "            q.append((truck_weights.pop(0), time))\n",
    "        else:\n",
    "            while(q):\n",
    "                if q[0][1] + bridge_length <= time:\n",
    "                    q.pop(0)\n",
    "                else:\n",
    "                    break\n",
    "            if len(truck_weights) == 0:\n",
    "                pass\n",
    "            elif len(q) < bridge_length and sum([x[0] for x in q]) + truck_weights[0] <= weight:\n",
    "                q.append((truck_weights.pop(0), time))\n",
    "        time+=1\n",
    "    return time"
   ]
  },
  {
   "cell_type": "code",
   "execution_count": null,
   "metadata": {},
   "outputs": [],
   "source": []
  }
 ],
 "metadata": {
  "kernelspec": {
   "display_name": "Python 3",
   "language": "python",
   "name": "python3"
  },
  "language_info": {
   "codemirror_mode": {
    "name": "ipython",
    "version": 3
   },
   "file_extension": ".py",
   "mimetype": "text/x-python",
   "name": "python",
   "nbconvert_exporter": "python",
   "pygments_lexer": "ipython3",
   "version": "3.7.3"
  }
 },
 "nbformat": 4,
 "nbformat_minor": 2
}

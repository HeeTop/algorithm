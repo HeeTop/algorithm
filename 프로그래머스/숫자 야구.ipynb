{
 "cells": [
  {
   "cell_type": "markdown",
   "metadata": {},
   "source": [
    "숫자 야구 게임이란 2명이 서로가 생각한 숫자를 맞추는 게임입니다. 게임해보기\n",
    "\n",
    "각자 서로 다른 1~9까지 3자리 임의의 숫자를 정한 뒤 서로에게 3자리의 숫자를 불러서 결과를 확인합니다. 그리고 그 결과를 토대로 상대가 정한 숫자를 예상한 뒤 맞힙니다.\n",
    "\n",
    "* 숫자는 맞지만, 위치가 틀렸을 때는 볼\n",
    "* 숫자와 위치가 모두 맞을 때는 스트라이크\n",
    "* 숫자와 위치가 모두 틀렸을 때는 아웃\n",
    "예를 들어, 아래의 경우가 있으면\n",
    "\n",
    "A : 123\n",
    "B : 1스트라이크 1볼.\n",
    "A : 356\n",
    "B : 1스트라이크 0볼.\n",
    "A : 327\n",
    "B : 2스트라이크 0볼.\n",
    "A : 489\n",
    "B : 0스트라이크 1볼.\n",
    "이때 가능한 답은 324와 328 두 가지입니다.\n",
    "\n",
    "질문한 세 자리의 수, 스트라이크의 수, 볼의 수를 담은 2차원 배열 baseball이 매개변수로 주어질 때, 가능한 답의 개수를 return 하도록 solution 함수를 작성해주세요.\n",
    "\n",
    "제한사항\n",
    "질문의 수는 1 이상 100 이하의 자연수입니다.\n",
    "baseball의 각 행은 [세 자리의 수, 스트라이크의 수, 볼의 수] 를 담고 있습니다.\n",
    "입출력 예\n",
    "baseball\treturn\n",
    "[[123, 1, 1], [356, 1, 0], [327, 2, 0], [489, 0, 1]]\n",
    "\n",
    "def solution(baseball):\n",
    "    answer = 0\n",
    "    return answera"
   ]
  },
  {
   "cell_type": "code",
   "execution_count": 5,
   "metadata": {},
   "outputs": [],
   "source": [
    "baseballs = [[123, 1, 1], [356, 1, 0], [327, 2, 0], [489, 0, 1]]"
   ]
  },
  {
   "cell_type": "code",
   "execution_count": 1,
   "metadata": {},
   "outputs": [],
   "source": [
    "def is_correct(possible_number, baseball):\n",
    "    guess, strike, ball =baseball\n",
    "    guess = list(str(guess))\n",
    "    \n",
    "#     스트라이크 개수 찾기\n",
    "    real_strike = 0\n",
    "    for i in range(3):\n",
    "        if possible_number[i] == guess[i]:\n",
    "            real_strike += 1\n",
    "    \n",
    "    if real_strike == strike:\n",
    "#       볼 개수 찾기\n",
    "        real_ball = 0\n",
    "        for digit in guess:\n",
    "            if digit in possible_number:\n",
    "                real_ball += 1\n",
    "        real_ball -= real_strike\n",
    "        \n",
    "        if real_ball == ball:\n",
    "            return True\n",
    "  \n",
    "    return False"
   ]
  },
  {
   "cell_type": "code",
   "execution_count": 2,
   "metadata": {},
   "outputs": [],
   "source": [
    "# 123 ~ 987 만들기\n",
    "def generate_possible_numbers():\n",
    "    possible_numbers = []\n",
    "    for i in range(1, 10):\n",
    "        for j in range(1, 10):\n",
    "            for k in range(1, 10):\n",
    "                if i != j and j != k and k != i:\n",
    "                    possible_numbers.append([str(i), str(j), str(k)])\n",
    "    return possible_numbers"
   ]
  },
  {
   "cell_type": "code",
   "execution_count": 3,
   "metadata": {},
   "outputs": [
    {
     "ename": "NameError",
     "evalue": "name 'baseballs' is not defined",
     "output_type": "error",
     "traceback": [
      "\u001b[0;31m---------------------------------------------------------------------------\u001b[0m",
      "\u001b[0;31mNameError\u001b[0m                                 Traceback (most recent call last)",
      "\u001b[0;32m<ipython-input-3-28e73d910341>\u001b[0m in \u001b[0;36m<module>\u001b[0;34m\u001b[0m\n\u001b[1;32m      1\u001b[0m \u001b[0mpossible_numbers\u001b[0m \u001b[0;34m=\u001b[0m \u001b[0mgenerate_possible_numbers\u001b[0m\u001b[0;34m(\u001b[0m\u001b[0;34m)\u001b[0m\u001b[0;34m\u001b[0m\u001b[0;34m\u001b[0m\u001b[0m\n\u001b[1;32m      2\u001b[0m \u001b[0;34m\u001b[0m\u001b[0m\n\u001b[0;32m----> 3\u001b[0;31m \u001b[0;32mfor\u001b[0m \u001b[0mbaseball\u001b[0m \u001b[0;32min\u001b[0m \u001b[0mbaseballs\u001b[0m\u001b[0;34m:\u001b[0m\u001b[0;34m\u001b[0m\u001b[0;34m\u001b[0m\u001b[0m\n\u001b[0m\u001b[1;32m      4\u001b[0m     \u001b[0mnext_possilbe_numbers\u001b[0m \u001b[0;34m=\u001b[0m \u001b[0;34m[\u001b[0m\u001b[0;34m]\u001b[0m\u001b[0;34m\u001b[0m\u001b[0;34m\u001b[0m\u001b[0m\n\u001b[1;32m      5\u001b[0m \u001b[0;34m\u001b[0m\u001b[0m\n",
      "\u001b[0;31mNameError\u001b[0m: name 'baseballs' is not defined"
     ]
    }
   ],
   "source": [
    "possible_numbers = generate_possible_numbers()\n",
    "\n",
    "for baseball in baseballs:\n",
    "    next_possilbe_numbers = []\n",
    "    \n",
    "    for possible_number in possible_numbers:\n",
    "        if is_correct(possible_number, baseball):\n",
    "            next_possilbe_numbers.append(possible_number)\n",
    "    possible_numbers = next_possilbe_numbers"
   ]
  },
  {
   "cell_type": "code",
   "execution_count": null,
   "metadata": {},
   "outputs": [],
   "source": []
  },
  {
   "cell_type": "code",
   "execution_count": 7,
   "metadata": {},
   "outputs": [],
   "source": [
    "def is_correct(possible_number, baseball):\n",
    "    guess, strike, ball =baseball\n",
    "    guess = list(str(guess))\n",
    "    \n",
    "#     스트라이크 개수 찾기\n",
    "    real_strike = 0\n",
    "    for i in range(3):\n",
    "        if possible_number[i] == guess[i]:\n",
    "            real_strike += 1\n",
    "    \n",
    "    if real_strike == strike:\n",
    "#       볼 개수 찾기\n",
    "        real_ball = 0\n",
    "        for digit in guess:\n",
    "            if digit in possible_number:\n",
    "                real_ball += 1\n",
    "        real_ball -= real_strike\n",
    "        \n",
    "        if real_ball == ball:\n",
    "            return True\n",
    "  \n",
    "    return False\n",
    "\n",
    "# 123 ~ 987 만들기\n",
    "def generate_possible_numbers():\n",
    "    possible_numbers = []\n",
    "    for i in range(1, 10):\n",
    "        for j in range(1, 10):\n",
    "            for k in range(1, 10):\n",
    "                if i != j and j != k and k != i:\n",
    "                    possible_numbers.append([str(i), str(j), str(k)])\n",
    "    return possible_numbers\n",
    "\n",
    "def solution(baseballs):\n",
    "    possible_numbers = generate_possible_numbers()\n",
    "\n",
    "    for baseball in baseballs:\n",
    "        next_possilbe_numbers = []\n",
    "\n",
    "        for possible_number in possible_numbers:\n",
    "            if is_correct(possible_number, baseball):\n",
    "                next_possilbe_numbers.append(possible_number)\n",
    "        possible_numbers = next_possilbe_numbers\n",
    "    return len(possible_numbers)"
   ]
  },
  {
   "cell_type": "code",
   "execution_count": 6,
   "metadata": {},
   "outputs": [
    {
     "data": {
      "text/plain": [
       "2"
      ]
     },
     "execution_count": 6,
     "metadata": {},
     "output_type": "execute_result"
    }
   ],
   "source": [
    "solution(baseballs)"
   ]
  },
  {
   "cell_type": "code",
   "execution_count": null,
   "metadata": {},
   "outputs": [],
   "source": []
  }
 ],
 "metadata": {
  "kernelspec": {
   "display_name": "Python 3",
   "language": "python",
   "name": "python3"
  },
  "language_info": {
   "codemirror_mode": {
    "name": "ipython",
    "version": 3
   },
   "file_extension": ".py",
   "mimetype": "text/x-python",
   "name": "python",
   "nbconvert_exporter": "python",
   "pygments_lexer": "ipython3",
   "version": "3.7.3"
  }
 },
 "nbformat": 4,
 "nbformat_minor": 2
}

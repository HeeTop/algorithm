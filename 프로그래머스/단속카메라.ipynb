{
 "cells": [
  {
   "cell_type": "code",
   "execution_count": 67,
   "metadata": {},
   "outputs": [],
   "source": [
    "routes = [[-20,15], [-18,-5], [-18,-13], [-5,-3]]"
   ]
  },
  {
   "cell_type": "code",
   "execution_count": 54,
   "metadata": {},
   "outputs": [],
   "source": [
    "def union(route1, route2):\n",
    "    if route1[0] > route2[0]:\n",
    "        route1, route2 = route2, route1\n",
    "#     상관 없는 경우\n",
    "    if route1[1] < route2[0]:\n",
    "        return []\n",
    "#     속하는 경우\n",
    "    elif route1[1] >= route2[1]:\n",
    "        return [route2[0], route2[1]]\n",
    "    elif route1[1] < route2[1]:\n",
    "        return [route2[0], route1[1]]"
   ]
  },
  {
   "cell_type": "code",
   "execution_count": 55,
   "metadata": {},
   "outputs": [
    {
     "data": {
      "text/plain": [
       "[]"
      ]
     },
     "execution_count": 55,
     "metadata": {},
     "output_type": "execute_result"
    }
   ],
   "source": [
    "union(routes[3], routes[2])"
   ]
  },
  {
   "cell_type": "code",
   "execution_count": 56,
   "metadata": {},
   "outputs": [],
   "source": [
    "union_list = []"
   ]
  },
  {
   "cell_type": "code",
   "execution_count": 57,
   "metadata": {
    "scrolled": true
   },
   "outputs": [],
   "source": [
    "union_list = [routes[0]]\n",
    "for route1 in routes[1:]:\n",
    "    is_union = False\n",
    "    \n",
    "    for index, route2 in enumerate(union_list):\n",
    "        sub_route = union(route1, route2)\n",
    "        if sub_route:\n",
    "            is_union = True\n",
    "            union_list[index] = sub_route\n",
    "            break\n",
    "    if is_union == False:\n",
    "        union_list.append(route1)"
   ]
  },
  {
   "cell_type": "code",
   "execution_count": 58,
   "metadata": {},
   "outputs": [
    {
     "data": {
      "text/plain": [
       "[[-20, -19], [-18, -13], [-5, -3]]"
      ]
     },
     "execution_count": 58,
     "metadata": {},
     "output_type": "execute_result"
    }
   ],
   "source": [
    "union_list"
   ]
  },
  {
   "cell_type": "code",
   "execution_count": 59,
   "metadata": {},
   "outputs": [],
   "source": [
    "def union(route1, route2):\n",
    "    if route1[0] > route2[0]:\n",
    "        route1, route2 = route2, route1\n",
    "#     상관 없는 경우\n",
    "    if route1[1] < route2[0]:\n",
    "        return []\n",
    "#     속하는 경우\n",
    "    elif route1[1] >= route2[1]:\n",
    "        return [route2[0], route2[1]]\n",
    "    elif route1[1] < route2[1]:\n",
    "        return [route2[0], route1[1]]\n",
    "    \n",
    "def solution(routes):\n",
    "    routes.sort()\n",
    "    union_list = [routes[0]]\n",
    "    \n",
    "    for route1 in routes[1:]:\n",
    "        is_union = False\n",
    "\n",
    "        for index, route2 in enumerate(union_list):\n",
    "            sub_route = union(route1, route2)\n",
    "            if sub_route:\n",
    "                is_union = True\n",
    "                union_list[index] = sub_route\n",
    "                break\n",
    "        if is_union == False:\n",
    "            union_list.append(route1)\n",
    "    print(union_list)\n",
    "    return len(union_list)"
   ]
  },
  {
   "cell_type": "code",
   "execution_count": 60,
   "metadata": {},
   "outputs": [
    {
     "name": "stdout",
     "output_type": "stream",
     "text": [
      "[[-20, -19], [-18, -13], [-5, -3]]\n"
     ]
    },
    {
     "data": {
      "text/plain": [
       "3"
      ]
     },
     "execution_count": 60,
     "metadata": {},
     "output_type": "execute_result"
    }
   ],
   "source": [
    "solution(routes)"
   ]
  },
  {
   "cell_type": "code",
   "execution_count": 68,
   "metadata": {},
   "outputs": [],
   "source": [
    "routes.sort()"
   ]
  },
  {
   "cell_type": "code",
   "execution_count": 69,
   "metadata": {},
   "outputs": [
    {
     "data": {
      "text/plain": [
       "[[-20, 15], [-18, -13], [-18, -5], [-5, -3]]"
      ]
     },
     "execution_count": 69,
     "metadata": {},
     "output_type": "execute_result"
    }
   ],
   "source": [
    "routes"
   ]
  },
  {
   "cell_type": "code",
   "execution_count": null,
   "metadata": {},
   "outputs": [],
   "source": []
  }
 ],
 "metadata": {
  "kernelspec": {
   "display_name": "Python 3",
   "language": "python",
   "name": "python3"
  },
  "language_info": {
   "codemirror_mode": {
    "name": "ipython",
    "version": 3
   },
   "file_extension": ".py",
   "mimetype": "text/x-python",
   "name": "python",
   "nbconvert_exporter": "python",
   "pygments_lexer": "ipython3",
   "version": "3.7.3"
  }
 },
 "nbformat": 4,
 "nbformat_minor": 2
}

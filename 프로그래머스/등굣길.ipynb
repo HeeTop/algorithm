{
 "cells": [
  {
   "cell_type": "code",
   "execution_count": 151,
   "metadata": {},
   "outputs": [],
   "source": [
    "COL = 4\n",
    "ROW = 3\n",
    "paddles = [[2, 2],[3,3]]"
   ]
  },
  {
   "cell_type": "code",
   "execution_count": 152,
   "metadata": {},
   "outputs": [],
   "source": [
    "maps = [[0] * COL for r in range(ROW)]"
   ]
  },
  {
   "cell_type": "code",
   "execution_count": 153,
   "metadata": {},
   "outputs": [],
   "source": [
    "for paddle in paddles:\n",
    "    row, col = paddle\n",
    "    maps[row - 1][col - 1] = -1"
   ]
  },
  {
   "cell_type": "code",
   "execution_count": 158,
   "metadata": {},
   "outputs": [],
   "source": [
    "WALL = -1\n",
    "MAX = 1000000007\n",
    "\n",
    "def bfs(ROW, COL, maps):\n",
    "    queue = [(0,0)]\n",
    "    visited = [[0] * COL for r in range(ROW)]\n",
    "    visited[0][0] = 1\n",
    "    maps[0][0] = 1\n",
    "    \n",
    "    while(queue):\n",
    "        row, col = queue.pop(0)\n",
    "        up = 0\n",
    "        left = 0\n",
    "        \n",
    "        if row - 1 >= 0 and maps[row - 1][col] != WALL:\n",
    "            up = maps[row - 1][col]\n",
    "        if col - 1 >= 0 and maps[row][col - 1] != WALL:\n",
    "            left = maps[row][col - 1]\n",
    "            \n",
    "        maps[row][col] += up + left\n",
    "        if maps[row][col] >= MAX:\n",
    "            maps[row][col] %= 1000000007\n",
    "#         push\n",
    "        if row + 1 < ROW and maps[row + 1][col] != WALL and visited[row + 1][col] != 1:\n",
    "            queue.append((row+1,col))\n",
    "            visited[row + 1][col] = 1\n",
    "        if col + 1 < COL and maps[row][col + 1] != WALL and visited[row][col + 1] != 1:\n",
    "            queue.append((row, col+1))\n",
    "            visited[row][col + 1] = 1\n",
    "            \n",
    "    return maps[ROW - 1][COL - 1] % MAX"
   ]
  },
  {
   "cell_type": "code",
   "execution_count": 155,
   "metadata": {},
   "outputs": [
    {
     "data": {
      "text/plain": [
       "690285631"
      ]
     },
     "execution_count": 155,
     "metadata": {},
     "output_type": "execute_result"
    }
   ],
   "source": [
    "bfs(ROW, COL, maps)"
   ]
  },
  {
   "cell_type": "code",
   "execution_count": 156,
   "metadata": {},
   "outputs": [],
   "source": [
    "def solution(COL, ROW, paddles):\n",
    "    maps = [[0] * COL for r in range(ROW)]\n",
    "    \n",
    "    for paddle in paddles:\n",
    "        col, row = paddle\n",
    "        maps[row - 1][col - 1] = -1\n",
    "        \n",
    "    return bfs(ROW, COL, maps) % 1000000007"
   ]
  },
  {
   "cell_type": "code",
   "execution_count": 157,
   "metadata": {},
   "outputs": [
    {
     "data": {
      "text/plain": [
       "690285631"
      ]
     },
     "execution_count": 157,
     "metadata": {},
     "output_type": "execute_result"
    }
   ],
   "source": [
    "solution(COL, ROW, paddles)"
   ]
  },
  {
   "cell_type": "code",
   "execution_count": null,
   "metadata": {},
   "outputs": [],
   "source": []
  }
 ],
 "metadata": {
  "kernelspec": {
   "display_name": "Python 3",
   "language": "python",
   "name": "python3"
  },
  "language_info": {
   "codemirror_mode": {
    "name": "ipython",
    "version": 3
   },
   "file_extension": ".py",
   "mimetype": "text/x-python",
   "name": "python",
   "nbconvert_exporter": "python",
   "pygments_lexer": "ipython3",
   "version": "3.7.3"
  }
 },
 "nbformat": 4,
 "nbformat_minor": 2
}

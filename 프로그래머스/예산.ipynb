{
 "cells": [
  {
   "cell_type": "code",
   "execution_count": 141,
   "metadata": {},
   "outputs": [],
   "source": [
    "budgets = [120, 110, 140, 150]\n",
    "M = 485\n",
    "result = 127\n",
    "budgets.sort()"
   ]
  },
  {
   "cell_type": "code",
   "execution_count": 123,
   "metadata": {},
   "outputs": [
    {
     "data": {
      "text/plain": [
       "484"
      ]
     },
     "execution_count": 123,
     "metadata": {},
     "output_type": "execute_result"
    }
   ],
   "source": [
    "sum([110, 120, 127, 127])"
   ]
  },
  {
   "cell_type": "code",
   "execution_count": 76,
   "metadata": {},
   "outputs": [],
   "source": [
    "start = M // len(budgets)"
   ]
  },
  {
   "cell_type": "code",
   "execution_count": 77,
   "metadata": {},
   "outputs": [],
   "source": [
    "end = budgets[-1]"
   ]
  },
  {
   "cell_type": "code",
   "execution_count": 190,
   "metadata": {},
   "outputs": [],
   "source": [
    "def bst_budgets(budgets, M):\n",
    "    start = 0\n",
    "    end = len(budgets) - 1\n",
    "    budgets.sort()\n",
    "    \n",
    "    while(start <= end):\n",
    "        mid = (start + end) // 2\n",
    "        m = sum(budgets[:mid]) + budgets[mid]*len(budgets[mid:])\n",
    "        if m > M:\n",
    "            end = mid - 1\n",
    "        elif m < M:\n",
    "            start = mid + 1\n",
    "        else:\n",
    "            return budgets[mid]\n",
    "        \n",
    "    if (len(budgets[start:])):\n",
    "        return (M - sum(budgets[:start])) // len(budgets[start:])\n",
    "    else:\n",
    "        return budgets[end]"
   ]
  },
  {
   "cell_type": "code",
   "execution_count": 191,
   "metadata": {
    "scrolled": true
   },
   "outputs": [],
   "source": [
    "for i in range(1000):\n",
    "    bst_budgets(budgets, i)"
   ]
  },
  {
   "cell_type": "code",
   "execution_count": null,
   "metadata": {},
   "outputs": [],
   "source": []
  },
  {
   "cell_type": "code",
   "execution_count": null,
   "metadata": {},
   "outputs": [],
   "source": [
    "def solution(budgets, M):\n",
    "    start = 0\n",
    "    end = len(budgets) - 1\n",
    "    budgets.sort()\n",
    "    \n",
    "    while(start <= end):\n",
    "        mid = (start + end) // 2\n",
    "        m = sum(budgets[:mid]) + budgets[mid]*len(budgets[mid:])\n",
    "        if m > M:\n",
    "            end = mid - 1\n",
    "        elif m < M:\n",
    "            start = mid + 1\n",
    "        else:\n",
    "            return budgets[mid]\n",
    "        \n",
    "    if (len(budgets[start:])):\n",
    "        return (M - sum(budgets[:start])) // len(budgets[start:])\n",
    "    else:\n",
    "        return budgets[end]"
   ]
  },
  {
   "cell_type": "code",
   "execution_count": null,
   "metadata": {},
   "outputs": [],
   "source": []
  },
  {
   "cell_type": "code",
   "execution_count": null,
   "metadata": {},
   "outputs": [],
   "source": []
  }
 ],
 "metadata": {
  "kernelspec": {
   "display_name": "Python 3",
   "language": "python",
   "name": "python3"
  },
  "language_info": {
   "codemirror_mode": {
    "name": "ipython",
    "version": 3
   },
   "file_extension": ".py",
   "mimetype": "text/x-python",
   "name": "python",
   "nbconvert_exporter": "python",
   "pygments_lexer": "ipython3",
   "version": "3.7.3"
  }
 },
 "nbformat": 4,
 "nbformat_minor": 2
}

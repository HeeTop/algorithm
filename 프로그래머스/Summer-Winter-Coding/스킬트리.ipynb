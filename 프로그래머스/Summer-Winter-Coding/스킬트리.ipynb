{
 "cells": [
  {
   "cell_type": "code",
   "execution_count": 1,
   "metadata": {},
   "outputs": [],
   "source": [
    "skill = \"CBD\"\n",
    "skill_trees = [\"BACDE\", \"CBADF\", \"AECB\", \"BDA\"]"
   ]
  },
  {
   "cell_type": "code",
   "execution_count": 4,
   "metadata": {},
   "outputs": [],
   "source": [
    "result = 0\n",
    "skill_set = set(skill)\n",
    "for skill_tree in skill_trees:\n",
    "    index = 0\n",
    "    is_possible = True\n",
    "    \n",
    "    for s in skill_tree:\n",
    "        if s in skill_set:\n",
    "            if skill[index] == s:\n",
    "                index+=1\n",
    "            else:\n",
    "                is_possible = False\n",
    "                break\n",
    "    if is_possible:\n",
    "        result+=1"
   ]
  },
  {
   "cell_type": "code",
   "execution_count": 5,
   "metadata": {},
   "outputs": [
    {
     "data": {
      "text/plain": [
       "2"
      ]
     },
     "execution_count": 5,
     "metadata": {},
     "output_type": "execute_result"
    }
   ],
   "source": [
    "result"
   ]
  },
  {
   "cell_type": "code",
   "execution_count": null,
   "metadata": {},
   "outputs": [],
   "source": [
    "def solution(skill, skill_trees):\n",
    "    result = 0\n",
    "    skill_set = set(skill)\n",
    "    for skill_tree in skill_trees:\n",
    "        index = 0\n",
    "        is_possible = True\n",
    "\n",
    "        for s in skill_tree:\n",
    "            if s in skill_set:\n",
    "                if skill[index] == s:\n",
    "                    index+=1\n",
    "                else:\n",
    "                    is_possible = False\n",
    "                    break\n",
    "        if is_possible:\n",
    "            result+=1\n",
    "    return result"
   ]
  }
 ],
 "metadata": {
  "kernelspec": {
   "display_name": "Python 3",
   "language": "python",
   "name": "python3"
  },
  "language_info": {
   "codemirror_mode": {
    "name": "ipython",
    "version": 3
   },
   "file_extension": ".py",
   "mimetype": "text/x-python",
   "name": "python",
   "nbconvert_exporter": "python",
   "pygments_lexer": "ipython3",
   "version": "3.7.3"
  }
 },
 "nbformat": 4,
 "nbformat_minor": 2
}

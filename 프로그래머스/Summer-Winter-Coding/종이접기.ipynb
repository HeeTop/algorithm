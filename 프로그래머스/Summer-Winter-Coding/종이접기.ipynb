{
 "cells": [
  {
   "cell_type": "markdown",
   "metadata": {},
   "source": [
    "n\tresult\n",
    "1\t[0]\n",
    "2\t[0,0,1]\n",
    "3\t[0,0,1,0,0,1,1]"
   ]
  },
  {
   "cell_type": "code",
   "execution_count": null,
   "metadata": {},
   "outputs": [],
   "source": []
  },
  {
   "cell_type": "code",
   "execution_count": 43,
   "metadata": {},
   "outputs": [],
   "source": [
    "def solution(N):\n",
    "    result = []\n",
    "    for n in range(N):\n",
    "        if n == 0:\n",
    "            result.append(0)\n",
    "            continue\n",
    "        M = len(result)\n",
    "        result.append(0)\n",
    "        \n",
    "        for m in reversed(range(M)):\n",
    "            if result[m]:\n",
    "                result.append(0)\n",
    "            else:\n",
    "                result.append(1)\n",
    "    return result"
   ]
  },
  {
   "cell_type": "code",
   "execution_count": 44,
   "metadata": {},
   "outputs": [
    {
     "data": {
      "text/plain": [
       "[0, 0, 1, 0, 0, 1, 1]"
      ]
     },
     "execution_count": 44,
     "metadata": {},
     "output_type": "execute_result"
    }
   ],
   "source": [
    "solution(3)"
   ]
  },
  {
   "cell_type": "code",
   "execution_count": null,
   "metadata": {},
   "outputs": [],
   "source": [
    "def solution(n):\n",
    "    fold = 0\n",
    "    arr = [fold]\n",
    "\n",
    "    for i in range(n - 1):\n",
    "        arr = arr + [fold] + [bit ^ 1 for bit in arr[::-1]]\n",
    "\n",
    "    return arr\n"
   ]
  },
  {
   "cell_type": "code",
   "execution_count": 45,
   "metadata": {},
   "outputs": [],
   "source": [
    "def solution(n):\n",
    "    result = [0]\n",
    "    \n",
    "    for i in range(n-1):\n",
    "        result = [0] + [bit^1 for bit in result[::-1]]"
   ]
  },
  {
   "cell_type": "code",
   "execution_count": null,
   "metadata": {},
   "outputs": [],
   "source": []
  }
 ],
 "metadata": {
  "kernelspec": {
   "display_name": "Python 3",
   "language": "python",
   "name": "python3"
  },
  "language_info": {
   "codemirror_mode": {
    "name": "ipython",
    "version": 3
   },
   "file_extension": ".py",
   "mimetype": "text/x-python",
   "name": "python",
   "nbconvert_exporter": "python",
   "pygments_lexer": "ipython3",
   "version": "3.7.3"
  }
 },
 "nbformat": 4,
 "nbformat_minor": 2
}

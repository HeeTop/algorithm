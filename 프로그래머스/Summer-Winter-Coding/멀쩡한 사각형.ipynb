{
 "cells": [
  {
   "cell_type": "code",
   "execution_count": 2,
   "metadata": {},
   "outputs": [],
   "source": [
    "w = 8\n",
    "h = 12"
   ]
  },
  {
   "cell_type": "code",
   "execution_count": 3,
   "metadata": {},
   "outputs": [],
   "source": [
    "w, h = min(w,h), max(w,h)"
   ]
  },
  {
   "cell_type": "code",
   "execution_count": 4,
   "metadata": {},
   "outputs": [],
   "source": [
    "w = float(w)\n",
    "h = float(h)"
   ]
  },
  {
   "cell_type": "code",
   "execution_count": 16,
   "metadata": {},
   "outputs": [],
   "source": [
    "a = -h / w\n",
    "b = h"
   ]
  },
  {
   "cell_type": "code",
   "execution_count": 29,
   "metadata": {},
   "outputs": [],
   "source": [
    "prev = h\n",
    "result = 0\n",
    "\n",
    "for i in range(int(w)):\n",
    "    cur = a*(i+1) + b\n",
    "    result += math.ceil(prev) - math.floor(cur)\n",
    "    prev = cur"
   ]
  },
  {
   "cell_type": "code",
   "execution_count": 37,
   "metadata": {},
   "outputs": [],
   "source": [
    "def gcd(a, b): \n",
    "    if a < b: (a, b) = (b, a)\n",
    "    while b != 0: \n",
    "        (a, b) = (b, a % b)\n",
    "    return a"
   ]
  },
  {
   "cell_type": "code",
   "execution_count": 103,
   "metadata": {},
   "outputs": [],
   "source": [
    "import math\n",
    "\n",
    "def gcd(a, b): \n",
    "    if a < b: (a, b) = (b, a)\n",
    "    while b != 0: \n",
    "        (a, b) = (b, a % b)\n",
    "    return a\n",
    "        \n",
    "def solution(w,h):\n",
    "    w, h = min(w,h), max(w,h)\n",
    "    n = gcd(w,h)\n",
    "    if w == h:\n",
    "        return w * (w - 1)\n",
    "    \n",
    "    w = w //n\n",
    "    h = h //n\n",
    "    w = float(w)\n",
    "    h = float(h)\n",
    "    \n",
    "    prev = h\n",
    "    result = 0\n",
    "\n",
    "    for i in range(int(w)):\n",
    "        cur = -h*(i+1)/w + h\n",
    "        result += math.ceil(prev) - math.floor(cur)\n",
    "        prev = cur\n",
    "        \n",
    "    return int(w*h*n*n - result*n)"
   ]
  },
  {
   "cell_type": "code",
   "execution_count": null,
   "metadata": {},
   "outputs": [],
   "source": [
    "def gcd(a, b): \n",
    "    if a < b: (a, b) = (b, a)\n",
    "    while b != 0: \n",
    "        (a, b) = (b, a % b)\n",
    "    return a\n",
    "        \n",
    "def solution(w,h):\n",
    "    w, h = min(w,h), max(w,h)\n",
    "    n = gcd(w,h)\n",
    "        \n",
    "    return w*h-w-h+n"
   ]
  }
 ],
 "metadata": {
  "kernelspec": {
   "display_name": "Python 3",
   "language": "python",
   "name": "python3"
  },
  "language_info": {
   "codemirror_mode": {
    "name": "ipython",
    "version": 3
   },
   "file_extension": ".py",
   "mimetype": "text/x-python",
   "name": "python",
   "nbconvert_exporter": "python",
   "pygments_lexer": "ipython3",
   "version": "3.7.3"
  }
 },
 "nbformat": 4,
 "nbformat_minor": 2
}

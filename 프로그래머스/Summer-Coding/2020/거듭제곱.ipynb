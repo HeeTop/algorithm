{
 "cells": [
  {
   "cell_type": "code",
   "execution_count": 251,
   "metadata": {
    "scrolled": true
   },
   "outputs": [
    {
     "name": "stdout",
     "output_type": "stream",
     "text": [
      "1 0 1 0\n",
      "2 0 3 1\n",
      "3 0 3 1\n",
      "4 3 7 2\n",
      "5 3 7 2\n",
      "6 3 7 2\n",
      "7 3 7 2\n",
      "8 7 15 3\n",
      "9 7 15 3\n",
      "10 7 15 3\n"
     ]
    }
   ],
   "source": [
    "n = 4\n",
    "\n",
    "\n",
    "for n in range(1,11):\n",
    "    sums = 1\n",
    "    i = 0\n",
    "    prev_sums = 0\n",
    "    \n",
    "    while(1):\n",
    "        if n == 1:\n",
    "            break\n",
    "        sums = 2*sums + 1\n",
    "\n",
    "        if prev_sums < n <= sums:\n",
    "            i+=1\n",
    "            break\n",
    "        else:\n",
    "            i+=1\n",
    "            prev_sums = sums\n",
    "    print(n, prev_sums, sums, i)"
   ]
  },
  {
   "cell_type": "code",
   "execution_count": 259,
   "metadata": {},
   "outputs": [],
   "source": [
    "def get_range(n):\n",
    "    sums = 1\n",
    "    i = 0\n",
    "    prev_sums = 0\n",
    "    \n",
    "    while(1):\n",
    "        if n == 1:\n",
    "            break\n",
    "        sums = 2*sums + 1\n",
    "\n",
    "        if prev_sums < n <= sums:\n",
    "            i+=1\n",
    "            break\n",
    "        else:\n",
    "            i+=1\n",
    "            prev_sums = sums\n",
    "    return i, n - prev_sums"
   ]
  },
  {
   "cell_type": "code",
   "execution_count": 261,
   "metadata": {},
   "outputs": [],
   "source": [
    "exp, index = get_range(4)"
   ]
  },
  {
   "cell_type": "code",
   "execution_count": 152,
   "metadata": {},
   "outputs": [
    {
     "data": {
      "text/plain": [
       "3"
      ]
     },
     "execution_count": 152,
     "metadata": {},
     "output_type": "execute_result"
    }
   ],
   "source": [
    "exps = [0] * exp\n",
    "\n",
    "def "
   ]
  },
  {
   "cell_type": "code",
   "execution_count": null,
   "metadata": {},
   "outputs": [],
   "source": []
  },
  {
   "cell_type": "code",
   "execution_count": null,
   "metadata": {},
   "outputs": [],
   "source": []
  }
 ],
 "metadata": {
  "kernelspec": {
   "display_name": "Python 3",
   "language": "python",
   "name": "python3"
  },
  "language_info": {
   "codemirror_mode": {
    "name": "ipython",
    "version": 3
   },
   "file_extension": ".py",
   "mimetype": "text/x-python",
   "name": "python",
   "nbconvert_exporter": "python",
   "pygments_lexer": "ipython3",
   "version": "3.7.3"
  }
 },
 "nbformat": 4,
 "nbformat_minor": 2
}

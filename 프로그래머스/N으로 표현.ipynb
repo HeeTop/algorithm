{
 "cells": [
  {
   "cell_type": "code",
   "execution_count": null,
   "metadata": {},
   "outputs": [],
   "source": [
    "N = 2\n",
    "number = 11"
   ]
  },
  {
   "cell_type": "code",
   "execution_count": null,
   "metadata": {},
   "outputs": [],
   "source": [
    "sum_dict = {}\n",
    "dp = {}\n"
   ]
  },
  {
   "cell_type": "code",
   "execution_count": null,
   "metadata": {},
   "outputs": [],
   "source": [
    "sum_dict[1] = [N]\n",
    "dp[N] = 1"
   ]
  },
  {
   "cell_type": "code",
   "execution_count": null,
   "metadata": {
    "scrolled": true
   },
   "outputs": [],
   "source": [
    "sum_dict"
   ]
  },
  {
   "cell_type": "code",
   "execution_count": 17,
   "metadata": {},
   "outputs": [],
   "source": [
    "sum_dict = {}\n",
    "dp = {}\n",
    "\n",
    "def push_dp(res, num):\n",
    "    if res <= 0:\n",
    "        return 0\n",
    "    \n",
    "    if res in dp:\n",
    "        return 0\n",
    "    else:\n",
    "        dp[res] = num\n",
    "        return 1\n",
    "    \n",
    "def check(res, num, number):\n",
    "    if push_dp(res, num):\n",
    "        sum_dict[num].append(res)\n",
    "    if res == number:\n",
    "        return num\n",
    "    return 0\n",
    "\n",
    "num_mul = [0,1,11,111,1111,11111,111111,1111111,11111111]\n",
    "def solution(N, number):\n",
    "    sum_dict[1] = [N]\n",
    "    dp[N] = 1\n",
    "    for num in range(2,9):\n",
    "        sum_dict[num] = []\n",
    "        res = num_mul[num] * N\n",
    "        if check(res, num, number):\n",
    "            return num\n",
    "        for pre in range(1,num):\n",
    "            post = num - pre\n",
    "            for a in sum_dict[pre]:\n",
    "                for b in sum_dict[post]:\n",
    "                    res = a + b\n",
    "                    if check(res, num, number):\n",
    "                        return num\n",
    "                    \n",
    "                    res = a - b\n",
    "                    if check(res, num, number):\n",
    "                        return num\n",
    "                    \n",
    "                    res = a // b\n",
    "                    if check(res, num, number):\n",
    "                        return num\n",
    "                    \n",
    "                    res = a * b\n",
    "                    if check(res, num, number):\n",
    "                        return num\n",
    "    return -1"
   ]
  },
  {
   "cell_type": "code",
   "execution_count": 20,
   "metadata": {
    "scrolled": false
   },
   "outputs": [
    {
     "name": "stdout",
     "output_type": "stream",
     "text": [
      "2 1 1\n",
      "3 1 2\n",
      "3 2 1\n",
      "4 1 3\n",
      "4 2 2\n",
      "4 3 1\n",
      "5 1 4\n",
      "5 2 3\n",
      "5 3 2\n",
      "5 4 1\n",
      "6 1 5\n",
      "6 2 4\n",
      "6 3 3\n",
      "6 4 2\n",
      "6 5 1\n",
      "7 1 6\n",
      "7 2 5\n",
      "7 3 4\n",
      "7 4 3\n",
      "7 5 2\n",
      "7 6 1\n",
      "8 1 7\n",
      "8 2 6\n",
      "8 3 5\n",
      "8 4 4\n",
      "8 5 3\n",
      "8 6 2\n",
      "8 7 1\n"
     ]
    },
    {
     "data": {
      "text/plain": [
       "-1"
      ]
     },
     "execution_count": 20,
     "metadata": {},
     "output_type": "execute_result"
    }
   ],
   "source": [
    "solution(5, 31168)"
   ]
  },
  {
   "cell_type": "code",
   "execution_count": 21,
   "metadata": {},
   "outputs": [
    {
     "data": {
      "text/plain": [
       "{1: [5],\n",
       " 2: [],\n",
       " 3: [],\n",
       " 4: [],\n",
       " 5: [55555],\n",
       " 6: [555555, 55560, 277775, 55550, 11111],\n",
       " 7: [5555555,\n",
       "  555560,\n",
       "  2777775,\n",
       "  55565,\n",
       "  277800,\n",
       "  277780,\n",
       "  1388875,\n",
       "  277750,\n",
       "  11116,\n",
       "  555550,\n",
       "  111111,\n",
       "  11112,\n",
       "  277770,\n",
       "  55545,\n",
       "  11110,\n",
       "  11106,\n",
       "  2222],\n",
       " 8: [55555555,\n",
       "  5555560,\n",
       "  27777775,\n",
       "  555565,\n",
       "  2777800,\n",
       "  2777780,\n",
       "  13888875,\n",
       "  55570,\n",
       "  277825,\n",
       "  277805,\n",
       "  1389000,\n",
       "  277785,\n",
       "  1388900,\n",
       "  1388880,\n",
       "  6944375,\n",
       "  277755,\n",
       "  1388750,\n",
       "  11121,\n",
       "  55580,\n",
       "  2777750,\n",
       "  111116,\n",
       "  11117,\n",
       "  1388850,\n",
       "  277725,\n",
       "  11115,\n",
       "  55530,\n",
       "  2227,\n",
       "  5555550,\n",
       "  1111111,\n",
       "  111112,\n",
       "  2777770,\n",
       "  11113,\n",
       "  277795,\n",
       "  55556,\n",
       "  1388870,\n",
       "  277745,\n",
       "  2223,\n",
       "  555545,\n",
       "  111110,\n",
       "  111106,\n",
       "  22222,\n",
       "  11107,\n",
       "  277765,\n",
       "  55554,\n",
       "  55540,\n",
       "  11109,\n",
       "  11105,\n",
       "  11101,\n",
       "  2221,\n",
       "  2217,\n",
       "  444]}"
      ]
     },
     "execution_count": 21,
     "metadata": {},
     "output_type": "execute_result"
    }
   ],
   "source": [
    "sum_dict"
   ]
  },
  {
   "cell_type": "code",
   "execution_count": null,
   "metadata": {},
   "outputs": [],
   "source": [
    "number"
   ]
  },
  {
   "cell_type": "code",
   "execution_count": null,
   "metadata": {},
   "outputs": [],
   "source": [
    "N"
   ]
  },
  {
   "cell_type": "code",
   "execution_count": null,
   "metadata": {},
   "outputs": [],
   "source": []
  }
 ],
 "metadata": {
  "kernelspec": {
   "display_name": "Python 3",
   "language": "python",
   "name": "python3"
  },
  "language_info": {
   "codemirror_mode": {
    "name": "ipython",
    "version": 3
   },
   "file_extension": ".py",
   "mimetype": "text/x-python",
   "name": "python",
   "nbconvert_exporter": "python",
   "pygments_lexer": "ipython3",
   "version": "3.7.3"
  }
 },
 "nbformat": 4,
 "nbformat_minor": 2
}

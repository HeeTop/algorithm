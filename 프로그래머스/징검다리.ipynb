{
 "cells": [
  {
   "cell_type": "code",
   "execution_count": 1,
   "metadata": {},
   "outputs": [],
   "source": [
    "distance = 25\n",
    "rocks = [2, 14, 11, 21, 17]\n",
    "N = 2"
   ]
  },
  {
   "cell_type": "code",
   "execution_count": null,
   "metadata": {},
   "outputs": [],
   "source": [
    "rocks.sort()"
   ]
  },
  {
   "cell_type": "code",
   "execution_count": null,
   "metadata": {},
   "outputs": [],
   "source": [
    "rocks"
   ]
  },
  {
   "cell_type": "code",
   "execution_count": null,
   "metadata": {},
   "outputs": [],
   "source": [
    "distance"
   ]
  },
  {
   "cell_type": "code",
   "execution_count": null,
   "metadata": {},
   "outputs": [],
   "source": [
    "heap_gaps = []\n",
    "gaps = []\n",
    "gap_dict = {}\n",
    "\n",
    "dist_rocks = [0] + rocks + [distance]\n",
    "for index, rock in enumerate(dist_rocks[:-1]):\n",
    "    nxt_rock = dist_rocks[index + 1]\n",
    "    gap_rock = nxt_rock - rock\n",
    "    heap_gaps.append([gap_rock, len(heap_gaps)])\n",
    "    gaps.append(gap_rock)\n",
    "    if gap_rock not in gap_dict:\n",
    "        gap_dict[gap_rock] = []\n",
    "    gap_dict[gap_rock].append(index)"
   ]
  },
  {
   "cell_type": "code",
   "execution_count": null,
   "metadata": {
    "scrolled": true
   },
   "outputs": [],
   "source": [
    "gaps, heap_gaps, gap_dict.keys()"
   ]
  },
  {
   "cell_type": "code",
   "execution_count": null,
   "metadata": {},
   "outputs": [],
   "source": [
    "import heapq\n",
    "heap_gaps.pop()\n",
    "heapq.heapify(heap_gaps)"
   ]
  },
  {
   "cell_type": "code",
   "execution_count": null,
   "metadata": {
    "scrolled": true
   },
   "outputs": [],
   "source": [
    "n = -1\n",
    "INF = 10000000000\n",
    "while(heap_gaps):\n",
    "    gap, idx = heapq.heappop(heap_gaps) \n",
    "    if gaps[idx] != gap:\n",
    "        continue\n",
    "    gaps[idx] = INF\n",
    "    \n",
    "    if gaps[idx + 1] == INF:\n",
    "        for i in range(idx + 1, len(gaps)):\n",
    "            if gaps[i] == INF:\n",
    "                continue\n",
    "            else:\n",
    "                gaps[i] += gap\n",
    "                heapq.heappush(heap_gaps, [gaps[i], i])\n",
    "                break\n",
    "    else:\n",
    "        gaps[idx + 1] += gap\n",
    "        heapq.heappush(heap_gaps, [gaps[idx + 1], idx + 1])\n",
    "        \n",
    "    n += 1\n",
    "    \n",
    "    if n == N:\n",
    "        print(min(gaps))\n",
    "        break"
   ]
  },
  {
   "cell_type": "code",
   "execution_count": 8,
   "metadata": {},
   "outputs": [],
   "source": [
    "import heapq\n",
    "\n",
    "def solution(distance, rocks, N):\n",
    "    rocks.sort()\n",
    "    heap_gaps = []\n",
    "    gaps = []\n",
    "    dist_rocks = [0] + rocks + [distance]\n",
    "    for index, rock in enumerate(dist_rocks[:-1]):\n",
    "        nxt_rock = dist_rocks[index + 1]\n",
    "        gap_rock = nxt_rock - rock\n",
    "        heap_gaps.append([gap_rock, len(heap_gaps)])\n",
    "        gaps.append(gap_rock)\n",
    "\n",
    "    heap_gaps.pop()\n",
    "    heapq.heapify(heap_gaps)\n",
    "\n",
    "    n = 0\n",
    "    INF =  10000000000 \n",
    "    while(1):\n",
    "        gap, idx = heapq.heappop(heap_gaps)\n",
    "        if gaps[idx] != gap or gaps[idx] == INF:\n",
    "            continue\n",
    "        \n",
    "\n",
    "        if gaps[idx + 1] == INF:\n",
    "            for i in range(idx + 2, len(gaps)):\n",
    "                if gaps[i] == INF:\n",
    "                    continue\n",
    "                else:\n",
    "                    gaps[i] += gap\n",
    "                    if i != len(gaps) -1 :\n",
    "                        heapq.heappush(heap_gaps, [gaps[i], i])\n",
    "                    break\n",
    "        else:\n",
    "            gaps[idx + 1] += gap\n",
    "            heapq.heappush(heap_gaps, [gaps[idx + 1], idx + 1])\n",
    "            \n",
    "        gaps[idx] = INF\n",
    "        n += 1\n",
    "        if n == N:\n",
    "            print(gaps)\n",
    "            return min(gaps)\n"
   ]
  },
  {
   "cell_type": "code",
   "execution_count": 20,
   "metadata": {},
   "outputs": [
    {
     "name": "stdout",
     "output_type": "stream",
     "text": [
      "[10000000000, 19, 9, 6]\n"
     ]
    },
    {
     "data": {
      "text/plain": [
       "6"
      ]
     },
     "execution_count": 20,
     "metadata": {},
     "output_type": "execute_result"
    }
   ],
   "source": [
    "solution(distance,rocks, 1)"
   ]
  },
  {
   "cell_type": "code",
   "execution_count": null,
   "metadata": {},
   "outputs": [],
   "source": [
    "rocks.insert(1, 7)"
   ]
  },
  {
   "cell_type": "code",
   "execution_count": null,
   "metadata": {},
   "outputs": [],
   "source": [
    "rocks.sort()"
   ]
  },
  {
   "cell_type": "code",
   "execution_count": null,
   "metadata": {},
   "outputs": [],
   "source": [
    "rocks"
   ]
  },
  {
   "cell_type": "code",
   "execution_count": 18,
   "metadata": {},
   "outputs": [],
   "source": [
    "distance = 34\n",
    "rocks = [5, 19, 28]\n",
    "N= 2"
   ]
  },
  {
   "cell_type": "code",
   "execution_count": null,
   "metadata": {},
   "outputs": [],
   "source": []
  }
 ],
 "metadata": {
  "kernelspec": {
   "display_name": "Python 3",
   "language": "python",
   "name": "python3"
  },
  "language_info": {
   "codemirror_mode": {
    "name": "ipython",
    "version": 3
   },
   "file_extension": ".py",
   "mimetype": "text/x-python",
   "name": "python",
   "nbconvert_exporter": "python",
   "pygments_lexer": "ipython3",
   "version": "3.7.3"
  }
 },
 "nbformat": 4,
 "nbformat_minor": 2
}

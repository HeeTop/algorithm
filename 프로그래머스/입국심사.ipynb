{
 "cells": [
  {
   "cell_type": "code",
   "execution_count": 46,
   "metadata": {},
   "outputs": [],
   "source": [
    "N = 6\n",
    "times = [7, 10]\n",
    "result = 28"
   ]
  },
  {
   "cell_type": "markdown",
   "metadata": {},
   "source": [
    "## 시간초과"
   ]
  },
  {
   "cell_type": "code",
   "execution_count": 28,
   "metadata": {},
   "outputs": [],
   "source": [
    "import heapq\n",
    "\n",
    "def solution(N, times):\n",
    "    time_heap = [[x, x] for x in times]\n",
    "    heapq.heapify(time_heap)\n",
    "    n = 0\n",
    "    while n < N:\n",
    "        cur_time, takes_time = heapq.heappop(time_heap)\n",
    "        heapq.heappush(time_heap, [cur_time + takes_time, takes_time])\n",
    "        n += 1\n",
    "        res_time = cur_time\n",
    "    return res_time"
   ]
  },
  {
   "cell_type": "code",
   "execution_count": 32,
   "metadata": {
    "scrolled": true
   },
   "outputs": [
    {
     "data": {
      "text/plain": [
       "28"
      ]
     },
     "execution_count": 32,
     "metadata": {},
     "output_type": "execute_result"
    }
   ],
   "source": [
    "res_time"
   ]
  },
  {
   "cell_type": "markdown",
   "metadata": {},
   "source": [
    "## BST"
   ]
  },
  {
   "cell_type": "code",
   "execution_count": 47,
   "metadata": {},
   "outputs": [],
   "source": [
    "times.sort()"
   ]
  },
  {
   "cell_type": "code",
   "execution_count": 48,
   "metadata": {},
   "outputs": [],
   "source": [
    "end = times[0] * N"
   ]
  },
  {
   "cell_type": "code",
   "execution_count": 49,
   "metadata": {},
   "outputs": [
    {
     "data": {
      "text/plain": [
       "42"
      ]
     },
     "execution_count": 49,
     "metadata": {},
     "output_type": "execute_result"
    }
   ],
   "source": [
    "end"
   ]
  },
  {
   "cell_type": "code",
   "execution_count": 50,
   "metadata": {},
   "outputs": [],
   "source": [
    "start = 0"
   ]
  },
  {
   "cell_type": "code",
   "execution_count": 51,
   "metadata": {},
   "outputs": [
    {
     "name": "stdout",
     "output_type": "stream",
     "text": [
      "29\n"
     ]
    }
   ],
   "source": [
    "while(start <= end):\n",
    "    mid = (start + end) // 2\n",
    "    res_mid = 0\n",
    "    for t in times:\n",
    "        res_mid += mid // t\n",
    "        if res_mid > N:\n",
    "            break\n",
    "    if res_mid > N:\n",
    "        end = mid - 1\n",
    "    elif res_mid < N:\n",
    "        start = mid + 1\n",
    "    else:\n",
    "        print(mid)\n",
    "        break\n"
   ]
  },
  {
   "cell_type": "code",
   "execution_count": 58,
   "metadata": {},
   "outputs": [],
   "source": [
    "for m in range(mid, -1, -1):\n",
    "    res_mid = 0\n",
    "    for t in times:\n",
    "        res_mid += m // t\n",
    "    if res_mid != N:\n",
    "        break\n",
    "m += 1"
   ]
  },
  {
   "cell_type": "code",
   "execution_count": 68,
   "metadata": {},
   "outputs": [],
   "source": [
    "def solution(N, times):\n",
    "    times.sort()\n",
    "    start, end = 0, times[0] * N\n",
    "    \n",
    "    while(start <= end):\n",
    "        res_mid, mid = 0, (start + end) // 2\n",
    "        \n",
    "        for t in times:\n",
    "            res_mid += mid // t\n",
    "            if res_mid > N:\n",
    "                break\n",
    "                \n",
    "        if res_mid >= N:\n",
    "            end = mid - 1\n",
    "        elif res_mid < N:\n",
    "            start = mid + 1\n",
    "    \n",
    "    res_end = 0\n",
    "    for t in times:\n",
    "        res_end += end // t\n",
    "    if res_end == N:\n",
    "        return end\n",
    "    \n",
    "    return start"
   ]
  },
  {
   "cell_type": "code",
   "execution_count": 69,
   "metadata": {},
   "outputs": [
    {
     "data": {
      "text/plain": [
       "28"
      ]
     },
     "execution_count": 69,
     "metadata": {},
     "output_type": "execute_result"
    }
   ],
   "source": [
    "solution(N, times)"
   ]
  },
  {
   "cell_type": "code",
   "execution_count": null,
   "metadata": {},
   "outputs": [],
   "source": []
  }
 ],
 "metadata": {
  "kernelspec": {
   "display_name": "Python 3",
   "language": "python",
   "name": "python3"
  },
  "language_info": {
   "codemirror_mode": {
    "name": "ipython",
    "version": 3
   },
   "file_extension": ".py",
   "mimetype": "text/x-python",
   "name": "python",
   "nbconvert_exporter": "python",
   "pygments_lexer": "ipython3",
   "version": "3.7.3"
  }
 },
 "nbformat": 4,
 "nbformat_minor": 2
}

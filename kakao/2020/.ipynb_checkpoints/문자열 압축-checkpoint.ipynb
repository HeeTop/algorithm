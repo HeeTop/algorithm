{
 "cells": [
  {
   "cell_type": "code",
   "execution_count": 23,
   "metadata": {},
   "outputs": [],
   "source": [
    "input_s = \"abcabcabcabcdededededede\""
   ]
  },
  {
   "cell_type": "code",
   "execution_count": 39,
   "metadata": {},
   "outputs": [],
   "source": [
    "max_s = len(input_s) // 2\n",
    "\n",
    "def split_s(chunk_size, input_s):\n",
    "    chunks = len(input_s)\n",
    "    chunked_str = [ input_s[i: i + chunk_size] for i in range(0, chunks, chunk_size)]\n",
    "    \n",
    "    if chunk_size != len(chunked_str[-1]):\n",
    "        return chunked_str[:-1], chunked_str[-1]\n",
    "    return chunked_str, \"\""
   ]
  },
  {
   "cell_type": "code",
   "execution_count": 57,
   "metadata": {},
   "outputs": [],
   "source": [
    "extract_str = \"\"\n",
    "chunked_str, trunc = split_s(3, input_s)\n"
   ]
  },
  {
   "cell_type": "code",
   "execution_count": 50,
   "metadata": {},
   "outputs": [
    {
     "data": {
      "text/plain": [
       "''"
      ]
     },
     "execution_count": 50,
     "metadata": {},
     "output_type": "execute_result"
    }
   ],
   "source": [
    "extract_str"
   ]
  },
  {
   "cell_type": "code",
   "execution_count": 42,
   "metadata": {
    "scrolled": false
   },
   "outputs": [
    {
     "data": {
      "text/plain": [
       "24"
      ]
     },
     "execution_count": 42,
     "metadata": {},
     "output_type": "execute_result"
    }
   ],
   "source": [
    "len(input_s)"
   ]
  },
  {
   "cell_type": "code",
   "execution_count": 34,
   "metadata": {},
   "outputs": [],
   "source": [
    "max_s = len(input_s) // 2"
   ]
  },
  {
   "cell_type": "code",
   "execution_count": 35,
   "metadata": {},
   "outputs": [
    {
     "data": {
      "text/plain": [
       "12"
      ]
     },
     "execution_count": 35,
     "metadata": {},
     "output_type": "execute_result"
    }
   ],
   "source": [
    "max_s"
   ]
  },
  {
   "cell_type": "code",
   "execution_count": 130,
   "metadata": {},
   "outputs": [],
   "source": [
    "def get_extract_len(chunk_size, input_s):\n",
    "    extract_str = \"\"\n",
    "    chunked_str, trunc = split_s(chunk_size, input_s)\n",
    "\n",
    "    same_pattern = 1\n",
    "\n",
    "    for index, cur_pattern in enumerate(chunked_str[:-1]):\n",
    "        next_pattern = chunked_str[index + 1]\n",
    "\n",
    "        if cur_pattern == next_pattern:\n",
    "            same_pattern += 1\n",
    "        else:\n",
    "            if same_pattern != 1:\n",
    "                extract_str += str(same_pattern) + cur_pattern\n",
    "            else:\n",
    "                extract_str += cur_pattern\n",
    "            same_pattern = 1\n",
    "\n",
    "\n",
    "        if index == len(chunked_str[:-1]) - 1:\n",
    "            if cur_pattern == next_pattern:\n",
    "                extract_str += str(same_pattern) + next_pattern\n",
    "            else:\n",
    "                extract_str += next_pattern\n",
    "\n",
    "\n",
    "    extract_str += trunc\n",
    "    return len(extract_str)"
   ]
  },
  {
   "cell_type": "code",
   "execution_count": 123,
   "metadata": {},
   "outputs": [
    {
     "name": "stdout",
     "output_type": "stream",
     "text": [
      "abcabcabcabc6de\n"
     ]
    },
    {
     "data": {
      "text/plain": [
       "15"
      ]
     },
     "execution_count": 123,
     "metadata": {},
     "output_type": "execute_result"
    }
   ],
   "source": [
    "get_extract_len(2, input_s)"
   ]
  },
  {
   "cell_type": "code",
   "execution_count": 124,
   "metadata": {},
   "outputs": [
    {
     "name": "stdout",
     "output_type": "stream",
     "text": [
      "4abcdededededede\n"
     ]
    },
    {
     "data": {
      "text/plain": [
       "16"
      ]
     },
     "execution_count": 124,
     "metadata": {},
     "output_type": "execute_result"
    }
   ],
   "source": [
    "get_extract_len(3, input_s)"
   ]
  },
  {
   "cell_type": "code",
   "execution_count": 127,
   "metadata": {},
   "outputs": [
    {
     "name": "stdout",
     "output_type": "stream",
     "text": [
      "2abcabc2dedede\n"
     ]
    },
    {
     "data": {
      "text/plain": [
       "14"
      ]
     },
     "execution_count": 127,
     "metadata": {},
     "output_type": "execute_result"
    }
   ],
   "source": [
    "get_extract_len(6, input_s)"
   ]
  },
  {
   "cell_type": "code",
   "execution_count": 128,
   "metadata": {},
   "outputs": [],
   "source": [
    "def solution(s):\n",
    "    max_s = len(s) // 2\n",
    "    answer = 10000000\n",
    "    for chunk_size in range(1, max_s + 1):\n",
    "        answer = min(get_extract_len(chunk_size, input_s), answer)\n",
    "    return answer"
   ]
  },
  {
   "cell_type": "code",
   "execution_count": 133,
   "metadata": {},
   "outputs": [
    {
     "data": {
      "text/plain": [
       "15"
      ]
     },
     "execution_count": 133,
     "metadata": {},
     "output_type": "execute_result"
    }
   ],
   "source": [
    "solution(\"aabbaccc\")"
   ]
  },
  {
   "cell_type": "code",
   "execution_count": null,
   "metadata": {},
   "outputs": [],
   "source": [
    "\"aabbaccc\"\t7\n",
    "\"ababcdcdababcdcd\"\t9\n",
    "\"abcabcdede\"\t8\n",
    "\"abcabcabcabcdededededede\"\t14\n",
    "\"xababcdcdababcdcd\"\t17"
   ]
  }
 ],
 "metadata": {
  "kernelspec": {
   "display_name": "Python 3",
   "language": "python",
   "name": "python3"
  },
  "language_info": {
   "codemirror_mode": {
    "name": "ipython",
    "version": 3
   },
   "file_extension": ".py",
   "mimetype": "text/x-python",
   "name": "python",
   "nbconvert_exporter": "python",
   "pygments_lexer": "ipython3",
   "version": "3.7.3"
  }
 },
 "nbformat": 4,
 "nbformat_minor": 2
}

{
 "cells": [
  {
   "cell_type": "markdown",
   "metadata": {},
   "source": [
    "https://programmers.co.kr/learn/courses/30/lessons/60060"
   ]
  },
  {
   "cell_type": "code",
   "execution_count": 5,
   "metadata": {},
   "outputs": [],
   "source": [
    "words = [\"frodo\", \"front\", \"frost\", \"frozen\", \"frame\", \"kakao\"]\n",
    "queries = [\"fro??\", \"????o\", \"fr???\", \"fro???\", \"pro?\"]"
   ]
  },
  {
   "cell_type": "code",
   "execution_count": 27,
   "metadata": {},
   "outputs": [],
   "source": [
    "# 길이, 시작 idx, 끝 idx query check\n",
    "def parse_q(querie):\n",
    "    start = -1\n",
    "    end = -1\n",
    "    if querie[0] == '?' and querie[-1] == '?':\n",
    "        return True, [-1, -1]\n",
    "    q_len = len(querie)\n",
    "    \n",
    "    if querie[0] == '?':\n",
    "        querie = querie.replace('?', '')\n",
    "        start = q_len - len(querie)\n",
    "        print(start)\n",
    "        end = q_len\n",
    "    else:\n",
    "        end = querie.find('?')\n",
    "        start = 0\n",
    "    return True, [start, end]\n"
   ]
  },
  {
   "cell_type": "code",
   "execution_count": 30,
   "metadata": {
    "scrolled": true
   },
   "outputs": [
    {
     "data": {
      "text/plain": [
       "(True, [0, 2])"
      ]
     },
     "execution_count": 30,
     "metadata": {},
     "output_type": "execute_result"
    }
   ],
   "source": [
    "parse_q(\"fr???\")"
   ]
  },
  {
   "cell_type": "code",
   "execution_count": 31,
   "metadata": {},
   "outputs": [
    {
     "data": {
      "text/plain": [
       "'fr'"
      ]
     },
     "execution_count": 31,
     "metadata": {},
     "output_type": "execute_result"
    }
   ],
   "source": [
    "\"fr???\"[0:2]"
   ]
  },
  {
   "cell_type": "code",
   "execution_count": null,
   "metadata": {},
   "outputs": [],
   "source": [
    "# 길이, 시작 idx, 끝 idx query check\n",
    "def parse_q(querie):\n",
    "    start_q = -1\n",
    "    end_q = -1\n",
    "    start_w = -1\n",
    "    end_w = -1\n",
    "    \n",
    "    if querie[0] == '?':\n",
    "        end_w = len(querie)\n",
    "        start_q = 0\n",
    "        for index, q in enumerate(querie):\n",
    "            if q == '?' and end_q == -1:\n",
    "                continue\n",
    "            elif q == '?' and end_q != -1:\n",
    "                return True, []\n",
    "            else:\n",
    "                if end_q == -1:\n",
    "                    end_q = index - 1\n",
    "                    start_w = index\n",
    "                else:\n",
    "                    continue\n",
    "        if start_w == -1:\n",
    "            return True, [-1, -1]\n",
    "        \n",
    "    else:\n",
    "        start_w = 0\n",
    "        for index, q in enumerate(querie):\n",
    "            if q == '?' and start_q == -1:\n",
    "                start_q = index\n",
    "                end_w = index\n",
    "            elif q != '?' and start_q != -1:\n",
    "                return False, []\n",
    "    \n",
    "    return True, [start_w, end_w]"
   ]
  },
  {
   "cell_type": "code",
   "execution_count": 2,
   "metadata": {},
   "outputs": [],
   "source": [
    "def is_same(slise_q, word, querie):\n",
    "    start, end = slise_q\n",
    "    \n",
    "    return word[start: end] == querie[start: end]"
   ]
  },
  {
   "cell_type": "code",
   "execution_count": 3,
   "metadata": {},
   "outputs": [],
   "source": [
    "def solution(words, queries):\n",
    "    result = [0] * len(queries)\n",
    "\n",
    "    for index, q in enumerate(queries):\n",
    "        flag, slise_q = parse_q(q)\n",
    "        q_len = len(q)\n",
    "        \n",
    "        if flag == False:\n",
    "            continue\n",
    "\n",
    "        if flag == True and slise_q == []:\n",
    "            result += len(words)\n",
    "            continue\n",
    "\n",
    "        for w in words:\n",
    "            if len(w) == q_len and is_same(slise_q, w, q):\n",
    "                result[index] += 1\n",
    "    return result\n"
   ]
  },
  {
   "cell_type": "code",
   "execution_count": null,
   "metadata": {},
   "outputs": [],
   "source": []
  },
  {
   "cell_type": "code",
   "execution_count": null,
   "metadata": {},
   "outputs": [],
   "source": []
  },
  {
   "cell_type": "code",
   "execution_count": 26,
   "metadata": {},
   "outputs": [],
   "source": [
    "# 길이, 시작 idx, 끝 idx query check\n",
    "def parse_q(querie):\n",
    "    start = -1\n",
    "    end = -1\n",
    "    if querie[0] == '?' and querie[-1] == '?':\n",
    "        return True, [-1,-1]\n",
    "    q_len = len(querie)\n",
    "    \n",
    "    if querie[0] == '?':\n",
    "        querie = querie.replace('?', '')\n",
    "        start = q_len - len(querie)\n",
    "        end = q_len\n",
    "    else:\n",
    "        end = querie.find('?')\n",
    "        start = 0\n",
    "    return True, [start, end]\n",
    "\n",
    "\n",
    "\n",
    "def is_same(slise_q, word, querie):\n",
    "    start, end = slise_q\n",
    "    \n",
    "    return word[start: end] == querie[start: end]\n",
    "\n",
    "q_dict = {}\n",
    "\n",
    "def solution(words, queries):\n",
    "    result = [0] * len(queries)\n",
    "\n",
    "    for index, q in enumerate(queries):\n",
    "        flag, slise_q = parse_q(q)\n",
    "        h_q = hash(q)\n",
    "        \n",
    "        if h_q in q_dict:\n",
    "            result[index] += q_dict[h_q]\n",
    "            continue\n",
    "            \n",
    "        q_len = len(q)\n",
    "\n",
    "        for w in words:\n",
    "            if len(w) == q_len and is_same(slise_q, w, q):\n",
    "                result[index] += 1\n",
    "        q_dict[h_q] = result[index]\n",
    "    return result\n"
   ]
  },
  {
   "cell_type": "code",
   "execution_count": 32,
   "metadata": {
    "scrolled": true
   },
   "outputs": [
    {
     "name": "stdout",
     "output_type": "stream",
     "text": [
      "4\n"
     ]
    },
    {
     "data": {
      "text/plain": [
       "True"
      ]
     },
     "execution_count": 32,
     "metadata": {},
     "output_type": "execute_result"
    }
   ],
   "source": [
    "result = [3, 2, 4, 1, 0]\n",
    "solution(words, queries) == result"
   ]
  },
  {
   "cell_type": "code",
   "execution_count": 33,
   "metadata": {},
   "outputs": [],
   "source": [
    "# 길이, 시작 idx, 끝 idx query check\n",
    "def parse_q(querie):\n",
    "    start = -1\n",
    "    end = -1\n",
    "    if querie[0] == '?' and querie[-1] == '?':\n",
    "        return True, [-1,-1]\n",
    "    q_len = len(querie)\n",
    "    \n",
    "    if querie[0] == '?':\n",
    "        querie = querie.replace('?', '')\n",
    "        start = q_len - len(querie)\n",
    "        end = q_len\n",
    "    else:\n",
    "        end = len(querie.replace('?', ''))\n",
    "        start = 0\n",
    "    return True, [start, end]\n",
    "\n",
    "\n",
    "\n",
    "def is_same(slise_q, word, querie):\n",
    "    start, end = slise_q\n",
    "    \n",
    "    return word[start: end] == querie[start: end]\n",
    "\n",
    "q_dict = {}\n",
    "\n",
    "def solution(words, queries):\n",
    "    result = [0] * len(queries)\n",
    "\n",
    "    for index, q in enumerate(queries):\n",
    "        flag, slise_q = parse_q(q)\n",
    "        h_q = hash(q)\n",
    "        \n",
    "        if q in q_dict:\n",
    "            result[index] += q_dict[q]\n",
    "            continue\n",
    "            \n",
    "        q_len = len(q)\n",
    "\n",
    "        for w in words:\n",
    "            if len(w) == q_len and is_same(slise_q, w, q):\n",
    "                result[index] += 1\n",
    "        q_dict[q] = result[index]\n",
    "    return result\n"
   ]
  },
  {
   "cell_type": "code",
   "execution_count": null,
   "metadata": {},
   "outputs": [],
   "source": []
  },
  {
   "cell_type": "code",
   "execution_count": null,
   "metadata": {},
   "outputs": [],
   "source": []
  }
 ],
 "metadata": {
  "kernelspec": {
   "display_name": "Python 3",
   "language": "python",
   "name": "python3"
  },
  "language_info": {
   "codemirror_mode": {
    "name": "ipython",
    "version": 3
   },
   "file_extension": ".py",
   "mimetype": "text/x-python",
   "name": "python",
   "nbconvert_exporter": "python",
   "pygments_lexer": "ipython3",
   "version": "3.7.3"
  }
 },
 "nbformat": 4,
 "nbformat_minor": 2
}

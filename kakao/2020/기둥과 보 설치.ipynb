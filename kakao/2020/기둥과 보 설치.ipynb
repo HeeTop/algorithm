{
 "cells": [
  {
   "cell_type": "markdown",
   "metadata": {},
   "source": [
    "1. 기둥은 바닥 위에 있거나 보의 한쪽 끝 부분 위에 있거나, 또는 다른 기둥 위에 있어야 합니다.\n",
    "\n",
    "2. 보는 한쪽 끝 부분이 기둥 위에 있거나, 또는 양쪽 끝 부분이 다른 보와 동시에 연결되어 있어야 합니다."
   ]
  },
  {
   "cell_type": "code",
   "execution_count": 71,
   "metadata": {},
   "outputs": [],
   "source": [
    "n = 5\n",
    "n += 1\n",
    "build_frame = [[1,0,0,1],[1,1,1,1],[2,1,0,1],[2,2,1,1],[5,0,0,1],[5,1,0,1],[4,2,1,1],[3,2,1,1]]"
   ]
  },
  {
   "cell_type": "code",
   "execution_count": 72,
   "metadata": {},
   "outputs": [],
   "source": [
    "maps = [[[]] * n for x in range(n)]"
   ]
  },
  {
   "cell_type": "code",
   "execution_count": 73,
   "metadata": {
    "scrolled": true
   },
   "outputs": [],
   "source": [
    "for i in range(n):\n",
    "    for j in range(n):\n",
    "        maps[i][j].append({'bar':0, 'col':0})"
   ]
  },
  {
   "cell_type": "code",
   "execution_count": 74,
   "metadata": {},
   "outputs": [
    {
     "data": {
      "text/plain": [
       "[{'bar': 0, 'col': 0},\n",
       " {'bar': 0, 'col': 0},\n",
       " {'bar': 0, 'col': 0},\n",
       " {'bar': 0, 'col': 0},\n",
       " {'bar': 0, 'col': 0},\n",
       " {'bar': 0, 'col': 0}]"
      ]
     },
     "execution_count": 74,
     "metadata": {},
     "output_type": "execute_result"
    }
   ],
   "source": []
  },
  {
   "cell_type": "code",
   "execution_count": 37,
   "metadata": {},
   "outputs": [],
   "source": [
    "def build(frame, maps):\n",
    "    N = len(maps)\n",
    "    [col, row, a, b] = frame\n",
    "#     insert 기둥\n",
    "    if a == 0 and b == 1:\n",
    "#         바닥위\n",
    "        if row == 0:\n",
    "            maps[row][col]['col'] = 1\n",
    "#         보의 왼쪽 끝\n",
    "        if maps[row][col]['bar']:\n",
    "            maps[row][col]['col'] = 1\n",
    "#         다른 기둥 위\n",
    "        if row -1 >= 0 and maps[row - 1][col]['col']:\n",
    "            maps[row][col]['col'] = 1\n",
    "#         보의 오른쪽 끝\n",
    "        if col + 1 < N and maps[row][col + 1]['bar']:\n",
    "            maps[row][col]['col'] = 1  \n",
    "#         del 기둥\n",
    "    elif a == 0 and b == 0:\n",
    "        \n",
    "        pass\n",
    "#     insert bar\n",
    "    elif a == 1 and b == 1:\n",
    "#         왼 쪽 끝 기둥 위\n",
    "        if row - 1 >= 0 and maps[row - 1][col]['col']:\n",
    "            maps[row][col]['bar'] = 1\n",
    "#         오른쪽 끝 기둥위\n",
    "        if col + 1 < N and maps[row][col + 1]['col']:\n",
    "            maps[row][col]['bar'] = 1\n",
    "#         왼쪽 오른 쪽 둘다 보\n",
    "        if col - 1 >= 0 and col + 1 < N and maps[row][col - 1]['bar'] and maps[row][col + 1]['bar']:\n",
    "            maps[row][col]['bar'] = 1\n",
    "            \n",
    "#         delete bar\n",
    "    else:\n",
    "        pass"
   ]
  },
  {
   "cell_type": "code",
   "execution_count": 38,
   "metadata": {},
   "outputs": [],
   "source": [
    "for frame in build_frame:\n",
    "    build(frame, maps)"
   ]
  },
  {
   "cell_type": "code",
   "execution_count": 39,
   "metadata": {},
   "outputs": [
    {
     "data": {
      "text/plain": [
       "1"
      ]
     },
     "execution_count": 39,
     "metadata": {},
     "output_type": "execute_result"
    }
   ],
   "source": [
    "maps[0][5]['col']"
   ]
  },
  {
   "cell_type": "code",
   "execution_count": 42,
   "metadata": {},
   "outputs": [],
   "source": [
    "maps[0][0]['bar'] = 1"
   ]
  },
  {
   "cell_type": "code",
   "execution_count": 43,
   "metadata": {},
   "outputs": [
    {
     "data": {
      "text/plain": [
       "[[{'bar': 1, 'col': 1},\n",
       "  {'bar': 1, 'col': 1},\n",
       "  {'bar': 1, 'col': 1},\n",
       "  {'bar': 1, 'col': 1},\n",
       "  {'bar': 1, 'col': 1},\n",
       "  {'bar': 1, 'col': 1}],\n",
       " [{'bar': 1, 'col': 1},\n",
       "  {'bar': 1, 'col': 1},\n",
       "  {'bar': 1, 'col': 1},\n",
       "  {'bar': 1, 'col': 1},\n",
       "  {'bar': 1, 'col': 1},\n",
       "  {'bar': 1, 'col': 1}],\n",
       " [{'bar': 1, 'col': 0},\n",
       "  {'bar': 1, 'col': 0},\n",
       "  {'bar': 1, 'col': 0},\n",
       "  {'bar': 1, 'col': 0},\n",
       "  {'bar': 1, 'col': 0},\n",
       "  {'bar': 1, 'col': 0}],\n",
       " [{'bar': 0, 'col': 0},\n",
       "  {'bar': 0, 'col': 0},\n",
       "  {'bar': 0, 'col': 0},\n",
       "  {'bar': 0, 'col': 0},\n",
       "  {'bar': 0, 'col': 0},\n",
       "  {'bar': 0, 'col': 0}],\n",
       " [{'bar': 0, 'col': 0},\n",
       "  {'bar': 0, 'col': 0},\n",
       "  {'bar': 0, 'col': 0},\n",
       "  {'bar': 0, 'col': 0},\n",
       "  {'bar': 0, 'col': 0},\n",
       "  {'bar': 0, 'col': 0}],\n",
       " [{'bar': 0, 'col': 0},\n",
       "  {'bar': 0, 'col': 0},\n",
       "  {'bar': 0, 'col': 0},\n",
       "  {'bar': 0, 'col': 0},\n",
       "  {'bar': 0, 'col': 0},\n",
       "  {'bar': 0, 'col': 0}]]"
      ]
     },
     "execution_count": 43,
     "metadata": {},
     "output_type": "execute_result"
    }
   ],
   "source": [
    "maps"
   ]
  },
  {
   "cell_type": "code",
   "execution_count": null,
   "metadata": {},
   "outputs": [],
   "source": []
  }
 ],
 "metadata": {
  "kernelspec": {
   "display_name": "Python 3",
   "language": "python",
   "name": "python3"
  },
  "language_info": {
   "codemirror_mode": {
    "name": "ipython",
    "version": 3
   },
   "file_extension": ".py",
   "mimetype": "text/x-python",
   "name": "python",
   "nbconvert_exporter": "python",
   "pygments_lexer": "ipython3",
   "version": "3.7.3"
  }
 },
 "nbformat": 4,
 "nbformat_minor": 2
}

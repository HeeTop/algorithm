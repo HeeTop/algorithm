{
 "cells": [
  {
   "cell_type": "code",
   "execution_count": 182,
   "metadata": {},
   "outputs": [],
   "source": [
    "words = [\"frodo\", \"front\", \"frost\", \"frozen\", \"frame\", \"kakao\"]\n",
    "queries = [\"fro??\", \"????o\", \"fr???\", \"fro???\", \"pro?\"]"
   ]
  },
  {
   "cell_type": "code",
   "execution_count": 183,
   "metadata": {},
   "outputs": [],
   "source": [
    "def insert(trie, word):\n",
    "    if word[0] == '?':\n",
    "        return\n",
    "    \n",
    "    for char in word:\n",
    "        if char not in trie:\n",
    "            trie[char] = {'len': 0}\n",
    "        trie[char]['len'] +=1 \n",
    "        trie = trie[char]"
   ]
  },
  {
   "cell_type": "code",
   "execution_count": 184,
   "metadata": {},
   "outputs": [],
   "source": [
    "def check(trie, word):\n",
    "    result = 0\n",
    "    \n",
    "    for char in word:\n",
    "        if char == '?':\n",
    "            return result\n",
    "        if char not in trie:\n",
    "            return 0\n",
    "        \n",
    "        if trie[char]['len'] != 0:\n",
    "            result = trie[char]['len']\n",
    "            trie = trie[char]\n",
    "        else:\n",
    "            return 0\n",
    "    return True"
   ]
  },
  {
   "cell_type": "code",
   "execution_count": 185,
   "metadata": {},
   "outputs": [],
   "source": [
    "trie = {}\n",
    "insert(trie, word)"
   ]
  },
  {
   "cell_type": "code",
   "execution_count": 186,
   "metadata": {},
   "outputs": [
    {
     "data": {
      "text/plain": [
       "{'k': {'len': 1,\n",
       "  'a': {'len': 1, 'k': {'len': 1, 'a': {'len': 1, 'o': {'len': 1}}}}}}"
      ]
     },
     "execution_count": 186,
     "metadata": {},
     "output_type": "execute_result"
    }
   ],
   "source": [
    "trie"
   ]
  },
  {
   "cell_type": "code",
   "execution_count": 187,
   "metadata": {},
   "outputs": [],
   "source": [
    "trie = {}\n",
    "inv_trie = {}\n",
    "\n",
    "for word in words:\n",
    "    length = len(word)\n",
    "    if length not in trie:\n",
    "        trie[length] = {}\n",
    "        inv_trie[length] = {}\n",
    "        \n",
    "    insert(trie[length], word)\n",
    "    insert(inv_trie[length], word[::-1])"
   ]
  },
  {
   "cell_type": "code",
   "execution_count": 188,
   "metadata": {},
   "outputs": [
    {
     "name": "stdout",
     "output_type": "stream",
     "text": [
      "[3, 2, 4, 1, 0]\n"
     ]
    }
   ],
   "source": [
    "result = []\n",
    "\n",
    "for q in queries:\n",
    "    if len(q) not in trie:\n",
    "        result.append(0)\n",
    "        continue\n",
    "        \n",
    "    if q[0] == '?': \n",
    "        result.append(check(inv_trie[len(q)], q[::-1]))\n",
    "    else:\n",
    "        result.append(check(trie[len(q)], q))\n",
    "print(result)"
   ]
  },
  {
   "cell_type": "code",
   "execution_count": 230,
   "metadata": {
    "scrolled": false
   },
   "outputs": [],
   "source": [
    "def insert(trie, word):\n",
    "    if len(word) not in trie:\n",
    "        trie[len(word)] = {'len': 1}\n",
    "    else:\n",
    "        trie[len(word)]['len'] += 1\n",
    "    trie = trie[len(word)]   \n",
    "    for char in word:\n",
    "        if char not in trie:\n",
    "            trie[char] = {'len': 0}\n",
    "        trie[char]['len'] +=1 \n",
    "        trie = trie[char]\n"
   ]
  },
  {
   "cell_type": "code",
   "execution_count": 246,
   "metadata": {
    "scrolled": true
   },
   "outputs": [],
   "source": [
    "def check(trie, word):\n",
    "    if len(word) in trie:\n",
    "        trie = trie[len(word)]\n",
    "    else:\n",
    "        return 0\n",
    "    \n",
    "    for char in word:\n",
    "        if char == '?':\n",
    "            break\n",
    "            \n",
    "        if char in trie:\n",
    "            trie = trie[char]\n",
    "        else:\n",
    "            return 0\n",
    "    return trie['len']"
   ]
  },
  {
   "cell_type": "code",
   "execution_count": 242,
   "metadata": {},
   "outputs": [],
   "source": [
    "trie = {}\n",
    "inv_trie = {}\n",
    "\n",
    "for word in words:\n",
    "    length = len(word)\n",
    "    insert(trie, word)\n",
    "    insert(inv_trie, word[::-1])"
   ]
  },
  {
   "cell_type": "code",
   "execution_count": 243,
   "metadata": {},
   "outputs": [
    {
     "name": "stdout",
     "output_type": "stream",
     "text": [
      "[3, 2, 4, 1, 0]\n"
     ]
    }
   ],
   "source": [
    "result = []\n",
    "\n",
    "for q in queries:        \n",
    "    if q[0] == '?': \n",
    "        result.append(search(inv_trie, q[::-1]))\n",
    "    else:\n",
    "        result.append(search(trie, q))\n",
    "print(result)"
   ]
  },
  {
   "cell_type": "code",
   "execution_count": 244,
   "metadata": {},
   "outputs": [],
   "source": [
    "def check(trie, word):\n",
    "    if len(word) in trie:\n",
    "        trie = trie[len(word)]\n",
    "    else:\n",
    "        return 0\n",
    "    \n",
    "    for char in word:\n",
    "        if char == '?':\n",
    "            break\n",
    "            \n",
    "        if char in trie:\n",
    "            trie = trie[char]\n",
    "        else:\n",
    "            return 0\n",
    "    return trie['len']\n",
    "\n",
    "    \n",
    "def insert(trie, word):\n",
    "    if len(word) not in trie:\n",
    "        trie[len(word)] = {'len': 1}\n",
    "    else:\n",
    "        trie[len(word)]['len'] += 1\n",
    "    trie = trie[len(word)]   \n",
    "    for char in word:\n",
    "        if char not in trie:\n",
    "            trie[char] = {'len': 0}\n",
    "        trie[char]['len'] +=1 \n",
    "        trie = trie[char]\n",
    "\n",
    "\n",
    "def solution(words, queries):\n",
    "    trie = {}\n",
    "    inv_trie = {}\n",
    "\n",
    "    for word in words:\n",
    "        length = len(word)\n",
    "        insert(trie, word)\n",
    "        insert(inv_trie, word[::-1])\n",
    "\n",
    "    result = []\n",
    "\n",
    "    for q in queries:        \n",
    "        if q[0] == '?': \n",
    "            result.append(check(inv_trie, q[::-1]))\n",
    "        else:\n",
    "            result.append(check(trie, q))\n",
    "    return result"
   ]
  },
  {
   "cell_type": "code",
   "execution_count": 245,
   "metadata": {
    "scrolled": false
   },
   "outputs": [
    {
     "data": {
      "text/plain": [
       "[3, 2, 4, 1, 0]"
      ]
     },
     "execution_count": 245,
     "metadata": {},
     "output_type": "execute_result"
    }
   ],
   "source": [
    "solution(words, queries)"
   ]
  },
  {
   "cell_type": "code",
   "execution_count": null,
   "metadata": {},
   "outputs": [],
   "source": []
  }
 ],
 "metadata": {
  "kernelspec": {
   "display_name": "Python 3",
   "language": "python",
   "name": "python3"
  },
  "language_info": {
   "codemirror_mode": {
    "name": "ipython",
    "version": 3
   },
   "file_extension": ".py",
   "mimetype": "text/x-python",
   "name": "python",
   "nbconvert_exporter": "python",
   "pygments_lexer": "ipython3",
   "version": "3.7.3"
  }
 },
 "nbformat": 4,
 "nbformat_minor": 2
}

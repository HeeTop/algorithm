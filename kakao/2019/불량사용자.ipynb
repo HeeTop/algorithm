{
 "cells": [
  {
   "cell_type": "code",
   "execution_count": 36,
   "metadata": {},
   "outputs": [],
   "source": [
    "user_ids = [\"frodo\", \"fradi\", \"crodo\", \"abc123\", \"frodoc\"]\n",
    "banned_ids = [\"*rodo\", \"*rodo\", \"******\"]"
   ]
  },
  {
   "cell_type": "code",
   "execution_count": 27,
   "metadata": {},
   "outputs": [],
   "source": [
    "def is_possible(user_id, banned_id):\n",
    "    if len(user_id) != len(banned_id):\n",
    "        return False\n",
    "    for user, ban in zip(user_id, banned_id):\n",
    "        if ban == \"*\":\n",
    "            continue\n",
    "        elif user != ban:\n",
    "            return False\n",
    "    return True\n"
   ]
  },
  {
   "cell_type": "code",
   "execution_count": 28,
   "metadata": {},
   "outputs": [
    {
     "data": {
      "text/plain": [
       "False"
      ]
     },
     "execution_count": 28,
     "metadata": {},
     "output_type": "execute_result"
    }
   ],
   "source": [
    "is_possible(user_ids[0], banned_ids[2])"
   ]
  },
  {
   "cell_type": "code",
   "execution_count": 39,
   "metadata": {},
   "outputs": [],
   "source": [
    "banned_set = set()\n",
    "visited = ['0'] * len(user_ids)\n",
    "\n",
    "def dfs(depth):\n",
    "    if len(banned_ids) == depth:\n",
    "        banned_set.add(''.join(visited))\n",
    "        return\n",
    "    banned_id = banned_ids[depth]\n",
    "    \n",
    "    for idx, user_id in enumerate(user_ids):\n",
    "        if visited[idx] == '1':\n",
    "            continue\n",
    "#             나쁜놈이면 user_id: frode, banned_id: *rodo\n",
    "        elif is_possible(user_id, banned_id):\n",
    "            visited[idx] = '1'\n",
    "            dfs(depth + 1)\n",
    "            visited[idx] = '0'\n",
    "            "
   ]
  },
  {
   "cell_type": "code",
   "execution_count": 40,
   "metadata": {},
   "outputs": [],
   "source": [
    "dfs(0)"
   ]
  },
  {
   "cell_type": "code",
   "execution_count": 17,
   "metadata": {},
   "outputs": [
    {
     "data": {
      "text/plain": [
       "[0, 0, 0, 0, 0]"
      ]
     },
     "execution_count": 17,
     "metadata": {},
     "output_type": "execute_result"
    }
   ],
   "source": [
    "def is_possible(user_id, banned_id):\n",
    "    if len(user_id) != len(banned_id):\n",
    "        return False\n",
    "    for user, ban in zip(user_id, banned_id):\n",
    "        if ban == \"*\":\n",
    "            continue\n",
    "        elif user != ban:\n",
    "            return False\n",
    "    return True\n",
    "\n",
    "\n",
    "def solution(user_ids, banned_ids):\n",
    "    \n",
    "    banned_set = set()\n",
    "    visited = ['0'] * len(user_ids)\n",
    "\n",
    "    def dfs(depth):\n",
    "        if len(banned_ids) == depth:\n",
    "            banned_set.add(''.join(visited))\n",
    "            return\n",
    "        banned_id = banned_ids[depth]\n",
    "\n",
    "        for idx, user_id in enumerate(user_ids):\n",
    "            if visited[idx] == '1':\n",
    "                continue\n",
    "    #             나쁜놈이면 user_id: frode, banned_id: *rodo\n",
    "            elif is_possible(user_id, banned_id):\n",
    "                visited[idx] = '1'\n",
    "                dfs(depth + 1)\n",
    "                visited[idx] = '0'\n",
    "    dfs(0)\n",
    "    \n",
    "    return len(banned_set)"
   ]
  },
  {
   "cell_type": "code",
   "execution_count": 41,
   "metadata": {},
   "outputs": [
    {
     "data": {
      "text/plain": [
       "{'10101', '10110'}"
      ]
     },
     "execution_count": 41,
     "metadata": {},
     "output_type": "execute_result"
    }
   ],
   "source": [
    "banned_set"
   ]
  },
  {
   "cell_type": "code",
   "execution_count": null,
   "metadata": {},
   "outputs": [],
   "source": []
  }
 ],
 "metadata": {
  "kernelspec": {
   "display_name": "Python 3",
   "language": "python",
   "name": "python3"
  },
  "language_info": {
   "codemirror_mode": {
    "name": "ipython",
    "version": 3
   },
   "file_extension": ".py",
   "mimetype": "text/x-python",
   "name": "python",
   "nbconvert_exporter": "python",
   "pygments_lexer": "ipython3",
   "version": "3.7.3"
  }
 },
 "nbformat": 4,
 "nbformat_minor": 2
}

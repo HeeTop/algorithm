{
 "cells": [
  {
   "cell_type": "code",
   "execution_count": null,
   "metadata": {},
   "outputs": [],
   "source": [
    "k = 10\n",
    "room_number = [1,3,4,1,3,1]\n",
    "k += 1\n",
    "room_hash = [0] * k"
   ]
  },
  {
   "cell_type": "code",
   "execution_count": null,
   "metadata": {},
   "outputs": [],
   "source": [
    "room_number"
   ]
  },
  {
   "cell_type": "code",
   "execution_count": null,
   "metadata": {},
   "outputs": [],
   "source": [
    "result = []\n",
    "for idx, r in enumerate(room_number):\n",
    "    if room_hash[r] == 0:\n",
    "        result.append(r)\n",
    "        room_hash[r] = r + 1\n",
    "    else:\n",
    "        cur_r = r\n",
    "        \n",
    "        for next_r in range(room_hash[cur_r], k):\n",
    "            if room_hash[next_r] == 0:\n",
    "                room_hash[cur_r: next_r + 1] = [next_r + 1] * (next_r + 1 - cur_r)\n",
    "                result.append(next_r)\n",
    "                break"
   ]
  },
  {
   "cell_type": "code",
   "execution_count": null,
   "metadata": {},
   "outputs": [],
   "source": [
    "result"
   ]
  },
  {
   "cell_type": "code",
   "execution_count": null,
   "metadata": {},
   "outputs": [],
   "source": [
    "def solution(k, room_number):\n",
    "    k += 1\n",
    "    room_hash = [0] * k\n",
    "    result = []\n",
    "    for idx, r in enumerate(room_number):\n",
    "        if room_hash[r] == 0:\n",
    "            result.append(r)\n",
    "            room_hash[r] = r + 1\n",
    "        else:\n",
    "            cur_r = r\n",
    "\n",
    "            for next_r in range(room_hash[cur_r], k):\n",
    "                if room_hash[next_r] == 0:\n",
    "                    room_hash[cur_r] = next_r + 1\n",
    "    \n",
    "    \n",
    "    \n",
    "                    room_hash[cur_r: next_r + 1] = \n",
    "                    room_hash[next_r] = next_r + 1\n",
    "                    result.append(next_r)\n",
    "                    break\n",
    "    return result"
   ]
  },
  {
   "cell_type": "code",
   "execution_count": null,
   "metadata": {},
   "outputs": [],
   "source": []
  }
 ],
 "metadata": {
  "kernelspec": {
   "display_name": "Python 3",
   "language": "python",
   "name": "python3"
  },
  "language_info": {
   "codemirror_mode": {
    "name": "ipython",
    "version": 3
   },
   "file_extension": ".py",
   "mimetype": "text/x-python",
   "name": "python",
   "nbconvert_exporter": "python",
   "pygments_lexer": "ipython3",
   "version": "3.7.3"
  }
 },
 "nbformat": 4,
 "nbformat_minor": 2
}

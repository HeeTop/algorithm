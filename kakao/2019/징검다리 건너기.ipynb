{
 "cells": [
  {
   "cell_type": "code",
   "execution_count": 89,
   "metadata": {},
   "outputs": [
    {
     "ename": "SyntaxError",
     "evalue": "invalid syntax (<ipython-input-89-2b4b46fe2374>, line 1)",
     "output_type": "error",
     "traceback": [
      "\u001b[0;36m  File \u001b[0;32m\"<ipython-input-89-2b4b46fe2374>\"\u001b[0;36m, line \u001b[0;32m1\u001b[0m\n\u001b[0;31m    stones =[2, 4, 5, 3, 2, 1, 1, , 5, 1]\u001b[0m\n\u001b[0m                                  ^\u001b[0m\n\u001b[0;31mSyntaxError\u001b[0m\u001b[0;31m:\u001b[0m invalid syntax\n"
     ]
    }
   ],
   "source": [
    "stones =[2, 4, 5, 3, 2, 1, 1, , 5, 1]\n",
    "K = 3\n",
    "result = 3"
   ]
  },
  {
   "cell_type": "code",
   "execution_count": 79,
   "metadata": {},
   "outputs": [],
   "source": [
    "end = max(stones)\n",
    "start = min(stones)"
   ]
  },
  {
   "cell_type": "code",
   "execution_count": 85,
   "metadata": {},
   "outputs": [],
   "source": [
    "def is_possible(K, count, stones):\n",
    "    k = 0\n",
    "    for stone in stones:\n",
    "        if stone < count:\n",
    "            k += 1\n",
    "        else:\n",
    "            k = 0\n",
    "        if k > K:\n",
    "            return False\n",
    "    return True"
   ]
  },
  {
   "cell_type": "code",
   "execution_count": 86,
   "metadata": {},
   "outputs": [
    {
     "data": {
      "text/plain": [
       "False"
      ]
     },
     "execution_count": 86,
     "metadata": {},
     "output_type": "execute_result"
    }
   ],
   "source": [
    "is_possible(K, 2, stones)"
   ]
  },
  {
   "cell_type": "code",
   "execution_count": 87,
   "metadata": {},
   "outputs": [],
   "source": [
    "end = max(stones)\n",
    "start = min(stones)\n",
    "\n",
    "while(start <= end):\n",
    "    mid = (start + end) // 2\n",
    "    k = 0\n",
    "    \n",
    "    if is_possible(K, mid, stones):\n",
    "        start = mid + 1\n",
    "    else:\n",
    "        end = mid - 1"
   ]
  },
  {
   "cell_type": "code",
   "execution_count": 88,
   "metadata": {},
   "outputs": [
    {
     "data": {
      "text/plain": [
       "(2, 1)"
      ]
     },
     "execution_count": 88,
     "metadata": {},
     "output_type": "execute_result"
    }
   ],
   "source": [
    "start, end"
   ]
  },
  {
   "cell_type": "code",
   "execution_count": 83,
   "metadata": {},
   "outputs": [],
   "source": [
    "def is_possible(K, count, stones):\n",
    "    k = 0\n",
    "    for stone in stones:\n",
    "        if stone < count:\n",
    "            k += 1\n",
    "        else:\n",
    "            k = 0\n",
    "        if k >= K:\n",
    "            return False\n",
    "    return True\n",
    "\n",
    "def solution(stones, K):\n",
    "    end = max(stones)\n",
    "    start = min(stones)\n",
    "    while(start <= end):\n",
    "        mid = (start + end) // 2\n",
    "        k = 0\n",
    "\n",
    "        if is_possible(K, mid, stones):\n",
    "            start = mid + 1\n",
    "        else:\n",
    "            end = mid - 1\n",
    "            \n",
    "    return end"
   ]
  },
  {
   "cell_type": "code",
   "execution_count": 84,
   "metadata": {},
   "outputs": [
    {
     "data": {
      "text/plain": [
       "1"
      ]
     },
     "execution_count": 84,
     "metadata": {},
     "output_type": "execute_result"
    }
   ],
   "source": [
    "solution(stones,K)"
   ]
  },
  {
   "cell_type": "code",
   "execution_count": null,
   "metadata": {},
   "outputs": [],
   "source": []
  }
 ],
 "metadata": {
  "kernelspec": {
   "display_name": "Python 3",
   "language": "python",
   "name": "python3"
  },
  "language_info": {
   "codemirror_mode": {
    "name": "ipython",
    "version": 3
   },
   "file_extension": ".py",
   "mimetype": "text/x-python",
   "name": "python",
   "nbconvert_exporter": "python",
   "pygments_lexer": "ipython3",
   "version": "3.7.3"
  }
 },
 "nbformat": 4,
 "nbformat_minor": 2
}

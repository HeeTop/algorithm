{
 "cells": [
  {
   "cell_type": "code",
   "execution_count": 1,
   "metadata": {},
   "outputs": [],
   "source": [
    "user_id = [\"frodo\", \"fradi\", \"crodo\", \"abc123\", \"frodoc\"]\n",
    "banned_id = [\"fr*d*\", \"abc1**\"]\n",
    "\n",
    "dp = [0] * 10000"
   ]
  },
  {
   "cell_type": "code",
   "execution_count": null,
   "metadata": {},
   "outputs": [],
   "source": [
    "user_id= [\"frodo\", \"fradi\", \"crodo\", \"abc123\", \"frodoc\"]\n",
    "banned_id = [\"fr*d*\", \"*rodo\", \"******\", \"******\"]"
   ]
  },
  {
   "cell_type": "code",
   "execution_count": null,
   "metadata": {},
   "outputs": [],
   "source": [
    "user_id"
   ]
  },
  {
   "cell_type": "code",
   "execution_count": null,
   "metadata": {
    "scrolled": true
   },
   "outputs": [],
   "source": [
    "banned_id"
   ]
  },
  {
   "cell_type": "code",
   "execution_count": null,
   "metadata": {},
   "outputs": [],
   "source": [
    "def is_match(str1, str2):\n",
    "    for idx, s in enumerate(str1):\n",
    "        if str2[idx] == '*' or s == str2[idx]:\n",
    "            continue\n",
    "        else:\n",
    "            return False\n",
    "    return True"
   ]
  },
  {
   "cell_type": "code",
   "execution_count": null,
   "metadata": {},
   "outputs": [],
   "source": [
    "is_match('frodo','***d*')"
   ]
  },
  {
   "cell_type": "code",
   "execution_count": null,
   "metadata": {},
   "outputs": [],
   "source": [
    "def get_banned_list(user_id, banned_id):\n",
    "    banned_list = []\n",
    "    for b_idx, ban in enumerate(banned_id):\n",
    "        b_len = len(ban)\n",
    "        b_list = []\n",
    "\n",
    "        for u_idx, user in enumerate(user_id):\n",
    "            u_len = len(user)\n",
    "            if b_len != u_len:\n",
    "                continue\n",
    "            if is_match(user, ban):\n",
    "                b_list.append(u_idx)\n",
    "        banned_list.append(b_list)\n",
    "    return banned_list"
   ]
  },
  {
   "cell_type": "code",
   "execution_count": null,
   "metadata": {},
   "outputs": [],
   "source": [
    "banned_list = get_banned_list(user_id, banned_id)"
   ]
  },
  {
   "cell_type": "code",
   "execution_count": null,
   "metadata": {},
   "outputs": [],
   "source": [
    "banned_list"
   ]
  },
  {
   "cell_type": "code",
   "execution_count": null,
   "metadata": {},
   "outputs": [],
   "source": [
    "selected_list = [0, 1, 3]"
   ]
  },
  {
   "cell_type": "code",
   "execution_count": null,
   "metadata": {},
   "outputs": [],
   "source": [
    "def get_dp_idx(selected_list):\n",
    "    dp_idx = 0\n",
    "    for s in selected_list:\n",
    "        dp_idx += 1 << s\n",
    "    return dp_idx\n",
    "\n",
    "def check_dp(selected_list):\n",
    "    return dp[get_dp_idx(selected_list)]"
   ]
  },
  {
   "cell_type": "code",
   "execution_count": null,
   "metadata": {},
   "outputs": [],
   "source": [
    "check_dp(selected_list)"
   ]
  },
  {
   "cell_type": "code",
   "execution_count": 2,
   "metadata": {},
   "outputs": [],
   "source": [
    "global result\n",
    "dp = [0] * 10000\n",
    "result= [0] \n",
    "selected_list = []\n",
    "\n",
    "def is_match(str1, str2):\n",
    "    for idx, s in enumerate(str1):\n",
    "        if str2[idx] == '*' or s == str2[idx]:\n",
    "            continue\n",
    "        else:\n",
    "            return False\n",
    "    return True\n",
    "\n",
    "\n",
    "def get_banned_list(user_id, banned_id):\n",
    "    banned_list = []\n",
    "    for b_idx, ban in enumerate(banned_id):\n",
    "        b_len = len(ban)\n",
    "        b_list = []\n",
    "\n",
    "        for u_idx, user in enumerate(user_id):\n",
    "            u_len = len(user)\n",
    "            if b_len != u_len:\n",
    "                continue\n",
    "            if is_match(user, ban):\n",
    "                b_list.append(u_idx)\n",
    "        banned_list.append(b_list)\n",
    "    return banned_list\n",
    "\n",
    "def get_dp_idx(selected_list):\n",
    "    dp_idx = 0\n",
    "    for s in selected_list:\n",
    "        dp_idx += 1 << s\n",
    "    return dp_idx\n",
    "\n",
    "\n",
    "\n",
    "def dfs(depth, DEPTH, banned_list):\n",
    "    if depth == DEPTH:\n",
    "        if len(selected_list) != DEPTH:\n",
    "            return\n",
    "        \n",
    "        dp_idx = get_dp_idx(selected_list)\n",
    "        if dp[dp_idx] == 0:\n",
    "            result[0] += 1\n",
    "            dp[dp_idx] = 1\n",
    "        return\n",
    "        \n",
    "    for ban_idx in banned_list[depth]:\n",
    "        if ban_idx not in selected_list:\n",
    "            selected_list.append(ban_idx)\n",
    "            dfs(depth + 1, DEPTH, banned_list)\n",
    "            selected_list.pop()\n",
    "        else:\n",
    "            continue\n",
    "\n",
    "def solution(user_id, banned_id):\n",
    "    banned_list = get_banned_list(user_id, banned_id)\n",
    "    dfs(0, len(banned_list), banned_list)\n",
    "\n",
    "    return result[0]"
   ]
  },
  {
   "cell_type": "code",
   "execution_count": 3,
   "metadata": {},
   "outputs": [
    {
     "data": {
      "text/plain": [
       "2"
      ]
     },
     "execution_count": 3,
     "metadata": {},
     "output_type": "execute_result"
    }
   ],
   "source": [
    "solution(user_id, banned_id)"
   ]
  },
  {
   "cell_type": "code",
   "execution_count": null,
   "metadata": {},
   "outputs": [],
   "source": [
    "result"
   ]
  },
  {
   "cell_type": "code",
   "execution_count": null,
   "metadata": {},
   "outputs": [],
   "source": [
    "selected_list = []\n",
    "global result\n",
    "dp = [0] * 10000\n",
    "result= [0] \n",
    "DEPTH = len(banned_id)\n",
    "\n",
    "def dfs(depth):\n",
    "    if depth == DEPTH:\n",
    "        if len(selected_list) != DEPTH:\n",
    "            return\n",
    "        \n",
    "        dp_idx = get_dp_idx(selected_list)\n",
    "        if dp[dp_idx] == 0:\n",
    "            result[0] += 1\n",
    "            dp[dp_idx] = 1\n",
    "        return\n",
    "        \n",
    "    for ban_idx in banned_list[depth]:\n",
    "        if ban_idx not in selected_list:\n",
    "            selected_list.append(ban_idx)\n",
    "            dfs(depth + 1)\n",
    "            selected_list.pop()\n",
    "        else:\n",
    "            continue\n",
    "            \n"
   ]
  }
 ],
 "metadata": {
  "kernelspec": {
   "display_name": "Python 3",
   "language": "python",
   "name": "python3"
  },
  "language_info": {
   "codemirror_mode": {
    "name": "ipython",
    "version": 3
   },
   "file_extension": ".py",
   "mimetype": "text/x-python",
   "name": "python",
   "nbconvert_exporter": "python",
   "pygments_lexer": "ipython3",
   "version": "3.7.3"
  }
 },
 "nbformat": 4,
 "nbformat_minor": 2
}

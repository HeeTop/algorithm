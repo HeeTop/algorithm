{
 "cells": [
  {
   "cell_type": "code",
   "execution_count": 96,
   "metadata": {},
   "outputs": [],
   "source": [
    "food_times = [2, 4, 3, 2, 5,3,1]\n",
    "K = 13\n",
    "result = 1"
   ]
  },
  {
   "cell_type": "code",
   "execution_count": 81,
   "metadata": {},
   "outputs": [],
   "source": [
    "import heapq\n",
    "food_heap = [x for x in zip(food_times, range(len(food_times)))]\n",
    "heapq.heapify(food_heap)"
   ]
  },
  {
   "cell_type": "code",
   "execution_count": 89,
   "metadata": {},
   "outputs": [],
   "source": [
    "pre_food = 0\n",
    "\n",
    "while(1):\n",
    "    food, idx = food_heap[0]\n",
    "    gap = (food - pre_food) * len(food_heap)\n",
    "    if gap <= K:\n",
    "        K -= gap\n",
    "        pre_food = food\n",
    "        \n",
    "        while(1):\n",
    "            tmp_food, tmp_idx = food_heap[0]\n",
    "            \n",
    "            if food == tmp_food:\n",
    "                heapq.heappop(food_heap)\n",
    "                food_times[tmp_idx] = -1\n",
    "            else:\n",
    "                break\n",
    "    else:\n",
    "        break"
   ]
  },
  {
   "cell_type": "code",
   "execution_count": 90,
   "metadata": {},
   "outputs": [
    {
     "data": {
      "text/plain": [
       "0"
      ]
     },
     "execution_count": 90,
     "metadata": {},
     "output_type": "execute_result"
    }
   ],
   "source": [
    "K"
   ]
  },
  {
   "cell_type": "code",
   "execution_count": 84,
   "metadata": {},
   "outputs": [],
   "source": [
    "idx = 0\n",
    "count = 0\n",
    "while(1):\n",
    "    if food_times[idx] == -1:\n",
    "        idx += 1\n",
    "    else:\n",
    "        break\n",
    "\n",
    "while count != K:\n",
    "    if food_times[idx] == -1:\n",
    "        idx += 1\n",
    "    else:\n",
    "        count += 1\n",
    "        idx += 1"
   ]
  },
  {
   "cell_type": "code",
   "execution_count": 99,
   "metadata": {},
   "outputs": [
    {
     "data": {
      "text/plain": [
       "[-1, 4, 3, -1, 5, 3, -1]"
      ]
     },
     "execution_count": 99,
     "metadata": {},
     "output_type": "execute_result"
    }
   ],
   "source": [
    "food_times"
   ]
  },
  {
   "cell_type": "code",
   "execution_count": 100,
   "metadata": {
    "scrolled": true
   },
   "outputs": [
    {
     "data": {
      "text/plain": [
       "2"
      ]
     },
     "execution_count": 100,
     "metadata": {},
     "output_type": "execute_result"
    }
   ],
   "source": [
    "idx"
   ]
  },
  {
   "cell_type": "code",
   "execution_count": null,
   "metadata": {},
   "outputs": [],
   "source": []
  },
  {
   "cell_type": "code",
   "execution_count": 97,
   "metadata": {},
   "outputs": [],
   "source": [
    "import heapq\n",
    "\n",
    "def solution(food_times, K):\n",
    "    food_heap = [x for x in zip(food_times, range(len(food_times)))]\n",
    "    heapq.heapify(food_heap)\n",
    "    pre_food = 0\n",
    "\n",
    "    while(food_heap):\n",
    "        food, idx = food_heap[0]\n",
    "        gap = (food - pre_food) * len(food_heap)\n",
    "        if gap <= K:\n",
    "            K -= gap\n",
    "            pre_food = food\n",
    "\n",
    "            while(food_heap):\n",
    "                tmp_food, tmp_idx = food_heap[0]\n",
    "\n",
    "                if food == tmp_food:\n",
    "                    heapq.heappop(food_heap)\n",
    "                    food_times[tmp_idx] = -1\n",
    "                else:\n",
    "                    break\n",
    "        else:\n",
    "            break\n",
    "    idx = 0\n",
    "    count = 0\n",
    "\n",
    "    while(1):\n",
    "        if food_times[idx] == -1:\n",
    "            idx += 1\n",
    "        else:\n",
    "            break\n",
    "            \n",
    "    while count != K:\n",
    "        if food_times[idx] == -1:\n",
    "            idx += 1\n",
    "        else:\n",
    "            count += 1\n",
    "            idx += 1\n",
    "    idx+=1\n",
    "    return idx\n"
   ]
  },
  {
   "cell_type": "code",
   "execution_count": 98,
   "metadata": {},
   "outputs": [
    {
     "data": {
      "text/plain": [
       "2"
      ]
     },
     "execution_count": 98,
     "metadata": {},
     "output_type": "execute_result"
    }
   ],
   "source": [
    "solution(food_times, K)"
   ]
  },
  {
   "cell_type": "code",
   "execution_count": 7,
   "metadata": {},
   "outputs": [
    {
     "data": {
      "text/plain": [
       "[-1, -1, -1]"
      ]
     },
     "execution_count": 7,
     "metadata": {},
     "output_type": "execute_result"
    }
   ],
   "source": [
    "food_times"
   ]
  },
  {
   "cell_type": "code",
   "execution_count": null,
   "metadata": {},
   "outputs": [],
   "source": []
  }
 ],
 "metadata": {
  "kernelspec": {
   "display_name": "Python 3",
   "language": "python",
   "name": "python3"
  },
  "language_info": {
   "codemirror_mode": {
    "name": "ipython",
    "version": 3
   },
   "file_extension": ".py",
   "mimetype": "text/x-python",
   "name": "python",
   "nbconvert_exporter": "python",
   "pygments_lexer": "ipython3",
   "version": "3.7.3"
  }
 },
 "nbformat": 4,
 "nbformat_minor": 2
}

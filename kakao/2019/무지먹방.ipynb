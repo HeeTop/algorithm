{
 "cells": [
  {
   "cell_type": "code",
   "execution_count": 82,
   "metadata": {},
   "outputs": [],
   "source": [
    "food_times = [3, 1, 2]\n",
    "k = 5\n",
    "result = 1"
   ]
  },
  {
   "cell_type": "code",
   "execution_count": 76,
   "metadata": {},
   "outputs": [],
   "source": [
    "food_heap = [x for x in zip(food_times, range(len(food_times)))]"
   ]
  },
  {
   "cell_type": "code",
   "execution_count": 77,
   "metadata": {},
   "outputs": [
    {
     "data": {
      "text/plain": [
       "[(3, 0), (1, 1), (2, 2)]"
      ]
     },
     "execution_count": 77,
     "metadata": {},
     "output_type": "execute_result"
    }
   ],
   "source": [
    "food_heap"
   ]
  },
  {
   "cell_type": "code",
   "execution_count": 78,
   "metadata": {},
   "outputs": [],
   "source": [
    "import heapq"
   ]
  },
  {
   "cell_type": "code",
   "execution_count": 79,
   "metadata": {},
   "outputs": [],
   "source": [
    "heapq.heapify(food_heap)"
   ]
  },
  {
   "cell_type": "code",
   "execution_count": 80,
   "metadata": {},
   "outputs": [],
   "source": [
    "pre_food = 0\n",
    "\n",
    "while(1):\n",
    "    food, idx = food_heap[0]\n",
    "    \n",
    "    if food == pre_food:\n",
    "        heapq.heappop(food_heap)\n",
    "        food_times[idx] = -1\n",
    "        continue\n",
    "        \n",
    "    gap = (food - pre_food) * len(food_heap)\n",
    "    pre_food = food\n",
    "    \n",
    "    if gap > k:\n",
    "        k %= len(food_heap)\n",
    "        break\n",
    "    heapq.heappop(food_heap)\n",
    "    k -= gap\n",
    "    food_times[idx] = -1"
   ]
  },
  {
   "cell_type": "code",
   "execution_count": 81,
   "metadata": {},
   "outputs": [
    {
     "data": {
      "text/plain": [
       "0"
      ]
     },
     "execution_count": 81,
     "metadata": {},
     "output_type": "execute_result"
    }
   ],
   "source": [
    "k"
   ]
  },
  {
   "cell_type": "code",
   "execution_count": 59,
   "metadata": {},
   "outputs": [
    {
     "data": {
      "text/plain": [
       "[3, -1, 2]"
      ]
     },
     "execution_count": 59,
     "metadata": {},
     "output_type": "execute_result"
    }
   ],
   "source": [
    "food_times"
   ]
  },
  {
   "cell_type": "code",
   "execution_count": 17,
   "metadata": {},
   "outputs": [
    {
     "data": {
      "text/plain": [
       "[3, -1, 2]"
      ]
     },
     "execution_count": 17,
     "metadata": {},
     "output_type": "execute_result"
    }
   ],
   "source": [
    "food_times"
   ]
  },
  {
   "cell_type": "code",
   "execution_count": 60,
   "metadata": {},
   "outputs": [],
   "source": [
    "idx = 0\n",
    "count = 0\n",
    "while count != gap:\n",
    "    if food_times[idx] == -1:\n",
    "        idx += 1\n",
    "    else:\n",
    "        count += 1\n",
    "        idx += 1"
   ]
  },
  {
   "cell_type": "code",
   "execution_count": 83,
   "metadata": {},
   "outputs": [],
   "source": [
    "import heapq\n",
    "\n",
    "def solution(food_times, k):\n",
    "    food_heap = [x for x in zip(food_times, range(len(food_times)))]\n",
    "    heapq.heapify(food_heap)\n",
    "    pre_food = 0\n",
    "\n",
    "    while(1):\n",
    "        food, idx = food_heap[0]\n",
    "\n",
    "        if food == pre_food:\n",
    "            heapq.heappop(food_heap)\n",
    "            food_times[idx] = -1\n",
    "            continue\n",
    "\n",
    "        gap = (food - pre_food) * len(food_heap)\n",
    "        pre_food = food\n",
    "\n",
    "        if gap > k:\n",
    "            k %= len(food_heap)\n",
    "            break\n",
    "        heapq.heappop(food_heap)\n",
    "        k -= gap\n",
    "        food_times[idx] = -1\n",
    "        \n",
    "    idx = 0\n",
    "    count = 0\n",
    "    while count != k:\n",
    "        if food_times[idx] == -1:\n",
    "            idx += 1\n",
    "        else:\n",
    "            count += 1\n",
    "            idx += 1\n",
    "    idx+=1\n",
    "    return idx"
   ]
  },
  {
   "cell_type": "code",
   "execution_count": 84,
   "metadata": {},
   "outputs": [
    {
     "name": "stdout",
     "output_type": "stream",
     "text": [
      "0\n"
     ]
    },
    {
     "data": {
      "text/plain": [
       "1"
      ]
     },
     "execution_count": 84,
     "metadata": {},
     "output_type": "execute_result"
    }
   ],
   "source": [
    "solution(food_times, k)"
   ]
  },
  {
   "cell_type": "code",
   "execution_count": null,
   "metadata": {},
   "outputs": [],
   "source": []
  }
 ],
 "metadata": {
  "kernelspec": {
   "display_name": "Python 3",
   "language": "python",
   "name": "python3"
  },
  "language_info": {
   "codemirror_mode": {
    "name": "ipython",
    "version": 3
   },
   "file_extension": ".py",
   "mimetype": "text/x-python",
   "name": "python",
   "nbconvert_exporter": "python",
   "pygments_lexer": "ipython3",
   "version": "3.7.3"
  }
 },
 "nbformat": 4,
 "nbformat_minor": 2
}

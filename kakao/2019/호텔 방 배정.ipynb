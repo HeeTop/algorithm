{
 "cells": [
  {
   "cell_type": "code",
   "execution_count": 68,
   "metadata": {},
   "outputs": [],
   "source": [
    "room_number = [1,3,4,1,3,1]\n",
    "root = {}\n",
    "\n",
    "def find(x):\n",
    "    if x not in root or x == root[x]:\n",
    "        root[x] = x\n",
    "        return root[x]\n",
    "    else:\n",
    "        root[x] = find(root[x])\n",
    "        return root[x]"
   ]
  },
  {
   "cell_type": "code",
   "execution_count": 69,
   "metadata": {},
   "outputs": [],
   "source": [
    "# union 일반\n",
    "def union(x, y):\n",
    "    x = find(x)\n",
    "    y = find(y)\n",
    "\n",
    "    root[x] = y"
   ]
  },
  {
   "cell_type": "code",
   "execution_count": 70,
   "metadata": {},
   "outputs": [],
   "source": [
    "result = []\n",
    "for room in room_number:\n",
    "    if room not in root:\n",
    "        root[room] = room\n",
    "        if room - 1 in root:\n",
    "            union(room - 1, room)\n",
    "        if room + 1 in root:\n",
    "            union(room, room + 1)\n",
    "            \n",
    "        result.append(room)\n",
    "    else:\n",
    "        r = find(room)\n",
    "        union(room, r + 1)\n",
    "        if r + 2 in root:\n",
    "            union(r + 1, r + 2)\n",
    "        result.append(r + 1)"
   ]
  },
  {
   "cell_type": "code",
   "execution_count": 66,
   "metadata": {},
   "outputs": [
    {
     "data": {
      "text/plain": [
       "[1, 3, 4, 2, 5, 6]"
      ]
     },
     "execution_count": 66,
     "metadata": {},
     "output_type": "execute_result"
    }
   ],
   "source": [
    "result"
   ]
  },
  {
   "cell_type": "code",
   "execution_count": 71,
   "metadata": {},
   "outputs": [],
   "source": [
    "import sys\n",
    "sys.setrecursionlimit(2000)\n",
    "\n",
    "def solution(K, room_number):\n",
    "    root = {}\n",
    "    result = []\n",
    "\n",
    "    def find(x):\n",
    "        if x not in root or x == root[x]:\n",
    "            root[x] = x\n",
    "            return root[x]\n",
    "        else:\n",
    "            root[x] = find(root[x])\n",
    "            return root[x]\n",
    "    # union 일반\n",
    "    def union(x, y):\n",
    "        x = find(x)\n",
    "        y = find(y)\n",
    "\n",
    "        root[x] = y\n",
    "        \n",
    "    for room in room_number:\n",
    "        if room not in root:\n",
    "            root[room] = room\n",
    "            if room - 1 in root:\n",
    "                union(room - 1, room)\n",
    "            if room + 1 in root:\n",
    "                union(room, room + 1)\n",
    "\n",
    "            result.append(room)\n",
    "        else:\n",
    "            r = find(room)\n",
    "            union(room, r + 1)\n",
    "            if r + 2 in root:\n",
    "                union(r + 1, r + 2)\n",
    "            result.append(r + 1)\n",
    "    return result"
   ]
  },
  {
   "cell_type": "code",
   "execution_count": 73,
   "metadata": {},
   "outputs": [
    {
     "data": {
      "text/plain": [
       "[1, 3, 4, 2, 5, 6]"
      ]
     },
     "execution_count": 73,
     "metadata": {},
     "output_type": "execute_result"
    }
   ],
   "source": [
    "solution(0, room_number)"
   ]
  },
  {
   "cell_type": "code",
   "execution_count": null,
   "metadata": {},
   "outputs": [],
   "source": []
  }
 ],
 "metadata": {
  "kernelspec": {
   "display_name": "Python 3",
   "language": "python",
   "name": "python3"
  },
  "language_info": {
   "codemirror_mode": {
    "name": "ipython",
    "version": 3
   },
   "file_extension": ".py",
   "mimetype": "text/x-python",
   "name": "python",
   "nbconvert_exporter": "python",
   "pygments_lexer": "ipython3",
   "version": "3.7.3"
  }
 },
 "nbformat": 4,
 "nbformat_minor": 2
}

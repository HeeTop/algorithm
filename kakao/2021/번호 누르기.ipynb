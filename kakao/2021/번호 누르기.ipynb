{
 "cells": [
  {
   "cell_type": "code",
   "execution_count": 19,
   "metadata": {},
   "outputs": [],
   "source": [
    "numbers = [1, 3, 4, 5, 8, 2, 1, 4, 5, 9, 5]\n",
    "hand = \"right\""
   ]
  },
  {
   "cell_type": "code",
   "execution_count": 20,
   "metadata": {},
   "outputs": [],
   "source": [
    "pos = [10, 11]"
   ]
  },
  {
   "cell_type": "code",
   "execution_count": 21,
   "metadata": {},
   "outputs": [],
   "source": [
    "pos = [10, 11]\n",
    "phone = [[1,2,3],[4,5,6],[7,8,9],[10,0,11]]\n",
    "pos_dict = {}"
   ]
  },
  {
   "cell_type": "code",
   "execution_count": 22,
   "metadata": {},
   "outputs": [],
   "source": [
    "for r in range(len(phone)):\n",
    "    for c in range(len(phone[0])):\n",
    "        pos_dict[phone[r][c]] = (r,c)"
   ]
  },
  {
   "cell_type": "code",
   "execution_count": 23,
   "metadata": {
    "scrolled": true
   },
   "outputs": [
    {
     "data": {
      "text/plain": [
       "{1: (0, 0),\n",
       " 2: (0, 1),\n",
       " 3: (0, 2),\n",
       " 4: (1, 0),\n",
       " 5: (1, 1),\n",
       " 6: (1, 2),\n",
       " 7: (2, 0),\n",
       " 8: (2, 1),\n",
       " 9: (2, 2),\n",
       " 10: (3, 0),\n",
       " 0: (3, 1),\n",
       " 11: (3, 2)}"
      ]
     },
     "execution_count": 23,
     "metadata": {},
     "output_type": "execute_result"
    }
   ],
   "source": [
    "pos_dict"
   ]
  },
  {
   "cell_type": "code",
   "execution_count": 26,
   "metadata": {},
   "outputs": [],
   "source": [
    "def get_dist(pos1, pos2):\n",
    "    pos1 = pos_dict[pos1]\n",
    "    pos2 = pos_dict[pos2]\n",
    "    \n",
    "    dist = abs(pos1[0] - pos2[0]) + abs(pos1[1] - pos2[1])\n",
    "    return dist"
   ]
  },
  {
   "cell_type": "code",
   "execution_count": 33,
   "metadata": {},
   "outputs": [],
   "source": [
    "result = []\n",
    "for number in numbers:\n",
    "    if number in [1,4,7]:\n",
    "        pos[0] = number\n",
    "        result.append('L')\n",
    "    elif number in [3,6,9]:\n",
    "        pos[1] = number\n",
    "        result.append('R')\n",
    "    else:\n",
    "        dist_left = get_dist(pos[0], number)\n",
    "        dist_right = get_dist(pos[1], number)\n",
    "        \n",
    "        if dist_left == dist_right:\n",
    "            if hand == 'right':\n",
    "                pos[1] = number\n",
    "                result.append('R')\n",
    "            else:\n",
    "                pos[0] = number\n",
    "                result.append('L')\n",
    "        elif dist_left > dist_right:\n",
    "            pos[1] = number\n",
    "            result.append('R')\n",
    "        else:\n",
    "            pos[0] = number\n",
    "            result.append('L')\n"
   ]
  },
  {
   "cell_type": "code",
   "execution_count": 34,
   "metadata": {},
   "outputs": [
    {
     "data": {
      "text/plain": [
       "['L', 'R', 'L', 'L', 'L', 'R', 'L', 'L', 'R', 'R', 'L']"
      ]
     },
     "execution_count": 34,
     "metadata": {},
     "output_type": "execute_result"
    }
   ],
   "source": [
    "result"
   ]
  },
  {
   "cell_type": "code",
   "execution_count": 36,
   "metadata": {},
   "outputs": [],
   "source": [
    "\n",
    "\n",
    "def solution(numbers, hand):\n",
    "    pos = [10, 11]\n",
    "    phone = [[1,2,3],[4,5,6],[7,8,9],[10,0,11]]\n",
    "    pos_dict = {}\n",
    "    \n",
    "    for r in range(len(phone)):\n",
    "        for c in range(len(phone[0])):\n",
    "            pos_dict[phone[r][c]] = (r,c)\n",
    "            \n",
    "    def get_dist(pos1, pos2):\n",
    "        pos1 = pos_dict[pos1]\n",
    "        pos2 = pos_dict[pos2]\n",
    "\n",
    "        dist = abs(pos1[0] - pos2[0]) + abs(pos1[1] - pos2[1])\n",
    "        return dist\n",
    "    \n",
    "    result = []\n",
    "    for number in numbers:\n",
    "        if number in [1,4,7]:\n",
    "            pos[0] = number\n",
    "            result.append('L')\n",
    "        elif number in [3,6,9]:\n",
    "            pos[1] = number\n",
    "            result.append('R')\n",
    "        else:\n",
    "            dist_left = get_dist(pos[0], number)\n",
    "            dist_right = get_dist(pos[1], number)\n",
    "\n",
    "            if dist_left == dist_right:\n",
    "                if hand == 'right':\n",
    "                    pos[1] = number\n",
    "                    result.append('R')\n",
    "                else:\n",
    "                    pos[0] = number\n",
    "                    result.append('L')\n",
    "            elif dist_left > dist_right:\n",
    "                pos[1] = number\n",
    "                result.append('R')\n",
    "            else:\n",
    "                pos[0] = number\n",
    "                result.append('L')\n",
    "    return ''.join(result)\n"
   ]
  },
  {
   "cell_type": "code",
   "execution_count": 37,
   "metadata": {},
   "outputs": [
    {
     "data": {
      "text/plain": [
       "'LRLLLRLLRRL'"
      ]
     },
     "execution_count": 37,
     "metadata": {},
     "output_type": "execute_result"
    }
   ],
   "source": [
    "solution(numbers, hand)"
   ]
  },
  {
   "cell_type": "code",
   "execution_count": null,
   "metadata": {},
   "outputs": [],
   "source": []
  }
 ],
 "metadata": {
  "kernelspec": {
   "display_name": "Python 3",
   "language": "python",
   "name": "python3"
  },
  "language_info": {
   "codemirror_mode": {
    "name": "ipython",
    "version": 3
   },
   "file_extension": ".py",
   "mimetype": "text/x-python",
   "name": "python",
   "nbconvert_exporter": "python",
   "pygments_lexer": "ipython3",
   "version": "3.7.3"
  }
 },
 "nbformat": 4,
 "nbformat_minor": 2
}

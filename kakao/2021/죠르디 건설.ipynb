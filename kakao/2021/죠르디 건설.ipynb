{
 "cells": [
  {
   "cell_type": "code",
   "execution_count": 111,
   "metadata": {},
   "outputs": [],
   "source": [
    "board = [[0,0,0,0,0,0,0,1],[0,0,0,0,0,0,0,0],[0,0,0,0,0,1,0,0],[0,0,0,0,1,0,0,0],[0,0,0,1,0,0,0,1],[0,0,1,0,0,0,1,0],[0,1,0,0,0,1,0,0],[1,0,0,0,0,0,0,0]]\n",
    "# board = [[0,0,0],[0,0,0],[0,0,0]]\n",
    "# board = [[0,0,1,0],[0,0,0,0],[0,1,0,1],[1,0,0,0]]"
   ]
  },
  {
   "cell_type": "code",
   "execution_count": 159,
   "metadata": {},
   "outputs": [],
   "source": [
    "board = [[0] * 3 for x in range(3)]"
   ]
  },
  {
   "cell_type": "code",
   "execution_count": 160,
   "metadata": {},
   "outputs": [],
   "source": [
    "dx = [0,0,-1,1]\n",
    "dy = [1,-1,0,0]"
   ]
  },
  {
   "cell_type": "code",
   "execution_count": 161,
   "metadata": {},
   "outputs": [],
   "source": [
    "UP = 0\n",
    "DOWN = 1\n",
    "LEFT = 2\n",
    "RIGHT = 3"
   ]
  },
  {
   "cell_type": "code",
   "execution_count": 162,
   "metadata": {},
   "outputs": [],
   "source": [
    "def get_direct(r,nxt_r):\n",
    "    gap_x = r - nxt_r\n",
    "    if gap_x == 0:\n",
    "        return 0\n",
    "    else:\n",
    "        return 1"
   ]
  },
  {
   "cell_type": "code",
   "execution_count": 166,
   "metadata": {},
   "outputs": [],
   "source": [
    "N = len(board)\n",
    "visited = [[0] * N for n in range(N)]\n",
    "board[N -1][N -1] = -1\n",
    "dp = [[5000000000000] * N for n in range(N)]\n",
    "\n",
    "result = [5000000000000]\n",
    "c = [0]\n",
    "def dfs(row, col, prev_d, weight):\n",
    "    if weight >= result[0] or dp[row][col] < weight:\n",
    "        return\n",
    "    \n",
    "    if board[row][col] == -1:\n",
    "        result[0] = min(weight, result[0])\n",
    "        return\n",
    "    \n",
    "    for pos_x, pos_y in zip(dx,dy):\n",
    "        pos_x += row\n",
    "        pos_y += col\n",
    "        \n",
    "        if pos_x < 0 or pos_x >= N or pos_y < 0 or pos_y >= N:\n",
    "            continue\n",
    "        if visited[pos_x][pos_y] == 1 or board[pos_x][pos_y] == 1:\n",
    "            continue\n",
    "    \n",
    "        visited[pos_x][pos_y] = 1\n",
    "\n",
    "        next_d = get_direct(row, pos_x)\n",
    "        \n",
    "        if prev_d != -1 and prev_d != next_d:\n",
    "            weight += 500\n",
    "        weight += 100\n",
    "        if weight <= dp[pos_x][pos_y]:\n",
    "            dp[pos_x][pos_y] = weight\n",
    "            dfs(pos_x, pos_y, next_d, weight)\n",
    "            \n",
    "        visited[pos_x][pos_y] = 0\n",
    "        \n",
    "        if prev_d != -1 and prev_d != next_d:\n",
    "            weight -= 500\n",
    "        weight -= 100"
   ]
  },
  {
   "cell_type": "code",
   "execution_count": 167,
   "metadata": {},
   "outputs": [],
   "source": [
    "dfs(0,0,-1, 0)"
   ]
  },
  {
   "cell_type": "code",
   "execution_count": 168,
   "metadata": {},
   "outputs": [
    {
     "data": {
      "text/plain": [
       "[900]"
      ]
     },
     "execution_count": 168,
     "metadata": {},
     "output_type": "execute_result"
    }
   ],
   "source": [
    "result"
   ]
  },
  {
   "cell_type": "code",
   "execution_count": 173,
   "metadata": {},
   "outputs": [],
   "source": [
    "def get_direct(r,nxt_r):\n",
    "    gap_x = r - nxt_r\n",
    "    if gap_x == 0:\n",
    "        return 0\n",
    "    else:\n",
    "        return 1\n",
    "    \n",
    "def solution(board):\n",
    "    dx = [0,0,-1,1]\n",
    "    dy = [1,-1,0,0]\n",
    "    N = len(board)\n",
    "    visited = [[0] * N for n in range(N)]\n",
    "    board[N -1][N -1] = -1\n",
    "    dp = [[5000000000] * N for n in range(N)]\n",
    "    result = [5000000000]\n",
    "    \n",
    "    def dfs(row, col, prev_d, weight):\n",
    "        if weight >= result[0]:\n",
    "            return\n",
    "\n",
    "        if board[row][col] == -1:\n",
    "            result[0] = min(weight, result[0])\n",
    "            return\n",
    "\n",
    "        for pos_x, pos_y in zip(dx,dy):\n",
    "            pos_x += row\n",
    "            pos_y += col\n",
    "\n",
    "            if pos_x < 0 or pos_x >= N or pos_y < 0 or pos_y >= N:\n",
    "                continue\n",
    "            if visited[pos_x][pos_y] == 1 or board[pos_x][pos_y] == 1:\n",
    "                continue\n",
    "\n",
    "            visited[pos_x][pos_y] = 1\n",
    "\n",
    "            next_d = get_direct(row, pos_x)\n",
    "\n",
    "            if prev_d != -1 and prev_d != next_d:\n",
    "                weight += 500\n",
    "            weight += 100\n",
    "            if weight <= dp[pos_x][pos_y]:\n",
    "                dp[pos_x][pos_y] = weight\n",
    "                dfs(pos_x, pos_y, next_d, weight)\n",
    "\n",
    "            visited[pos_x][pos_y] = 0\n",
    "\n",
    "            if prev_d != -1 and prev_d != next_d:\n",
    "                weight -= 500\n",
    "            weight -= 100\n",
    "    dfs(0,0, -1,0)\n",
    "    return result[0]"
   ]
  },
  {
   "cell_type": "code",
   "execution_count": 174,
   "metadata": {},
   "outputs": [
    {
     "data": {
      "text/plain": [
       "900"
      ]
     },
     "execution_count": 174,
     "metadata": {},
     "output_type": "execute_result"
    }
   ],
   "source": [
    "solution(board)"
   ]
  },
  {
   "cell_type": "code",
   "execution_count": null,
   "metadata": {},
   "outputs": [],
   "source": []
  }
 ],
 "metadata": {
  "kernelspec": {
   "display_name": "Python 3",
   "language": "python",
   "name": "python3"
  },
  "language_info": {
   "codemirror_mode": {
    "name": "ipython",
    "version": 3
   },
   "file_extension": ".py",
   "mimetype": "text/x-python",
   "name": "python",
   "nbconvert_exporter": "python",
   "pygments_lexer": "ipython3",
   "version": "3.7.3"
  }
 },
 "nbformat": 4,
 "nbformat_minor": 2
}

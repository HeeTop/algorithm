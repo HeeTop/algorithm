{
 "cells": [
  {
   "cell_type": "code",
   "execution_count": 44,
   "metadata": {},
   "outputs": [],
   "source": [
    "gems = [\"DIA\", \"RUBY\", \"RUBY\", \"DIA\", \"DIA\", \"EMERALD\", \"SAPPHIRE\", \"DIA\"] \n",
    "gems = ['a','a','a']\n",
    "gems = ['z','y','n','y','b']"
   ]
  },
  {
   "cell_type": "code",
   "execution_count": null,
   "metadata": {},
   "outputs": [],
   "source": []
  },
  {
   "cell_type": "code",
   "execution_count": 45,
   "metadata": {},
   "outputs": [
    {
     "data": {
      "text/plain": [
       "5"
      ]
     },
     "execution_count": 45,
     "metadata": {},
     "output_type": "execute_result"
    }
   ],
   "source": [
    "len(gems)"
   ]
  },
  {
   "cell_type": "code",
   "execution_count": 46,
   "metadata": {},
   "outputs": [],
   "source": [
    "gem_set =set(gems)\n",
    "prev = 0\n",
    "gem_dict = {}\n",
    "N = len(gem_set)\n",
    "result = [0, len(gems)]\n",
    "\n",
    "for idx, gem in enumerate(gems):\n",
    "    if gem in gem_dict:\n",
    "        gem_dict[gem] += 1\n",
    "    else:\n",
    "        gem_dict[gem] = 1\n",
    "    \n",
    "    if len(gem_dict.keys()) == N:\n",
    "        for i in range(prev, idx + 1):\n",
    "            gem_dict[gems[i]] -= 1\n",
    "            if gem_dict[gems[i]] == 0:\n",
    "                del gem_dict[gems[i]]\n",
    "                break\n",
    "        prev = i\n",
    "        if result[1] - result[0] > idx - prev:\n",
    "            result = [prev, idx]\n",
    "        prev += 1\n",
    "        break"
   ]
  },
  {
   "cell_type": "code",
   "execution_count": 47,
   "metadata": {
    "scrolled": true
   },
   "outputs": [
    {
     "data": {
      "text/plain": [
       "{'y': 2, 'n': 1, 'b': 1}"
      ]
     },
     "execution_count": 47,
     "metadata": {},
     "output_type": "execute_result"
    }
   ],
   "source": [
    "gem_dict"
   ]
  },
  {
   "cell_type": "code",
   "execution_count": 48,
   "metadata": {},
   "outputs": [
    {
     "data": {
      "text/plain": [
       "[0, 4]"
      ]
     },
     "execution_count": 48,
     "metadata": {},
     "output_type": "execute_result"
    }
   ],
   "source": [
    "result"
   ]
  },
  {
   "cell_type": "code",
   "execution_count": 49,
   "metadata": {},
   "outputs": [],
   "source": [
    "def solution(gems):\n",
    "    gem_set =set(gems)\n",
    "    prev = 0\n",
    "    gem_dict = {}\n",
    "    N = len(gem_set)\n",
    "    result = [0, len(gems)]\n",
    "\n",
    "    for idx, gem in enumerate(gems):\n",
    "        if gem in gem_dict:\n",
    "            gem_dict[gem] += 1\n",
    "        else:\n",
    "            gem_dict[gem] = 1\n",
    "\n",
    "        if len(gem_dict.keys()) == N:\n",
    "            for i in range(prev, idx + 1):\n",
    "                gem_dict[gems[i]] -= 1\n",
    "                if gem_dict[gems[i]] == 0:\n",
    "                    del gem_dict[gems[i]]\n",
    "                    break\n",
    "            prev = i\n",
    "            if result[1] - result[0] > idx - prev:\n",
    "                result = [prev, idx]\n",
    "            prev += 1\n",
    "            break\n",
    "    result[0] += 1\n",
    "    result[1] += 1\n",
    "    return result"
   ]
  },
  {
   "cell_type": "code",
   "execution_count": 50,
   "metadata": {},
   "outputs": [
    {
     "data": {
      "text/plain": [
       "[1, 5]"
      ]
     },
     "execution_count": 50,
     "metadata": {},
     "output_type": "execute_result"
    }
   ],
   "source": [
    "solution(gems)"
   ]
  },
  {
   "cell_type": "code",
   "execution_count": null,
   "metadata": {},
   "outputs": [],
   "source": []
  }
 ],
 "metadata": {
  "kernelspec": {
   "display_name": "Python 3",
   "language": "python",
   "name": "python3"
  },
  "language_info": {
   "codemirror_mode": {
    "name": "ipython",
    "version": 3
   },
   "file_extension": ".py",
   "mimetype": "text/x-python",
   "name": "python",
   "nbconvert_exporter": "python",
   "pygments_lexer": "ipython3",
   "version": "3.7.4"
  }
 },
 "nbformat": 4,
 "nbformat_minor": 2
}

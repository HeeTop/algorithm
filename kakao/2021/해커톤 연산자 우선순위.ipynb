{
 "cells": [
  {
   "cell_type": "code",
   "execution_count": 3,
   "metadata": {},
   "outputs": [],
   "source": [
    "expression = \"100-200*300-500+20\""
   ]
  },
  {
   "cell_type": "code",
   "execution_count": null,
   "metadata": {},
   "outputs": [],
   "source": [
    "def parser(expression):\n",
    "    result = []\n",
    "    prev = 0\n",
    "    \n",
    "    for idx, e in enumerate(expression):\n",
    "        if e in ['-', '*', '+']:\n",
    "            result.append(int(expression[prev:idx]))\n",
    "            result.append(e)\n",
    "            prev = idx + 1\n",
    "    result.append(int(expression[prev:]))\n",
    "    return result"
   ]
  },
  {
   "cell_type": "code",
   "execution_count": null,
   "metadata": {},
   "outputs": [],
   "source": [
    "expression = parser(expression)"
   ]
  },
  {
   "cell_type": "code",
   "execution_count": null,
   "metadata": {},
   "outputs": [],
   "source": [
    "priority = {'+':1, '-':0, '*':2}\n",
    "\n",
    "def get_postfix(expression, priority):\n",
    "    result = []\n",
    "    stack = []\n",
    "    \n",
    "    for e in expression:\n",
    "        if e in ['+', '-', '*']:\n",
    "            if len(stack) == 0:\n",
    "                stack.append(e)\n",
    "            elif priority[e] < priority[stack[-1]]:\n",
    "                while(stack):\n",
    "                    if priority[e] <= priority[stack[-1]]:\n",
    "                        result.append(stack.pop())\n",
    "                    else:\n",
    "                        break\n",
    "                stack.append(e)\n",
    "            else:\n",
    "                stack.append(e)\n",
    "        else:\n",
    "            result.append(e)\n",
    "    while(stack):\n",
    "        result.append(stack.pop())\n",
    "    return result"
   ]
  },
  {
   "cell_type": "code",
   "execution_count": null,
   "metadata": {
    "scrolled": true
   },
   "outputs": [],
   "source": [
    "expression"
   ]
  },
  {
   "cell_type": "code",
   "execution_count": null,
   "metadata": {},
   "outputs": [],
   "source": [
    "get_postfix(expression, priority)"
   ]
  },
  {
   "cell_type": "code",
   "execution_count": null,
   "metadata": {},
   "outputs": [],
   "source": [
    "def postfix(expression):\n",
    "    stack = []\n",
    "    for element in expression:\n",
    "        if element == '+':\n",
    "            op2 = stack.pop()\n",
    "            op1 = stack.pop()\n",
    "            stack.append(op1 + op2)\n",
    "        elif element == '-':\n",
    "            op2 = stack.pop()\n",
    "            op1 = stack.pop()\n",
    "            stack.append(op1 - op2)\n",
    "        elif element == '*':\n",
    "            op2 = stack.pop()\n",
    "            op1 = stack.pop()\n",
    "            stack.append(op1 * op2)\n",
    "        else: \n",
    "            stack.append(int(element))\n",
    "    return abs(stack[0])\n"
   ]
  },
  {
   "cell_type": "code",
   "execution_count": null,
   "metadata": {},
   "outputs": [],
   "source": [
    "postfix([100, 200, 300, '*', '-', 500, 20, '+', '-'])"
   ]
  },
  {
   "cell_type": "code",
   "execution_count": 29,
   "metadata": {},
   "outputs": [],
   "source": [
    "priorities = ['-+*', '+-*', '-*+', '+*-','*+-', '*-+']\n",
    "priorities = [{x:y for x,y in zip(p, range(3))} for p in priorities]"
   ]
  },
  {
   "cell_type": "code",
   "execution_count": 30,
   "metadata": {},
   "outputs": [
    {
     "data": {
      "text/plain": [
       "[{'-': 0, '+': 1, '*': 2},\n",
       " {'+': 0, '-': 1, '*': 2},\n",
       " {'-': 0, '*': 1, '+': 2},\n",
       " {'+': 0, '*': 1, '-': 2},\n",
       " {'*': 0, '+': 1, '-': 2},\n",
       " {'*': 0, '-': 1, '+': 2}]"
      ]
     },
     "execution_count": 30,
     "metadata": {},
     "output_type": "execute_result"
    }
   ],
   "source": [
    "priorities"
   ]
  },
  {
   "cell_type": "code",
   "execution_count": 39,
   "metadata": {},
   "outputs": [],
   "source": [
    "def parser(expression):\n",
    "    result = []\n",
    "    prev = 0\n",
    "    \n",
    "    for idx, e in enumerate(expression):\n",
    "        if e in ['-', '*', '+']:\n",
    "            result.append(int(expression[prev:idx]))\n",
    "            result.append(e)\n",
    "            prev = idx + 1\n",
    "    result.append(int(expression[prev:]))\n",
    "    \n",
    "    return result\n",
    "\n",
    "def get_postfix(expression, priority):\n",
    "    result = []\n",
    "    stack = []\n",
    "    \n",
    "    for e in expression:\n",
    "        if e in ['+', '-', '*']:\n",
    "            while len(stack) != 0 and priority[stack[-1]] >= priority[e]:\n",
    "                result.append(stack.pop())\n",
    "            stack.append(e)\n",
    "        else:\n",
    "            result.append(e)\n",
    "            \n",
    "    while(stack):\n",
    "        result.append(stack.pop())\n",
    "    return result\n",
    "\n",
    "def postfix(expression):\n",
    "    stack = []\n",
    "    for element in expression:\n",
    "        if element == '+':\n",
    "            op2 = stack.pop()\n",
    "            op1 = stack.pop()\n",
    "            stack.append(op1 + op2)\n",
    "        elif element == '-':\n",
    "            op2 = stack.pop()\n",
    "            op1 = stack.pop()\n",
    "            stack.append(op1 - op2)\n",
    "        elif element == '*':\n",
    "            op2 = stack.pop()\n",
    "            op1 = stack.pop()\n",
    "            stack.append(op1 * op2)\n",
    "        else: \n",
    "            stack.append(element)\n",
    "    return abs(stack[0])\n",
    "\n",
    "\n",
    "def solution(expression):\n",
    "    priorities = ['-+*', '+-*', '-*+', '+*-','*+-', '*-+']\n",
    "    priorities = [{x:y for x,y in zip(p, range(3))} for p in priorities]\n",
    "    result = 0\n",
    "    expression = parser(expression)\n",
    "    \n",
    "    for priority in priorities:\n",
    "        result = max(postfix(get_postfix(expression, priority)), result)\n",
    "    return result"
   ]
  },
  {
   "cell_type": "code",
   "execution_count": 40,
   "metadata": {},
   "outputs": [
    {
     "data": {
      "text/plain": [
       "60420"
      ]
     },
     "execution_count": 40,
     "metadata": {},
     "output_type": "execute_result"
    }
   ],
   "source": [
    "solution(expression)"
   ]
  },
  {
   "cell_type": "code",
   "execution_count": null,
   "metadata": {},
   "outputs": [],
   "source": []
  },
  {
   "cell_type": "code",
   "execution_count": null,
   "metadata": {},
   "outputs": [],
   "source": []
  }
 ],
 "metadata": {
  "kernelspec": {
   "display_name": "Python 3",
   "language": "python",
   "name": "python3"
  },
  "language_info": {
   "codemirror_mode": {
    "name": "ipython",
    "version": 3
   },
   "file_extension": ".py",
   "mimetype": "text/x-python",
   "name": "python",
   "nbconvert_exporter": "python",
   "pygments_lexer": "ipython3",
   "version": "3.7.3"
  }
 },
 "nbformat": 4,
 "nbformat_minor": 2
}

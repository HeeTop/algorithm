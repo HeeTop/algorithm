{
 "cells": [
  {
   "cell_type": "code",
   "execution_count": 24,
   "metadata": {},
   "outputs": [],
   "source": [
    "numbers = '123'"
   ]
  },
  {
   "cell_type": "code",
   "execution_count": 25,
   "metadata": {},
   "outputs": [
    {
     "data": {
      "text/plain": [
       "'123'"
      ]
     },
     "execution_count": 25,
     "metadata": {},
     "output_type": "execute_result"
    }
   ],
   "source": [
    "numbers"
   ]
  },
  {
   "cell_type": "code",
   "execution_count": 26,
   "metadata": {},
   "outputs": [],
   "source": [
    "numbers = list(numbers)"
   ]
  },
  {
   "cell_type": "code",
   "execution_count": 27,
   "metadata": {},
   "outputs": [
    {
     "data": {
      "text/plain": [
       "['1', '2', '3']"
      ]
     },
     "execution_count": 27,
     "metadata": {},
     "output_type": "execute_result"
    }
   ],
   "source": [
    "numbers"
   ]
  },
  {
   "cell_type": "code",
   "execution_count": 48,
   "metadata": {},
   "outputs": [],
   "source": [
    "N = len(numbers)\n",
    "visited = [0] * N\n",
    "\n",
    "def dfs(picked_num, depth):\n",
    "    if depth > N - 1:\n",
    "#         print(picked_num)\n",
    "        return\n",
    "    \n",
    "    for index, num in enumerate(numbers):\n",
    "        if visited[index] == 1:\n",
    "            continue\n",
    "            \n",
    "        picked_num.append(num)\n",
    "        visited[index] = 1\n",
    "#         로직 소수 체크\n",
    "        print(picked_num)\n",
    "        dfs(picked_num, depth + 1)\n",
    "        visited[index] = 0\n",
    "        picked_num.pop()\n",
    "        "
   ]
  },
  {
   "cell_type": "code",
   "execution_count": 49,
   "metadata": {
    "scrolled": true
   },
   "outputs": [
    {
     "name": "stdout",
     "output_type": "stream",
     "text": [
      "['1']\n",
      "['1', '2']\n",
      "['1', '2', '3']\n",
      "['1', '3']\n",
      "['1', '3', '2']\n",
      "['2']\n",
      "['2', '1']\n",
      "['2', '1', '3']\n",
      "['2', '3']\n",
      "['2', '3', '1']\n",
      "['3']\n",
      "['3', '1']\n",
      "['3', '1', '2']\n",
      "['3', '2']\n",
      "['3', '2', '1']\n"
     ]
    }
   ],
   "source": [
    "dfs([], 0)"
   ]
  },
  {
   "cell_type": "code",
   "execution_count": 52,
   "metadata": {},
   "outputs": [],
   "source": [
    "numbers = '123'\n",
    "numbers = list(numbers)\n",
    "picked_num = []\n",
    "\n",
    "def dfs(index):\n",
    "    if index > len(numbers) - 1:\n",
    "        return\n",
    "    picked_num.append(numbers[index])\n",
    "    \n",
    "    print(picked_num)\n",
    "    dfs(index+1)\n",
    "    picked_num.pop()"
   ]
  },
  {
   "cell_type": "code",
   "execution_count": 58,
   "metadata": {
    "scrolled": true
   },
   "outputs": [
    {
     "name": "stdout",
     "output_type": "stream",
     "text": [
      "['1']\n",
      "['1', '2']\n",
      "['1', '2', '3']\n",
      "['2']\n",
      "['2', '3']\n",
      "['3']\n"
     ]
    }
   ],
   "source": [
    "for index in range(len(numbers)):\n",
    "    dfs(index)"
   ]
  },
  {
   "cell_type": "code",
   "execution_count": 62,
   "metadata": {},
   "outputs": [
    {
     "name": "stdout",
     "output_type": "stream",
     "text": [
      "['3']\n"
     ]
    }
   ],
   "source": [
    "dfs(2)"
   ]
  },
  {
   "cell_type": "code",
   "execution_count": 73,
   "metadata": {},
   "outputs": [],
   "source": [
    "numbers = '123'\n",
    "numbers = list(numbers)\n",
    "\n",
    "def dfs(depth):\n",
    "    picked_num = []\n",
    "    \n",
    "    if index > len(numbers) - 1:\n",
    "        return\n",
    "    \n",
    "    for num in numbers[depth:]:\n",
    "        picked_num.append(num)\n",
    "        print(picked_num)"
   ]
  },
  {
   "cell_type": "code",
   "execution_count": null,
   "metadata": {},
   "outputs": [],
   "source": []
  }
 ],
 "metadata": {
  "kernelspec": {
   "display_name": "Python 3",
   "language": "python",
   "name": "python3"
  },
  "language_info": {
   "codemirror_mode": {
    "name": "ipython",
    "version": 3
   },
   "file_extension": ".py",
   "mimetype": "text/x-python",
   "name": "python",
   "nbconvert_exporter": "python",
   "pygments_lexer": "ipython3",
   "version": "3.7.3"
  }
 },
 "nbformat": 4,
 "nbformat_minor": 2
}

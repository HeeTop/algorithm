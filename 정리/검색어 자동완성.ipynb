{
 "cells": [
  {
   "cell_type": "code",
   "execution_count": 291,
   "metadata": {},
   "outputs": [
    {
     "name": "stdout",
     "output_type": "stream",
     "text": [
      "search heetop: True\n",
      "start with 'hee': ['heetak', 'heetop']\n",
      "delete heetak: True\n",
      "start with 'hee': ['heetop']\n"
     ]
    }
   ],
   "source": [
    "class Trie:\n",
    "\n",
    "    def __init__(self):\n",
    "        \"\"\"\n",
    "        Initialize your data structure here.\n",
    "        \"\"\"\n",
    "        self.trie = {}\n",
    "            \n",
    "    def insert(self, word: str) -> None:\n",
    "        \"\"\"\n",
    "        Inserts a word into the trie.\n",
    "        \"\"\"\n",
    "        trie = self.trie\n",
    "        \n",
    "        for char in word:\n",
    "            if char not in trie:\n",
    "                trie[char] = {}\n",
    "            trie = trie[char]\n",
    "        trie['_end_'] = word\n",
    "  \n",
    "    def insertAll(self, words: list) -> None:\n",
    "        \"\"\"\n",
    "        Insets words into the trie\n",
    "        \"\"\"\n",
    "        for word in words:\n",
    "            self.insert(word)\n",
    "            \n",
    "    def search(self, word: str) -> bool:\n",
    "        \"\"\"\n",
    "        Returns if the word is in the trie.\n",
    "        \"\"\"\n",
    "        trie = self.trie\n",
    "        \n",
    "        for char in word:\n",
    "            if char in trie:\n",
    "                trie = trie[char]\n",
    "            else:\n",
    "                return False\n",
    "            \n",
    "        if '_end_' in trie:\n",
    "            return True\n",
    "        return False\n",
    "\n",
    "    def findWords(self, words: list, trie: dict) -> None:\n",
    "        \"\"\"\n",
    "        Find inserted words from trie\n",
    "        \"\"\"\n",
    "        for char in trie:\n",
    "            if '_end_' in trie:\n",
    "                words.append(trie['_end_'])\n",
    "                continue\n",
    "            self.findWords(words, trie[char])\n",
    "        \n",
    "    def startsWith(self, prefix: str) -> list:\n",
    "        \"\"\"\n",
    "        Returns string if there is any word in the trie that starts with the given prefix.\n",
    "        \"\"\"\n",
    "        trie = self.trie\n",
    "        \n",
    "        for char in prefix:\n",
    "            if char in trie:\n",
    "                trie = trie[char]\n",
    "            else:\n",
    "                return []\n",
    "        \n",
    "        words = []\n",
    "        self.findWords(words, trie)\n",
    "        words.sort()\n",
    "        \n",
    "        return words\n",
    "    \n",
    "    def delete(self, word: str) -> list:\n",
    "        \"\"\"\n",
    "        Delete word in trie\n",
    "        \"\"\"\n",
    "        trie = self.trie\n",
    "        \n",
    "        for char in word:\n",
    "            if char in trie:\n",
    "                trie = trie[char]\n",
    "            else:\n",
    "                return False\n",
    "            \n",
    "        if '_end_' in trie:\n",
    "            del trie['_end_']\n",
    "            return True\n",
    "        \n",
    "        return False\n",
    "    \n",
    "if __name__ == \"__main__\":\n",
    "    obj = Trie()\n",
    "    obj.insert(\"heetak\")\n",
    "    obj.insert(\"heetop\")\n",
    "    print(\"search heetop:\",obj.search(\"heetop\"))\n",
    "    print(\"start with 'hee':\",obj.startsWith(\"hee\"))\n",
    "    print(\"delete heetak:\", obj.delete(\"heetak\"))\n",
    "    print(\"start with 'hee':\",obj.startsWith(\"hee\"))\n",
    "    \n",
    "# Your Trie object will be instantiated and called as such:\n",
    "# obj = Trie()\n",
    "# obj.insert(word)\n",
    "# param_2 = obj.search(word)\n",
    "# param_3 = obj.startsWith(prefix)"
   ]
  },
  {
   "cell_type": "code",
   "execution_count": 292,
   "metadata": {},
   "outputs": [],
   "source": [
    "obj = Trie()"
   ]
  },
  {
   "cell_type": "code",
   "execution_count": 293,
   "metadata": {},
   "outputs": [],
   "source": [
    "titles = \"신의 탑,인생존망,윈드브레이커,소녀의 세계,백수세끼,장씨세가 호위무사,칼가는 소녀,악취,평범한 8반,유일무이 로맨스,앵무살수,야자괴담,사장님을 잠금해제,데드라이프,니편내편,귀전구담,와이키키 뱀파이어,링크보이,요리GO,히어로메이커,교환일기,같은도장,첫사랑입니다만,백호랑,닥터 하운드,결혼생활 그림일기,노력의 결과,일진이 사나워,아는 여자애,지옥,이것도 친구라고,삶이 우리를 속일지라도,도플갱어의 게임,결백한 사람은 없다,꿈의 기업,위대한 방옥숙,피플,정보전사 202,요괴대전,뷰티풀 군바리,지구멸망버튼,하슬라,여기 악마가 있어,중독연구소,인간의 온도,사소한 냐냐,모락모락 왕세자님,블루투스,물레,뱀파이어의 꽃\"\n",
    "titles = titles.split(',')"
   ]
  },
  {
   "cell_type": "code",
   "execution_count": 294,
   "metadata": {},
   "outputs": [],
   "source": [
    "obj.insertAll(titles)"
   ]
  },
  {
   "cell_type": "code",
   "execution_count": 295,
   "metadata": {},
   "outputs": [
    {
     "data": {
      "text/plain": [
       "['결백한 사람은 없다', '결혼생활 그림일기']"
      ]
     },
     "execution_count": 295,
     "metadata": {},
     "output_type": "execute_result"
    }
   ],
   "source": [
    "obj.startsWith(\"결\")"
   ]
  },
  {
   "cell_type": "code",
   "execution_count": 296,
   "metadata": {},
   "outputs": [],
   "source": [
    "obj.insert(\"갓 오브 하이스쿨\")"
   ]
  },
  {
   "cell_type": "code",
   "execution_count": 297,
   "metadata": {},
   "outputs": [
    {
     "data": {
      "text/plain": [
       "True"
      ]
     },
     "execution_count": 297,
     "metadata": {},
     "output_type": "execute_result"
    }
   ],
   "source": [
    "obj.delete(\"윈드브레이커\")"
   ]
  },
  {
   "cell_type": "code",
   "execution_count": 298,
   "metadata": {
    "scrolled": false
   },
   "outputs": [
    {
     "data": {
      "text/plain": [
       "['갓 오브 하이스쿨',\n",
       " '같은도장',\n",
       " '결백한 사람은 없다',\n",
       " '결혼생활 그림일기',\n",
       " '교환일기',\n",
       " '귀전구담',\n",
       " '꿈의 기업',\n",
       " '노력의 결과',\n",
       " '니편내편',\n",
       " '닥터 하운드',\n",
       " '데드라이프',\n",
       " '도플갱어의 게임',\n",
       " '링크보이',\n",
       " '모락모락 왕세자님',\n",
       " '물레',\n",
       " '백수세끼',\n",
       " '백호랑',\n",
       " '뱀파이어의 꽃',\n",
       " '뷰티풀 군바리',\n",
       " '블루투스',\n",
       " '사소한 냐냐',\n",
       " '사장님을 잠금해제',\n",
       " '삶이 우리를 속일지라도',\n",
       " '소녀의 세계',\n",
       " '신의 탑',\n",
       " '아는 여자애',\n",
       " '악취',\n",
       " '앵무살수',\n",
       " '야자괴담',\n",
       " '여기 악마가 있어',\n",
       " '와이키키 뱀파이어',\n",
       " '요괴대전',\n",
       " '요리GO',\n",
       " '위대한 방옥숙',\n",
       " '유일무이 로맨스',\n",
       " '이것도 친구라고',\n",
       " '인간의 온도',\n",
       " '인생존망',\n",
       " '일진이 사나워',\n",
       " '장씨세가 호위무사',\n",
       " '정보전사 202',\n",
       " '중독연구소',\n",
       " '지구멸망버튼',\n",
       " '지옥',\n",
       " '첫사랑입니다만',\n",
       " '칼가는 소녀',\n",
       " '평범한 8반',\n",
       " '피플',\n",
       " '하슬라',\n",
       " '히어로메이커']"
      ]
     },
     "execution_count": 298,
     "metadata": {},
     "output_type": "execute_result"
    }
   ],
   "source": [
    "obj.startsWith(\"\")"
   ]
  },
  {
   "cell_type": "code",
   "execution_count": null,
   "metadata": {},
   "outputs": [],
   "source": []
  }
 ],
 "metadata": {
  "kernelspec": {
   "display_name": "Python 3",
   "language": "python",
   "name": "python3"
  },
  "language_info": {
   "codemirror_mode": {
    "name": "ipython",
    "version": 3
   },
   "file_extension": ".py",
   "mimetype": "text/x-python",
   "name": "python",
   "nbconvert_exporter": "python",
   "pygments_lexer": "ipython3",
   "version": "3.7.3"
  }
 },
 "nbformat": 4,
 "nbformat_minor": 2
}

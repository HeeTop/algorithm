{
 "cells": [
  {
   "cell_type": "code",
   "execution_count": 2,
   "metadata": {},
   "outputs": [],
   "source": [
    "import datetime\n",
    "\n",
    "def datetime_decorator(func):\n",
    "    def decorated():\n",
    "        print(datetime.datetime.now())\n",
    "        func()\n",
    "        print(datetime.datetime.now())\n",
    "        \n",
    "    return decorated\n"
   ]
  },
  {
   "cell_type": "code",
   "execution_count": 5,
   "metadata": {},
   "outputs": [],
   "source": [
    "@datetime_decorator\n",
    "def test():\n",
    "    print(\"Test\")"
   ]
  },
  {
   "cell_type": "code",
   "execution_count": 6,
   "metadata": {},
   "outputs": [
    {
     "name": "stdout",
     "output_type": "stream",
     "text": [
      "2020-05-18 23:50:13.275843\n",
      "Test\n",
      "2020-05-18 23:50:13.276090\n"
     ]
    }
   ],
   "source": [
    "test()"
   ]
  },
  {
   "cell_type": "code",
   "execution_count": 7,
   "metadata": {},
   "outputs": [
    {
     "name": "stdout",
     "output_type": "stream",
     "text": [
      "Inside decorator\n",
      "Inside inner function\n",
      "I like geeksforgeeks\n",
      "Inside actual function\n"
     ]
    }
   ],
   "source": [
    "# Python code to illustrate  \n",
    "# Decorators with parameters in Python  \n",
    "  \n",
    "def decorator(*args, **kwargs): \n",
    "    print(\"Inside decorator\") \n",
    "      \n",
    "    def inner(func): \n",
    "          \n",
    "        # code functionality here \n",
    "        print(\"Inside inner function\") \n",
    "        print(\"I like\", kwargs['like'])  \n",
    "          \n",
    "        func() \n",
    "          \n",
    "    # reurning inner function     \n",
    "    return inner \n",
    "  \n",
    "@decorator(like = \"geeksforgeeks\") \n",
    "def my_func(): \n",
    "    print(\"Inside actual function\") "
   ]
  },
  {
   "cell_type": "code",
   "execution_count": 39,
   "metadata": {
    "scrolled": true
   },
   "outputs": [],
   "source": [
    "def decorator(*args, **kwargs):\n",
    "    print(\"inside decorator\")\n",
    "    \n",
    "    def inner(func):\n",
    "        \n",
    "        print(\"inside inner func\")\n",
    "        print(\"I like\", kwargs['like'])\n",
    "        \n",
    "        func()\n",
    "    return inner"
   ]
  },
  {
   "cell_type": "code",
   "execution_count": 40,
   "metadata": {},
   "outputs": [
    {
     "name": "stdout",
     "output_type": "stream",
     "text": [
      "inside decorator\n",
      "inside inner func\n",
      "I like heetak\n",
      "inside actual func\n"
     ]
    }
   ],
   "source": [
    "@decorator(like = \"heetak\")\n",
    "def my_func():\n",
    "    print(\"inside actual func\")\n",
    "    return \"test\""
   ]
  },
  {
   "cell_type": "code",
   "execution_count": 41,
   "metadata": {},
   "outputs": [
    {
     "name": "stdout",
     "output_type": "stream",
     "text": [
      "Inside decorator\n"
     ]
    }
   ],
   "source": [
    "def decorator_fun(func):  \n",
    "    print(\"Inside decorator\")  \n",
    "    a = 10\n",
    "    def inner(*args, **kwargs):\n",
    "        print(\"Inside inner function\")  \n",
    "        print(\"Decorated the function\")  \n",
    "        print(a)\n",
    "        func(*args, **kwargs) \n",
    "\n",
    "    return inner  \n",
    "\n",
    "@decorator_fun\n",
    "def func_to(a):  \n",
    "    print(\"Inside actual function\")  \n",
    "    print(a)\n"
   ]
  },
  {
   "cell_type": "code",
   "execution_count": 42,
   "metadata": {},
   "outputs": [
    {
     "name": "stdout",
     "output_type": "stream",
     "text": [
      "Inside inner function\n",
      "Decorated the function\n",
      "10\n",
      "Inside actual function\n",
      "1\n"
     ]
    }
   ],
   "source": [
    "func_to(1)"
   ]
  },
  {
   "cell_type": "code",
   "execution_count": null,
   "metadata": {},
   "outputs": [],
   "source": []
  },
  {
   "cell_type": "code",
   "execution_count": null,
   "metadata": {},
   "outputs": [],
   "source": []
  }
 ],
 "metadata": {
  "kernelspec": {
   "display_name": "Python 3",
   "language": "python",
   "name": "python3"
  },
  "language_info": {
   "codemirror_mode": {
    "name": "ipython",
    "version": 3
   },
   "file_extension": ".py",
   "mimetype": "text/x-python",
   "name": "python",
   "nbconvert_exporter": "python",
   "pygments_lexer": "ipython3",
   "version": "3.7.3"
  }
 },
 "nbformat": 4,
 "nbformat_minor": 2
}

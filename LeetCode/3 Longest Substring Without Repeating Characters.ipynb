{
 "cells": [
  {
   "cell_type": "markdown",
   "metadata": {},
   "source": [
    "Given a string, find the length of the longest substring without repeating characters.\n",
    "\n",
    "Example 1:\n",
    "\n",
    "Input: \"abcabcbb\"\n",
    "Output: 3 \n",
    "Explanation: The answer is \"abc\", with the length of 3. \n",
    "Example 2:\n",
    "\n",
    "Input: \"bbbbb\"\n",
    "Output: 1\n",
    "Explanation: The answer is \"b\", with the length of 1.\n",
    "Example 3:\n",
    "\n",
    "Input: \"pwwkew\"\n",
    "Output: 3\n",
    "Explanation: The answer is \"wke\", with the length of 3. \n",
    "             Note that the answer must be a substring, \"pwke\" is a subsequence and not a substring."
   ]
  },
  {
   "cell_type": "code",
   "execution_count": null,
   "metadata": {},
   "outputs": [],
   "source": [
    "class Solution:\n",
    "    def lengthOfLongestSubstring(self, s: str) -> int:\n",
    "        result = 0\n",
    "        alpha_dict = {x: -1 for x in list(\"abcdefghijklmnopqrstuvwxyz\")}\n",
    "        substring = 0\n",
    "        sub_start = 0\n",
    "\n",
    "        for index, char in enumerate(s):\n",
    "            if alpha_dict[char] == -1:\n",
    "                substring += 1\n",
    "                alpha_dict[char] = index\n",
    "            else:\n",
    "                substring = index - alpha_dict[char]\n",
    "\n",
    "                for k in s[sub_start:alpha_dict[char]]:\n",
    "                    alpha_dict[k] = -1\n",
    "                sub_start = alpha_dict[char] + 1\n",
    "\n",
    "                alpha_dict[char] = index\n",
    "            result = max(result, substring)\n",
    "        return result"
   ]
  },
  {
   "cell_type": "code",
   "execution_count": 82,
   "metadata": {},
   "outputs": [],
   "source": [
    "s = \"pwwkew\""
   ]
  },
  {
   "cell_type": "code",
   "execution_count": 78,
   "metadata": {
    "scrolled": true
   },
   "outputs": [],
   "source": [
    "result = 0\n",
    "alpha_dict = {x: -1 for x in list(\"abcdefghijklmnopqrstuvwxyz\")}\n",
    "substring = 0\n",
    "sub_start = 0\n",
    "\n",
    "for index, char in enumerate(s):\n",
    "    \n",
    "    if alpha_dict[char] == -1:\n",
    "        substring += 1\n",
    "        alpha_dict[char] = index\n",
    "    else:\n",
    "        substring = index - alpha_dict[char]\n",
    "\n",
    "        for k in s[sub_start:alpha_dict[char]]:\n",
    "            alpha_dict[k] = -1\n",
    "        sub_start = alpha_dict[char] + 1\n",
    "\n",
    "        alpha_dict[char] = index\n",
    "    result = max(result, substring)"
   ]
  },
  {
   "cell_type": "code",
   "execution_count": 79,
   "metadata": {},
   "outputs": [
    {
     "data": {
      "text/plain": [
       "3"
      ]
     },
     "execution_count": 79,
     "metadata": {},
     "output_type": "execute_result"
    }
   ],
   "source": [
    "result"
   ]
  },
  {
   "cell_type": "code",
   "execution_count": 89,
   "metadata": {},
   "outputs": [],
   "source": [
    "result = 0\n",
    "alpha_dp = [-1] * 1000\n",
    "substring = 0\n",
    "sub_start = 0\n",
    "\n",
    "for index, char in enumerate(s):\n",
    "    if alpha_dp[ord(char)] == -1:\n",
    "        substring += 1\n",
    "        alpha_dp[ord(char)] = index\n",
    "    else:\n",
    "        \n",
    "        substring = index - alpha_dp[ord(char)]\n",
    "        for k in s[sub_start:alpha_dp[ord(char)]]:\n",
    "            alpha_dp[ord(k)] = -1\n",
    "        sub_start = alpha_dp[ord(char)] + 1\n",
    "        \n",
    "        alpha_dp[ord(char)] = index\n",
    "    result = max(result, substring)"
   ]
  },
  {
   "cell_type": "code",
   "execution_count": 94,
   "metadata": {},
   "outputs": [],
   "source": [
    "result\n",
    "s = \"tmmzuxt\""
   ]
  },
  {
   "cell_type": "code",
   "execution_count": 95,
   "metadata": {},
   "outputs": [],
   "source": [
    "result = 0\n",
    "alpha_dict = {}\n",
    "substring = 0\n",
    "sub_start = 0\n",
    "\n",
    "for index, char in enumerate(s):\n",
    "    if char in alpha_dict:\n",
    "        if sub_start <= alpha_dict[char]:\n",
    "            substring = index - alpha_dict[char]\n",
    "            sub_start = alpha_dict[char] + 1\n",
    "        else:\n",
    "            substring += 1\n",
    "    else:\n",
    "        substring += 1\n",
    "    alpha_dict[char] = index\n",
    "    result = max(result, substring)"
   ]
  },
  {
   "cell_type": "code",
   "execution_count": 96,
   "metadata": {},
   "outputs": [
    {
     "data": {
      "text/plain": [
       "5"
      ]
     },
     "execution_count": 96,
     "metadata": {},
     "output_type": "execute_result"
    }
   ],
   "source": [
    "result"
   ]
  },
  {
   "cell_type": "code",
   "execution_count": 85,
   "metadata": {},
   "outputs": [],
   "source": [
    "class Solution:\n",
    "    def lengthOfLongestSubstring(self, s: str) -> int:\n",
    "        result = 0\n",
    "        alpha_dict = {}\n",
    "        substring = 0\n",
    "        sub_start = 0\n",
    "\n",
    "        for index, char in enumerate(s):\n",
    "            if char in alpha_dict:\n",
    "                if sub_start <= alpha_dict[char]:\n",
    "                    substring = index - alpha_dict[char]\n",
    "                    sub_start = alpha_dict[char] + 1\n",
    "                else:\n",
    "                    substring += 1\n",
    "            else:\n",
    "                substring += 1\n",
    "            alpha_dict[char] = index\n",
    "            result = max(result, substring)\n",
    "        return result\n"
   ]
  },
  {
   "cell_type": "code",
   "execution_count": null,
   "metadata": {},
   "outputs": [],
   "source": []
  },
  {
   "cell_type": "code",
   "execution_count": null,
   "metadata": {},
   "outputs": [],
   "source": []
  }
 ],
 "metadata": {
  "kernelspec": {
   "display_name": "Python 3",
   "language": "python",
   "name": "python3"
  },
  "language_info": {
   "codemirror_mode": {
    "name": "ipython",
    "version": 3
   },
   "file_extension": ".py",
   "mimetype": "text/x-python",
   "name": "python",
   "nbconvert_exporter": "python",
   "pygments_lexer": "ipython3",
   "version": "3.7.3"
  }
 },
 "nbformat": 4,
 "nbformat_minor": 2
}

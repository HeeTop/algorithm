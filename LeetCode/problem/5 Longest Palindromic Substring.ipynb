{
 "cells": [
  {
   "cell_type": "markdown",
   "metadata": {},
   "source": [
    "Given a string s, find the longest palindromic substring in s. You may assume that the maximum length of s is 1000.\n",
    "\n",
    "Example 1:\n",
    "\n",
    "Input: \"babad\"\n",
    "Output: \"bab\"\n",
    "Note: \"aba\" is also a valid answer.\n",
    "Example 2:\n",
    "\n",
    "Input: \"cbbd\"\n",
    "Output: \"bb\""
   ]
  },
  {
   "cell_type": "code",
   "execution_count": 46,
   "metadata": {},
   "outputs": [],
   "source": [
    "def expand_around_center(left, right, s):\n",
    "    while left >= 0 and right <= len(s) - 1 and s[left] == s[right]:\n",
    "        left -= 1\n",
    "        right += 1\n",
    "\n",
    "    return left + 1, right\n",
    "\n",
    "class Solution:\n",
    "    def longestPalindrome(self, s: str) -> str:\n",
    "        result = 0\n",
    "        result_s = \"\"\n",
    "        for i in range(len(s)):\n",
    "            left1, right1 = expand_around_center(i, i, s)\n",
    "            left2, right2 = expand_around_center(i, i + 1, s)\n",
    "            \n",
    "            if right1 - left1 > right2 - left2:\n",
    "                right = right1\n",
    "                left = left1\n",
    "            else:\n",
    "                right = right2\n",
    "                left = left2\n",
    "                \n",
    "            if right - left > result:\n",
    "                result = right - left\n",
    "                result_s = s[left:right]\n",
    "        return result_s"
   ]
  },
  {
   "cell_type": "code",
   "execution_count": 41,
   "metadata": {},
   "outputs": [],
   "source": [
    "s = \"babad\"\n",
    "s = \"babad\""
   ]
  },
  {
   "cell_type": "code",
   "execution_count": 42,
   "metadata": {},
   "outputs": [],
   "source": [
    "def expand_around_center(left, right, s):\n",
    "    while left >= 0 and right <= len(s) - 1:\n",
    "        if s[left] == s[right]:\n",
    "            left -= 1\n",
    "            right += 1\n",
    "        else:\n",
    "            return left + 1, right\n",
    "\n",
    "    return left + 1, right"
   ]
  },
  {
   "cell_type": "code",
   "execution_count": 18,
   "metadata": {},
   "outputs": [
    {
     "data": {
      "text/plain": [
       "(3, 3)"
      ]
     },
     "execution_count": 18,
     "metadata": {},
     "output_type": "execute_result"
    }
   ],
   "source": [
    "expand_around_center(2,3,s)"
   ]
  },
  {
   "cell_type": "code",
   "execution_count": null,
   "metadata": {},
   "outputs": [],
   "source": []
  },
  {
   "cell_type": "code",
   "execution_count": 43,
   "metadata": {},
   "outputs": [],
   "source": [
    "result = 0\n",
    "result_s = \"\"\n",
    "for i in range(len(s)):\n",
    "    left, right = expand_around_center(i, i, s)\n",
    "    if right - left > result:\n",
    "        result = right - left\n",
    "        result_s = s[left:right]\n",
    "    left, right = expand_around_center(i, i + 1, s)\n",
    "    if right - left > result:\n",
    "        result = right - left\n",
    "        result_s = s[left:right]"
   ]
  },
  {
   "cell_type": "code",
   "execution_count": 44,
   "metadata": {},
   "outputs": [
    {
     "data": {
      "text/plain": [
       "'bab'"
      ]
     },
     "execution_count": 44,
     "metadata": {},
     "output_type": "execute_result"
    }
   ],
   "source": [
    "result_s"
   ]
  },
  {
   "cell_type": "code",
   "execution_count": 45,
   "metadata": {},
   "outputs": [
    {
     "data": {
      "text/plain": [
       "3"
      ]
     },
     "execution_count": 45,
     "metadata": {},
     "output_type": "execute_result"
    }
   ],
   "source": [
    "result"
   ]
  },
  {
   "cell_type": "code",
   "execution_count": 34,
   "metadata": {},
   "outputs": [
    {
     "data": {
      "text/plain": [
       "(7, 7)"
      ]
     },
     "execution_count": 34,
     "metadata": {},
     "output_type": "execute_result"
    }
   ],
   "source": [
    "expand_around_center(len(s) -1, len(s), s)"
   ]
  }
 ],
 "metadata": {
  "kernelspec": {
   "display_name": "Python 3",
   "language": "python",
   "name": "python3"
  },
  "language_info": {
   "codemirror_mode": {
    "name": "ipython",
    "version": 3
   },
   "file_extension": ".py",
   "mimetype": "text/x-python",
   "name": "python",
   "nbconvert_exporter": "python",
   "pygments_lexer": "ipython3",
   "version": "3.7.3"
  }
 },
 "nbformat": 4,
 "nbformat_minor": 2
}

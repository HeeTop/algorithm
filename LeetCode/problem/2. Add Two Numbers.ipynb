{
 "cells": [
  {
   "cell_type": "markdown",
   "metadata": {},
   "source": [
    "You are given two non-empty linked lists representing two non-negative integers. The digits are stored in reverse order and each of their nodes contain a single digit. Add the two numbers and return it as a linked list.\n",
    "\n",
    "You may assume the two numbers do not contain any leading zero, except the number 0 itself.\n",
    "\n",
    "Example:\n",
    "\n",
    "``` Input: (2 -> 4 -> 3) + (5 -> 6 -> 4)\n",
    "Output: 7 -> 0 -> 8\n",
    "Explanation: 342 + 465 = 807. ```"
   ]
  },
  {
   "cell_type": "code",
   "execution_count": 21,
   "metadata": {},
   "outputs": [],
   "source": [
    "# Definition for singly-linked list.\n",
    "\n",
    "class Solution:\n",
    "    def addTwoNumbers(self, l1: ListNode, l2: ListNode) -> ListNode:\n",
    "        node1 = l1\n",
    "        node2 = l2\n",
    "        \n",
    "        node_int1 = 0\n",
    "        node_int2 = 0\n",
    "        i = 0\n",
    "        \n",
    "        while node1 or node2:\n",
    "            if node1 != None:\n",
    "                node_int1 += node1.val * (10 ** i)\n",
    "                node1 = node1.next\n",
    "                \n",
    "            if node2 != None:\n",
    "                node_int2 += node2.val * (10 ** i)\n",
    "                node2 = node2.next\n",
    "            i += 1\n",
    "            \n",
    "        node_list = list(str(node_int1 + node_int2))\n",
    "        cur_node = ListNode(node_list[-1])\n",
    "        head = cur_node\n",
    "        \n",
    "        for i in range(len(node_list) - 2, -1, -1):\n",
    "            next_node = ListNode(node_list[i])\n",
    "            cur_node.next = next_node\n",
    "            cur_node = next_node\n",
    "        return head"
   ]
  },
  {
   "cell_type": "code",
   "execution_count": 19,
   "metadata": {},
   "outputs": [],
   "source": [
    "class ListNode:\n",
    "    def __init__(self, x):\n",
    "        self.val = x\n",
    "        self.next = None\n",
    "    \n",
    "#     def add(self, next_node):\n",
    "#         self.next = next_node\n",
    "    \n",
    "#     def make_list(self):\n",
    "#         node = self\n",
    "#         node_list = []\n",
    "#         while(node):\n",
    "#             node_list.append(node.val)\n",
    "#             node = node.next\n",
    "            \n",
    "#         return node_list"
   ]
  },
  {
   "cell_type": "code",
   "execution_count": 8,
   "metadata": {},
   "outputs": [],
   "source": [
    "a = ListNode(1)"
   ]
  },
  {
   "cell_type": "code",
   "execution_count": 11,
   "metadata": {},
   "outputs": [],
   "source": [
    "b = ListNode(2)"
   ]
  },
  {
   "cell_type": "code",
   "execution_count": 12,
   "metadata": {},
   "outputs": [],
   "source": [
    "a.next = b\n",
    "b.prev = a"
   ]
  },
  {
   "cell_type": "code",
   "execution_count": null,
   "metadata": {},
   "outputs": [],
   "source": []
  }
 ],
 "metadata": {
  "kernelspec": {
   "display_name": "Python 3",
   "language": "python",
   "name": "python3"
  },
  "language_info": {
   "codemirror_mode": {
    "name": "ipython",
    "version": 3
   },
   "file_extension": ".py",
   "mimetype": "text/x-python",
   "name": "python",
   "nbconvert_exporter": "python",
   "pygments_lexer": "ipython3",
   "version": "3.7.3"
  }
 },
 "nbformat": 4,
 "nbformat_minor": 2
}

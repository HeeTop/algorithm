{
 "cells": [
  {
   "cell_type": "markdown",
   "metadata": {},
   "source": [
    "The string \"PAYPALISHIRING\" is written in a zigzag pattern on a given number of rows like this: (you may want to display this pattern in a fixed font for better legibility)\n",
    "\n",
    "P   A   H   N\n",
    "A P L S I I G\n",
    "Y   I   R\n",
    "And then read line by line: \"PAHNAPLSIIGYIR\"\n",
    "\n",
    "Write the code that will take a string and make this conversion given a number of rows:\n",
    "\n",
    "string convert(string s, int numRows);\n",
    "Example 1:\n",
    "\n",
    "Input: s = \"PAYPALISHIRING\", numRows = 3\n",
    "Output: \"PAHNAPLSIIGYIR\"\n",
    "Example 2:\n",
    "\n",
    "Input: s = \"PAYPALISHIRING\", numRows = 4\n",
    "Output: \"PINALSIGYAHRPI\"\n",
    "Explanation:\n",
    "\n",
    "P     I    N\n",
    "A   L S  I G\n",
    "Y A   H R\n",
    "P     I"
   ]
  },
  {
   "cell_type": "markdown",
   "metadata": {},
   "source": [
    "0     6     12\n",
    "1   5 7   1113\n",
    "2 4   8 10\n",
    "3     9"
   ]
  },
  {
   "cell_type": "code",
   "execution_count": 19,
   "metadata": {},
   "outputs": [],
   "source": [
    "s = \"PAYPALISHIRING\"\n",
    "numRows = 3"
   ]
  },
  {
   "cell_type": "code",
   "execution_count": 20,
   "metadata": {},
   "outputs": [],
   "source": [
    "zigzag = [[] for x in range(numRows)]\n",
    "\n",
    "mapping = list(range(numRows)) + list(range(numRows - 2, 0, -1))"
   ]
  },
  {
   "cell_type": "code",
   "execution_count": 21,
   "metadata": {},
   "outputs": [],
   "source": [
    "m = len(mapping)\n",
    "for index, char in enumerate(s):\n",
    "    zigzag[mapping[index % m]].append(char)\n"
   ]
  },
  {
   "cell_type": "code",
   "execution_count": 28,
   "metadata": {},
   "outputs": [],
   "source": [
    "result = ''\n",
    "for zig in zigzag:\n",
    "    result += ''.join(zig)"
   ]
  },
  {
   "cell_type": "code",
   "execution_count": 41,
   "metadata": {},
   "outputs": [
    {
     "data": {
      "text/plain": [
       "'PAHNAPLSIIGYIR'"
      ]
     },
     "execution_count": 41,
     "metadata": {},
     "output_type": "execute_result"
    }
   ],
   "source": [
    "result"
   ]
  },
  {
   "cell_type": "code",
   "execution_count": 42,
   "metadata": {},
   "outputs": [
    {
     "data": {
      "text/plain": [
       "['PAHN', 'APLSIIG', 'YIR']"
      ]
     },
     "execution_count": 42,
     "metadata": {},
     "output_type": "execute_result"
    }
   ],
   "source": [
    "zigzag"
   ]
  },
  {
   "cell_type": "code",
   "execution_count": null,
   "metadata": {},
   "outputs": [],
   "source": [
    "zigzag = ['' for x in range(numRows)]\n",
    "mapping = list(range(numRows)) + list(range(numRows - 2, 0, -1))\n",
    "m = len(mapping)\n",
    "result = ''\n",
    "\n",
    "for index, char in enumerate(s):\n",
    "    zigzag[mapping[index % m]] += char\n",
    "\n",
    "for zig in zigzag:\n",
    "    result += zig"
   ]
  },
  {
   "cell_type": "code",
   "execution_count": 47,
   "metadata": {},
   "outputs": [],
   "source": [
    "# 모듈러 연산 줄이기\n",
    "result = ''\n",
    "zigzag = [[] for x in range(numRows)]\n",
    "mapping = list(range(numRows)) + list(range(numRows - 2, 0, -1))\n",
    "m = len(mapping)\n",
    "\n",
    "i = 0\n",
    "for index, char in enumerate(s):\n",
    "    zigzag[mapping[i]].append(char)\n",
    "    i += 1\n",
    "    if i == m:\n",
    "        i = 0\n",
    "\n",
    "for zig in zigzag:\n",
    "    result += ''.join(zig)"
   ]
  },
  {
   "cell_type": "code",
   "execution_count": 48,
   "metadata": {},
   "outputs": [
    {
     "data": {
      "text/plain": [
       "'PAHNAPLSIIGYIR'"
      ]
     },
     "execution_count": 48,
     "metadata": {},
     "output_type": "execute_result"
    }
   ],
   "source": [
    "result"
   ]
  },
  {
   "cell_type": "code",
   "execution_count": null,
   "metadata": {},
   "outputs": [],
   "source": [
    "# 첫 번째\n",
    "class Solution:\n",
    "    def convert(self, s: str, numRows: int) -> str:\n",
    "        zigzag = [[] for x in range(numRows)]\n",
    "\n",
    "        mapping = list(range(numRows)) + list(range(numRows - 2, 0, -1))\n",
    "        m = len(mapping)\n",
    "        for index, char in enumerate(s):\n",
    "            zigzag[mapping[index % m]].append(char)\n",
    "        result = ''\n",
    "        for zig in zigzag:\n",
    "            result += ''.join(zig)\n",
    "        return result"
   ]
  },
  {
   "cell_type": "code",
   "execution_count": null,
   "metadata": {},
   "outputs": [],
   "source": [
    "# 최적화 -> 안됨 리스트 -> '' str 바꿈\n",
    "class Solution:\n",
    "    def convert(self, s: str, numRows: int) -> str:\n",
    "        zigzag = ['' for x in range(numRows)]\n",
    "        mapping = list(range(numRows)) + list(range(numRows - 2, 0, -1))\n",
    "        m = len(mapping)\n",
    "        result = ''\n",
    "\n",
    "        for index, char in enumerate(s):\n",
    "            zigzag[mapping[index % m]] += char\n",
    "\n",
    "        for zig in zigzag:\n",
    "            result += zig\n",
    "        return result"
   ]
  },
  {
   "cell_type": "code",
   "execution_count": null,
   "metadata": {},
   "outputs": [],
   "source": [
    "# 모듈러 최적화\n",
    "# 첫 번째\n",
    "class Solution:\n",
    "    def convert(self, s: str, numRows: int) -> str:\n",
    "        # 모듈러 연산 줄이기\n",
    "        result = ''\n",
    "        zigzag = [[] for x in range(numRows)]\n",
    "        mapping = list(range(numRows)) + list(range(numRows - 2, 0, -1))\n",
    "        m = len(mapping)\n",
    "\n",
    "        i = 0\n",
    "        for index, char in enumerate(s):\n",
    "            zigzag[mapping[i]].append(char)\n",
    "            i += 1\n",
    "            if i == m:\n",
    "                i = 0\n",
    "\n",
    "        for zig in zigzag:\n",
    "            result += ''.join(zig)\n",
    "        return result"
   ]
  }
 ],
 "metadata": {
  "kernelspec": {
   "display_name": "Python 3",
   "language": "python",
   "name": "python3"
  },
  "language_info": {
   "codemirror_mode": {
    "name": "ipython",
    "version": 3
   },
   "file_extension": ".py",
   "mimetype": "text/x-python",
   "name": "python",
   "nbconvert_exporter": "python",
   "pygments_lexer": "ipython3",
   "version": "3.7.3"
  }
 },
 "nbformat": 4,
 "nbformat_minor": 2
}

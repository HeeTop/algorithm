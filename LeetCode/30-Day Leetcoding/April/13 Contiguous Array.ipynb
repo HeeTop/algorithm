{
 "cells": [
  {
   "cell_type": "markdown",
   "metadata": {},
   "source": [
    "  Contiguous Array\n",
    "Given a binary array, find the maximum length of a contiguous subarray with equal number of 0 and 1.\n",
    "\n",
    "Example 1:\n",
    "Input: [0,1]\n",
    "Output: 2\n",
    "Explanation: [0, 1] is the longest contiguous subarray with equal number of 0 and 1.\n",
    "Example 2:\n",
    "Input: [0,1,0]\n",
    "Output: 2\n",
    "Explanation: [0, 1] (or [1, 0]) is a longest contiguous subarray with equal number of 0 and 1.\n",
    "Note: The length of the given binary array will not exceed 50,000."
   ]
  },
  {
   "cell_type": "code",
   "execution_count": 17,
   "metadata": {},
   "outputs": [],
   "source": [
    "def maxLen(arr, n):  \n",
    "    hash_map = {}   \n",
    "    curr_sum = 0 \n",
    "    max_len = 0 \n",
    "    ending_index = -1 \n",
    "    \n",
    "    arr = [-1 if x == 0 else 1 for x in arr]\n",
    "\n",
    "    for i in range (0, n):  \n",
    "        curr_sum = curr_sum + arr[i]  \n",
    "  \n",
    "        if (curr_sum == 0):  \n",
    "            max_len = i + 1 \n",
    "            ending_index = i  \n",
    "  \n",
    "        if curr_sum in hash_map: \n",
    "            if max_len < i - hash_map[curr_sum]: \n",
    "                max_len = i - hash_map[curr_sum] \n",
    "                ending_index = i \n",
    "        else:  \n",
    "            hash_map[curr_sum] = i   \n",
    "    arr = [0 if x == -1 else 1 for x in arr]\n",
    "    \n",
    "    return max_len "
   ]
  },
  {
   "cell_type": "code",
   "execution_count": 18,
   "metadata": {},
   "outputs": [
    {
     "data": {
      "text/plain": [
       "2"
      ]
     },
     "execution_count": 18,
     "metadata": {},
     "output_type": "execute_result"
    }
   ],
   "source": [
    "def maxLen(arr, n):  \n",
    "    hash_map = {}   \n",
    "    curr_sum = 0 \n",
    "    max_len = 0 \n",
    "    ending_index = -1 \n",
    "    \n",
    "    arr = [-1 if x == 0 else 1 for x in arr]\n",
    "\n",
    "    for i in range (0, n):  \n",
    "        curr_sum = curr_sum + arr[i]  \n",
    "  \n",
    "        if (curr_sum == 0):  \n",
    "            max_len = i + 1 \n",
    "            ending_index = i  \n",
    "  \n",
    "        if curr_sum in hash_map: \n",
    "            if max_len < i - hash_map[curr_sum]: \n",
    "                max_len = i - hash_map[curr_sum] \n",
    "                ending_index = i \n",
    "        else:  \n",
    "            hash_map[curr_sum] = i   \n",
    "    arr = [0 if x == -1 else 1 for x in arr]\n",
    "    \n",
    "    return max_len \n",
    "\n",
    "# 이진 배열이 주어진 경우 0과 1의 동일한 수의 연속 하위 배열의 최대 길이를 찾으십시오.\n",
    "class Solution:\n",
    "    def findMaxLength(self, nums: List[int]) -> int:\n",
    "        return maxLen(nums, len(nums))"
   ]
  },
  {
   "cell_type": "code",
   "execution_count": 14,
   "metadata": {},
   "outputs": [],
   "source": [
    "arr= [0,1]\n",
    "\n"
   ]
  },
  {
   "cell_type": "code",
   "execution_count": 9,
   "metadata": {},
   "outputs": [
    {
     "data": {
      "text/plain": [
       "[-1, 1]"
      ]
     },
     "execution_count": 9,
     "metadata": {},
     "output_type": "execute_result"
    }
   ],
   "source": [
    "arr"
   ]
  },
  {
   "cell_type": "code",
   "execution_count": null,
   "metadata": {},
   "outputs": [],
   "source": []
  }
 ],
 "metadata": {
  "kernelspec": {
   "display_name": "Python 3.7.7 64-bit",
   "language": "python",
   "name": "python37764bit5ba3a1ec1028451381e4ec7c76e8055f"
  },
  "language_info": {
   "codemirror_mode": {
    "name": "ipython",
    "version": 3
   },
   "file_extension": ".py",
   "mimetype": "text/x-python",
   "name": "python",
   "nbconvert_exporter": "python",
   "pygments_lexer": "ipython3",
   "version": "3.7.7"
  }
 },
 "nbformat": 4,
 "nbformat_minor": 4
}

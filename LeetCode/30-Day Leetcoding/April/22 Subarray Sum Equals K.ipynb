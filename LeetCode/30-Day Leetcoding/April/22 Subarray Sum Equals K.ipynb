{
 "cells": [
  {
   "cell_type": "markdown",
   "metadata": {},
   "source": [
    "  Subarray Sum Equals K\n",
    "Given an array of integers and an integer k, you need to find the total number of continuous subarrays whose sum equals to k.\n",
    "\n",
    "Example 1:\n",
    "Input:nums = [1,1,1], k = 2\n",
    "Output: 2\n",
    "Note:\n",
    "The length of the array is in range [1, 20,000].\n",
    "The range of numbers in the array is [-1000, 1000] and the range of the integer k is [-1e7, 1e7].\n",
    "\n",
    "class Solution:\n",
    "    def subarraySum(self, nums: List[int], k: int) -> int:\n",
    "        "
   ]
  },
  {
   "cell_type": "code",
   "execution_count": 23,
   "metadata": {},
   "outputs": [],
   "source": []
  },
  {
   "cell_type": "code",
   "execution_count": 25,
   "metadata": {},
   "outputs": [],
   "source": [
    "nums = [1, 1, 1]\n",
    "INF = 1000000000000\n",
    "N = len(nums)\n",
    "dp = [[INF] * N for i in range(N)]\n"
   ]
  },
  {
   "cell_type": "code",
   "execution_count": 26,
   "metadata": {},
   "outputs": [],
   "source": [
    "subarr = []\n",
    "result = 0\n",
    "\n",
    "for num in nums:\n",
    "    if num == k:\n",
    "        result += 1\n",
    "        \n",
    "    if len(subarr) == 0:\n",
    "        subarr.append(num)\n",
    "    else:\n",
    "        for index, sub in enumerate(subarr):\n",
    "            next_num = sub + num\n",
    "            subarr[index] = next_num\n",
    "            \n",
    "            if next_num == k:\n",
    "                result += 1\n",
    "        subarr.append(num)\n"
   ]
  },
  {
   "cell_type": "code",
   "execution_count": 31,
   "metadata": {},
   "outputs": [],
   "source": [
    "for i in range(20000):\n",
    "    for j in range(20000):\n",
    "        nums[1]"
   ]
  },
  {
   "cell_type": "code",
   "execution_count": 28,
   "metadata": {},
   "outputs": [
    {
     "data": {
      "text/plain": [
       "3"
      ]
     },
     "execution_count": 28,
     "metadata": {},
     "output_type": "execute_result"
    }
   ],
   "source": [
    "len(nums)"
   ]
  },
  {
   "cell_type": "code",
   "execution_count": null,
   "metadata": {},
   "outputs": [],
   "source": [
    "class Solution:\n",
    "    def subarraySum(self, nums: List[int], k: int) -> int:\n",
    "        N = len(nums)\n",
    "        prevSum = {}\n",
    "        res = 0\n",
    "\n",
    "        currsum = 0\n",
    "\n",
    "        for i in range(0, N):\n",
    "            currsum += nums[i]\n",
    "\n",
    "            if currsum == k:\n",
    "                res += 1\n",
    "\n",
    "            if (currsum - k) in prevSum:\n",
    "                res += prevSum[currsum - k]\n",
    "\n",
    "            if currsum not in prevSum:\n",
    "                prevSum[currsum] = 1\n",
    "            else:\n",
    "                prevSum[currsum] += 1\n",
    "\n",
    "        return res"
   ]
  },
  {
   "cell_type": "markdown",
   "metadata": {},
   "source": [
    "## 참고\n"
   ]
  },
  {
   "cell_type": "code",
   "execution_count": null,
   "metadata": {},
   "outputs": [],
   "source": [
    "# Python3 program to find the number of  \n",
    "# subarrays with sum exactly equal to k.  \n",
    "from collections import defaultdict \n",
    "  \n",
    "def findSubarraySum(arr, n, Sum):  \n",
    "    prevSum = defaultdict(lambda : 0) \n",
    "    \n",
    "    res = 0 \n",
    "    \n",
    "    # Sum of elements so far.  \n",
    "    currsum = 0 \n",
    "    \n",
    "    for i in range(0, n):   \n",
    "    \n",
    "        # Add current element to sum so far.  \n",
    "        currsum += arr[i]  \n",
    "    \n",
    "        if currsum == Sum:   \n",
    "            res += 1         \n",
    "    \n",
    "        # currsum exceeds given sum by currsum  - sum. \n",
    "        # Find number of subarrays having   \n",
    "        # this sum and exclude those subarrays  \n",
    "        # from currsum by increasing count by   \n",
    "        # same amount.  \n",
    "        if (currsum - Sum) in prevSum: \n",
    "            res += prevSum[currsum - Sum]  \n",
    "            \n",
    "    \n",
    "        # Add currsum value to count of   \n",
    "        # different values of sum.  \n",
    "        prevSum[currsum] += 1 \n",
    "       \n",
    "    return res  "
   ]
  },
  {
   "cell_type": "code",
   "execution_count": 45,
   "metadata": {},
   "outputs": [
    {
     "name": "stdout",
     "output_type": "stream",
     "text": [
      "2\n"
     ]
    }
   ],
   "source": [
    "prevSum = {}\n",
    "res = 0\n",
    "\n",
    "currsum = 0\n",
    "\n",
    "for i in range(0, N):\n",
    "    currsum += nums[i]\n",
    "    \n",
    "    if currsum == k:\n",
    "        res += 1\n",
    "        \n",
    "    if (currsum - k) in prevSum:\n",
    "        res += prevSum[currsum - k]\n",
    "        \n",
    "    if currsum not in prevSum:\n",
    "        prevSum[currsum] = 1\n",
    "    else:\n",
    "        prevSum[currsum] += 1\n",
    "print(res)"
   ]
  },
  {
   "cell_type": "code",
   "execution_count": 46,
   "metadata": {
    "scrolled": true
   },
   "outputs": [
    {
     "data": {
      "text/plain": [
       "{1: 1, 2: 1, 3: 1}"
      ]
     },
     "execution_count": 46,
     "metadata": {},
     "output_type": "execute_result"
    }
   ],
   "source": [
    "prevSum"
   ]
  },
  {
   "cell_type": "code",
   "execution_count": 47,
   "metadata": {},
   "outputs": [],
   "source": [
    "k = 2"
   ]
  },
  {
   "cell_type": "code",
   "execution_count": 48,
   "metadata": {},
   "outputs": [
    {
     "data": {
      "text/plain": [
       "2"
      ]
     },
     "execution_count": 48,
     "metadata": {},
     "output_type": "execute_result"
    }
   ],
   "source": [
    "res"
   ]
  },
  {
   "cell_type": "markdown",
   "metadata": {},
   "source": [
    "\n",
    "\n"
   ]
  }
 ],
 "metadata": {
  "kernelspec": {
   "display_name": "Python 3",
   "language": "python",
   "name": "python3"
  },
  "language_info": {
   "codemirror_mode": {
    "name": "ipython",
    "version": 3
   },
   "file_extension": ".py",
   "mimetype": "text/x-python",
   "name": "python",
   "nbconvert_exporter": "python",
   "pygments_lexer": "ipython3",
   "version": "3.7.7"
  }
 },
 "nbformat": 4,
 "nbformat_minor": 4
}

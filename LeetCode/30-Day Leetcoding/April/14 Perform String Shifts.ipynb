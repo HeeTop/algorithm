{
 "cells": [
  {
   "cell_type": "markdown",
   "metadata": {},
   "source": [
    "\n",
    "You are given a string s containing lowercase English letters, and a matrix shift, where shift[i] = [direction, amount]:\n",
    "\n",
    "direction can be 0 (for left shift) or 1 (for right shift). \n",
    "amount is the amount by which string s is to be shifted.\n",
    "A left shift by 1 means remove the first character of s and append it to the end.\n",
    "Similarly, a right shift by 1 means remove the last character of s and add it to the beginning.\n",
    "Return the final string after all operations.\n",
    "\n",
    " \n",
    "\n",
    "Example 1:\n",
    "\n",
    "Input: s = \"abc\", shift = [[0,1],[1,2]]\n",
    "Output: \"cab\"\n",
    "Explanation: \n",
    "[0,1] means shift to left by 1. \"abc\" -> \"bca\"\n",
    "[1,2] means shift to right by 2. \"bca\" -> \"cab\"\n",
    "Example 2:\n",
    "\n",
    "Input: s = \"abcdefg\", shift = [[1,1],[1,1],[0,2],[1,3]]\n",
    "Output: \"efgabcd\"\n",
    "Explanation:  \n",
    "[1,1] means shift to right by 1. \"abcdefg\" -> \"gabcdef\"\n",
    "[1,1] means shift to right by 1. \"gabcdef\" -> \"fgabcde\"\n",
    "[0,2] means shift to left by 2. \"fgabcde\" -> \"abcdefg\"\n",
    "[1,3] means shift to right by 3. \"abcdefg\" -> \"efgabcd\"\n",
    " \n",
    "\n",
    "Constraints:\n",
    "\n",
    "1 <= s.length <= 100\n",
    "s only contains lower case English letters.\n",
    "1 <= shift.length <= 100\n",
    "shift[i].length == 2\n",
    "0 <= shift[i][0] <= 1\n",
    "0 <= shift[i][1] <= 100\n",
    "\n",
    "class Solution:\n",
    "    def stringShift(self, s: str, shift: List[List[int]]) -> str:"
   ]
  },
  {
   "cell_type": "code",
   "execution_count": 75,
   "metadata": {},
   "outputs": [],
   "source": [
    "shift = [[0,1]]\n",
    "s = 'abc'\n",
    "s = \"xqgwkiqpif\"\n",
    "shift = [[1,4],[0,7],[0,8],[0,7],[0,6],[1,3],[0,1],[1,7],[0,5],[0,6]]"
   ]
  },
  {
   "cell_type": "code",
   "execution_count": 88,
   "metadata": {},
   "outputs": [],
   "source": [
    "dp_shift = [0, 0]\n",
    "\n",
    "for direc, amount in shift:\n",
    "    dp_shift[direc] += amount\n"
   ]
  },
  {
   "cell_type": "code",
   "execution_count": 77,
   "metadata": {
    "scrolled": true
   },
   "outputs": [
    {
     "data": {
      "text/plain": [
       "[40, 14]"
      ]
     },
     "execution_count": 77,
     "metadata": {},
     "output_type": "execute_result"
    }
   ],
   "source": [
    "dp_shift"
   ]
  },
  {
   "cell_type": "code",
   "execution_count": 83,
   "metadata": {
    "scrolled": true
   },
   "outputs": [
    {
     "data": {
      "text/plain": [
       "6"
      ]
     },
     "execution_count": 83,
     "metadata": {},
     "output_type": "execute_result"
    }
   ],
   "source": [
    "amount % len(shift)"
   ]
  },
  {
   "cell_type": "code",
   "execution_count": 78,
   "metadata": {},
   "outputs": [
    {
     "data": {
      "text/plain": [
       "'xqgwkiqpif'"
      ]
     },
     "execution_count": 78,
     "metadata": {},
     "output_type": "execute_result"
    }
   ],
   "source": [
    "dp_shift = [0, 0]\n",
    "\n",
    "for direc, amount in shift:\n",
    "    dp_shift[direc] += amount\n",
    "\n",
    "LEFT = 0\n",
    "RIGHT = 1\n",
    "amount =dp_shift[LEFT] - dp_shift[RIGHT]\n",
    "s[amount:] + s[:amount]\n"
   ]
  },
  {
   "cell_type": "code",
   "execution_count": 87,
   "metadata": {
    "scrolled": true
   },
   "outputs": [
    {
     "data": {
      "text/plain": [
       "'qpifxqgwki'"
      ]
     },
     "execution_count": 87,
     "metadata": {},
     "output_type": "execute_result"
    }
   ],
   "source": [
    "dp_shift = [0, 0]\n",
    "\n",
    "for direc, amount in shift:\n",
    "    dp_shift[direc] += amount\n",
    "\n",
    "LEFT = 0\n",
    "RIGHT = 1\n",
    "amount =dp_shift[LEFT] - dp_shift[RIGHT]\n",
    "if amount < 0:\n",
    "    amount = -(-amount % len(shift))\n",
    "else:\n",
    "    amount = amount % len(shift)\n",
    "s[amount:] + s[:amount]\n"
   ]
  },
  {
   "cell_type": "code",
   "execution_count": 86,
   "metadata": {},
   "outputs": [
    {
     "data": {
      "text/plain": [
       "[40, 14]"
      ]
     },
     "execution_count": 86,
     "metadata": {},
     "output_type": "execute_result"
    }
   ],
   "source": [
    "dp_shift"
   ]
  },
  {
   "cell_type": "code",
   "execution_count": 43,
   "metadata": {},
   "outputs": [
    {
     "data": {
      "text/plain": [
       "'efgabcd'"
      ]
     },
     "execution_count": 43,
     "metadata": {},
     "output_type": "execute_result"
    }
   ],
   "source": [
    "s[-3:] + s[:-3]"
   ]
  },
  {
   "cell_type": "code",
   "execution_count": 41,
   "metadata": {},
   "outputs": [
    {
     "data": {
      "text/plain": [
       "'abcdefg'"
      ]
     },
     "execution_count": 41,
     "metadata": {},
     "output_type": "execute_result"
    }
   ],
   "source": [
    "s[0:] + s[:0]"
   ]
  },
  {
   "cell_type": "code",
   "execution_count": null,
   "metadata": {},
   "outputs": [],
   "source": [
    "class Solution:\n",
    "    def stringShift(self, s: str, shift: List[List[int]]) -> str:\n",
    "        dp_shift = [0, 0]\n",
    "\n",
    "        for direc, amount in shift:\n",
    "            dp_shift[direc] += amount\n",
    "\n",
    "        LEFT = 0\n",
    "        RIGHT = 1\n",
    "        amount =dp_shift[LEFT] - dp_shift[RIGHT]\n",
    "        if amount < 0:\n",
    "            amount = -(-amount % len(shift))\n",
    "        else:\n",
    "            amount = amount % len(shift)\n",
    "        return s[amount:] + s[:amount]\n",
    "\n"
   ]
  }
 ],
 "metadata": {
  "kernelspec": {
   "display_name": "Python 3.7.7 64-bit",
   "language": "python",
   "name": "python37764bit5ba3a1ec1028451381e4ec7c76e8055f"
  },
  "language_info": {
   "codemirror_mode": {
    "name": "ipython",
    "version": 3
   },
   "file_extension": ".py",
   "mimetype": "text/x-python",
   "name": "python",
   "nbconvert_exporter": "python",
   "pygments_lexer": "ipython3",
   "version": "3.7.7"
  }
 },
 "nbformat": 4,
 "nbformat_minor": 4
}

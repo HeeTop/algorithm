{
 "cells": [
  {
   "cell_type": "markdown",
   "metadata": {},
   "source": [
    "Given a m x n grid filled with non-negative numbers, find a path from top left to bottom right which minimizes the sum of all numbers along its path.\n",
    "\n",
    "Note: You can only move either down or right at any point in time.\n",
    "\n",
    "Example:\n",
    "\n",
    "Input:\n",
    "[\n",
    "  [1,3,1],\n",
    "  [1,5,1],\n",
    "  [4,2,1]\n",
    "]\n",
    "Output: 7\n",
    "Explanation: Because the path 1→3→1→1→1 minimizes the sum.\n",
    "\n",
    "class Solution:\n",
    "    def minPathSum(self, grid: List[List[int]]) -> int:\n",
    "        "
   ]
  },
  {
   "cell_type": "code",
   "execution_count": 78,
   "metadata": {},
   "outputs": [],
   "source": [
    "grid = [\n",
    "  [1,3,1],\n",
    "  [1,5,1],\n",
    "  [4,2,1],\n",
    "]"
   ]
  },
  {
   "cell_type": "code",
   "execution_count": 60,
   "metadata": {},
   "outputs": [],
   "source": [
    "N = len(grid)\n",
    "M = len(grid[0])"
   ]
  },
  {
   "cell_type": "code",
   "execution_count": 61,
   "metadata": {},
   "outputs": [
    {
     "data": {
      "text/plain": [
       "3"
      ]
     },
     "execution_count": 61,
     "metadata": {},
     "output_type": "execute_result"
    }
   ],
   "source": [
    "N"
   ]
  },
  {
   "cell_type": "code",
   "execution_count": 62,
   "metadata": {},
   "outputs": [],
   "source": [
    "dp = [0] * M"
   ]
  },
  {
   "cell_type": "code",
   "execution_count": 63,
   "metadata": {},
   "outputs": [
    {
     "data": {
      "text/plain": [
       "[0, 0, 0]"
      ]
     },
     "execution_count": 63,
     "metadata": {},
     "output_type": "execute_result"
    }
   ],
   "source": [
    "dp"
   ]
  },
  {
   "cell_type": "code",
   "execution_count": 64,
   "metadata": {},
   "outputs": [],
   "source": [
    "dp = [10, 9, 10]\n",
    "dp = [2, 7, 8]\n",
    "dp = [12, 11, 6]"
   ]
  },
  {
   "cell_type": "code",
   "execution_count": 67,
   "metadata": {},
   "outputs": [],
   "source": [
    "for m in range(M):\n",
    "    if m == 0:\n",
    "        dp[m] = grid[0][m]\n",
    "    else:\n",
    "        dp[m] = grid[0][m] + dp[m - 1]"
   ]
  },
  {
   "cell_type": "code",
   "execution_count": 68,
   "metadata": {},
   "outputs": [
    {
     "name": "stdout",
     "output_type": "stream",
     "text": [
      "[2, 7, 6]\n",
      "[6, 8, 7]\n"
     ]
    }
   ],
   "source": [
    "INF = 10000000000\n",
    "for n in range(1, N):\n",
    "    next_dp = [INF] * M\n",
    "    tmp_dp = [INF] * M\n",
    "    MIN = INF\n",
    "    for m in range(M -1, -1, -1):\n",
    "        if dp[m] < MIN:\n",
    "            MIN = dp[m]\n",
    "        else:\n",
    "            dp[m] = INF\n",
    "        \n",
    "    for m in range(M):\n",
    "        if dp[m] == INF:\n",
    "            continue\n",
    "            \n",
    "        tmp_dp[m] = dp[m] + grid[n][m]\n",
    "        next_dp[m] = min(tmp_dp[m], next_dp[m])\n",
    "        for p in range(m + 1, M):\n",
    "            tmp_dp[p] = tmp_dp[p - 1] + grid[n][p]\n",
    "            next_dp[p] = min(tmp_dp[p], next_dp[p])\n",
    "    dp = next_dp"
   ]
  },
  {
   "cell_type": "code",
   "execution_count": null,
   "metadata": {},
   "outputs": [],
   "source": []
  },
  {
   "cell_type": "code",
   "execution_count": null,
   "metadata": {},
   "outputs": [],
   "source": [
    "class Solution:\n",
    "    def minPathSum(self, grid: List[List[int]]) -> int:\n",
    "        N = len(grid)\n",
    "        M = len(grid[0]) \n",
    "        dp = [0] * M\n",
    "#         init dp\n",
    "        for m in range(M):\n",
    "            if m == 0:\n",
    "                dp[m] = grid[0][m]\n",
    "            else:\n",
    "                dp[m] = grid[0][m] + dp[m - 1]\n",
    "                \n",
    "        INF = 10000000000\n",
    "        for n in range(1, N):\n",
    "            next_dp = [INF] * M\n",
    "            tmp_dp = [INF] * M\n",
    "\n",
    "            for m in range(M):\n",
    "                tmp_dp[m] = dp[m] + grid[n][m]\n",
    "                next_dp[m] = min(tmp_dp[m], next_dp[m])\n",
    "                for p in range(m + 1, M):\n",
    "                    tmp_dp[p] = tmp_dp[p - 1] + grid[n][p]\n",
    "                    next_dp[p] = min(tmp_dp[p], next_dp[p])\n",
    "            dp = next_dp\n",
    "        return dp[-1]\n",
    "        "
   ]
  },
  {
   "cell_type": "markdown",
   "metadata": {},
   "source": [
    "## 다른사람 풀이"
   ]
  },
  {
   "cell_type": "code",
   "execution_count": 74,
   "metadata": {},
   "outputs": [],
   "source": [
    "def minPathSum(grid) -> int:\n",
    "    N = len(grid)\n",
    "    M = len(grid[0])\n",
    "\n",
    "    if N == 0 or M == 0:\n",
    "        return 0\n",
    "    res = grid[:][:]\n",
    "    for i in range(1, N):\n",
    "        res[i][0] = res[i-1][0] + grid[i][0]\n",
    "    for j in range(1, M):\n",
    "        res[0][j] = res[0][j - 1] + grid[0][j]\n",
    "#         위 + 왼쪽 중에 합이 작은것\n",
    "    for i in range(1, N):\n",
    "        for j in range(1, M):\n",
    "            res[i][j] = min(res[i][j - 1], res[i - 1][j]) + grid[i][j]\n",
    "            \n",
    "    return res[N - 1][M - 1]"
   ]
  },
  {
   "cell_type": "code",
   "execution_count": 75,
   "metadata": {},
   "outputs": [],
   "source": [
    "res = grid[:][:]"
   ]
  },
  {
   "cell_type": "code",
   "execution_count": 79,
   "metadata": {},
   "outputs": [
    {
     "data": {
      "text/plain": [
       "7"
      ]
     },
     "execution_count": 79,
     "metadata": {},
     "output_type": "execute_result"
    }
   ],
   "source": [
    "minPathSum(grid)"
   ]
  },
  {
   "cell_type": "code",
   "execution_count": 77,
   "metadata": {},
   "outputs": [
    {
     "data": {
      "text/plain": [
       "[[1, 5, 10], [3, 10, 16], [9, 17, 23]]"
      ]
     },
     "execution_count": 77,
     "metadata": {},
     "output_type": "execute_result"
    }
   ],
   "source": [
    "grid"
   ]
  },
  {
   "cell_type": "code",
   "execution_count": null,
   "metadata": {},
   "outputs": [],
   "source": [
    "class Solution:\n",
    "    def minPathSum(self, grid: List[List[int]]) -> int:\n",
    "        N = len(grid)\n",
    "        M = len(grid[0])\n",
    "\n",
    "        if N == 0 or M == 0:\n",
    "            return 0\n",
    "        res = grid[:][:]\n",
    "        for i in range(1, N):\n",
    "            res[i][0] = res[i-1][0] + grid[i][0]\n",
    "        for j in range(1, M):\n",
    "            res[0][j] = res[0][j - 1] + grid[0][j]\n",
    "    #         위 + 왼쪽 중에 합이 작은것\n",
    "        for i in range(1, N):\n",
    "            for j in range(1, M):\n",
    "                res[i][j] = min(res[i][j - 1], res[i - 1][j]) + grid[i][j]\n",
    "            \n",
    "        return res[N - 1][M - 1]"
   ]
  }
 ],
 "metadata": {
  "kernelspec": {
   "display_name": "Python 3",
   "language": "python",
   "name": "python3"
  },
  "language_info": {
   "codemirror_mode": {
    "name": "ipython",
    "version": 3
   },
   "file_extension": ".py",
   "mimetype": "text/x-python",
   "name": "python",
   "nbconvert_exporter": "python",
   "pygments_lexer": "ipython3",
   "version": "3.7.3"
  }
 },
 "nbformat": 4,
 "nbformat_minor": 2
}

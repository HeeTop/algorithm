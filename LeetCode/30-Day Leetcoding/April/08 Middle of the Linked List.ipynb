{
 "cells": [
  {
   "cell_type": "markdown",
   "metadata": {},
   "source": [
    "  Middle of the Linked List\n",
    "Given a non-empty, singly linked list with head node head, return a middle node of linked list.\n",
    "\n",
    "If there are two middle nodes, return the second middle node.\n",
    "\n",
    " \n",
    "\n",
    "Example 1:\n",
    "\n",
    "Input: [1,2,3,4,5]\n",
    "Output: Node 3 from this list (Serialization: [3,4,5])\n",
    "The returned node has value 3.  (The judge's serialization of this node is [3,4,5]).\n",
    "Note that we returned a ListNode object ans, such that:\n",
    "ans.val = 3, ans.next.val = 4, ans.next.next.val = 5, and ans.next.next.next = NULL.\n",
    "Example 2:\n",
    "\n",
    "Input: [1,2,3,4,5,6]\n",
    "Output: Node 4 from this list (Serialization: [4,5,6])\n",
    "Since the list has two middle nodes with values 3 and 4, we return the second one.\n",
    " \n",
    "\n",
    "Note:\n",
    "\n",
    "The number of nodes in the given list will be between 1 and 100.\n",
    "\n",
    "class Solution:\n",
    "    def middleNode(self, head: ListNode) -> ListNode:\n",
    "        "
   ]
  },
  {
   "cell_type": "code",
   "execution_count": null,
   "metadata": {},
   "outputs": [],
   "source": [
    "# Definition for singly-linked list.\n",
    "class ListNode:\n",
    "    def __init__(self, x):\n",
    "        self.val = x\n",
    "        self.next = None\n",
    "\n",
    "class Solution:\n",
    "    def middleNode(self, head: ListNode) -> ListNode:\n",
    "        cur = head;\n",
    "        nodes = [cur]\n",
    "        \n",
    "        while(cur.next):\n",
    "            cur = cur.next\n",
    "            nodes.append(cur)\n",
    "            \n",
    "        mid = len(nodes) // 2\n",
    "        return nodes[mid]\n"
   ]
  },
  {
   "cell_type": "code",
   "execution_count": null,
   "metadata": {},
   "outputs": [],
   "source": [
    "class Solution:\n",
    "    def middleNode(self, head: ListNode) -> ListNode:\n",
    "        if head.next is None:\n",
    "            return head\n",
    "        fast = head.next.next\n",
    "        slow = head.next\n",
    "        while fast and fast.next:\n",
    "            fast = fast.next.next\n",
    "            slow = slow.next\n",
    "\n",
    "        return slow"
   ]
  }
 ],
 "metadata": {
  "kernelspec": {
   "display_name": "Python 3.7.7 64-bit",
   "language": "python",
   "name": "python37764bit5ba3a1ec1028451381e4ec7c76e8055f"
  },
  "language_info": {
   "codemirror_mode": {
    "name": "ipython",
    "version": 3
   },
   "file_extension": ".py",
   "mimetype": "text/x-python",
   "name": "python",
   "nbconvert_exporter": "python",
   "pygments_lexer": "ipython3",
   "version": "3.7.7"
  }
 },
 "nbformat": 4,
 "nbformat_minor": 4
}

{
 "cells": [
  {
   "cell_type": "markdown",
   "metadata": {},
   "source": [
    "LRU Cache\n",
    "Design and implement a data structure for Least Recently Used (LRU) cache. It should support the following operations: get and put.\n",
    "\n",
    "get(key) - Get the value (will always be positive) of the key if the key exists in the cache, otherwise return -1.\n",
    "put(key, value) - Set or insert the value if the key is not already present. When the cache reached its capacity, it should invalidate the least recently used item before inserting a new item.\n",
    "\n",
    "The cache is initialized with a positive capacity.\n",
    "\n",
    "Follow up:\n",
    "Could you do both operations in O(1) time complexity?\n",
    "\n",
    "Example:\n",
    "\n",
    "LRUCache cache = new LRUCache( 2 /* capacity */ );\n",
    "\n",
    "cache.put(1, 1);\n",
    "cache.put(2, 2);\n",
    "cache.get(1);       // returns 1\n",
    "cache.put(3, 3);    // evicts key 2\n",
    "cache.get(2);       // returns -1 (not found)\n",
    "cache.put(4, 4);    // evicts key 1\n",
    "cache.get(1);       // returns -1 (not found)\n",
    "cache.get(3);       // returns 3\n",
    "cache.get(4);       // returns 4\n",
    "\n",
    "class LRUCache:\n",
    "    count = 0\n",
    "    def __init__(self, capacity: int):\n",
    "        self.cou \n",
    "\n",
    "    def get(self, key: int) -> int:\n",
    "        \n",
    "\n",
    "    def put(self, key: int, value: int) -> None:\n",
    "        \n",
    "\n",
    "\n"
   ]
  },
  {
   "cell_type": "code",
   "execution_count": null,
   "metadata": {},
   "outputs": [],
   "source": [
    "class LRUCache:\n",
    "    mem_dict = {}\n",
    "    time_dict = {}\n",
    "    time = 0\n",
    "    capacity = 0\n",
    "    \n",
    "    def __init__(self, capacity: int):\n",
    "        self.mem_dict = {}\n",
    "        self.time_dict = {}\n",
    "        self.capacity = capacity\n",
    "        self.time = 0\n",
    "        \n",
    "    def get(self, key: int) -> int:\n",
    "        self.time += 1\n",
    "        if key not in self.mem_dict:\n",
    "            return -1\n",
    "        if key in self.mem_dict:\n",
    "            min_time = self.mem_dict[key][1]\n",
    "            del self.time_dict[min_time]\n",
    "\n",
    "        self.time_dict[self.time] = key\n",
    "        self.mem_dict[key][1] = self.time\n",
    "                       \n",
    "        return self.mem_dict[key][0]\n",
    "   \n",
    "\n",
    "    def put(self, key: int, value: int) -> None:\n",
    "  \n",
    "        self.time += 1\n",
    "        if key in self.mem_dict:\n",
    "            min_time = self.mem_dict[key][1]\n",
    "            del self.time_dict[min_time]\n",
    "            \n",
    "        elif len(self.mem_dict) >= self.capacity:\n",
    "            min_time =  list(self.time_dict.keys())[0]\n",
    "            min_key = self.time_dict[min_time]\n",
    "\n",
    "            del self.time_dict[min_time]\n",
    "            del self.mem_dict[min_key]\n",
    "        self.mem_dict[key] = [value, self.time]\n",
    "        self.time_dict[self.time] = key\n",
    "   "
   ]
  },
  {
   "cell_type": "code",
   "execution_count": 65,
   "metadata": {},
   "outputs": [],
   "source": [
    "time = [0]\n",
    "mem_set = set([])\n",
    "mem_list = []\n",
    "\n",
    "capacity = 2\n",
    "\n",
    "def put(key, value):\n",
    "    time[0] += 1\n",
    "    memory[key] = [value, time[0]]\n",
    "\n",
    "def get(key):\n",
    "    time[0] += 1\n",
    "    if key not in memory:\n",
    "        return -1\n",
    "    if memory[key][1] + capacity < time[0]:\n",
    "        \n",
    "        del memory[key]\n",
    "        return -1\n",
    "    else:\n",
    "        memory[key][1] = time[0]\n",
    "        return memory[key][0]"
   ]
  },
  {
   "cell_type": "code",
   "execution_count": 85,
   "metadata": {
    "scrolled": true
   },
   "outputs": [],
   "source": [
    "mem_dict = {}\n",
    "time_dict = {}\n",
    "time = [0]\n",
    "capacity = 2\n",
    "\n",
    "def put(key, value):\n",
    "    time[0] += 1\n",
    "    if len(mem_dict) >= capacity:\n",
    "        min_time =  list(time_dict.keys())[0]\n",
    "        min_key = time_dict[min_time]\n",
    "        \n",
    "        del time_dict[min_time]\n",
    "        del mem_dict[min_key]\n",
    "    mem_dict[key] = [value, time[0]]\n",
    "    time_dict[time[0]] = key\n",
    "\n",
    "def get(key):\n",
    "    time[0] += 1\n",
    "    if key not in mem_dict:\n",
    "        return -1\n",
    "    if key in mem_dict:\n",
    "        min_time = mem_dict[key][1]\n",
    "        del time_dict[min_time]\n",
    "        \n",
    "        time_dict[time[0]] = key\n",
    "        mem_dict[key][1] = time[0]\n",
    "        return mem_dict[key][0]\n",
    "   "
   ]
  },
  {
   "cell_type": "code",
   "execution_count": 86,
   "metadata": {},
   "outputs": [
    {
     "name": "stdout",
     "output_type": "stream",
     "text": [
      "1\n"
     ]
    }
   ],
   "source": [
    "put(1, 1);\n",
    "put(2, 2);\n",
    "print(get(1))"
   ]
  },
  {
   "cell_type": "code",
   "execution_count": 87,
   "metadata": {},
   "outputs": [],
   "source": [
    "put(3, 3); "
   ]
  },
  {
   "cell_type": "code",
   "execution_count": 88,
   "metadata": {
    "scrolled": true
   },
   "outputs": [
    {
     "name": "stdout",
     "output_type": "stream",
     "text": [
      "-1\n"
     ]
    }
   ],
   "source": [
    "print(get(2))"
   ]
  },
  {
   "cell_type": "code",
   "execution_count": 89,
   "metadata": {},
   "outputs": [],
   "source": [
    "put(4, 4);    "
   ]
  },
  {
   "cell_type": "code",
   "execution_count": 90,
   "metadata": {},
   "outputs": [
    {
     "name": "stdout",
     "output_type": "stream",
     "text": [
      "-1\n"
     ]
    }
   ],
   "source": [
    "print(get(1))       "
   ]
  },
  {
   "cell_type": "code",
   "execution_count": 91,
   "metadata": {
    "scrolled": true
   },
   "outputs": [
    {
     "name": "stdout",
     "output_type": "stream",
     "text": [
      "3\n"
     ]
    }
   ],
   "source": [
    "print(get(3))"
   ]
  },
  {
   "cell_type": "markdown",
   "metadata": {},
   "source": [
    "## 참고"
   ]
  },
  {
   "cell_type": "code",
   "execution_count": null,
   "metadata": {},
   "outputs": [],
   "source": [
    "class LRUCache:\n",
    "\n",
    "    def __init__(self, capacity: int):\n",
    "        self.cache = collections.OrderedDict()\n",
    "        self.maxsize = capacity\n",
    "\n",
    "    def get(self, key: int) -> int:\n",
    "        val = self.cache.get(key)\n",
    "        if val:\n",
    "            self.cache.move_to_end(key)\n",
    "            return val\n",
    "        return -1\n",
    "\n",
    "    def put(self, key: int, value: int) -> None:\n",
    "        if self.cache.get(key):\n",
    "            self.cache.move_to_end(key)\n",
    "        elif len(self.cache) == self.maxsize:\n",
    "            self.cache.popitem(last=False)\n",
    "        self.cache[key] = value\n",
    "\n",
    "# Your LRUCache object will be instantiated and called as such:\n",
    "# obj = LRUCache(capacity)\n",
    "# param_1 = obj.get(key)\n",
    "# obj.put(key,value)"
   ]
  }
 ],
 "metadata": {
  "kernelspec": {
   "display_name": "Python 3",
   "language": "python",
   "name": "python3"
  },
  "language_info": {
   "codemirror_mode": {
    "name": "ipython",
    "version": 3
   },
   "file_extension": ".py",
   "mimetype": "text/x-python",
   "name": "python",
   "nbconvert_exporter": "python",
   "pygments_lexer": "ipython3",
   "version": "3.7.7"
  }
 },
 "nbformat": 4,
 "nbformat_minor": 4
}

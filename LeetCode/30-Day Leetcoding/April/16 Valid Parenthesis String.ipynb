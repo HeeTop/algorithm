{
 "cells": [
  {
   "cell_type": "markdown",
   "metadata": {},
   "source": [
    "\n",
    "Given a string containing only three types of characters: '(', ')' and '*', write a function to check whether this string is valid. We define the validity of a string by these rules:\n",
    "\n",
    "Any left parenthesis '(' must have a corresponding right parenthesis ')'.\n",
    "Any right parenthesis ')' must have a corresponding left parenthesis '('.\n",
    "Left parenthesis '(' must go before the corresponding right parenthesis ')'.\n",
    "'*' could be treated as a single right parenthesis ')' or a single left parenthesis '(' or an empty string.\n",
    "An empty string is also valid.\n",
    "Example 1:\n",
    "Input: \"()\"\n",
    "Output: True\n",
    "Example 2:\n",
    "Input: \"(*)\"\n",
    "Output: True\n",
    "Example 3:\n",
    "Input: \"(*))\"\n",
    "Output: True\n",
    "Note:\n",
    "The string size will be in the range [1, 100].\n",
    "class Solution:\n",
    "    def checkValidString(self, s: str) -> bool:\n",
    "        return"
   ]
  },
  {
   "cell_type": "code",
   "execution_count": 51,
   "metadata": {},
   "outputs": [],
   "source": [
    "# 괄호 맞추기\n",
    "string = \"(())((())()()(*)(*()(())())())()()((()())((()))(*\"\n"
   ]
  },
  {
   "cell_type": "code",
   "execution_count": 52,
   "metadata": {},
   "outputs": [],
   "source": [
    "stack = []\n",
    "star_stack = []\n",
    "result = True\n",
    "\n",
    "for index, s in enumerate(string):\n",
    "#     열린 괄호면 push\n",
    "    if s == '(':\n",
    "        stack.append((index,s))\n",
    "#     닫힌 괄호면\n",
    "    elif s == ')':\n",
    "        if stack == [] and star_stack == []:\n",
    "            result = False\n",
    "            break\n",
    "        elif stack == [] and star_stack != []:\n",
    "            star_stack.pop()\n",
    "        else:\n",
    "            stack.pop()\n",
    "    else:\n",
    "        star_stack.append((index, s))"
   ]
  },
  {
   "cell_type": "code",
   "execution_count": 55,
   "metadata": {},
   "outputs": [],
   "source": [
    "# 마지막 처리\n",
    "while len(stack) and len(star_stack):\n",
    "    if star_stack[-1][0] >= stack[-1][0]:\n",
    "        star_stack.pop()\n",
    "        stack.pop()\n",
    "    else:\n",
    "        break\n",
    "if len(stack) != 0:\n",
    "    result = False"
   ]
  },
  {
   "cell_type": "code",
   "execution_count": 56,
   "metadata": {},
   "outputs": [
    {
     "data": {
      "text/plain": [
       "False"
      ]
     },
     "execution_count": 56,
     "metadata": {},
     "output_type": "execute_result"
    }
   ],
   "source": [
    "result"
   ]
  },
  {
   "cell_type": "code",
   "execution_count": null,
   "metadata": {},
   "outputs": [],
   "source": [
    "class Solution:\n",
    "    def checkValidString(self, string: str) -> bool:\n",
    "        stack = []\n",
    "        star_stack = []\n",
    "        result = True\n",
    "\n",
    "        for index, s in enumerate(string):\n",
    "        #     열린 괄호면 push\n",
    "            if s == '(':\n",
    "                stack.append((index,s))\n",
    "        #     닫힌 괄호면\n",
    "            elif s == ')':\n",
    "                if stack == [] and star_stack == []:\n",
    "                    result = False\n",
    "                    break\n",
    "                elif stack == [] and star_stack != []:\n",
    "                    star_stack.pop()\n",
    "                else:\n",
    "                    stack.pop()\n",
    "            else:\n",
    "                star_stack.append((index, s))\n",
    "        while len(stack) and len(star_stack):\n",
    "            if star_stack[-1][0] >= stack[-1][0]:\n",
    "                star_stack.pop()\n",
    "                stack.pop()\n",
    "            else:\n",
    "                break\n",
    "        if len(stack) != 0:\n",
    "            result = False\n",
    "\n",
    "\n",
    "        return result"
   ]
  }
 ],
 "metadata": {
  "kernelspec": {
   "display_name": "Python 3",
   "language": "python",
   "name": "python3"
  },
  "language_info": {
   "codemirror_mode": {
    "name": "ipython",
    "version": 3
   },
   "file_extension": ".py",
   "mimetype": "text/x-python",
   "name": "python",
   "nbconvert_exporter": "python",
   "pygments_lexer": "ipython3",
   "version": "3.7.3"
  }
 },
 "nbformat": 4,
 "nbformat_minor": 2
}

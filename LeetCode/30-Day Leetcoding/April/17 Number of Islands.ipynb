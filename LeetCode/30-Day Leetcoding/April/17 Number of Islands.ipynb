{
 "cells": [
  {
   "cell_type": "markdown",
   "metadata": {},
   "source": [
    " Number of Islands\n",
    "Given a 2d grid map of '1's (land) and '0's (water), count the number of islands. An island is surrounded by water and is formed by connecting adjacent lands horizontally or vertically. You may assume all four edges of the grid are all surrounded by water.\n",
    "\n",
    "Example 1:\n",
    "\n",
    "Input:\n",
    "11110\n",
    "11010\n",
    "11000\n",
    "00000\n",
    "\n",
    "Output: 1\n",
    "Example 2:\n",
    "\n",
    "Input:\n",
    "11000\n",
    "11000\n",
    "00100\n",
    "00011\n",
    "\n",
    "Output: 3\n",
    "\n",
    "class Solution:\n",
    "    def numIslands(self, grid: List[List[str]]) -> int:\n",
    "        "
   ]
  },
  {
   "cell_type": "code",
   "execution_count": 72,
   "metadata": {},
   "outputs": [],
   "source": [
    "grid = '''11000\n",
    "11000\n",
    "00100\n",
    "00011'''\n",
    "grid = [list(x) for x in grid.splitlines()]\n",
    "grid = [[\"1\",\"1\",\"0\",\"0\",\"0\"],[\"1\",\"1\",\"0\",\"0\",\"0\"],[\"0\",\"0\",\"1\",\"0\",\"0\"],[\"0\",\"0\",\"0\",\"1\",\"1\"]]"
   ]
  },
  {
   "cell_type": "code",
   "execution_count": 73,
   "metadata": {},
   "outputs": [],
   "source": [
    "WATER = '0'\n",
    "LAND = '1'"
   ]
  },
  {
   "cell_type": "code",
   "execution_count": 74,
   "metadata": {
    "scrolled": true
   },
   "outputs": [
    {
     "data": {
      "text/plain": [
       "[[0, 0, 0, 0, 0], [0, 0, 0, 0, 0], [0, 0, 0, 0, 0], [0, 0, 0, 0, 0]]"
      ]
     },
     "execution_count": 74,
     "metadata": {},
     "output_type": "execute_result"
    }
   ],
   "source": [
    "ROW = len(grid)\n",
    "COL = len(grid[0])\n",
    "\n",
    "visited = [[0] * COL for x in range(ROW)]\n",
    "visited"
   ]
  },
  {
   "cell_type": "code",
   "execution_count": 75,
   "metadata": {},
   "outputs": [],
   "source": [
    "result = [0]\n",
    "dx = [0,0, 1,-1]\n",
    "dy = [1,-1,0,0]\n",
    "\n",
    "def bfs(row, col,ROW, COL):\n",
    "    if grid[row][col] == WATER or visited[row][col] == 1:\n",
    "        return\n",
    "    result[0] += 1\n",
    "    queue = [(row, col)]\n",
    "    visited[row][col] = 1\n",
    "    while(queue):\n",
    "        cur_row, cur_col = queue.pop()\n",
    "        \n",
    "        for d in range(4):\n",
    "            next_row, next_col = cur_row + dx[d], cur_col + dy[d]\n",
    "            \n",
    "            if next_row < 0 or next_row >= ROW or next_col < 0 \\\n",
    "            or next_col >= COL or visited[next_row][next_col] == 1:\n",
    "                continue\n",
    "            if grid[next_row][next_col] == WATER:\n",
    "                continue\n",
    "            visited[next_row][next_col] = 1\n",
    "            queue.append((next_row, next_col))\n",
    "    return"
   ]
  },
  {
   "cell_type": "code",
   "execution_count": 78,
   "metadata": {},
   "outputs": [],
   "source": [
    "for r in range(ROW):\n",
    "    for c in range(COL):\n",
    "        bfs(r,c,ROW,COL)"
   ]
  },
  {
   "cell_type": "code",
   "execution_count": 79,
   "metadata": {},
   "outputs": [
    {
     "data": {
      "text/plain": [
       "[[1, 1, 0, 0, 0], [1, 1, 0, 0, 0], [0, 0, 1, 0, 0], [0, 0, 0, 1, 1]]"
      ]
     },
     "execution_count": 79,
     "metadata": {},
     "output_type": "execute_result"
    }
   ],
   "source": [
    "visited"
   ]
  },
  {
   "cell_type": "code",
   "execution_count": 80,
   "metadata": {},
   "outputs": [
    {
     "data": {
      "text/plain": [
       "[3]"
      ]
     },
     "execution_count": 80,
     "metadata": {},
     "output_type": "execute_result"
    }
   ],
   "source": [
    "result"
   ]
  },
  {
   "cell_type": "code",
   "execution_count": 70,
   "metadata": {},
   "outputs": [
    {
     "data": {
      "text/plain": [
       "[['1', '1', '0', '0', '0'],\n",
       " ['1', '1', '0', '0', '0'],\n",
       " ['0', '0', '1', '0', '0'],\n",
       " ['0', '0', '0', '1', '1']]"
      ]
     },
     "execution_count": 70,
     "metadata": {},
     "output_type": "execute_result"
    }
   ],
   "source": [
    "grid"
   ]
  },
  {
   "cell_type": "code",
   "execution_count": null,
   "metadata": {},
   "outputs": [],
   "source": [
    "result = [0]\n",
    "dx = [0,0, 1,-1]\n",
    "dy = [1,-1,0,0]\n",
    "WATER = '0'\n",
    "LAND = '1'\n",
    "\n",
    "def bfs(row, col, ROW, COL, visited, grid):\n",
    "    if grid[row][col] == WATER or visited[row][col] == 1:\n",
    "        return\n",
    "    result[0] += 1\n",
    "    queue = [(row, col)]\n",
    "    visited[row][col] = 1\n",
    "    while(queue):\n",
    "        cur_row, cur_col = queue.pop()\n",
    "        \n",
    "        for d in range(4):\n",
    "            next_row, next_col = cur_row + dx[d], cur_col + dy[d]\n",
    "            \n",
    "            if next_row < 0 or next_row >= ROW or next_col < 0 \\\n",
    "            or next_col >= COL or visited[next_row][next_col] == 1:\n",
    "                continue\n",
    "            if grid[next_row][next_col] == WATER:\n",
    "                continue\n",
    "            visited[next_row][next_col] = 1\n",
    "            queue.append((next_row, next_col))\n",
    "    return\n",
    "\n",
    "class Solution:\n",
    "    def numIslands(self, grid: List[List[str]]) -> int:\n",
    "        if grid == []:\n",
    "            return 0\n",
    "        \n",
    "        result[0] = 0\n",
    "        ROW = len(grid)\n",
    "        COL = len(grid[0])\n",
    "\n",
    "        visited = [[0] * COL for x in range(ROW)]\n",
    "        for r in range(ROW):\n",
    "            for c in range(COL):\n",
    "                if grid[r][c] != WATER:\n",
    "                    bfs(r,c,ROW,COL,visited,grid)\n",
    "                    \n",
    "        return result[0]"
   ]
  }
 ],
 "metadata": {
  "kernelspec": {
   "display_name": "Python 3",
   "language": "python",
   "name": "python3"
  },
  "language_info": {
   "codemirror_mode": {
    "name": "ipython",
    "version": 3
   },
   "file_extension": ".py",
   "mimetype": "text/x-python",
   "name": "python",
   "nbconvert_exporter": "python",
   "pygments_lexer": "ipython3",
   "version": "3.7.3"
  }
 },
 "nbformat": 4,
 "nbformat_minor": 2
}

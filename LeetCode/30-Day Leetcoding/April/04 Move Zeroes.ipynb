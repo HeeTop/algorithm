{
 "cells": [
  {
   "cell_type": "markdown",
   "metadata": {},
   "source": [
    "Given an array nums, write a function to move all 0's to the end of it while maintaining the relative order of the non-zero elements.\n",
    "\n",
    "Example:\n",
    "\n",
    "Input: [0,1,0,3,12]\n",
    "Output: [1,3,12,0,0]\n",
    "Note:\n",
    "\n",
    "You must do this in-place without making a copy of the array.\n",
    "Minimize the total number of operations.\n",
    "\n"
   ]
  },
  {
   "cell_type": "code",
   "execution_count": 41,
   "metadata": {},
   "outputs": [],
   "source": [
    "nums = [0,1,0,3,12]"
   ]
  },
  {
   "cell_type": "code",
   "execution_count": 36,
   "metadata": {},
   "outputs": [],
   "source": [
    "# 일반 풀이\n",
    "index = 0\n",
    "zero_indexs = []\n",
    "\n",
    "for index, num in enumerate(nums):\n",
    "    if num == 0:\n",
    "        zero_indexs.append(index)\n",
    "    else:\n",
    "        if len(zero_indexs) == 0:\n",
    "            continue\n",
    "        else:\n",
    "            zero_index = zero_indexs.pop(0)\n",
    "            nums[zero_index], nums[index] = nums[index], nums[zero_index]\n",
    "            zero_indexs.append(index)"
   ]
  },
  {
   "cell_type": "code",
   "execution_count": 37,
   "metadata": {
    "scrolled": true
   },
   "outputs": [
    {
     "data": {
      "text/plain": [
       "[1, 3, 12, 0, 0]"
      ]
     },
     "execution_count": 37,
     "metadata": {},
     "output_type": "execute_result"
    }
   ],
   "source": [
    "class Solution:\n",
    "    def moveZeroes(self, nums: List[int]) -> None:\n",
    "        # 00, 01, 10, 11\n",
    "        if len(nums) <= 1:\n",
    "            return\n",
    "\n",
    "        first, second = 0, 1\n",
    "        while first < second and second < len(nums):\n",
    "            if nums[first] == 0 and nums[second] == 0:\n",
    "                second += 1\n",
    "                continue\n",
    "            elif nums[first] == 0 and nums[second] != 0:\n",
    "                nums[first], nums[second] = nums[second], nums[first]\n",
    "\n",
    "            first += 1\n",
    "            second += 1\n",
    "        return"
   ]
  },
  {
   "cell_type": "code",
   "execution_count": 58,
   "metadata": {},
   "outputs": [
    {
     "data": {
      "text/plain": [
       "[0, 1, 0, 3, 12]"
      ]
     },
     "execution_count": 58,
     "metadata": {},
     "output_type": "execute_result"
    }
   ],
   "source": [
    "nums = [0,1,0,3,12]\n",
    "nums"
   ]
  },
  {
   "cell_type": "code",
   "execution_count": 59,
   "metadata": {},
   "outputs": [],
   "source": [
    "# 00, 01, 10, 11\n",
    "if len(nums) <= 1:\n",
    "    return\n",
    "\n",
    "first, second = 0, 1\n",
    "while first < second and second < len(nums):\n",
    "    if nums[first] == 0 and nums[second] == 0:\n",
    "        second += 1\n",
    "        continue\n",
    "    elif nums[first] == 0 and nums[second] != 0:\n",
    "        nums[first], nums[second] = nums[second], nums[first]\n",
    "        \n",
    "    first += 1\n",
    "    second += 1\n"
   ]
  },
  {
   "cell_type": "code",
   "execution_count": 60,
   "metadata": {},
   "outputs": [
    {
     "data": {
      "text/plain": [
       "[1, 3, 12, 0, 0]"
      ]
     },
     "execution_count": 60,
     "metadata": {},
     "output_type": "execute_result"
    }
   ],
   "source": [
    "nums"
   ]
  },
  {
   "cell_type": "code",
   "execution_count": null,
   "metadata": {},
   "outputs": [],
   "source": []
  },
  {
   "cell_type": "code",
   "execution_count": null,
   "metadata": {},
   "outputs": [],
   "source": []
  },
  {
   "cell_type": "code",
   "execution_count": null,
   "metadata": {},
   "outputs": [],
   "source": []
  }
 ],
 "metadata": {
  "kernelspec": {
   "display_name": "Python 3",
   "language": "python",
   "name": "python3"
  },
  "language_info": {
   "codemirror_mode": {
    "name": "ipython",
    "version": 3
   },
   "file_extension": ".py",
   "mimetype": "text/x-python",
   "name": "python",
   "nbconvert_exporter": "python",
   "pygments_lexer": "ipython3",
   "version": "3.7.3"
  }
 },
 "nbformat": 4,
 "nbformat_minor": 2
}

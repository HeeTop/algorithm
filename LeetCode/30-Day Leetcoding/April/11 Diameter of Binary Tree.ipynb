{
 "cells": [
  {
   "cell_type": "markdown",
   "metadata": {},
   "source": [
    "Given a binary tree, you need to compute the length of the diameter of the tree. The diameter of a binary tree is the length of the longest path between any two nodes in a tree. This path may or may not pass through the root.\n",
    "\n",
    "Example:\n",
    "Given a binary tree\n",
    "          1\n",
    "         / \\\n",
    "        2   3\n",
    "       / \\     \n",
    "      4   5    \n",
    "Return 3, which is the length of the path [4,2,1,3] or [5,2,1,3].\n",
    "\n",
    "Note: The length of path between two nodes is represented by the number of edges between them."
   ]
  },
  {
   "cell_type": "code",
   "execution_count": null,
   "metadata": {},
   "outputs": [],
   "source": [
    "# Definition for a binary tree node.\n",
    "class TreeNode:\n",
    "    def __init__(self, x):\n",
    "        self.val = x\n",
    "        self.left = None\n",
    "        self.right = None\n",
    "\n",
    "result = [0]\n",
    "\n",
    "def dfs(node: TreeNode, depth: int):\n",
    "    if node == None:\n",
    "        return [0, 0]\n",
    "    \n",
    "    left_node = node.left\n",
    "    right_node = node.right\n",
    "        \n",
    "    max_lefts = [0, 0]\n",
    "    max_rights = [0, 0]\n",
    "\n",
    "    if left_node:\n",
    "        max_lefts = dfs(left_node, depth + 1)\n",
    "        left_depth = max(max_lefts) + 1\n",
    "    else:\n",
    "        left_depth = 0\n",
    "\n",
    "    if right_node:\n",
    "        max_rights = dfs(right_node, depth + 1)\n",
    "        right_depth = max(max_rights) + 1\n",
    "    else:\n",
    "        right_depth = 0\n",
    "        \n",
    "\n",
    "    result[0] = max(result[0], left_depth + right_depth)\n",
    "    \n",
    "    \n",
    "    return [left_depth, right_depth]\n",
    "    \n",
    "class Solution:\n",
    "    def diameterOfBinaryTree(self, root: TreeNode) -> int:\n",
    "        result[0] = 0\n",
    "        dfs(root, 0)\n",
    "        return result[0]"
   ]
  },
  {
   "cell_type": "code",
   "execution_count": null,
   "metadata": {},
   "outputs": [],
   "source": []
  }
 ],
 "metadata": {
  "kernelspec": {
   "display_name": "Python 3",
   "language": "python",
   "name": "python3"
  },
  "language_info": {
   "codemirror_mode": {
    "name": "ipython",
    "version": 3
   },
   "file_extension": ".py",
   "mimetype": "text/x-python",
   "name": "python",
   "nbconvert_exporter": "python",
   "pygments_lexer": "ipython3",
   "version": "3.7.3"
  }
 },
 "nbformat": 4,
 "nbformat_minor": 2
}

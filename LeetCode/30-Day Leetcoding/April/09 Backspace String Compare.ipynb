{
 "cells": [
  {
   "cell_type": "markdown",
   "metadata": {},
   "source": [
    "Backspace String Compare\n",
    "Given two strings S and T, return if they are equal when both are typed into empty text editors. # means a backspace character.\n",
    "\n",
    "Example 1:\n",
    "\n",
    "Input: S = \"ab#c\", T = \"ad#c\"\n",
    "Output: true\n",
    "Explanation: Both S and T become \"ac\".\n",
    "Example 2:\n",
    "\n",
    "Input: S = \"ab##\", T = \"c#d#\"\n",
    "Output: true\n",
    "Explanation: Both S and T become \"\".\n",
    "Example 3:\n",
    "\n",
    "Input: S = \"a##c\", T = \"#a#c\"\n",
    "Output: true\n",
    "Explanation: Both S and T become \"c\".\n",
    "Example 4:\n",
    "\n",
    "Input: S = \"a#c\", T = \"b\"\n",
    "Output: false\n",
    "Explanation: S becomes \"c\" while T becomes \"b\".\n",
    "Note:\n",
    "\n",
    "1 <= S.length <= 200\n",
    "1 <= T.length <= 200\n",
    "S and T only contain lowercase letters and '#' characters.\n",
    "Follow up:\n",
    "\n",
    "Can you solve it in O(N) time and O(1) space?"
   ]
  },
  {
   "cell_type": "code",
   "execution_count": 46,
   "metadata": {},
   "outputs": [],
   "source": [
    "S = 'a#c'\n",
    "S = list(S)\n",
    "T = '#a#c'"
   ]
  },
  {
   "cell_type": "code",
   "execution_count": 47,
   "metadata": {},
   "outputs": [],
   "source": [
    " def parse_backspace(string):\n",
    "    string = list(string)\n",
    "    i = 0\n",
    "    while(i < len(string)):\n",
    "\n",
    "        if string[i] == '#':\n",
    "            if i == 0:\n",
    "                del string[i]\n",
    "            else:\n",
    "                del string[i - 1]\n",
    "                del string[i - 1]\n",
    "                i -= 1\n",
    "            continue\n",
    "        i += 1\n",
    "    return ''.join(string)"
   ]
  },
  {
   "cell_type": "code",
   "execution_count": 49,
   "metadata": {},
   "outputs": [
    {
     "data": {
      "text/plain": [
       "'c'"
      ]
     },
     "execution_count": 49,
     "metadata": {},
     "output_type": "execute_result"
    }
   ],
   "source": [
    "parse_backspace(S)"
   ]
  },
  {
   "cell_type": "code",
   "execution_count": 36,
   "metadata": {},
   "outputs": [
    {
     "data": {
      "text/plain": [
       "['c']"
      ]
     },
     "execution_count": 36,
     "metadata": {},
     "output_type": "execute_result"
    }
   ],
   "source": [
    "S"
   ]
  },
  {
   "cell_type": "code",
   "execution_count": 50,
   "metadata": {},
   "outputs": [],
   "source": [
    "def parse_backspace(string):\n",
    "    string = list(string)\n",
    "    i = 0\n",
    "    while(i < len(string)):\n",
    "\n",
    "        if string[i] == '#':\n",
    "            if i == 0:\n",
    "                del string[i]\n",
    "            else:\n",
    "                del string[i - 1]\n",
    "                del string[i - 1]\n",
    "                i -= 1\n",
    "            continue\n",
    "        i += 1\n",
    "    return ''.join(string)\n",
    "\n",
    "class Solution:\n",
    "    def backspaceCompare(self, S: str, T: str) -> bool:\n",
    "        return parse_backspace(S) == parse_backspace(T)"
   ]
  },
  {
   "cell_type": "code",
   "execution_count": null,
   "metadata": {},
   "outputs": [],
   "source": []
  }
 ],
 "metadata": {
  "kernelspec": {
   "display_name": "Python 3.7.7 64-bit",
   "language": "python",
   "name": "python37764bit5ba3a1ec1028451381e4ec7c76e8055f"
  },
  "language_info": {
   "codemirror_mode": {
    "name": "ipython",
    "version": 3
   },
   "file_extension": ".py",
   "mimetype": "text/x-python",
   "name": "python",
   "nbconvert_exporter": "python",
   "pygments_lexer": "ipython3",
   "version": "3.7.7"
  }
 },
 "nbformat": 4,
 "nbformat_minor": 4
}

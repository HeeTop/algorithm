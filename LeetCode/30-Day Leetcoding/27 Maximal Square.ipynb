{
 "cells": [
  {
   "cell_type": "markdown",
   "metadata": {},
   "source": [
    "  Maximal Square\n",
    "Given a 2D binary matrix filled with 0's and 1's, find the largest square containing only 1's and return its area.\n",
    "\n",
    "Example:\n",
    "\n",
    "Input: \n",
    "\n",
    "1 0 1 0 0\n",
    "1 0 1 1 1\n",
    "1 1 1 1 1\n",
    "1 0 0 1 0\n",
    "\n",
    "Output: 4"
   ]
  },
  {
   "cell_type": "code",
   "execution_count": 268,
   "metadata": {},
   "outputs": [],
   "source": [
    "matrix =[[\"1\",\"1\",\"1\",\"1\",\"1\",\"1\",\"1\",\"1\"],[\"1\",\"1\",\"1\",\"1\",\"1\",\"1\",\"1\",\"0\"],[\"1\",\"1\",\"1\",\"1\",\"1\",\"1\",\"1\",\"0\"],[\"1\",\"1\",\"1\",\"1\",\"1\",\"0\",\"0\",\"0\"],[\"0\",\"1\",\"1\",\"1\",\"1\",\"0\",\"0\",\"0\"]]\n",
    "ROW = len(matrix)\n",
    "COL = len(matrix[0])\n",
    "visited = [[0] * COL for i in range(ROW)]"
   ]
  },
  {
   "cell_type": "code",
   "execution_count": 273,
   "metadata": {},
   "outputs": [],
   "source": [
    "matrix =[[\"1\",\"0\",\"1\",\"0\",\"0\"],[\"1\",\"0\",\"1\",\"1\",\"1\"],[\"1\",\"1\",\"1\",\"1\",\"1\"],[\"1\",\"0\",\"0\",\"1\",\"0\"]]\n",
    "ROW = len(matrix)\n",
    "COL = len(matrix[0])\n",
    "visited = [[0] * COL for i in range(ROW)]"
   ]
  },
  {
   "cell_type": "code",
   "execution_count": 274,
   "metadata": {
    "scrolled": false
   },
   "outputs": [
    {
     "name": "stdout",
     "output_type": "stream",
     "text": [
      "['1', '0', '1', '0', '0']\n",
      "['1', '0', '1', '1', '1']\n",
      "['1', '1', '1', '1', '1']\n",
      "['1', '0', '0', '1', '0']\n"
     ]
    }
   ],
   "source": [
    "for m  in matrix:\n",
    "    print(m)"
   ]
  },
  {
   "cell_type": "code",
   "execution_count": 275,
   "metadata": {},
   "outputs": [
    {
     "data": {
      "text/plain": [
       "(4, 5)"
      ]
     },
     "execution_count": 275,
     "metadata": {},
     "output_type": "execute_result"
    }
   ],
   "source": [
    "ROW, COL"
   ]
  },
  {
   "cell_type": "code",
   "execution_count": 212,
   "metadata": {},
   "outputs": [],
   "source": [
    "matrix =[[\"0\",\"1\"]]\n",
    "ROW = len(matrix)\n",
    "COL = len(matrix[0])\n",
    "visited = [[0] * COL for i in range(ROW)]"
   ]
  },
  {
   "cell_type": "code",
   "execution_count": 291,
   "metadata": {},
   "outputs": [],
   "source": [
    "def is_square(row, col, size, matrix, visited):\n",
    "    ROW = len(matrix)\n",
    "    COL = len(matrix[0])\n",
    "    \n",
    "    if matrix[row][col] == '0':\n",
    "        return False\n",
    "    \n",
    "    for i in range(size + 1):\n",
    "        cur_row = row + size\n",
    "        cur_col = col + size\n",
    "        if cur_row >= ROW or cur_col >= COL or matrix[cur_row][cur_col] == '0':\n",
    "            return False\n",
    "        \n",
    "        if matrix[cur_row][col + i] == '1':\n",
    "            visited[cur_row][col + i] = 1\n",
    "        else:\n",
    "            return False\n",
    "        \n",
    "        if matrix[row + i][cur_col] == '1':\n",
    "            visited[row + i][cur_col] = 1\n",
    "        else:\n",
    "            return False\n",
    "        \n",
    "    return True"
   ]
  },
  {
   "cell_type": "code",
   "execution_count": 293,
   "metadata": {
    "scrolled": true
   },
   "outputs": [
    {
     "data": {
      "text/plain": [
       "True"
      ]
     },
     "execution_count": 293,
     "metadata": {},
     "output_type": "execute_result"
    }
   ],
   "source": [
    "is_square(1,2, 1, matrix, visited)"
   ]
  },
  {
   "cell_type": "code",
   "execution_count": 290,
   "metadata": {},
   "outputs": [
    {
     "data": {
      "text/plain": [
       "'1'"
      ]
     },
     "execution_count": 290,
     "metadata": {},
     "output_type": "execute_result"
    }
   ],
   "source": [
    "matrix[2][3]"
   ]
  },
  {
   "cell_type": "code",
   "execution_count": 272,
   "metadata": {
    "scrolled": true
   },
   "outputs": [
    {
     "data": {
      "text/plain": [
       "True"
      ]
     },
     "execution_count": 272,
     "metadata": {},
     "output_type": "execute_result"
    }
   ],
   "source": [
    "is_square(0,0,3,matrix,visited)"
   ]
  },
  {
   "cell_type": "code",
   "execution_count": 255,
   "metadata": {},
   "outputs": [
    {
     "data": {
      "text/plain": [
       "'0'"
      ]
     },
     "execution_count": 255,
     "metadata": {},
     "output_type": "execute_result"
    }
   ],
   "source": [
    "matrix[4][0]"
   ]
  },
  {
   "cell_type": "code",
   "execution_count": 266,
   "metadata": {},
   "outputs": [],
   "source": [
    "def max_square(matrix):\n",
    "    ROW = len(matrix)\n",
    "    COL = len(matrix[0])\n",
    "    visited = [[0] * COL for i in range(ROW)]\n",
    "    result = -1\n",
    "    \n",
    "    for row in range(ROW):\n",
    "        for col in range(COL):\n",
    "            count = -1\n",
    "            if visited[row][col]:\n",
    "                continue\n",
    "            while(True):\n",
    "                if is_square(row, col, count, matrix, visited):\n",
    "                    count += 1\n",
    "                else:\n",
    "                    result = max(count, result)\n",
    "                    break\n",
    "    return result\n"
   ]
  },
  {
   "cell_type": "code",
   "execution_count": 294,
   "metadata": {
    "scrolled": true
   },
   "outputs": [
    {
     "data": {
      "text/plain": [
       "2"
      ]
     },
     "execution_count": 294,
     "metadata": {},
     "output_type": "execute_result"
    }
   ],
   "source": [
    "max_square(matrix)"
   ]
  },
  {
   "cell_type": "code",
   "execution_count": 270,
   "metadata": {},
   "outputs": [
    {
     "data": {
      "text/plain": [
       "[['1', '1', '1', '1', '1', '1', '1', '1'],\n",
       " ['1', '1', '1', '1', '1', '1', '1', '0'],\n",
       " ['1', '1', '1', '1', '1', '1', '1', '0'],\n",
       " ['1', '1', '1', '1', '1', '0', '0', '0'],\n",
       " ['0', '1', '1', '1', '1', '0', '0', '0']]"
      ]
     },
     "execution_count": 270,
     "metadata": {},
     "output_type": "execute_result"
    }
   ],
   "source": [
    "matrix"
   ]
  },
  {
   "cell_type": "code",
   "execution_count": 37,
   "metadata": {},
   "outputs": [],
   "source": [
    "def is_square(row, col, size, matrix, visited):\n",
    "    ROW = len(matrix)\n",
    "    COL = len(matrix[0])\n",
    "    \n",
    "    if matrix[row][col] == '0':\n",
    "        return False\n",
    "    \n",
    "    for i in range(size + 1):\n",
    "        cur_row = row + size\n",
    "        cur_col = col + size\n",
    "        if cur_row >= ROW or cur_col >= COL or matrix[cur_row][cur_col] == '0':\n",
    "            return False\n",
    "        \n",
    "        if matrix[cur_row][col + i] == '1':\n",
    "            visited[cur_row][col + i] = 1\n",
    "        else:\n",
    "            return False\n",
    "        \n",
    "        if matrix[row + i][cur_col] == '1':\n",
    "            visited[row + i][cur_col] = 1\n",
    "        else:\n",
    "            return False\n",
    "        \n",
    "    return True\n",
    "\n",
    "def max_square(matrix):\n",
    "    ROW = len(matrix)\n",
    "    COL = len(matrix[0])\n",
    "    visited = [[0] * COL for i in range(ROW)]\n",
    "    result = -1\n",
    "    \n",
    "    for row in range(ROW):\n",
    "        for col in range(COL):\n",
    "            count = 0\n",
    "            \n",
    "            while(True):\n",
    "                if is_square(row, col, count, matrix, visited):\n",
    "                    count += 1\n",
    "                else:\n",
    "                    result = max(count, result)\n",
    "                    break\n",
    "    return result\n",
    "\n",
    "\n",
    "class Solution:\n",
    "    def maximalSquare(self, matrix) -> int:\n",
    "        if matrix == []:\n",
    "            return 0\n",
    "        result = max_square(matrix)\n",
    "        if result > 0:\n",
    "            return result*result\n",
    "        else:\n",
    "            return 0\n"
   ]
  },
  {
   "cell_type": "markdown",
   "metadata": {},
   "source": [
    " ## 참고"
   ]
  },
  {
   "cell_type": "code",
   "execution_count": 296,
   "metadata": {},
   "outputs": [],
   "source": [
    "class Solution:\n",
    "    def maximalSquare(self, matrix) -> int:    \n",
    "        n = len(matrix)\n",
    "        m = len(matrix[0]) if n > 0 else 0\n",
    "        \n",
    "        dp = [[0 for i in range(m + 1)] for j in range(n + 1)]\n",
    "        \n",
    "        maximal = 0\n",
    "        for y in range(1, n + 1):\n",
    "            for x in range(1, m + 1):\n",
    "                if matrix[y - 1][x - 1] == '1':\n",
    "                    dp[y][x] = min(dp[y - 1][x - 1], dp[y - 1][x], dp[y][x - 1]) + 1\n",
    "                    maximal = max(maximal, dp[y][x])       \n",
    "        \n",
    "        return maximal**2"
   ]
  },
  {
   "cell_type": "code",
   "execution_count": null,
   "metadata": {},
   "outputs": [],
   "source": []
  }
 ],
 "metadata": {
  "kernelspec": {
   "display_name": "Python 3",
   "language": "python",
   "name": "python3"
  },
  "language_info": {
   "codemirror_mode": {
    "name": "ipython",
    "version": 3
   },
   "file_extension": ".py",
   "mimetype": "text/x-python",
   "name": "python",
   "nbconvert_exporter": "python",
   "pygments_lexer": "ipython3",
   "version": "3.7.7"
  }
 },
 "nbformat": 4,
 "nbformat_minor": 4
}

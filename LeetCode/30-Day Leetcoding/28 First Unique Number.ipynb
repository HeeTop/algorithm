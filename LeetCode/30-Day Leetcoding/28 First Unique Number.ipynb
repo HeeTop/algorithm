{
 "cells": [
  {
   "cell_type": "markdown",
   "metadata": {},
   "source": [
    "You have a queue of integers, you need to retrieve the first unique integer in the queue.\n",
    "\n",
    "Implement the FirstUnique class:\n",
    "\n",
    "FirstUnique(int[] nums) Initializes the object with the numbers in the queue.\n",
    "int showFirstUnique() returns the value of the first unique integer of the queue, and returns -1 if there is no such integer.\n",
    "void add(int value) insert value to the queue.\n",
    " \n",
    "\n",
    "Example 1:\n",
    "\n",
    "Input: \n",
    "[\"FirstUnique\",\"showFirstUnique\",\"add\",\"showFirstUnique\",\"add\",\"showFirstUnique\",\"add\",\"showFirstUnique\"]\n",
    "[[[2,3,5]],[],[5],[],[2],[],[3],[]]\n",
    "Output: \n",
    "[null,2,null,2,null,3,null,-1]\n",
    "\n",
    "Explanation: \n",
    "FirstUnique firstUnique = new FirstUnique([2,3,5]);\n",
    "firstUnique.showFirstUnique(); // return 2\n",
    "firstUnique.add(5);            // the queue is now [2,3,5,5]\n",
    "firstUnique.showFirstUnique(); // return 2\n",
    "firstUnique.add(2);            // the queue is now [2,3,5,5,2]\n",
    "firstUnique.showFirstUnique(); // return 3\n",
    "firstUnique.add(3);            // the queue is now [2,3,5,5,2,3]\n",
    "firstUnique.showFirstUnique(); // return -1\n",
    "\n",
    "class FirstUnique:\n",
    "\n",
    "    def __init__(self, nums: List[int]):\n",
    "        \n",
    "\n",
    "    def showFirstUnique(self) -> int:\n",
    "        \n",
    "\n",
    "    def add(self, value: int) -> None:\n",
    "        \n",
    "\n",
    "Your FirstUnique object will be instantiated and called as such:\n",
    "obj = FirstUnique(nums)\n",
    "param_1 = obj.showFirstUnique()\n",
    "obj.add(value)\n"
   ]
  },
  {
   "cell_type": "code",
   "execution_count": 9,
   "metadata": {},
   "outputs": [],
   "source": [
    "queue = []\n",
    "num_dict = {}\n",
    "nums = [2,3,5]\n"
   ]
  },
  {
   "cell_type": "code",
   "execution_count": 17,
   "metadata": {},
   "outputs": [],
   "source": [
    "push_nums(queue, num_dict, nums)"
   ]
  },
  {
   "cell_type": "code",
   "execution_count": 14,
   "metadata": {},
   "outputs": [],
   "source": [
    "def push_nums(queue, num_dict, nums):\n",
    "    for num in nums:\n",
    "        if num in num_dict:\n",
    "            num_dict[num] += 1\n",
    "        else:\n",
    "            num_dict[num] = 1\n",
    "            queue.append(num)\n",
    "            \n",
    "def check(queue, num_dict):\n",
    "    while(queue):\n",
    "        if num_dict[queue[0]] == 1:\n",
    "            return queue[0]\n",
    "        else:\n",
    "            queue.pop()\n",
    "    return -1"
   ]
  },
  {
   "cell_type": "code",
   "execution_count": 18,
   "metadata": {
    "scrolled": true
   },
   "outputs": [
    {
     "data": {
      "text/plain": [
       "[2, 3, 5]"
      ]
     },
     "execution_count": 18,
     "metadata": {},
     "output_type": "execute_result"
    }
   ],
   "source": [
    "queue"
   ]
  },
  {
   "cell_type": "code",
   "execution_count": 20,
   "metadata": {
    "scrolled": true
   },
   "outputs": [
    {
     "data": {
      "text/plain": [
       "-1"
      ]
     },
     "execution_count": 20,
     "metadata": {},
     "output_type": "execute_result"
    }
   ],
   "source": [
    "check(queue, num_dict)"
   ]
  },
  {
   "cell_type": "code",
   "execution_count": null,
   "metadata": {},
   "outputs": [],
   "source": [
    "import collections\n",
    "\n",
    "class FirstUnique:\n",
    "    del_dict = {}\n",
    "    num_dict = collections.OrderedDict()\n",
    "    nums = []\n",
    "    def __init__(self, nums: List[int]):\n",
    "        self.num_dict = collections.OrderedDict()\n",
    "        self.del_dict = {}\n",
    "        self.nums = []\n",
    "        for num in nums:\n",
    "            if num in self.del_dict:\n",
    "                continue\n",
    "            elif num in self.num_dict:\n",
    "                del self.num_dict[num]\n",
    "                self.del_dict[num] = 1\n",
    "            else:\n",
    "                self.num_dict[num] = 1\n",
    "\n",
    "\n",
    "    def showFirstUnique(self) -> int:\n",
    "        for num in self.nums:\n",
    "            if num in self.del_dict:\n",
    "                continue\n",
    "            elif num in self.num_dict:\n",
    "                del self.num_dict[num]\n",
    "                self.del_dict[num] = 1\n",
    "            else:\n",
    "                self.num_dict[num] = 1\n",
    "        self.nums = []\n",
    "        \n",
    "        return next(iter(self.num_dict)) if self.del_dict else -1\n",
    "    def add(self, num: int) -> None:\n",
    "        self.nums.append(num)\n",
    "        "
   ]
  },
  {
   "cell_type": "markdown",
   "metadata": {},
   "source": [
    "## 참고"
   ]
  },
  {
   "cell_type": "code",
   "execution_count": null,
   "metadata": {},
   "outputs": [],
   "source": [
    "def push_nums(nums, num_dict, del_set):\n",
    "    for num in nums:\n",
    "        if num in del_set:\n",
    "            continue\n",
    "        elif num in num_dict:\n",
    "            del_set.add(num)\n",
    "            del num_dict[num]\n",
    "        else:\n",
    "            num_dict[num] = 1\n",
    "\n",
    "class FirstUnique:\n",
    "\n",
    "    def __init__(self, nums: List[int]):\n",
    "        self.num_dict = collections.OrderedDict()\n",
    "        self.del_set = set([])\n",
    "        self.nums = []\n",
    "        \n",
    "        push_nums(nums, self.num_dict, self.del_set)\n",
    "        \n",
    "\n",
    "    def showFirstUnique(self) -> int:\n",
    "        push_nums(self.nums, self.num_dict, self.del_set)\n",
    "        self.nums = []\n",
    "        \n",
    "        return next(iter(self.num_dict)) if self.num_dict else -1\n",
    "        \n",
    "\n",
    "    def add(self, value: int) -> None:\n",
    "        self.nums.append(value)"
   ]
  },
  {
   "cell_type": "code",
   "execution_count": null,
   "metadata": {},
   "outputs": [],
   "source": [
    "class FirstUnique:\n",
    "\n",
    "    def __init__(self, nums: List[int]):\n",
    "        self.d = collections.OrderedDict()\n",
    "        for num in nums:\n",
    "            self.d[num] = self.d.get(num, 0) + 1\n",
    "        self.removed = set()\n",
    "        for key in list(self.d.keys()):\n",
    "            if self.d[key] > 1:\n",
    "                self.removed.add(key)\n",
    "                self.d.pop(key)\n",
    "        # print(self.d)\n",
    "        # print(next(iter(self.d)))\n",
    "\n",
    "    def showFirstUnique(self) -> int:\n",
    "        return next(iter(self.d)) if self.d else -1\n",
    "        \n",
    "\n",
    "    def add(self, value: int) -> None:\n",
    "        if value not in self.removed:\n",
    "            if value in self.d:\n",
    "                self.d.pop(value)\n",
    "                self.removed.add(value)\n",
    "            else:\n",
    "                self.d[value] = 1"
   ]
  }
 ],
 "metadata": {
  "kernelspec": {
   "display_name": "Python 3",
   "language": "python",
   "name": "python3"
  },
  "language_info": {
   "codemirror_mode": {
    "name": "ipython",
    "version": 3
   },
   "file_extension": ".py",
   "mimetype": "text/x-python",
   "name": "python",
   "nbconvert_exporter": "python",
   "pygments_lexer": "ipython3",
   "version": "3.7.3"
  }
 },
 "nbformat": 4,
 "nbformat_minor": 4
}

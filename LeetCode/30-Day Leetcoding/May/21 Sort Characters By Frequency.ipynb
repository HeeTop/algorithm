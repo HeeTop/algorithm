{
 "cells": [
  {
   "cell_type": "markdown",
   "metadata": {},
   "source": [
    "Sort Characters By Frequency\n",
    "Given a string, sort it in decreasing order based on the frequency of characters.\n",
    "\n",
    "Example 1:\n",
    "\n",
    "Input:\n",
    "\"tree\"\n",
    "\n",
    "Output:\n",
    "\"eert\"\n",
    "\n",
    "Explanation:\n",
    "'e' appears twice while 'r' and 't' both appear once.\n",
    "So 'e' must appear before both 'r' and 't'. Therefore \"eetr\" is also a valid answer.\n",
    "Example 2:\n",
    "\n",
    "Input:\n",
    "\"cccaaa\"\n",
    "\n",
    "Output:\n",
    "\"cccaaa\"\n",
    "\n",
    "Explanation:\n",
    "Both 'c' and 'a' appear three times, so \"aaaccc\" is also a valid answer.\n",
    "Note that \"cacaca\" is incorrect, as the same characters must be together.\n",
    "Example 3:\n",
    "\n",
    "Input:\n",
    "\"Aabb\"\n",
    "\n",
    "Output:\n",
    "\"bbAa\"\n",
    "\n",
    "Explanation:\n",
    "\"bbaA\" is also a valid answer, but \"Aabb\" is incorrect.\n",
    "Note that 'A' and 'a' are treated as two different characters."
   ]
  },
  {
   "cell_type": "code",
   "execution_count": 19,
   "metadata": {},
   "outputs": [],
   "source": [
    "import collections\n",
    "\n",
    "s = \"Aabb\"\n",
    "count_s = collections.Counter(s)"
   ]
  },
  {
   "cell_type": "code",
   "execution_count": 20,
   "metadata": {},
   "outputs": [],
   "source": [
    "sorted_s = sorted([(y,x) for x,y in count_s.items()],reverse=True)"
   ]
  },
  {
   "cell_type": "code",
   "execution_count": 23,
   "metadata": {},
   "outputs": [],
   "source": [
    "result = [x[1]*x[0] for x in sorted_s]\n",
    "result = ''.join(result)"
   ]
  },
  {
   "cell_type": "code",
   "execution_count": 24,
   "metadata": {},
   "outputs": [
    {
     "data": {
      "text/plain": [
       "'bbaA'"
      ]
     },
     "execution_count": 24,
     "metadata": {},
     "output_type": "execute_result"
    }
   ],
   "source": [
    "result"
   ]
  },
  {
   "cell_type": "code",
   "execution_count": null,
   "metadata": {},
   "outputs": [],
   "source": [
    "import collections\n",
    "\n",
    "class Solution:\n",
    "    def frequencySort(self, s: str) -> str:\n",
    "        count_s = collections.Counter(s)\n",
    "        sorted_s = sorted([(y,x) for x,y in count_s.items()],reverse=True)\n",
    "        result = [x[1]*x[0] for x in sorted_s]\n",
    "        result = ''.join(result)\n",
    "        return result"
   ]
  }
 ],
 "metadata": {
  "kernelspec": {
   "display_name": "Python 3",
   "language": "python",
   "name": "python3"
  },
  "language_info": {
   "codemirror_mode": {
    "name": "ipython",
    "version": 3
   },
   "file_extension": ".py",
   "mimetype": "text/x-python",
   "name": "python",
   "nbconvert_exporter": "python",
   "pygments_lexer": "ipython3",
   "version": "3.7.7"
  }
 },
 "nbformat": 4,
 "nbformat_minor": 4
}

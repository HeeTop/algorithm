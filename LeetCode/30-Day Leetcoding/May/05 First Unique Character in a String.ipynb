{
 "cells": [
  {
   "cell_type": "markdown",
   "metadata": {},
   "source": [
    "First Unique Character in a String\n",
    "Given a string, find the first non-repeating character in it and return it's index. If it doesn't exist, return -1.\n",
    "\n",
    "Examples:\n",
    "\n",
    "s = \"leetcode\"\n",
    "return 0.\n",
    "\n",
    "s = \"loveleetcode\",\n",
    "return 2.\n",
    "Note: You may assume the string contain only lowercase letters."
   ]
  },
  {
   "cell_type": "code",
   "execution_count": 1,
   "metadata": {},
   "outputs": [],
   "source": [
    "S = 'loveleetcode'"
   ]
  },
  {
   "cell_type": "code",
   "execution_count": 4,
   "metadata": {},
   "outputs": [
    {
     "name": "stdout",
     "output_type": "stream",
     "text": [
      "2\n"
     ]
    }
   ],
   "source": [
    "char_dict = {}\n",
    "for i, s in enumerate(S):\n",
    "    if s in char_dict:\n",
    "        char_dict[s][1] += 1\n",
    "    else:\n",
    "        char_dict[s] = [i, 1]\n",
    "\n",
    "for s, count in char_dict.items():\n",
    "    if count[1] == 1:\n",
    "        print(count[0])\n",
    "        break"
   ]
  },
  {
   "cell_type": "code",
   "execution_count": 3,
   "metadata": {},
   "outputs": [
    {
     "data": {
      "text/plain": [
       "{'l': [0, 2],\n",
       " 'o': [1, 2],\n",
       " 'v': [2, 1],\n",
       " 'e': [3, 4],\n",
       " 't': [7, 1],\n",
       " 'c': [8, 1],\n",
       " 'd': [10, 1]}"
      ]
     },
     "execution_count": 3,
     "metadata": {},
     "output_type": "execute_result"
    }
   ],
   "source": [
    "char_dict"
   ]
  },
  {
   "cell_type": "code",
   "execution_count": null,
   "metadata": {},
   "outputs": [],
   "source": [
    "class Solution:\n",
    "    def firstUniqChar(self, S: str) -> int:\n",
    "        char_dict = {}\n",
    "        for i, s in enumerate(S):\n",
    "            if s in char_dict:\n",
    "                char_dict[s][1] += 1\n",
    "            else:\n",
    "                char_dict[s] = [i, 1]\n",
    "\n",
    "        for s, count in char_dict.items():\n",
    "            if count[1] == 1:\n",
    "                return count[0]\n",
    "        return -1"
   ]
  }
 ],
 "metadata": {
  "kernelspec": {
   "display_name": "Python 3",
   "language": "python",
   "name": "python3"
  },
  "language_info": {
   "codemirror_mode": {
    "name": "ipython",
    "version": 3
   },
   "file_extension": ".py",
   "mimetype": "text/x-python",
   "name": "python",
   "nbconvert_exporter": "python",
   "pygments_lexer": "ipython3",
   "version": "3.7.3"
  }
 },
 "nbformat": 4,
 "nbformat_minor": 2
}

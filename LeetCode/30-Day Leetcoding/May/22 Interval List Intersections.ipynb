{
 "cells": [
  {
   "cell_type": "markdown",
   "metadata": {},
   "source": [
    "Given two lists of closed intervals, each list of intervals is pairwise disjoint and in sorted order.\n",
    "\n",
    "Return the intersection of these two interval lists.\n",
    "\n",
    "(Formally, a closed interval [a, b] (with a <= b) denotes the set of real numbers x with a <= x <= b.  The intersection of two closed intervals is a set of real numbers that is either empty, or can be represented as a closed interval.  For example, the intersection of [1, 3] and [2, 4] is [2, 3].)\n",
    "\n",
    " \n",
    "\n",
    "Example 1:\n",
    "\n",
    "\n",
    "\n",
    "Input: A = [[0,2],[5,10],[13,23],[24,25]], B = [[1,5],[8,12],[15,24],[25,26]]\n",
    "Output: [[1,2],[5,5],[8,10],[15,23],[24,24],[25,25]]\n",
    "Reminder: The inputs and the desired output are lists of Interval objects, and not arrays or lists.\n",
    " "
   ]
  },
  {
   "cell_type": "code",
   "execution_count": 6,
   "metadata": {},
   "outputs": [],
   "source": [
    "A = [[3,10]]\n",
    "B = [[5,10]]\n",
    "# B = [[1,5],[8,12],[15,24],[25,26]]"
   ]
  },
  {
   "cell_type": "code",
   "execution_count": 17,
   "metadata": {},
   "outputs": [],
   "source": [
    "i = 0\n",
    "j = 0\n",
    "result = []\n",
    "while(i < len(A) and j < len(B)):\n",
    "#     안겹침\n",
    "    if A[i][1] < B[j][0]:\n",
    "        i += 1\n",
    "    elif B[j][1] < A[i][0]:\n",
    "        j += 1\n",
    "    elif A[i][0] < B[j][0]:\n",
    "        if A[i][1] < B[j][1]:\n",
    "            result.append([B[j][0], A[i][1]])\n",
    "            i+=1\n",
    "        elif A[i][1] > B[j][1]:\n",
    "            result.append(B[j])\n",
    "            j+=1\n",
    "        elif A[i][1] == B[j][1]:\n",
    "            result.append(B[j])\n",
    "            i+=1\n",
    "            j+=1\n",
    "    elif B[j][0] < A[i][0]:\n",
    "        if A[i][1] < B[j][1]:\n",
    "            result.append(A[i])\n",
    "            i += 1\n",
    "        elif A[i][1] > B[j][1]:\n",
    "            result.append([A[i][0], B[j][1]])\n",
    "            j += 1\n",
    "        else:\n",
    "            result.append(A[i])\n",
    "            i+=1\n",
    "            j+=1\n",
    "    else:\n",
    "        if A[i][1] < B[j][1]:\n",
    "            result.append(A[i])\n",
    "            i+=1\n",
    "        elif A[i][1] > B[j][1]:\n",
    "            result.append(B[j])\n",
    "            j+=1\n",
    "        else:\n",
    "            result.append(A[i])\n",
    "            i+=1\n",
    "            j+=1"
   ]
  },
  {
   "cell_type": "code",
   "execution_count": 18,
   "metadata": {},
   "outputs": [
    {
     "data": {
      "text/plain": [
       "[[5, 10]]"
      ]
     },
     "execution_count": 18,
     "metadata": {},
     "output_type": "execute_result"
    }
   ],
   "source": [
    "result"
   ]
  },
  {
   "cell_type": "code",
   "execution_count": null,
   "metadata": {},
   "outputs": [],
   "source": [
    "class Solution:\n",
    "    def intervalIntersection(self, A: List[List[int]], B: List[List[int]]) -> List[List[int]]:\n",
    "        i = 0\n",
    "        j = 0\n",
    "        result = []\n",
    "        while(i < len(A) and j < len(B)):\n",
    "        #     안겹침\n",
    "            if A[i][1] < B[j][0]:\n",
    "                i += 1\n",
    "            elif B[j][1] < A[i][0]:\n",
    "                j += 1\n",
    "            elif A[i][0] < B[j][0]:\n",
    "                if A[i][1] < B[j][1]:\n",
    "                    result.append([B[j][0], A[i][1]])\n",
    "                    i+=1\n",
    "                elif A[i][1] > B[j][1]:\n",
    "                    result.append(B[j])\n",
    "                    j+=1\n",
    "                elif A[i][1] == B[j][1]:\n",
    "                    result.append(B[j])\n",
    "                    i+=1\n",
    "                    j+=1\n",
    "            elif B[j][0] < A[i][0]:\n",
    "                if A[i][1] < B[j][1]:\n",
    "                    result.append(A[i])\n",
    "                    i += 1\n",
    "                elif A[i][1] > B[j][1]:\n",
    "                    result.append([A[i][0], B[j][1]])\n",
    "                    j += 1\n",
    "                else:\n",
    "                    result.append(A[i])\n",
    "                    i+=1\n",
    "                    j+=1\n",
    "            else:\n",
    "                if A[i][1] < B[j][1]:\n",
    "                    result.append(A[i])\n",
    "                    i+=1\n",
    "                elif A[i][1] > B[j][1]:\n",
    "                    result.append(B[j])\n",
    "                    j+=1\n",
    "                else:\n",
    "                    result.append(A[i])\n",
    "                    i+=1\n",
    "                    j+=1\n",
    "        return result"
   ]
  },
  {
   "cell_type": "code",
   "execution_count": null,
   "metadata": {},
   "outputs": [],
   "source": [
    "class Solution:\n",
    "    def intervalIntersection(self, A: List[List[int]], B: List[List[int]]) -> List[List[int]]:\n",
    "        i, j = 0,0\n",
    "        result = []\n",
    "        while i < len(A) and j < len(B):\n",
    "            a, b = A[i]\n",
    "            c, d = B[i]\n",
    "            if a<=c<=b or a<=d<=b or c<=a<=d or c<=b<=d:\n",
    "                result.append([max(a,c), min(b,d)])\n",
    "            if b<d:\n",
    "                i += 1\n",
    "            else:\n",
    "                j += 1\n",
    "        return result\n",
    "                    "
   ]
  },
  {
   "cell_type": "code",
   "execution_count": null,
   "metadata": {},
   "outputs": [],
   "source": [
    "class Solution:\n",
    "    def intervalIntersection(self, A: List[List[int]], B: List[List[int]]) -> List[List[int]]:\n",
    "        i, j = 0,0\n",
    "        result = []\n",
    "        while i < len(A) and j < len(B):\n",
    "            a, b = A[i]\n",
    "            c, d = B[i]\n",
    "            if a<=c<=b or a<=d<=b or c<=a<=d or c<=b<=d:\n",
    "                result.append([max(a,c), min(b,d)])\n",
    "            if b<d:\n",
    "                i += 1\n",
    "            else:\n",
    "                j += 1\n",
    "        return result\n",
    "                    "
   ]
  }
 ],
 "metadata": {
  "kernelspec": {
   "display_name": "Python 3",
   "language": "python",
   "name": "python3"
  },
  "language_info": {
   "codemirror_mode": {
    "name": "ipython",
    "version": 3
   },
   "file_extension": ".py",
   "mimetype": "text/x-python",
   "name": "python",
   "nbconvert_exporter": "python",
   "pygments_lexer": "ipython3",
   "version": "3.7.3"
  }
 },
 "nbformat": 4,
 "nbformat_minor": 2
}

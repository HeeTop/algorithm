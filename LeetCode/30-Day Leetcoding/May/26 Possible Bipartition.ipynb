{
 "cells": [
  {
   "cell_type": "markdown",
   "metadata": {},
   "source": [
    "Possible Bipartition\n",
    "Given a set of N people (numbered 1, 2, ..., N), we would like to split everyone into two groups of any size.\n",
    "\n",
    "Each person may dislike some other people, and they should not go into the same group. \n",
    "\n",
    "Formally, if dislikes[i] = [a, b], it means it is not allowed to put the people numbered a and b into the same group.\n",
    "\n",
    "Return true if and only if it is possible to split everyone into two groups in this way.\n",
    "\n",
    " \n",
    "\n",
    "Example 1:\n",
    "\n",
    "Input: N = 4, dislikes = [[1,2],[1,3],[2,4]]\n",
    "Output: true\n",
    "Explanation: group1 [1,4], group2 [2,3]\n",
    "Example 2:\n",
    "\n",
    "Input: N = 3, dislikes = [[1,2],[1,3],[2,3]]\n",
    "Output: false\n",
    "Example 3:\n",
    "\n",
    "Input: N = 5, dislikes = [[1,2],[2,3],[3,4],[4,5],[1,5]]\n",
    "Output: false\n",
    " \n",
    "\n",
    "Note:\n",
    "\n",
    "1 <= N <= 2000\n",
    "0 <= dislikes.length <= 10000\n",
    "1 <= dislikes[i][j] <= N\n",
    "dislikes[i][0] < dislikes[i][1]\n",
    "There does not exist i != j for which dislikes[i] == dislikes[j]."
   ]
  },
  {
   "cell_type": "code",
   "execution_count": 10,
   "metadata": {},
   "outputs": [],
   "source": [
    "dislikes = [[1,2],[2,3],[3,4],[4,5],[1,5]]"
   ]
  },
  {
   "cell_type": "code",
   "execution_count": 16,
   "metadata": {},
   "outputs": [
    {
     "name": "stdout",
     "output_type": "stream",
     "text": [
      "1 2\n",
      "2 3\n",
      "3 4\n",
      "4 5\n",
      "{1: {2}, 2: {1, 3}, 3: {2, 4}, 4: {3, 5}, 5: {4}}\n"
     ]
    }
   ],
   "source": [
    "bipartition = {}\n",
    "\n",
    "for dislike in dislikes:\n",
    "    a, b= dislike\n",
    "    if a not in bipartition or b not in bipartition:\n",
    "        print(a,b)\n",
    "        if a not in bipartition:\n",
    "            bipartition[a] = set([b])\n",
    "        else:\n",
    "            bipartition[a].add(b)\n",
    "        \n",
    "        if b not in bipartition:\n",
    "            bipartition[b] = set([a])\n",
    "        else:\n",
    "            bipartition[b].add(a)\n",
    "        continue\n",
    "    print(bipartition)\n",
    "    for c in list(bipartition[b]):\n",
    "        if a in bipartition[c]:\n",
    "            print(\"false\")\n",
    "            break\n",
    "    bipartition[a].add(b)\n",
    "    bipartition[b].add(a)"
   ]
  },
  {
   "cell_type": "code",
   "execution_count": 14,
   "metadata": {},
   "outputs": [
    {
     "data": {
      "text/plain": [
       "{1: {2, 5}, 2: {1, 3}, 3: {2, 4}, 4: {3, 5}, 5: {1, 4}}"
      ]
     },
     "execution_count": 14,
     "metadata": {},
     "output_type": "execute_result"
    }
   ],
   "source": [
    "bipartition"
   ]
  },
  {
   "cell_type": "code",
   "execution_count": null,
   "metadata": {},
   "outputs": [],
   "source": []
  }
 ],
 "metadata": {
  "kernelspec": {
   "display_name": "Python 3",
   "language": "python",
   "name": "python3"
  },
  "language_info": {
   "codemirror_mode": {
    "name": "ipython",
    "version": 3
   },
   "file_extension": ".py",
   "mimetype": "text/x-python",
   "name": "python",
   "nbconvert_exporter": "python",
   "pygments_lexer": "ipython3",
   "version": "3.7.7"
  }
 },
 "nbformat": 4,
 "nbformat_minor": 4
}

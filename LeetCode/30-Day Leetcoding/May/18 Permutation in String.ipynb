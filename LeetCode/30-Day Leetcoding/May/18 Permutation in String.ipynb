{
 "cells": [
  {
   "cell_type": "markdown",
   "metadata": {},
   "source": [
    "  Permutation in String\n",
    "Given two strings s1 and s2, write a function to return true if s2 contains the permutation of s1. In other words, one of the first string's permutations is the substring of the second string.\n",
    "\n",
    " \n",
    "\n",
    "Example 1:\n",
    "\n",
    "Input: s1 = \"ab\" s2 = \"eidbaooo\"\n",
    "Output: True\n",
    "Explanation: s2 contains one permutation of s1 (\"ba\").\n",
    "Example 2:\n",
    "\n",
    "Input:s1= \"ab\" s2 = \"eidboaoo\"\n",
    "Output: False\n",
    " \n",
    "\n",
    "Note:\n",
    "\n",
    "The input strings only contain lower case letters.\n",
    "The length of both given strings is in range [1, 10,000]."
   ]
  },
  {
   "cell_type": "code",
   "execution_count": 9,
   "metadata": {},
   "outputs": [],
   "source": [
    "s = \"acdcaeccde\"\n",
    "p = \"c\"\n",
    "s1= \"ab\" s2 = \"eidboaoo\""
   ]
  },
  {
   "cell_type": "code",
   "execution_count": 10,
   "metadata": {},
   "outputs": [],
   "source": [
    "\n",
    "slide = {}\n",
    "check = {}\n",
    "n_p = len(p)\n",
    "for char in p:\n",
    "    if char in check:\n",
    "        check[char] += 1\n",
    "    else:\n",
    "        check[char] = 1  \n",
    "result = []\n",
    "\n",
    "for i, char in enumerate(s[:len(s)-n_p + 1]):\n",
    "    if i == 0:\n",
    "        for j in range(n_p):\n",
    "            cur_char = s[j]\n",
    "            if cur_char in slide:\n",
    "                slide[cur_char] += 1\n",
    "            else:\n",
    "                slide[cur_char] = 1\n",
    "    else:\n",
    "        prev_char = s[i - 1]\n",
    "        next_char = s[i + n_p - 1]\n",
    "        slide[prev_char] -= 1\n",
    "\n",
    "        if next_char in slide:\n",
    "            slide[next_char] += 1\n",
    "        else:\n",
    "            slide[next_char] = 1\n",
    "\n",
    "        if slide[prev_char] == 0:\n",
    "            del slide[prev_char]\n",
    "    if check == slide:\n",
    "        result.append(i)"
   ]
  },
  {
   "cell_type": "code",
   "execution_count": 11,
   "metadata": {},
   "outputs": [
    {
     "data": {
      "text/plain": [
       "[3]"
      ]
     },
     "execution_count": 11,
     "metadata": {},
     "output_type": "execute_result"
    }
   ],
   "source": [
    "result"
   ]
  },
  {
   "cell_type": "code",
   "execution_count": null,
   "metadata": {},
   "outputs": [],
   "source": [
    "class Solution:\n",
    "    def checkInclusion(self, p: str, s: str) -> bool:\n",
    "        if len(s) < len(p):\n",
    "            return False\n",
    "\n",
    "        slide = {}\n",
    "        check = {}\n",
    "        n_p = len(p)\n",
    "        for char in p:\n",
    "            if char in check:\n",
    "                check[char] += 1\n",
    "            else:\n",
    "                check[char] = 1  \n",
    "        result = []\n",
    "\n",
    "        for i, char in enumerate(s[:len(s)-n_p + 1]):\n",
    "            if i == 0:\n",
    "                for j in range(n_p):\n",
    "                    cur_char = s[j]\n",
    "                    if cur_char in slide:\n",
    "                        slide[cur_char] += 1\n",
    "                    else:\n",
    "                        slide[cur_char] = 1\n",
    "            else:\n",
    "                prev_char = s[i - 1]\n",
    "                next_char = s[i + n_p - 1]\n",
    "                slide[prev_char] -= 1\n",
    "\n",
    "                if next_char in slide:\n",
    "                    slide[next_char] += 1\n",
    "                else:\n",
    "                    slide[next_char] = 1\n",
    "\n",
    "                if slide[prev_char] == 0:\n",
    "                    del slide[prev_char]\n",
    "            if check == slide:\n",
    "                return True\n",
    "        if result == []:\n",
    "            return False\n",
    "        else:\n",
    "            return True"
   ]
  }
 ],
 "metadata": {
  "kernelspec": {
   "display_name": "Python 3",
   "language": "python",
   "name": "python3"
  },
  "language_info": {
   "codemirror_mode": {
    "name": "ipython",
    "version": 3
   },
   "file_extension": ".py",
   "mimetype": "text/x-python",
   "name": "python",
   "nbconvert_exporter": "python",
   "pygments_lexer": "ipython3",
   "version": "3.7.7"
  }
 },
 "nbformat": 4,
 "nbformat_minor": 4
}

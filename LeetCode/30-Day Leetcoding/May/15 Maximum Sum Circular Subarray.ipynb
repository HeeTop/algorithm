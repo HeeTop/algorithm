{
 "cells": [
  {
   "cell_type": "markdown",
   "metadata": {},
   "source": [
    "  Maximum Sum Circular Subarray\n",
    "Given a circular array C of integers represented by A, find the maximum possible sum of a non-empty subarray of C.\n",
    "\n",
    "Here, a circular array means the end of the array connects to the beginning of the array.  (Formally, C[i] = A[i] when 0 <= i < A.length, and C[i+A.length] = C[i] when i >= 0.)\n",
    "\n",
    "Also, a subarray may only include each element of the fixed buffer A at most once.  (Formally, for a subarray C[i], C[i+1], ..., C[j], there does not exist i <= k1, k2 <= j with k1 % A.length = k2 % A.length.)\n",
    "\n",
    " \n",
    "\n",
    "Example 1:\n",
    "\n",
    "Input: [1,-2,3,-2]\n",
    "Output: 3\n",
    "Explanation: Subarray [3] has maximum sum 3\n",
    "Example 2:\n",
    "\n",
    "Input: [5,-3,5]\n",
    "Output: 10\n",
    "Explanation: Subarray [5,5] has maximum sum 5 + 5 = 10\n",
    "Example 3:\n",
    "\n",
    "Input: [3,-1,2,-1]\n",
    "Output: 4\n",
    "Explanation: Subarray [2,-1,3] has maximum sum 2 + (-1) + 3 = 4\n",
    "Example 4:\n",
    "\n",
    "Input: [3,-2,2,-3]\n",
    "Output: 3\n",
    "Explanation: Subarray [3] and [3,-2,2] both have maximum sum 3\n",
    "Example 5:\n",
    "\n",
    "Input: [-2,-3,-1]\n",
    "Output: -1\n",
    "Explanation: Subarray [-1] has maximum sum -1\n",
    " \n",
    "\n",
    "Note:\n",
    "\n",
    "-30000 <= A[i] <= 30000\n",
    "1 <= A.length <= 30000"
   ]
  },
  {
   "cell_type": "code",
   "execution_count": 146,
   "metadata": {},
   "outputs": [
    {
     "data": {
      "text/plain": [
       "[-2, -3, -1]"
      ]
     },
     "execution_count": 146,
     "metadata": {},
     "output_type": "execute_result"
    }
   ],
   "source": [
    "nums = [-2, -3, -1]\n",
    "n = len(nums)\n",
    "nums\n"
   ]
  },
  {
   "cell_type": "code",
   "execution_count": 171,
   "metadata": {},
   "outputs": [],
   "source": [
    "def kadane(nums):\n",
    "    dp = [0] * len(nums)\n",
    "    result = -10000000\n",
    "    dp[0] = nums[0]\n",
    "    \n",
    "    for i, num in enumerate(nums[1:]):\n",
    "        if dp[i] > 0:\n",
    "            dp[i + 1] = dp[i] + num\n",
    "        else:\n",
    "            dp[i + 1] = num\n",
    "            print(i + 1,num, dp)\n",
    "            \n",
    "        if result < dp[i + 1]:\n",
    "            result = dp[i + 1]\n",
    "    return result "
   ]
  },
  {
   "cell_type": "code",
   "execution_count": null,
   "metadata": {},
   "outputs": [],
   "source": [
    "def kadane(nums):\n",
    "    dp = [0] * len(nums)\n",
    "    result = -10000000\n",
    "    dp[0] = nums[0]\n",
    "    \n",
    "    for i, num in enumerate(nums[1:]):\n",
    "        if dp[i] > 0:\n",
    "            dp[i + 1] = dp[i] + num\n",
    "        else:\n",
    "            dp[i + 1] = num\n",
    "            \n",
    "        if result < dp[i + 1]:\n",
    "            result = dp[i + 1]\n",
    "    return result \n",
    "\n",
    "class Solution:\n",
    "    def maxSubarraySumCircular(self, a: List[int]) -> int:\n",
    "        n = len(a) \n",
    "        if n == 1:\n",
    "            return a[0]\n",
    "        max_kadane = kadane(a) \n",
    "        max_wrap = 0\n",
    "        for i in range(0,n): \n",
    "            max_wrap += a[i] \n",
    "            a[i] = -a[i] \n",
    "        max_wrap = max_wrap + kadane(a) \n",
    "\n",
    "        if max_wrap == 0:\n",
    "            return max_kadane\n",
    "        if max_wrap > max_kadane: \n",
    "            return max_wrap \n",
    "        else: \n",
    "            return max_kadane"
   ]
  }
 ],
 "metadata": {
  "kernelspec": {
   "display_name": "Python 3",
   "language": "python",
   "name": "python3"
  },
  "language_info": {
   "codemirror_mode": {
    "name": "ipython",
    "version": 3
   },
   "file_extension": ".py",
   "mimetype": "text/x-python",
   "name": "python",
   "nbconvert_exporter": "python",
   "pygments_lexer": "ipython3",
   "version": "3.7.3"
  }
 },
 "nbformat": 4,
 "nbformat_minor": 2
}

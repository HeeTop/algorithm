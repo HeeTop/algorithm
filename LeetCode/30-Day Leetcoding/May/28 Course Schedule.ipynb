{
 "cells": [
  {
   "cell_type": "markdown",
   "metadata": {},
   "source": [
    "Course Schedule\n",
    "There are a total of numCourses courses you have to take, labeled from 0 to numCourses-1.\n",
    "\n",
    "Some courses may have prerequisites, for example to take course 0 you have to first take course 1, which is expressed as a pair: [0,1]\n",
    "\n",
    "Given the total number of courses and a list of prerequisite pairs, is it possible for you to finish all courses?\n",
    "\n",
    " \n",
    "\n",
    "Example 1:\n",
    "\n",
    "Input: numCourses = 2, prerequisites = [[1,0]]\n",
    "Output: true\n",
    "Explanation: There are a total of 2 courses to take. \n",
    "             To take course 1 you should have finished course 0. So it is possible.\n",
    "Example 2:\n",
    "\n",
    "Input: numCourses = 2, prerequisites = [[1,0],[0,1]]\n",
    "Output: false\n",
    "Explanation: There are a total of 2 courses to take. \n",
    "             To take course 1 you should have finished course 0, and to take course 0 you should\n",
    "             also have finished course 1. So it is impossible.\n",
    " \n",
    "\n",
    "Constraints:\n",
    "\n",
    "The input prerequisites is a graph represented by a list of edges, not adjacency matrices. Read more about how a graph is represented.\n",
    "You may assume that there are no duplicate edges in the input prerequisites.\n",
    "1 <= numCourses <= 10^5"
   ]
  },
  {
   "cell_type": "code",
   "execution_count": 139,
   "metadata": {},
   "outputs": [],
   "source": [
    "prerequisites =[[0,1],[0,2],[2,0]]\n",
    "numCourses = 3"
   ]
  },
  {
   "cell_type": "code",
   "execution_count": 140,
   "metadata": {},
   "outputs": [],
   "source": [
    "parent_tree = {}\n",
    "child_tree = {}\n",
    "\n",
    "init_set = set(list(range(numCourses)))\n",
    "node_set = set([])\n",
    "\n",
    "\n",
    "for parent, child in prerequisites:\n",
    "    node_set.add(child)\n",
    "    \n",
    "    if parent not in parent_tree:\n",
    "        parent_tree[parent] = [child]\n",
    "    else:\n",
    "        parent_tree[parent].append(child)\n",
    "        \n",
    "    if child not in child_tree:\n",
    "        child_tree[child] = [parent]\n",
    "    else:\n",
    "        child_tree[child].append(parent)"
   ]
  },
  {
   "cell_type": "code",
   "execution_count": 141,
   "metadata": {},
   "outputs": [
    {
     "data": {
      "text/plain": [
       "{0: [1, 2], 2: [0]}"
      ]
     },
     "execution_count": 141,
     "metadata": {},
     "output_type": "execute_result"
    }
   ],
   "source": [
    "parent_tree"
   ]
  },
  {
   "cell_type": "code",
   "execution_count": 142,
   "metadata": {},
   "outputs": [
    {
     "data": {
      "text/plain": [
       "{1: [0], 2: [0], 0: [2]}"
      ]
     },
     "execution_count": 142,
     "metadata": {},
     "output_type": "execute_result"
    }
   ],
   "source": [
    "child_tree"
   ]
  },
  {
   "cell_type": "code",
   "execution_count": 143,
   "metadata": {},
   "outputs": [
    {
     "name": "stdout",
     "output_type": "stream",
     "text": [
      "here\n",
      "here\n",
      "here\n"
     ]
    }
   ],
   "source": [
    "# S set of all nodes with no incoming edge\n",
    "# L empty list that will contain the sorted elements\n",
    "S = init_set - node_set\n",
    "L = []\n",
    "\n",
    "while(S):\n",
    "    node = S.pop()\n",
    "    L.append(node)\n",
    "    if node not in parent_tree:\n",
    "        continue\n",
    "    for child in parent_tree[node]:\n",
    "        child_tree[child].remove(node)\n",
    "        if child_tree[child] == []:\n",
    "            S.add(child)\n",
    "\n",
    "        \n",
    "for edge in child_tree.values():\n",
    "    if edge != []:\n",
    "        print('here')"
   ]
  },
  {
   "cell_type": "code",
   "execution_count": null,
   "metadata": {},
   "outputs": [],
   "source": [
    "def init(parent_tree, child_tree, node_set, prerequisites):\n",
    "    for parent, child in prerequisites:\n",
    "        node_set.add(child)\n",
    "\n",
    "        if parent not in parent_tree:\n",
    "            parent_tree[parent] = [child]\n",
    "        else:\n",
    "            parent_tree[parent].append(child)\n",
    "\n",
    "        if child not in child_tree:\n",
    "            child_tree[child] = [parent]\n",
    "        else:\n",
    "            child_tree[child].append(parent)\n",
    "            \n",
    "class Solution:\n",
    "    def canFinish(self, numCourses: int, prerequisites: List[List[int]]) -> bool:\n",
    "        parent_tree = {}\n",
    "        child_tree = {}\n",
    "\n",
    "        init_set = set(list(range(numCourses)))\n",
    "        node_set = set([])\n",
    "        init(parent_tree, child_tree, node_set, prerequisite)\n",
    "        # S set of all nodes with no incoming edge\n",
    "        # L empty list that will contain the sorted elements\n",
    "        S = init_set - node_set\n",
    "        L = []\n",
    "\n",
    "        while(S):\n",
    "            node = S.pop()\n",
    "            L.append(node)\n",
    "            if node not in parent_tree:\n",
    "                continue\n",
    "            for child in parent_tree[node]:\n",
    "                child_tree[child].remove(node)\n",
    "                if child_tree[child] == []:\n",
    "                    S.add(child)\n",
    "\n",
    "\n",
    "        for edge in child_tree.values():\n",
    "            if edge != []:\n",
    "                return False\n",
    "        return True"
   ]
  },
  {
   "cell_type": "code",
   "execution_count": null,
   "metadata": {},
   "outputs": [],
   "source": []
  },
  {
   "cell_type": "markdown",
   "metadata": {},
   "source": [
    "## 참고"
   ]
  },
  {
   "cell_type": "code",
   "execution_count": null,
   "metadata": {},
   "outputs": [],
   "source": [
    "# DFS\n",
    "class Solution:\n",
    "    def canFinish(self, numCourses: int, prerequisites: List[List[int]]) -> bool:\n",
    "        \n",
    "        course_dict = collections.defaultdict(list)\n",
    "        \n",
    "        for p in prerequisites:\n",
    "            course_dict[p[0]].append(p[1])\n",
    "        \n",
    "        visited = set()\n",
    "        \n",
    "        path = [False] * numCourses\n",
    "        \n",
    "        for current in range(numCourses):\n",
    "            if self.isCycle(current,path,course_dict,visited):\n",
    "                return False\n",
    "        return True\n",
    "        \n",
    "        \n",
    "    def isCycle(self,current,path,course_dict,visited):\n",
    "        if current in visited:\n",
    "            return False\n",
    "\n",
    "        if path[current]:\n",
    "            return True\n",
    "\n",
    "        path[current] = True\n",
    "\n",
    "        for children in course_dict[current]:\n",
    "            if self.isCycle(children,path,course_dict,visited):\n",
    "                return True\n",
    "\n",
    "        path[current] = False\n",
    "        visited.add(current)\n",
    "        return False\n",
    "        "
   ]
  }
 ],
 "metadata": {
  "kernelspec": {
   "display_name": "Python 3",
   "language": "python",
   "name": "python3"
  },
  "language_info": {
   "codemirror_mode": {
    "name": "ipython",
    "version": 3
   },
   "file_extension": ".py",
   "mimetype": "text/x-python",
   "name": "python",
   "nbconvert_exporter": "python",
   "pygments_lexer": "ipython3",
   "version": "3.7.3"
  }
 },
 "nbformat": 4,
 "nbformat_minor": 2
}

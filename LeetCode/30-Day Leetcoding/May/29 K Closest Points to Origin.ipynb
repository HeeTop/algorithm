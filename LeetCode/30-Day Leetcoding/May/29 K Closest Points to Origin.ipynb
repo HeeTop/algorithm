{
 "cells": [
  {
   "cell_type": "markdown",
   "metadata": {},
   "source": [
    " K Closest Points to Origin\n",
    "We have a list of points on the plane.  Find the K closest points to the origin (0, 0).\n",
    "\n",
    "(Here, the distance between two points on a plane is the Euclidean distance.)\n",
    "\n",
    "You may return the answer in any order.  The answer is guaranteed to be unique (except for the order that it is in.)\n",
    "\n",
    " \n",
    "\n",
    "Example 1:\n",
    "\n",
    "Input: points = [[1,3],[-2,2]], K = 1\n",
    "Output: [[-2,2]]\n",
    "Explanation: \n",
    "The distance between (1, 3) and the origin is sqrt(10).\n",
    "The distance between (-2, 2) and the origin is sqrt(8).\n",
    "Since sqrt(8) < sqrt(10), (-2, 2) is closer to the origin.\n",
    "We only want the closest K = 1 points from the origin, so the answer is just [[-2,2]].\n",
    "Example 2:\n",
    "\n",
    "Input: points = [[3,3],[5,-1],[-2,4]], K = 2\n",
    "Output: [[3,3],[-2,4]]\n",
    "(The answer [[-2,4],[3,3]] would also be accepted.)"
   ]
  },
  {
   "cell_type": "code",
   "execution_count": null,
   "metadata": {},
   "outputs": [],
   "source": [
    "class Solution:\n",
    "    def kClosest(self, points: List[List[int]], K: int) -> List[List[int]]:\n",
    "        points.sort(key=lambda x:x[0]**2 + x[1] **2)\n",
    "        \n",
    "        return points[:K]"
   ]
  },
  {
   "cell_type": "code",
   "execution_count": 22,
   "metadata": {},
   "outputs": [],
   "source": [
    "points = [[3,3],[5,-1],[-2,4]]\n",
    "K = 1"
   ]
  },
  {
   "cell_type": "code",
   "execution_count": 23,
   "metadata": {},
   "outputs": [],
   "source": [
    "points.sort(key=lambda x:x[0]**2 + x[1] **2)"
   ]
  },
  {
   "cell_type": "code",
   "execution_count": 24,
   "metadata": {},
   "outputs": [
    {
     "data": {
      "text/plain": [
       "[[3, 3]]"
      ]
     },
     "execution_count": 24,
     "metadata": {},
     "output_type": "execute_result"
    }
   ],
   "source": [
    "for point in points:\n",
    "    dist = point[0]**2 + point[1]**2\n",
    "    if dist in point_dict:\n",
    "        point_dict[dist].append(point)\n",
    "    else:\n",
    "        point_dict[dist] = [point]\n",
    "dists = list(point_dict.keys())\n",
    "dists.sort()\n",
    "point_dict[dists[K - 1]]"
   ]
  },
  {
   "cell_type": "code",
   "execution_count": 25,
   "metadata": {},
   "outputs": [
    {
     "data": {
      "text/plain": [
       "{18: [[3, 3]], 26: [[5, -1]], 20: [[-2, 4]]}"
      ]
     },
     "execution_count": 25,
     "metadata": {},
     "output_type": "execute_result"
    }
   ],
   "source": [
    "point_dict"
   ]
  },
  {
   "cell_type": "code",
   "execution_count": null,
   "metadata": {},
   "outputs": [],
   "source": []
  }
 ],
 "metadata": {
  "kernelspec": {
   "display_name": "Python 3",
   "language": "python",
   "name": "python3"
  },
  "language_info": {
   "codemirror_mode": {
    "name": "ipython",
    "version": 3
   },
   "file_extension": ".py",
   "mimetype": "text/x-python",
   "name": "python",
   "nbconvert_exporter": "python",
   "pygments_lexer": "ipython3",
   "version": "3.7.3"
  }
 },
 "nbformat": 4,
 "nbformat_minor": 2
}

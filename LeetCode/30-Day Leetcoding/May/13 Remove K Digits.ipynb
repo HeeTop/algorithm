{
 "cells": [
  {
   "cell_type": "markdown",
   "metadata": {},
   "source": [
    "Remove K Digits\n",
    "Given a non-negative integer num represented as a string, remove k digits from the number so that the new number is the smallest possible.\n",
    "\n",
    "Note:\n",
    "The length of num is less than 10002 and will be ≥ k.\n",
    "The given num does not contain any leading zero.\n",
    "Example 1:\n",
    "\n",
    "Input: num = \"1432219\", k = 3\n",
    "Output: \"1219\"\n",
    "Explanation: Remove the three digits 4, 3, and 2 to form the new number 1219 which is the smallest.\n",
    "Example 2:\n",
    "\n",
    "Input: num = \"10200\", k = 1\n",
    "Output: \"200\"\n",
    "Explanation: Remove the leading 1 and the number is 200. Note that the output must not contain leading zeroes.\n",
    "Example 3:\n",
    "\n",
    "Input: num = \"10\", k = 2\n",
    "Output: \"0\"\n",
    "Explanation: Remove all the digits from the number and it is left with nothing which is 0.\n"
   ]
  },
  {
   "cell_type": "code",
   "execution_count": 48,
   "metadata": {},
   "outputs": [],
   "source": [
    "nums = \"1432219\"\n",
    "K = 1\n",
    "\n",
    "def remove_digint(nums, K):\n",
    "    if len(nums) == K:\n",
    "        return '0'\n",
    "    for j in range(K):\n",
    "        i = 0\n",
    "        while(i < len(nums) -1 and nums[i] <= nums[i+1]):\n",
    "            i+=1\n",
    "        nums = nums[:i] + nums[i+1:]\n",
    "    return str(int(nums))"
   ]
  },
  {
   "cell_type": "code",
   "execution_count": null,
   "metadata": {},
   "outputs": [],
   "source": [
    "def remove_digint(nums):\n",
    "    if len(nums) == 1:\n",
    "        return nums\n",
    "    if nums[1] == '0':\n",
    "        return nums[1:]\n",
    "    prev = nums[0]\n",
    "\n",
    "    for index, num in enumerate(nums[1:]):\n",
    "        index += 1\n",
    "        if prev < num:\n",
    "            return nums[:index] + nums[index + 1:]\n",
    "    return nums[:-1]"
   ]
  },
  {
   "cell_type": "code",
   "execution_count": 25,
   "metadata": {},
   "outputs": [
    {
     "name": "stdout",
     "output_type": "stream",
     "text": [
      "1\n",
      "32219\n",
      "1\n",
      "2219\n",
      "1\n",
      "219\n"
     ]
    }
   ],
   "source": [
    "for k in range(K):\n",
    "    nums = remove_digint(nums)\n",
    "    print(nums)"
   ]
  },
  {
   "cell_type": "code",
   "execution_count": 9,
   "metadata": {},
   "outputs": [
    {
     "data": {
      "text/plain": [
       "'1219'"
      ]
     },
     "execution_count": 9,
     "metadata": {},
     "output_type": "execute_result"
    }
   ],
   "source": [
    "nums"
   ]
  },
  {
   "cell_type": "code",
   "execution_count": 45,
   "metadata": {},
   "outputs": [],
   "source": [
    "class Solution:\n",
    "    def removeKdigits(self, nums: str, K: int) -> str:\n",
    "        nums = list(nums)\n",
    "        \n",
    "        if len(nums) == K:\n",
    "            return '0'\n",
    "        for j in range(K):\n",
    "            i = 0\n",
    "            while(i < len(nums) -1 and nums[i] <= nums[i+1]):\n",
    "                i+=1\n",
    "            nums = nums[:i] + nums[i+1:]\n",
    "        return str(int(''.join(nums)))"
   ]
  },
  {
   "cell_type": "code",
   "execution_count": null,
   "metadata": {},
   "outputs": [],
   "source": []
  }
 ],
 "metadata": {
  "kernelspec": {
   "display_name": "Python 3",
   "language": "python",
   "name": "python3"
  },
  "language_info": {
   "codemirror_mode": {
    "name": "ipython",
    "version": 3
   },
   "file_extension": ".py",
   "mimetype": "text/x-python",
   "name": "python",
   "nbconvert_exporter": "python",
   "pygments_lexer": "ipython3",
   "version": "3.7.3"
  }
 },
 "nbformat": 4,
 "nbformat_minor": 4
}

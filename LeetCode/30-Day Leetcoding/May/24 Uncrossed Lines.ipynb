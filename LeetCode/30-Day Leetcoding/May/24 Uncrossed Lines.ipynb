{
 "cells": [
  {
   "cell_type": "markdown",
   "metadata": {},
   "source": [
    " Uncrossed Lines\n",
    "We write the integers of A and B (in the order they are given) on two separate horizontal lines.\n",
    "\n",
    "Now, we may draw connecting lines: a straight line connecting two numbers A[i] and B[j] such that:\n",
    "\n",
    "A[i] == B[j];\n",
    "The line we draw does not intersect any other connecting (non-horizontal) line.\n",
    "Note that a connecting lines cannot intersect even at the endpoints: each number can only belong to one connecting line.\n",
    "\n",
    "Return the maximum number of connecting lines we can draw in this way.\n",
    "\n",
    " \n",
    "\n",
    "Example 1:\n",
    "\n",
    "\n",
    "Input: A = [1,4,2], B = [1,2,4]\n",
    "Output: 2\n",
    "Explanation: We can draw 2 uncrossed lines as in the diagram.\n",
    "We cannot draw 3 uncrossed lines, because the line from A[1]=4 to B[2]=4 will intersect the line from A[2]=2 to B[1]=2.\n",
    "Example 2:\n",
    "\n",
    "Input: A = [2,5,1,2,5], B = [10,5,2,1,5,2]\n",
    "Output: 3\n",
    "Example 3:\n",
    "\n",
    "Input: A = [1,3,7,1,7,5], B = [1,9,2,5,1]\n",
    "Output: 2\n",
    " "
   ]
  },
  {
   "cell_type": "code",
   "execution_count": 66,
   "metadata": {},
   "outputs": [],
   "source": [
    "A = [1,3,7,1,7,5]\n",
    "B = [1,9,2,5,1]\n",
    "dp = [[0] * len(B) for b in range(len(A))]"
   ]
  },
  {
   "cell_type": "code",
   "execution_count": 67,
   "metadata": {},
   "outputs": [
    {
     "name": "stdout",
     "output_type": "stream",
     "text": [
      "3 4 1\n",
      "5 3 5\n"
     ]
    }
   ],
   "source": [
    "result = 0\n",
    "\n",
    "for i, a in enumerate(A):\n",
    "    for j, b in enumerate(B):\n",
    "        if i == 0 and j == 0:\n",
    "            if a == b:\n",
    "                dp[0][0] = 1\n",
    "        elif i == 0:\n",
    "            if a == b:\n",
    "                dp[i][j] = 1\n",
    "            else:\n",
    "                dp[i][j] = dp[i][j-1]\n",
    "        elif j == 0:\n",
    "            if a == b:\n",
    "                dp[i][j] = 1\n",
    "            else:\n",
    "                dp[i][j] = dp[i -1][j]\n",
    "        else:\n",
    "            if a == b:\n",
    "                dp[i][j] = max(dp[i][j -1], dp[i -1][j], dp[i - 1][j - 1] +1)\n",
    "            else:\n",
    "                dp[i][j] = max(dp[i][j -1], dp[i - 1][j])\n",
    "        result = max(dp[i][j], result)\n"
   ]
  },
  {
   "cell_type": "code",
   "execution_count": 68,
   "metadata": {},
   "outputs": [
    {
     "data": {
      "text/plain": [
       "2"
      ]
     },
     "execution_count": 68,
     "metadata": {},
     "output_type": "execute_result"
    }
   ],
   "source": [
    "class Solution:\n",
    "    def maxUncrossedLines(self, A: List[int], B: List[int]) -> int:\n",
    "        dp = [[0] * len(B) for b in range(len(A))]\n",
    "        result = 0\n",
    "\n",
    "        for i, a in enumerate(A):\n",
    "            for j, b in enumerate(B):\n",
    "                if i == 0 and j == 0:\n",
    "                    if a == b:\n",
    "                        dp[0][0] = 1\n",
    "                elif i == 0:\n",
    "                    if a == b:\n",
    "                        dp[i][j] = 1\n",
    "                    else:\n",
    "                        dp[i][j] = dp[i][j-1]\n",
    "                elif j == 0:\n",
    "                    if a == b:\n",
    "                        dp[i][j] = 1\n",
    "                    else:\n",
    "                        dp[i][j] = dp[i -1][j]\n",
    "                else:\n",
    "                    if a == b:\n",
    "                        dp[i][j] = max(dp[i][j -1], dp[i -1][j], dp[i - 1][j - 1] +1)\n",
    "                    else:\n",
    "                        dp[i][j] = max(dp[i][j -1], dp[i - 1][j])\n",
    "                result = max(dp[i][j], result)\n",
    "        return result"
   ]
  },
  {
   "cell_type": "code",
   "execution_count": null,
   "metadata": {},
   "outputs": [],
   "source": [
    "class Solution:\n",
    "    def maxUncrossedLines(self. A, B):\n",
    "        common = set(A) & set(B)\n",
    "        A, B = [x for x in A if x in common], [x for x in B if x in common]\n",
    "        m, n = len(A), len(B)\n",
    "        dp = [[0] *(n+1) for _ in range(m+1)]\n",
    "        for i, a in enumerate(A):\n",
    "            for j, b in enumerate(B):\n",
    "                if a == b:\n",
    "                    dp[i + 1][j + 1] = dp[i][j] + 1\n",
    "                else:\n",
    "                    dp[i +1][j+1] = max(dp[i][j+1], dp[i+1][j])\n",
    "        return dp[-1][-1]"
   ]
  }
 ],
 "metadata": {
  "kernelspec": {
   "display_name": "Python 3",
   "language": "python",
   "name": "python3"
  },
  "language_info": {
   "codemirror_mode": {
    "name": "ipython",
    "version": 3
   },
   "file_extension": ".py",
   "mimetype": "text/x-python",
   "name": "python",
   "nbconvert_exporter": "python",
   "pygments_lexer": "ipython3",
   "version": "3.7.7"
  }
 },
 "nbformat": 4,
 "nbformat_minor": 4
}

{
 "cells": [
  {
   "cell_type": "markdown",
   "metadata": {},
   "source": [
    "Find All Anagrams in a String\n",
    "Given a string s and a non-empty string p, find all the start indices of p's anagrams in s.\n",
    "\n",
    "Strings consists of lowercase English letters only and the length of both strings s and p will not be larger than 20,100.\n",
    "\n",
    "The order of output does not matter.\n",
    "\n",
    "Example 1:\n",
    "\n",
    "Input:\n",
    "s: \"cbaebabacd\" p: \"abc\"\n",
    "\n",
    "Output:\n",
    "[0, 6]\n",
    "\n",
    "Explanation:\n",
    "The substring with start index = 0 is \"cba\", which is an anagram of \"abc\".\n",
    "The substring with start index = 6 is \"bac\", which is an anagram of \"abc\".\n",
    "Example 2:\n",
    "\n",
    "Input:\n",
    "s: \"abab\" p: \"ab\"\n",
    "\n",
    "Output:\n",
    "[0, 1, 2]\n",
    "\n",
    "Explanation:\n",
    "The substring with start index = 0 is \"ab\", which is an anagram of \"ab\".\n",
    "The substring with start index = 1 is \"ba\", which is an anagram of \"ab\".\n",
    "The substring with start index = 2 is \"ab\", which is an anagram of \"ab\"."
   ]
  },
  {
   "cell_type": "code",
   "execution_count": 57,
   "metadata": {},
   "outputs": [],
   "source": [
    "s = \"acdcaeccde\"\n",
    "p = \"c\""
   ]
  },
  {
   "cell_type": "code",
   "execution_count": 58,
   "metadata": {},
   "outputs": [],
   "source": [
    "slide = {}\n",
    "check = {}\n",
    "n_p = len(p)\n",
    "for char in p:\n",
    "    if char in check:\n",
    "        check[char] += 1\n",
    "    else:\n",
    "        check[char] = 1"
   ]
  },
  {
   "cell_type": "code",
   "execution_count": 59,
   "metadata": {},
   "outputs": [],
   "source": [
    "result = []\n",
    "\n",
    "for i, char in enumerate(s[:len(s)-n_p + 1]):\n",
    "    if i == 0:\n",
    "        for j in range(n_p):\n",
    "            cur_char = s[j]\n",
    "            if cur_char in slide:\n",
    "                slide[cur_char] += 1\n",
    "            else:\n",
    "                slide[cur_char] = 1\n",
    "    else:\n",
    "        prev_char = s[i - 1]\n",
    "        next_char = s[i + n_p - 1]\n",
    "        slide[prev_char] -= 1\n",
    "        \n",
    "        if next_char in slide:\n",
    "            slide[next_char] += 1\n",
    "        else:\n",
    "            slide[next_char] = 1\n",
    "        \n",
    "        if slide[prev_char] == 0:\n",
    "            del slide[prev_char]\n",
    "    if check == slide:\n",
    "        result.append(i)\n"
   ]
  },
  {
   "cell_type": "code",
   "execution_count": 60,
   "metadata": {},
   "outputs": [
    {
     "data": {
      "text/plain": [
       "''"
      ]
     },
     "execution_count": 60,
     "metadata": {},
     "output_type": "execute_result"
    }
   ],
   "source": [
    "s[:-n_p + 1]"
   ]
  },
  {
   "cell_type": "code",
   "execution_count": 61,
   "metadata": {},
   "outputs": [
    {
     "data": {
      "text/plain": [
       "({'c': 1}, 1)"
      ]
     },
     "execution_count": 61,
     "metadata": {},
     "output_type": "execute_result"
    }
   ],
   "source": [
    "check,n_p"
   ]
  },
  {
   "cell_type": "code",
   "execution_count": 62,
   "metadata": {},
   "outputs": [
    {
     "data": {
      "text/plain": [
       "[1, 3, 6, 7]"
      ]
     },
     "execution_count": 62,
     "metadata": {},
     "output_type": "execute_result"
    }
   ],
   "source": [
    "result"
   ]
  },
  {
   "cell_type": "code",
   "execution_count": null,
   "metadata": {},
   "outputs": [],
   "source": [
    "class Solution:\n",
    "    def findAnagrams(self, s: str, p: str) -> List[int]:\n",
    "        if len(s) < len(p):\n",
    "            return []\n",
    "        slide = {}\n",
    "        check = {}\n",
    "        n_p = len(p)\n",
    "        for char in p:\n",
    "            if char in check:\n",
    "                check[char] += 1\n",
    "            else:\n",
    "                check[char] = 1  \n",
    "        result = []\n",
    "\n",
    "        for i, char in enumerate(s[:len(s)-n_p + 1]):\n",
    "            if i == 0:\n",
    "                for j in range(n_p):\n",
    "                    cur_char = s[j]\n",
    "                    if cur_char in slide:\n",
    "                        slide[cur_char] += 1\n",
    "                    else:\n",
    "                        slide[cur_char] = 1\n",
    "            else:\n",
    "                prev_char = s[i - 1]\n",
    "                next_char = s[i + n_p - 1]\n",
    "                slide[prev_char] -= 1\n",
    "\n",
    "                if next_char in slide:\n",
    "                    slide[next_char] += 1\n",
    "                else:\n",
    "                    slide[next_char] = 1\n",
    "\n",
    "                if slide[prev_char] == 0:\n",
    "                    del slide[prev_char]\n",
    "            if check == slide:\n",
    "                result.append(i)\n",
    "        return result"
   ]
  }
 ],
 "metadata": {
  "kernelspec": {
   "display_name": "Python 3",
   "language": "python",
   "name": "python3"
  },
  "language_info": {
   "codemirror_mode": {
    "name": "ipython",
    "version": 3
   },
   "file_extension": ".py",
   "mimetype": "text/x-python",
   "name": "python",
   "nbconvert_exporter": "python",
   "pygments_lexer": "ipython3",
   "version": "3.7.3"
  }
 },
 "nbformat": 4,
 "nbformat_minor": 2
}

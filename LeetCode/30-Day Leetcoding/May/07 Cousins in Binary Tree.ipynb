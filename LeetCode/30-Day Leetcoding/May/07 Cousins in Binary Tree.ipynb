{
 "cells": [
  {
   "cell_type": "markdown",
   "metadata": {},
   "source": [
    "\n",
    "Solution\n",
    "In a binary tree, the root node is at depth 0, and children of each depth k node are at depth k+1.\n",
    "\n",
    "Two nodes of a binary tree are cousins if they have the same depth, but have different parents.\n",
    "\n",
    "We are given the root of a binary tree with unique values, and the values x and y of two different nodes in the tree.\n",
    "\n",
    "Return true if and only if the nodes corresponding to the values x and y are cousins."
   ]
  },
  {
   "cell_type": "code",
   "execution_count": null,
   "metadata": {},
   "outputs": [],
   "source": [
    "# Definition for a binary tree node.\n",
    "# class TreeNode:\n",
    "#     def __init__(self, val=0, left=None, right=None):\n",
    "#         self.val = val\n",
    "#         self.left = left\n",
    "#         self.right = right\n",
    "class Solution:\n",
    "    def isCousins(self, root: TreeNode, x: int, y: int) -> bool:\n",
    "        queue = []\n",
    "        queue.append(root)\n",
    "        next_q = []\n",
    "        level = 0\n",
    "        xy = [[-1, -1], [-1, -1]]\n",
    "        \n",
    "        while(queue):\n",
    "            node = queue.pop(0)\n",
    "            if node.left:\n",
    "                next_q.append(node.left)\n",
    "                if node.left.val == x:\n",
    "                    xy[0][0] = node.val\n",
    "                    xy[0][1] = level\n",
    "                elif node.left.val == y:\n",
    "                    xy[1][0] = node.val\n",
    "                    xy[1][1] = level\n",
    "            if node.right:\n",
    "                next_q.append(node.right)\n",
    "                if node.right.val == x:\n",
    "                    xy[0][0] = node.val\n",
    "                    xy[0][1] = level\n",
    "                elif node.right.val == y:\n",
    "                    xy[1][0] = node.val\n",
    "                    xy[1][1] = level\n",
    "            \n",
    "            if xy[0][0] != -1 and xy[1][0] != -1:\n",
    "                if xy[0][1] == xy[1][1]:\n",
    "                    if xy[0][0] == xy[1][0]:\n",
    "                        return False\n",
    "                    return True\n",
    "                else:\n",
    "                    return False\n",
    "                \n",
    "            if queue == []:\n",
    "                queue = next_q\n",
    "                next_q = []\n",
    "                level += 1"
   ]
  }
 ],
 "metadata": {
  "kernelspec": {
   "display_name": "Python 3",
   "language": "python",
   "name": "python3"
  },
  "language_info": {
   "codemirror_mode": {
    "name": "ipython",
    "version": 3
   },
   "file_extension": ".py",
   "mimetype": "text/x-python",
   "name": "python",
   "nbconvert_exporter": "python",
   "pygments_lexer": "ipython3",
   "version": "3.7.7"
  }
 },
 "nbformat": 4,
 "nbformat_minor": 4
}

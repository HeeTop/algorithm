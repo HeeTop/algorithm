{
 "cells": [
  {
   "cell_type": "markdown",
   "metadata": {},
   "source": [
    "  Valid Perfect Square\n",
    "Solution\n",
    "Given a positive integer num, write a function which returns True if num is a perfect square else False.\n",
    "\n",
    "Note: Do not use any built-in library function such as sqrt.\n",
    "\n",
    "Example 1:\n",
    "\n",
    "Input: 16\n",
    "Output: true\n",
    "Example 2:\n",
    "\n",
    "Input: 14\n",
    "Output: false"
   ]
  },
  {
   "cell_type": "code",
   "execution_count": null,
   "metadata": {},
   "outputs": [],
   "source": [
    "class Solution:\n",
    "    def isPerfectSquare(self, num: int) -> bool:\n",
    "        start = 1\n",
    "        end = 100000000\n",
    "        \n",
    "        while(start <= end):\n",
    "            mid = (start + end) // 2\n",
    "            if mid**2 > num:\n",
    "                end = mid - 1\n",
    "            elif mid**2 < num:\n",
    "                start = mid + 1\n",
    "            else:\n",
    "                return True\n",
    "        return False"
   ]
  }
 ],
 "metadata": {
  "kernelspec": {
   "display_name": "Python 3",
   "language": "python",
   "name": "python3"
  },
  "language_info": {
   "codemirror_mode": {
    "name": "ipython",
    "version": 3
   },
   "file_extension": ".py",
   "mimetype": "text/x-python",
   "name": "python",
   "nbconvert_exporter": "python",
   "pygments_lexer": "ipython3",
   "version": "3.7.3"
  }
 },
 "nbformat": 4,
 "nbformat_minor": 2
}

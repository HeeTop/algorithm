{
 "cells": [
  {
   "cell_type": "markdown",
   "metadata": {},
   "source": [
    "Count Square Submatrices with All Ones\n",
    "Given a m * n matrix of ones and zeros, return how many square submatrices have all ones.\n",
    "\n",
    " \n",
    "\n",
    "Example 1:\n",
    "\n",
    "Input: matrix =\n",
    "[\n",
    "  [0,1,1,1],\n",
    "  [1,1,1,1],\n",
    "  [0,1,1,1]\n",
    "]\n",
    "Output: 15\n",
    "Explanation: \n",
    "There are 10 squares of side 1.\n",
    "There are 4 squares of side 2.\n",
    "There is  1 square of side 3.\n",
    "Total number of squares = 10 + 4 + 1 = 15.\n",
    "Example 2:\n",
    "\n",
    "Input: matrix = \n",
    "[\n",
    "  [1,0,1],\n",
    "  [1,1,0],\n",
    "  [1,1,0]\n",
    "]\n",
    "Output: 7\n",
    "Explanation: \n",
    "There are 6 squares of side 1.  \n",
    "There is 1 square of side 2. \n",
    "Total number of squares = 6 + 1 = 7.\n",
    " \n",
    "\n",
    "Constraints:\n",
    "\n",
    "1 <= arr.length <= 300\n",
    "1 <= arr[0].length <= 300\n",
    "0 <= arr[i][j] <= 1"
   ]
  },
  {
   "cell_type": "code",
   "execution_count": 2,
   "metadata": {},
   "outputs": [],
   "source": [
    "matrix =[\n",
    "  [0,1,1,1],\n",
    "  [1,1,1,1],\n",
    "  [0,1,1,1]\n",
    "]"
   ]
  },
  {
   "cell_type": "code",
   "execution_count": 3,
   "metadata": {},
   "outputs": [],
   "source": [
    "def check(row, col, size, matrix):\n",
    "    ROW=len(matrix)\n",
    "    COL=len(matrix[0])\n",
    "    \n",
    "    if row + size - 1 >= ROW or col + size - 1 >= COL:\n",
    "        return False\n",
    "    \n",
    "    for r in range(row, row + size):\n",
    "        if matrix[r][col + size - 1] == 0:\n",
    "            return False\n",
    "    for c in range(col, col + size):\n",
    "        if matrix[row + size - 1][col] == 0:\n",
    "            return False\n",
    "    return True"
   ]
  },
  {
   "cell_type": "code",
   "execution_count": 15,
   "metadata": {},
   "outputs": [],
   "source": [
    "ROW=len(matrix)\n",
    "COL=len(matrix[0])\n",
    "dp = [[0] * COL for r in range(ROW)]\n",
    "dx = [0,0,1,-1]\n",
    "dy = [1,-1,0,0]\n",
    "\n",
    "for row in range(ROW):\n",
    "    for col in range(COL):\n",
    "        size = 1\n",
    "        \n",
    "        for i in range(4):\n",
    "            tmp_r = row + dx[i]\n",
    "            tmp_c = col + dy[i]\n",
    "            if tmp_r >= ROW or tmp_r <0 or tmp_c >=COL or tmp_c <0:\n",
    "                continue\n",
    "            size = max(dp[tmp_r][tmp_c] - 1, size)\n",
    "        \n",
    "        while(True):\n",
    "            if check(row, col, size, matrix):\n",
    "                size+=1\n",
    "            else:\n",
    "                size-=1\n",
    "                break\n",
    "        dp[row][col] = size"
   ]
  },
  {
   "cell_type": "code",
   "execution_count": 17,
   "metadata": {},
   "outputs": [
    {
     "data": {
      "text/plain": [
       "15"
      ]
     },
     "execution_count": 17,
     "metadata": {},
     "output_type": "execute_result"
    }
   ],
   "source": [
    "sum(sum(dp,[]))"
   ]
  },
  {
   "cell_type": "code",
   "execution_count": 12,
   "metadata": {},
   "outputs": [
    {
     "data": {
      "text/plain": [
       "[0, 3, 2, 1, 1, 2, 2, 1, 0, 1, 1, 1]"
      ]
     },
     "execution_count": 12,
     "metadata": {},
     "output_type": "execute_result"
    }
   ],
   "source": []
  },
  {
   "cell_type": "code",
   "execution_count": 13,
   "metadata": {},
   "outputs": [
    {
     "ename": "TypeError",
     "evalue": "unsupported operand type(s) for +: 'int' and 'list'",
     "output_type": "error",
     "traceback": [
      "\u001b[0;31m---------------------------------------------------------------------------\u001b[0m",
      "\u001b[0;31mTypeError\u001b[0m                                 Traceback (most recent call last)",
      "\u001b[0;32m<ipython-input-13-d1bbd12b795a>\u001b[0m in \u001b[0;36m<module>\u001b[0;34m\u001b[0m\n\u001b[0;32m----> 1\u001b[0;31m \u001b[0msum\u001b[0m\u001b[0;34m(\u001b[0m\u001b[0mdp\u001b[0m\u001b[0;34m)\u001b[0m\u001b[0;34m\u001b[0m\u001b[0;34m\u001b[0m\u001b[0m\n\u001b[0m",
      "\u001b[0;31mTypeError\u001b[0m: unsupported operand type(s) for +: 'int' and 'list'"
     ]
    }
   ],
   "source": [
    "def check(row, col, size, matrix):\n",
    "    ROW=len(matrix)\n",
    "    COL=len(matrix[0])\n",
    "    \n",
    "    if row + size - 1 >= ROW or col + size - 1 >= COL:\n",
    "        return False\n",
    "    \n",
    "    for r in range(row, row + size):\n",
    "        if matrix[r][col + size - 1] == 0:\n",
    "            return False\n",
    "    for c in range(col, col + size):\n",
    "        if matrix[row + size - 1][col] == 0:\n",
    "            return False\n",
    "    return True\n",
    "\n",
    "class Solution:\n",
    "    def countSquares(self, matrix: List[List[int]]) -> int:\n",
    "        ROW=len(matrix)\n",
    "        COL=len(matrix[0])\n",
    "        dp = [[0] * COL for r in range(ROW)]\n",
    "        dx = [0,0,1,-1]\n",
    "        dy = [1,-1,0,0]\n",
    "\n",
    "        for row in range(ROW):\n",
    "            for col in range(COL):\n",
    "                size = 1\n",
    "\n",
    "                for i in range(4):\n",
    "                    tmp_r = row + dx[i]\n",
    "                    tmp_c = col + dy[i]\n",
    "                    if tmp_r >= ROW or tmp_r <0 or tmp_c >=COL or tmp_c <0:\n",
    "                        continue\n",
    "                    size = max(dp[tmp_r][tmp_c] - 1, size)\n",
    "\n",
    "                while(True):\n",
    "                    if check(row, col, size, matrix):\n",
    "                        size+=1\n",
    "                    else:\n",
    "                        size-=1\n",
    "                        break\n",
    "                dp[row][col] = size\n",
    "        return sum(sum(dp,[]))"
   ]
  },
  {
   "cell_type": "code",
   "execution_count": null,
   "metadata": {},
   "outputs": [],
   "source": [
    "class Solution:\n",
    "    def countSquares(self, matrix):\n",
    "        ROW=len(matrix)\n",
    "        COL=len(matrix[0])\n",
    "        for row in range(1,ROW):\n",
    "            for col in range(1,COL):\n",
    "                if matrix[row][col] == 0:\n",
    "                    continue\n",
    "                matrix[row][col] = min(matrix[row -1][col -1], matrix[row - 1][col], matrix[row][col -1]) + 1\n",
    "        return sum((sum(x) for x in matrix))"
   ]
  }
 ],
 "metadata": {
  "kernelspec": {
   "display_name": "Python 3",
   "language": "python",
   "name": "python3"
  },
  "language_info": {
   "codemirror_mode": {
    "name": "ipython",
    "version": 3
   },
   "file_extension": ".py",
   "mimetype": "text/x-python",
   "name": "python",
   "nbconvert_exporter": "python",
   "pygments_lexer": "ipython3",
   "version": "3.7.3"
  }
 },
 "nbformat": 4,
 "nbformat_minor": 2
}

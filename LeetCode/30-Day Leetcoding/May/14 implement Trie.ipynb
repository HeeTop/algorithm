{
 "cells": [
  {
   "cell_type": "markdown",
   "metadata": {},
   "source": [
    "implement Trie (Prefix Tree)\n",
    "Implement a trie with insert, search, and startsWith methods.\n",
    "\n",
    "Example:\n",
    "\n",
    "Trie trie = new Trie();\n",
    "\n",
    "trie.insert(\"apple\");\n",
    "trie.search(\"apple\");   // returns true\n",
    "trie.search(\"app\");     // returns false\n",
    "trie.startsWith(\"app\"); // returns true\n",
    "trie.insert(\"app\");   \n",
    "trie.search(\"app\");     // returns true\n",
    "Note:\n",
    "\n",
    "You may assume that all inputs are consist of lowercase letters a-z.\n",
    "All inputs are guaranteed to be non-empty strings."
   ]
  },
  {
   "cell_type": "code",
   "execution_count": 1,
   "metadata": {},
   "outputs": [],
   "source": [
    "class Trie:\n",
    "\n",
    "    def __init__(self):\n",
    "        \"\"\"\n",
    "        Initialize your data structure here.\n",
    "        \"\"\"\n",
    "        self.trie = {}\n",
    "\n",
    "    def insert(self, word: str) -> None:\n",
    "        \"\"\"\n",
    "        Inserts a word into the trie.\n",
    "        \"\"\"\n",
    "        trie = self.trie\n",
    "        \n",
    "        for char in word:\n",
    "            if char in trie:\n",
    "                trie[char] = {}\n",
    "            trie = trie[char]\n",
    "        trie[\"find\"] = True\n",
    "        \n",
    "    def search(self, word: str) -> bool:\n",
    "        \"\"\"\n",
    "        Returns if the word is in the trie.\n",
    "        \"\"\"\n",
    "        trie = self.trie\n",
    "        for char in word:\n",
    "            if char in trie:\n",
    "                trie = trie[char]\n",
    "            else:\n",
    "                return False\n",
    "        if \"find\" in trie:\n",
    "            return True\n",
    "\n",
    "    def startsWith(self, prefix: str) -> bool:\n",
    "        \"\"\"\n",
    "        Returns if there is any word in the trie that starts with the given prefix.\n",
    "        \"\"\"\n",
    "        trie = self.trie\n",
    "        for char in word:\n",
    "            if char in trie:\n",
    "                trie = trie[char]\n",
    "            else:\n",
    "                return False\n",
    "        return True\n",
    "# Your Trie object will be instantiated and called as such:\n",
    "# obj = Trie()\n",
    "# obj.insert(word)\n",
    "# param_2 = obj.search(word)\n",
    "# param_3 = obj.startsWith(prefix)"
   ]
  }
 ],
 "metadata": {
  "kernelspec": {
   "display_name": "Python 3",
   "language": "python",
   "name": "python3"
  },
  "language_info": {
   "codemirror_mode": {
    "name": "ipython",
    "version": 3
   },
   "file_extension": ".py",
   "mimetype": "text/x-python",
   "name": "python",
   "nbconvert_exporter": "python",
   "pygments_lexer": "ipython3",
   "version": "3.7.3"
  }
 },
 "nbformat": 4,
 "nbformat_minor": 2
}

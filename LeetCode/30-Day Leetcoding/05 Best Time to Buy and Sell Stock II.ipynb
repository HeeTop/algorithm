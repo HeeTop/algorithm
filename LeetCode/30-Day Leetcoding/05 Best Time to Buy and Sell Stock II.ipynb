{
 "cells": [
  {
   "cell_type": "markdown",
   "metadata": {},
   "source": [
    "Say you have an array for which the ith element is the price of a given stock on day i.\n",
    "\n",
    "Design an algorithm to find the maximum profit. You may complete as many transactions as you like (i.e., buy one and sell one share of the stock multiple times).\n",
    "\n",
    "Note: You may not engage in multiple transactions at the same time (i.e., you must sell the stock before you buy again).\n",
    "\n",
    "Example 1:\n",
    "\n",
    "Input: [7,1,5,3,6,4]\n",
    "Output: 7\n",
    "Explanation: Buy on day 2 (price = 1) and sell on day 3 (price = 5), profit = 5-1 = 4.\n",
    "             Then buy on day 4 (price = 3) and sell on day 5 (price = 6), profit = 6-3 = 3.\n",
    "Example 2:\n",
    "\n",
    "Input: [1,2,3,4,5]\n",
    "Output: 4\n",
    "Explanation: Buy on day 1 (price = 1) and sell on day 5 (price = 5), profit = 5-1 = 4.\n",
    "             Note that you cannot buy on day 1, buy on day 2 and sell them later, as you are\n",
    "             engaging multiple transactions at the same time. You must sell before buying again.\n",
    "Example 3:\n",
    "\n",
    "Input: [7,6,4,3,1]\n",
    "Output: 0\n",
    "Explanation: In this case, no transaction is done, i.e. max profit = 0.\n",
    "\n",
    "class Solution:\n",
    "    def maxProfit(self, prices: List[int]) -> int:\n",
    "        "
   ]
  },
  {
   "cell_type": "code",
   "execution_count": 103,
   "metadata": {},
   "outputs": [],
   "source": [
    "prices = [7,1,5,3,6,4]\n",
    "prices =[7,6,4,3,1]\n"
   ]
  },
  {
   "cell_type": "code",
   "execution_count": 104,
   "metadata": {},
   "outputs": [
    {
     "data": {
      "text/plain": [
       "0"
      ]
     },
     "execution_count": 104,
     "metadata": {},
     "output_type": "execute_result"
    }
   ],
   "source": [
    "UP = 0\n",
    "DOWN = 1\n",
    "buy_sells = [0] * 10000\n",
    "bs_idx = 0\n",
    "pre_direct = -1\n",
    "\n",
    "\n",
    "for index, pre_price in enumerate(prices[:-1]):\n",
    "    cur_price = prices[index + 1]\n",
    "    gap = cur_price - pre_price\n",
    "#    처음\n",
    "    if pre_direct == -1:\n",
    "        if gap > 0:\n",
    "            pre_direct = UP\n",
    "            buy_sells[bs_idx] = pre_price\n",
    "            bs_idx += 1\n",
    "            buy_sells[bs_idx] = cur_price\n",
    "        elif gap < 0:\n",
    "            pre_direct = DOWN\n",
    "            buy_sells[bs_idx] = cur_price\n",
    "        continue\n",
    "        \n",
    "#      UP\n",
    "    if gap > 0:\n",
    "#         UP & UP\n",
    "        if pre_direct == UP:\n",
    "            buy_sells[bs_idx] = cur_price\n",
    "        else:\n",
    "            buy_sells[bs_idx] = pre_price\n",
    "            bs_idx += 1\n",
    "            buy_sells[bs_idx] = cur_price\n",
    "        pre_direct = UP\n",
    "#         DOWN\n",
    "    elif gap < 0:\n",
    "#         DOWN & DOWN\n",
    "        if pre_direct == DOWN:\n",
    "            buy_sells[bs_idx] = cur_price\n",
    "#         DOWN & UP\n",
    "        else:\n",
    "            buy_sells[bs_idx] = pre_price\n",
    "            bs_idx += 1\n",
    "            buy_sells[bs_idx] = cur_price\n",
    "        pre_direct = DOWN\n",
    "    else:\n",
    "        continue\n",
    "if bs_idx % 2 == 1:\n",
    "    bs_idx += 1\n",
    "bs_idx //= 2\n",
    "result = 0\n",
    "for i in range(bs_idx):\n",
    "    result += buy_sells[i * 2 + 1] - buy_sells[i * 2]\n",
    "result"
   ]
  },
  {
   "cell_type": "code",
   "execution_count": 102,
   "metadata": {},
   "outputs": [
    {
     "data": {
      "text/plain": [
       "4"
      ]
     },
     "execution_count": 102,
     "metadata": {},
     "output_type": "execute_result"
    }
   ],
   "source": [
    "result"
   ]
  },
  {
   "cell_type": "code",
   "execution_count": 91,
   "metadata": {},
   "outputs": [
    {
     "data": {
      "text/plain": [
       "1"
      ]
     },
     "execution_count": 91,
     "metadata": {},
     "output_type": "execute_result"
    }
   ],
   "source": [
    "bs_idx = 2\n",
    "bs_idx // 2"
   ]
  },
  {
   "cell_type": "code",
   "execution_count": null,
   "metadata": {},
   "outputs": [],
   "source": [
    "class Solution:\n",
    "    def maxProfit(self, prices: List[int]) -> int:\n",
    "        UP = 0\n",
    "        DOWN = 1\n",
    "        buy_sells = [0] * 10000\n",
    "        bs_idx = 0\n",
    "        pre_direct = -1\n",
    "\n",
    "\n",
    "        for index, pre_price in enumerate(prices[:-1]):\n",
    "            cur_price = prices[index + 1]\n",
    "            gap = cur_price - pre_price\n",
    "        #    처음\n",
    "            if pre_direct == -1:\n",
    "                if gap > 0:\n",
    "                    pre_direct = UP\n",
    "                    buy_sells[bs_idx] = pre_price\n",
    "                    bs_idx += 1\n",
    "                    buy_sells[bs_idx] = cur_price\n",
    "                elif gap < 0:\n",
    "                    pre_direct = DOWN\n",
    "                    buy_sells[bs_idx] = cur_price\n",
    "                continue\n",
    "\n",
    "        #      UP\n",
    "            if gap > 0:\n",
    "        #         UP & UP\n",
    "                if pre_direct == UP:\n",
    "                    buy_sells[bs_idx] = cur_price\n",
    "                else:\n",
    "                    buy_sells[bs_idx] = pre_price\n",
    "                    bs_idx += 1\n",
    "                    buy_sells[bs_idx] = cur_price\n",
    "                pre_direct = UP\n",
    "        #         DOWN\n",
    "            elif gap < 0:\n",
    "        #         DOWN & DOWN\n",
    "                if pre_direct == DOWN:\n",
    "                    buy_sells[bs_idx] = cur_price\n",
    "        #         DOWN & UP\n",
    "                else:\n",
    "                    buy_sells[bs_idx] = pre_price\n",
    "                    bs_idx += 1\n",
    "                    buy_sells[bs_idx] = cur_price\n",
    "                pre_direct = DOWN\n",
    "            else:\n",
    "                continue\n",
    "        if bs_idx % 2 == 1:\n",
    "            bs_idx += 1\n",
    "        bs_idx //= 2\n",
    "        result = 0\n",
    "        for i in range(bs_idx):\n",
    "            result += buy_sells[i * 2 + 1] - buy_sells[i * 2]\n",
    "            \n",
    "        return result"
   ]
  }
 ],
 "metadata": {
  "kernelspec": {
   "display_name": "Python 3",
   "language": "python",
   "name": "python3"
  },
  "language_info": {
   "codemirror_mode": {
    "name": "ipython",
    "version": 3
   },
   "file_extension": ".py",
   "mimetype": "text/x-python",
   "name": "python",
   "nbconvert_exporter": "python",
   "pygments_lexer": "ipython3",
   "version": "3.7.3"
  }
 },
 "nbformat": 4,
 "nbformat_minor": 2
}

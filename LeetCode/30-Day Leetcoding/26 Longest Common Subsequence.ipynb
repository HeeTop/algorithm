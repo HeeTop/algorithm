{
 "cells": [
  {
   "cell_type": "markdown",
   "metadata": {},
   "source": [
    "Longest Common Subsequence\n",
    "Given two strings text1 and text2, return the length of their longest common subsequence.\n",
    "\n",
    "A subsequence of a string is a new string generated from the original string with some characters(can be none) deleted without changing the relative order of the remaining characters. (eg, \"ace\" is a subsequence of \"abcde\" while \"aec\" is not). A common subsequence of two strings is a subsequence that is common to both strings.\n",
    "\n",
    " \n",
    "\n",
    "If there is no common subsequence, return 0.\n",
    "\n",
    " \n",
    "\n",
    "Example 1:\n",
    "\n",
    "Input: text1 = \"abcde\", text2 = \"ace\" \n",
    "Output: 3  \n",
    "Explanation: The longest common subsequence is \"ace\" and its length is 3.\n",
    "Example 2:\n",
    "\n",
    "Input: text1 = \"abc\", text2 = \"abc\"\n",
    "Output: 3\n",
    "Explanation: The longest common subsequence is \"abc\" and its length is 3.\n",
    "Example 3:\n",
    "\n",
    "Input: text1 = \"abc\", text2 = \"def\"\n",
    "Output: 0\n",
    "Explanation: There is no such common subsequence, so the result is 0.\n",
    " \n",
    "\n",
    "Constraints:\n",
    "\n",
    "1 <= text1.length <= 1000\n",
    "1 <= text2.length <= 1000\n",
    "The input strings consist of lowercase English characters only."
   ]
  },
  {
   "cell_type": "code",
   "execution_count": 35,
   "metadata": {},
   "outputs": [],
   "source": [
    "text1 = \"abcde\"\n",
    "text2 = \"ace\" "
   ]
  },
  {
   "cell_type": "code",
   "execution_count": 36,
   "metadata": {},
   "outputs": [],
   "source": [
    "DP = [[0] * len(text2) for x in text1]\n",
    "\n",
    "for i in range(len(text1)):\n",
    "    for j in range(len(text2)):\n",
    "        if i == 0 and j == 0:\n",
    "            if text1[0] == text2[0]:\n",
    "                DP[0][0] = 1\n",
    "            continue\n",
    "        elif i == 0:\n",
    "            if text1[i] == text2[j]:\n",
    "                DP[i][j] = 1\n",
    "            else:\n",
    "                DP[i][j] = DP[i][j - 1]\n",
    "            continue\n",
    "        elif j == 0:\n",
    "            if text1[i] == text2[j]:\n",
    "                DP[i][j] = 1\n",
    "            else:\n",
    "                DP[i][j] = DP[i - 1][j]\n",
    "            continue\n",
    "        if text1[i] == text2[j]:\n",
    "            DP[i][j] = DP[i - 1][j - 1] + 1\n",
    "        else:\n",
    "            DP[i][j] = max(DP[i - 1][j], DP[i][j - 1])\n",
    "     "
   ]
  },
  {
   "cell_type": "code",
   "execution_count": 37,
   "metadata": {},
   "outputs": [
    {
     "name": "stdout",
     "output_type": "stream",
     "text": [
      "[1, 1, 1]\n",
      "[1, 1, 1]\n",
      "[1, 2, 2]\n",
      "[1, 2, 2]\n",
      "[1, 2, 3]\n"
     ]
    }
   ],
   "source": [
    "for d in DP:\n",
    "    print(d)"
   ]
  },
  {
   "cell_type": "code",
   "execution_count": null,
   "metadata": {},
   "outputs": [],
   "source": [
    "class Solution:\n",
    "    def longestCommonSubsequence(self, text1: str, text2: str) -> int:\n",
    "        DP = [[0] * len(text2) for x in text1]\n",
    "\n",
    "        for i in range(len(text1)):\n",
    "            for j in range(len(text2)):\n",
    "                if i == 0 and j == 0:\n",
    "                    if text1[0] == text2[0]:\n",
    "                        DP[0][0] = 1\n",
    "                    continue\n",
    "                elif i == 0:\n",
    "                    if text1[i] == text2[j]:\n",
    "                        DP[i][j] = 1\n",
    "                    else:\n",
    "                        DP[i][j] = DP[i][j - 1]\n",
    "                    continue\n",
    "                elif j == 0:\n",
    "                    if text1[i] == text2[j]:\n",
    "                        DP[i][j] = 1\n",
    "                    else:\n",
    "                        DP[i][j] = DP[i - 1][j]\n",
    "                    continue\n",
    "                if text1[i] == text2[j]:\n",
    "                    DP[i][j] = DP[i - 1][j - 1] + 1\n",
    "                else:\n",
    "                    DP[i][j] = max(DP[i - 1][j], DP[i][j - 1])\n",
    "     \n",
    "        return DP[-1][-1]"
   ]
  },
  {
   "cell_type": "markdown",
   "metadata": {},
   "source": [
    "## 참고"
   ]
  },
  {
   "cell_type": "code",
   "execution_count": null,
   "metadata": {},
   "outputs": [],
   "source": [
    "class Solution:\n",
    "    def longestCommonSubsequence(self, text1: str, text2: str) -> int:\n",
    "        m,n = len(text1),len(text2)\n",
    "        prev = [0]*(n+1)\n",
    "        cur = [0]*(n+1)\n",
    "        for i in range(m):\n",
    "            prev,cur = cur,prev\n",
    "            for j in range(n):\n",
    "                if text1[i] == text2[j]:\n",
    "                    cur[j+1] = prev[j]+1\n",
    "                else:\n",
    "                    cur[j+1] = max(cur[j],prev[j+1])\n",
    "        return cur[-1]"
   ]
  }
 ],
 "metadata": {
  "kernelspec": {
   "display_name": "Python 3",
   "language": "python",
   "name": "python3"
  },
  "language_info": {
   "codemirror_mode": {
    "name": "ipython",
    "version": 3
   },
   "file_extension": ".py",
   "mimetype": "text/x-python",
   "name": "python",
   "nbconvert_exporter": "python",
   "pygments_lexer": "ipython3",
   "version": "3.7.3"
  }
 },
 "nbformat": 4,
 "nbformat_minor": 2
}

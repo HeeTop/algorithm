{
 "cells": [
  {
   "cell_type": "markdown",
   "metadata": {},
   "source": [
    "Construct Binary Search Tree from Preorder Traversal\n",
    "Return the root node of a binary search tree that matches the given preorder traversal.\n",
    "\n",
    "(Recall that a binary search tree is a binary tree where for every node, any descendant of node.left has a value < node.val, and any descendant of node.right has a value > node.val.  Also recall that a preorder traversal displays the value of the node first, then traverses node.left, then traverses node.right.)\n",
    "\n",
    " \n",
    "\n",
    "Example 1:\n",
    "\n",
    "Input: [8,5,1,7,10,12]\n",
    "Output: [8,5,10,1,7,null,12]\n",
    "\n",
    " \n",
    "\n",
    "Note: \n",
    "\n",
    "1 <= preorder.length <= 100\n",
    "The values of preorder are distinct.\n",
    "\n",
    "Definition for a binary tree node.\n",
    "class TreeNode:\n",
    "    def __init__(self, x):\n",
    "        self.val = x\n",
    "        self.left = None\n",
    "        self.right = None\n",
    "\n",
    "![](https://assets.leetcode.com/uploads/2019/03/06/1266.png)\n",
    "class Solution:\n",
    "    def bstFromPreorder(self, preorder: List[int]) -> TreeNode:\n",
    "        "
   ]
  },
  {
   "cell_type": "code",
   "execution_count": 2,
   "metadata": {},
   "outputs": [],
   "source": [
    "preorder = [8,5,1,7,10,12]"
   ]
  },
  {
   "cell_type": "code",
   "execution_count": 37,
   "metadata": {},
   "outputs": [],
   "source": [
    "class TreeNode:\n",
    "    def __init__(self, x):\n",
    "        self.val = x\n",
    "        self.left = None\n",
    "        self.right = None\n"
   ]
  },
  {
   "cell_type": "code",
   "execution_count": 38,
   "metadata": {},
   "outputs": [],
   "source": [
    "root = None\n",
    "\n",
    "for value in preorder:\n",
    "    if root == None:\n",
    "        root = TreeNode(value)\n",
    "        continue\n",
    "        \n",
    "    node = root\n",
    "    while(node):\n",
    "        if value < node.val:\n",
    "            child_node = node.left\n",
    "        else:\n",
    "            child_node = node.right\n",
    "        \n",
    "        if child_node:\n",
    "            node = child_node\n",
    "        else:\n",
    "            if value < node.val:\n",
    "                node.left = TreeNode(value)\n",
    "            else:\n",
    "                node.right = TreeNode(value)\n",
    "            break"
   ]
  },
  {
   "cell_type": "code",
   "execution_count": 41,
   "metadata": {},
   "outputs": [],
   "source": [
    "def dfs(root):\n",
    "    node = root\n",
    "    queue = []\n",
    "    result = []\n",
    "    queue.append(node)\n",
    "    result.append(node.val)\n",
    "    \n",
    "    while(queue):\n",
    "        node = queue.pop(0)\n",
    "        \n",
    "        if node.left == None and node.right == None:\n",
    "            continue\n",
    "            \n",
    "        if node.left:\n",
    "            queue.append(node.left)\n",
    "            result.append(node.left.val)\n",
    "        else:\n",
    "            result.append('null')\n",
    "            \n",
    "        if node.right:\n",
    "            queue.append(node.right)\n",
    "            result.append(node.right.val)\n",
    "        else:\n",
    "            result.append('null')\n",
    "    return result\n",
    "            "
   ]
  },
  {
   "cell_type": "code",
   "execution_count": 42,
   "metadata": {
    "scrolled": true
   },
   "outputs": [
    {
     "data": {
      "text/plain": [
       "[8, 5, 10, 1, 7, 'null', 12]"
      ]
     },
     "execution_count": 42,
     "metadata": {},
     "output_type": "execute_result"
    }
   ],
   "source": [
    "dfs(root)"
   ]
  },
  {
   "cell_type": "code",
   "execution_count": null,
   "metadata": {},
   "outputs": [],
   "source": []
  },
  {
   "cell_type": "code",
   "execution_count": null,
   "metadata": {},
   "outputs": [],
   "source": [
    "class Solution:\n",
    "    def bstFromPreorder(self, preorder: List[int]) -> TreeNode:\n",
    "        root = None\n",
    "\n",
    "        for value in preorder:\n",
    "            if root == None:\n",
    "                root = TreeNode(value)\n",
    "                continue\n",
    "\n",
    "            node = root\n",
    "            while(node):\n",
    "                if value < node.val:\n",
    "                    child_node = node.left\n",
    "                else:\n",
    "                    child_node = node.right\n",
    "\n",
    "                if child_node:\n",
    "                    node = child_node\n",
    "                else:\n",
    "                    if value < node.val:\n",
    "                        node.left = TreeNode(value)\n",
    "                    else:\n",
    "                        node.right = TreeNode(value)\n",
    "                    break\n",
    "    return root"
   ]
  }
 ],
 "metadata": {
  "kernelspec": {
   "display_name": "Python 3",
   "language": "python",
   "name": "python3"
  },
  "language_info": {
   "codemirror_mode": {
    "name": "ipython",
    "version": 3
   },
   "file_extension": ".py",
   "mimetype": "text/x-python",
   "name": "python",
   "nbconvert_exporter": "python",
   "pygments_lexer": "ipython3",
   "version": "3.7.7"
  }
 },
 "nbformat": 4,
 "nbformat_minor": 4
}

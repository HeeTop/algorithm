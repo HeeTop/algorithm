{
 "cells": [
  {
   "cell_type": "markdown",
   "metadata": {},
   "source": [
    "Check If a String Is a Valid Sequence from Root to Leaves Path in a Binary Tree\n",
    "Given a binary tree where each path going from the root to any leaf form a valid sequence, check if a given string is a valid sequence in such binary tree. \n",
    "\n",
    "We get the given string from the concatenation of an array of integers arr and the concatenation of all values of the nodes along a path results in a sequence in the given binary tree.\n",
    "\n",
    " \n",
    "\n",
    "Example 1:\n",
    "\n",
    "\n",
    "\n",
    "Input: root = [0,1,0,0,1,0,null,null,1,0,0], arr = [0,1,0,1]\n",
    "Output: true\n",
    "Explanation: \n",
    "The path 0 -> 1 -> 0 -> 1 is a valid sequence (green color in the figure). \n",
    "Other valid sequences are: \n",
    "0 -> 1 -> 1 -> 0 \n",
    "0 -> 0 -> 0"
   ]
  },
  {
   "cell_type": "code",
   "execution_count": 1,
   "metadata": {},
   "outputs": [],
   "source": [
    "def dfs(node, arr, depth):\n",
    "    if len(arr) == depth and node == None:\n",
    "        return True\n",
    "    elif node == None:\n",
    "        return False\n",
    "    \n",
    "    result = False\n",
    "    \n",
    "    if node.val == arr[depth]:\n",
    "        result = dfs(node.left, arr, depth + 1) or dfs(node.right, arr, depth + 1)\n",
    "    return result"
   ]
  },
  {
   "cell_type": "code",
   "execution_count": null,
   "metadata": {},
   "outputs": [],
   "source": [
    "# Definition for a binary tree node.\n",
    "# class TreeNode:\n",
    "#     def __init__(self, val=0, left=None, right=None):\n",
    "#         self.val = val\n",
    "#         self.left = left\n",
    "#         self.right = right\n",
    "def dfs(node, arr, depth):\n",
    "    if node == None:\n",
    "        return False\n",
    "    if len(arr) - 1 == depth:\n",
    "        if node.val != arr[depth] or node.left or node.right:\n",
    "            return False\n",
    "        return True\n",
    "\n",
    "    result = False\n",
    "    \n",
    "    if node.val == arr[depth]:\n",
    "        result = dfs(node.left, arr, depth + 1) or dfs(node.right, arr, depth + 1)\n",
    "    return result\n",
    "class Solution:\n",
    "    def isValidSequence(self, root: TreeNode, arr: List[int]) -> bool:\n",
    "        return dfs(root, arr, 0)"
   ]
  }
 ],
 "metadata": {
  "kernelspec": {
   "display_name": "Python 3",
   "language": "python",
   "name": "python3"
  },
  "language_info": {
   "codemirror_mode": {
    "name": "ipython",
    "version": 3
   },
   "file_extension": ".py",
   "mimetype": "text/x-python",
   "name": "python",
   "nbconvert_exporter": "python",
   "pygments_lexer": "ipython3",
   "version": "3.7.3"
  }
 },
 "nbformat": 4,
 "nbformat_minor": 2
}

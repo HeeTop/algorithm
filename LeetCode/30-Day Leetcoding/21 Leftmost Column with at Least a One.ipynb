{
 "cells": [
  {
   "cell_type": "markdown",
   "metadata": {},
   "source": [
    "\n",
    "(This problem is an interactive problem.)\n",
    "\n",
    "A binary matrix means that all elements are 0 or 1. For each individual row of the matrix, this row is sorted in non-decreasing order.\n",
    "\n",
    "Given a row-sorted binary matrix binaryMatrix, return leftmost column index(0-indexed) with at least a 1 in it. If such index doesn't exist, return -1.\n",
    "\n",
    "You can't access the Binary Matrix directly.  You may only access the matrix using a BinaryMatrix interface:\n",
    "\n",
    "BinaryMatrix.get(x, y) returns the element of the matrix at index (x, y) (0-indexed).\n",
    "BinaryMatrix.dimensions() returns a list of 2 elements [n, m], which means the matrix is n * m.\n",
    "Submissions making more than 1000 calls to BinaryMatrix.get will be judged Wrong Answer.  Also, any solutions that attempt to circumvent the judge will result in disqualification.\n",
    "\n",
    "For custom testing purposes you're given the binary matrix mat as input in the following four examples. You will not have access the binary matrix directly.\n",
    "\n",
    " \n",
    "\n",
    "Example 1:\n",
    "\n",
    "\n",
    "\n",
    "Input: mat = [[0,0],[1,1]]\n",
    "Output: 0\n",
    "Example 2:\n",
    "\n",
    "\n",
    "\n",
    "Input: mat = [[0,0],[0,1]]\n",
    "Output: 1\n",
    "Example 3:\n",
    "\n",
    "\n",
    "\n",
    "Input: mat = [[0,0],[0,0]]\n",
    "Output: -1\n",
    "Example 4:\n",
    "\n",
    "\n",
    "\n",
    "Input: mat = [[0,0,0,1],[0,0,1,1],[0,1,1,1]]\n",
    "Output: 1\n",
    " \n",
    "\n",
    "Constraints:\n",
    "\n",
    "1 <= mat.length, mat[i].length <= 100\n",
    "mat[i][j] is either 0 or 1.\n",
    "mat[i] is sorted in a non-decreasing way."
   ]
  },
  {
   "cell_type": "code",
   "execution_count": 11,
   "metadata": {},
   "outputs": [
    {
     "data": {
      "text/plain": [
       "[[0, 0], [0, 1]]"
      ]
     },
     "execution_count": 11,
     "metadata": {},
     "output_type": "execute_result"
    }
   ],
   "source": [
    "mat = [[0,0],[0,1]]\n",
    "ROW = len(mat)\n",
    "COL = len(mat[0])\n",
    "mat"
   ]
  },
  {
   "cell_type": "code",
   "execution_count": 12,
   "metadata": {},
   "outputs": [],
   "source": [
    "# 전처리\n",
    "dp = [[-1] * COL for r in range(ROW)]\n",
    "def get(row, col):\n",
    "    if dp[row][col] == -1:\n",
    "        dp[row][col] = mat[row][col]\n",
    "        \n",
    "    return dp[row][col]\n",
    "\n",
    "def preprocess(ROW, COL, possible_dict):\n",
    "    for row in range(ROW):\n",
    "        if get(row, 0) == get(row, COL - 1):\n",
    "            if get(row, 0):\n",
    "                return False\n",
    "        else:\n",
    "            possible_dict[row] = [0, COL - 1] \n",
    "    return True"
   ]
  },
  {
   "cell_type": "code",
   "execution_count": 13,
   "metadata": {},
   "outputs": [],
   "source": [
    "def binarySearch(row, start, end):  \n",
    "    mid = start + (end - start) // 2; \n",
    "\n",
    "    if get(row, mid) == 0: \n",
    "        start = mid + 1\n",
    "    elif get(row, mid) == 1: \n",
    "        end = mid - 1\n",
    "      \n",
    "    return start, end"
   ]
  },
  {
   "cell_type": "code",
   "execution_count": 14,
   "metadata": {},
   "outputs": [],
   "source": [
    "def check(row ,start, end):\n",
    "    if start > end:\n",
    "        if get(row, start) + get(row, end) == 1:\n",
    "            return sorted([start, end])[1]\n",
    "    return -1"
   ]
  },
  {
   "cell_type": "code",
   "execution_count": 30,
   "metadata": {},
   "outputs": [],
   "source": [
    "def solution():\n",
    "    possible_dict = {}\n",
    "    \n",
    "    if preprocess(ROW, COL, possible_dict) == False:\n",
    "        return -1\n",
    "    while(1):\n",
    "        print(possible_dict)\n",
    "        lower = 100000000\n",
    "        for row, pos in possible_dict.items():\n",
    "            next_pos = binarySearch(row, *pos)\n",
    "            lower = min([lower, next_pos[0], next_pos[1]])\n",
    "            \n",
    "            possible_dict[row] = next_pos\n",
    "        possible_key = []\n",
    "        print(lower)\n",
    "        for row, pos in possible_dict.items():\n",
    "            if pos[0] == lower or pos[1] == lower:\n",
    "                possible_key.append(row)\n",
    "                \n",
    "        for row in possible_key:\n",
    "            if check(row, *possible_dict[row]) >= 0:\n",
    "                return check(row, *possible_dict[row])\n",
    "            \n",
    "        possible_dict = { row: possible_dict[row] for row in possible_key}\n",
    "        if possible_dict == {}:\n",
    "            return -1\n",
    "        print(possible_dict)\n"
   ]
  },
  {
   "cell_type": "code",
   "execution_count": 31,
   "metadata": {},
   "outputs": [
    {
     "name": "stdout",
     "output_type": "stream",
     "text": [
      "{1: [0, 1]}\n",
      "1\n",
      "{1: (1, 1)}\n",
      "{1: (1, 1)}\n",
      "0\n"
     ]
    },
    {
     "data": {
      "text/plain": [
       "1"
      ]
     },
     "execution_count": 31,
     "metadata": {},
     "output_type": "execute_result"
    }
   ],
   "source": [
    "solution()"
   ]
  },
  {
   "cell_type": "code",
   "execution_count": null,
   "metadata": {},
   "outputs": [],
   "source": []
  },
  {
   "cell_type": "code",
   "execution_count": null,
   "metadata": {},
   "outputs": [],
   "source": []
  },
  {
   "cell_type": "code",
   "execution_count": null,
   "metadata": {},
   "outputs": [],
   "source": []
  },
  {
   "cell_type": "code",
   "execution_count": null,
   "metadata": {},
   "outputs": [],
   "source": []
  },
  {
   "cell_type": "code",
   "execution_count": 8,
   "metadata": {},
   "outputs": [],
   "source": [
    "# \"\"\"\n",
    "# This is BinaryMatrix's API interface.\n",
    "# You should not implement it, or speculate about its implementation\n",
    "# \"\"\"\n",
    "#class BinaryMatrix(object):\n",
    "#    def get(self, x: int, y: int) -> int:\n",
    "#    def dimensions(self) -> list[]:\n",
    "# 전처리\n",
    "dp = [[-1] * 100 for r in range(100)]\n",
    "\n",
    "def init():\n",
    "    for i in range(100):\n",
    "        for j in range(100):\n",
    "            dp[i][j] = -1;\n",
    "            \n",
    "def get(row, col, binaryMatrix):\n",
    "    if dp[row][col] == -1:\n",
    "        dp[row][col] = binaryMatrix.get(row,col)\n",
    "        \n",
    "    return dp[row][col]\n",
    "\n",
    "def preprocess(ROW, COL, possible_dict, binaryMatrix):\n",
    "    for row in range(ROW):\n",
    "        if get(row, 0, binaryMatrix) == get(row, COL - 1, binaryMatrix):\n",
    "            if get(row, 0, binaryMatrix):\n",
    "                return 0\n",
    "        else:\n",
    "            possible_dict[row] = [0, COL - 1]\n",
    "    if possible_dict == {}:\n",
    "        return False\n",
    "    return True\n",
    "\n",
    "def binarySearch(row, start, end, binaryMatrix):  \n",
    "    mid = start + (end - start) // 2; \n",
    "\n",
    "    if get(row, mid, binaryMatrix) == 0: \n",
    "        start = mid + 1\n",
    "    elif get(row, mid, binaryMatrix) == 1: \n",
    "        end = mid - 1\n",
    "      \n",
    "    return start, end\n",
    "\n",
    "def check(row ,start, end, binaryMatrix):\n",
    "    if start > end:\n",
    "        if get(row, start,binaryMatrix) + get(row, end,binaryMatrix) == 1:\n",
    "            return sorted([start, end])[1]\n",
    "    return -1\n",
    "\n",
    "def solution(ROW, COL, binaryMatrix):\n",
    "    possible_dict = {}\n",
    "    r = preprocess(ROW, COL, possible_dict, binaryMatrix)\n",
    "    if r == False:\n",
    "        return -1\n",
    "    elif r == 0:\n",
    "        return 0\n",
    "    while(1):\n",
    "        \n",
    "        lower = 100000000\n",
    "        for row, pos in possible_dict.items():\n",
    "            next_pos = binarySearch(row, pos[0], pos[1], binaryMatrix)\n",
    "            lower = min([lower, next_pos[0], next_pos[1]])\n",
    "            \n",
    "            possible_dict[row] = next_pos\n",
    "        possible_key = []\n",
    "        \n",
    "        for row, pos in possible_dict.items():\n",
    "            if pos[0] == lower or pos[1] == lower:\n",
    "                possible_key.append(row)\n",
    "                \n",
    "        for row in possible_key:\n",
    "            if check(row, possible_dict[row][0],possible_dict[row][1], binaryMatrix) >= 0:\n",
    "                return  check(row, possible_dict[row][0],possible_dict[row][1], binaryMatrix)\n",
    "            \n",
    "        possible_dict = { row: possible_dict[row] for row in possible_key}\n",
    "        \n",
    "\n",
    "class Solution:\n",
    "    \n",
    "    def leftMostColumnWithOne(self, binaryMatrix: 'BinaryMatrix') -> int:\n",
    "        init()\n",
    "        ROW, COL = binaryMatrix.dimensions()\n",
    "        return solution(ROW, COL, binaryMatrix)"
   ]
  },
  {
   "cell_type": "code",
   "execution_count": 33,
   "metadata": {
    "scrolled": false
   },
   "outputs": [
    {
     "name": "stdout",
     "output_type": "stream",
     "text": [
      "ERE\n"
     ]
    }
   ],
   "source": [
    "if False == 0:\n",
    "    print('ERE')"
   ]
  },
  {
   "cell_type": "code",
   "execution_count": null,
   "metadata": {},
   "outputs": [],
   "source": []
  }
 ],
 "metadata": {
  "kernelspec": {
   "display_name": "Python 3",
   "language": "python",
   "name": "python3"
  },
  "language_info": {
   "codemirror_mode": {
    "name": "ipython",
    "version": 3
   },
   "file_extension": ".py",
   "mimetype": "text/x-python",
   "name": "python",
   "nbconvert_exporter": "python",
   "pygments_lexer": "ipython3",
   "version": "3.7.7"
  }
 },
 "nbformat": 4,
 "nbformat_minor": 4
}

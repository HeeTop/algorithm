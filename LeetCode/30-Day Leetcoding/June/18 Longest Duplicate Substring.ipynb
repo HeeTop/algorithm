{
 "cells": [
  {
   "cell_type": "markdown",
   "metadata": {},
   "source": [
    " Longest Duplicate Substring\n",
    "Given a string S, consider all duplicated substrings: (contiguous) substrings of S that occur 2 or more times.  (The occurrences may overlap.)\n",
    "\n",
    "Return any duplicated substring that has the longest possible length.  (If S does not have a duplicated substring, the answer is \"\".)\n",
    "\n",
    " \n",
    "\n",
    "Example 1:\n",
    "\n",
    "Input: \"banana\"\n",
    "Output: \"ana\"\n",
    "Example 2:\n",
    "\n",
    "Input: \"abcd\"\n",
    "Output: \"\""
   ]
  },
  {
   "cell_type": "markdown",
   "metadata": {},
   "source": [
    "function RabinKarp(string s[1..n], string pattern[1..m])\n",
    "    hpattern := hash(pattern[1..m]);\n",
    "    for i from 1 to n-m+1\n",
    "        hs := hash(s[i..i+m-1])\n",
    "        if hs = hpattern\n",
    "            if s[i..i+m-1] = pattern[1..m]\n",
    "                return i\n",
    "    return not found"
   ]
  },
  {
   "cell_type": "code",
   "execution_count": 125,
   "metadata": {},
   "outputs": [],
   "source": [
    "alpha = { x: y + 1 for y,x in enumerate(list('abcdefghijklmnopqrstuvwxyz'))}\n",
    "\n",
    "def find(S, length):\n",
    "    s_dict = {}\n",
    "    \n",
    "    key = 0\n",
    "    for s in reversed(S[:length]):\n",
    "        key = key << 5\n",
    "        key += alpha[s]\n",
    "    s_dict[key] = (0, length)\n",
    "    \n",
    "    for i in range(1, len(S) - length + 1):\n",
    "        key = key >> 5\n",
    "        key += alpha[S[i]] << (5 * (length - 1))\n",
    "        if key in s_dict:\n",
    "            return S[s_dict[key][0]: s_dict[key][1]]\n",
    "        else:\n",
    "            s_dict[key] = (i, i + length)\n",
    "    return \"\""
   ]
  },
  {
   "cell_type": "code",
   "execution_count": 126,
   "metadata": {},
   "outputs": [
    {
     "data": {
      "text/plain": [
       "'ana'"
      ]
     },
     "execution_count": 126,
     "metadata": {},
     "output_type": "execute_result"
    }
   ],
   "source": [
    "S = \"banana\"\n",
    "find(S,3)"
   ]
  },
  {
   "cell_type": "code",
   "execution_count": null,
   "metadata": {},
   "outputs": [],
   "source": []
  },
  {
   "cell_type": "code",
   "execution_count": 66,
   "metadata": {},
   "outputs": [],
   "source": [
    "S = \"abcd\""
   ]
  },
  {
   "cell_type": "code",
   "execution_count": 77,
   "metadata": {},
   "outputs": [],
   "source": [
    "key = 0\n",
    "for s in reversed(S):\n",
    "    key = key << 5\n",
    "    key += alpha[s]"
   ]
  },
  {
   "cell_type": "code",
   "execution_count": 78,
   "metadata": {},
   "outputs": [
    {
     "data": {
      "text/plain": [
       "134209"
      ]
     },
     "execution_count": 78,
     "metadata": {},
     "output_type": "execute_result"
    }
   ],
   "source": [
    "key"
   ]
  },
  {
   "cell_type": "code",
   "execution_count": 62,
   "metadata": {},
   "outputs": [],
   "source": [
    "def bst(S):\n",
    "    start = 0\n",
    "    end = len(S) // 2 + 1\n",
    "    result = \"\"\n",
    "    while(start <= end):\n",
    "        mid = (start + end) // 2\n",
    "        sub_str = find(S, mid)\n",
    "        if sub_str:\n",
    "            result = sub_str\n",
    "            start = mid + 1\n",
    "        else:\n",
    "            end = mid - 1\n",
    "    return result"
   ]
  },
  {
   "cell_type": "code",
   "execution_count": 63,
   "metadata": {},
   "outputs": [
    {
     "data": {
      "text/plain": [
       "'4'"
      ]
     },
     "execution_count": 63,
     "metadata": {},
     "output_type": "execute_result"
    }
   ],
   "source": [
    "bst(S)"
   ]
  },
  {
   "cell_type": "code",
   "execution_count": 59,
   "metadata": {},
   "outputs": [],
   "source": [
    "end = len(S) // 2"
   ]
  },
  {
   "cell_type": "code",
   "execution_count": 56,
   "metadata": {},
   "outputs": [
    {
     "data": {
      "text/plain": [
       "1"
      ]
     },
     "execution_count": 56,
     "metadata": {},
     "output_type": "execute_result"
    }
   ],
   "source": [
    "end"
   ]
  },
  {
   "cell_type": "code",
   "execution_count": null,
   "metadata": {},
   "outputs": [],
   "source": [
    "alpha = { x: y + 1 for y,x in enumerate(list('abcdefghijklmnopqrstuvwxyz'))}\n",
    "\n",
    "def find(S, length):\n",
    "    s_dict = {}\n",
    "    \n",
    "    key = 0\n",
    "    for s in reversed(S[:length]):\n",
    "        key = key << 5\n",
    "        key += alpha[s]\n",
    "    s_dict[key] = (0, length)\n",
    "    \n",
    "    for i in range(1, len(S) - length + 1):\n",
    "        key = key >> 5\n",
    "        key += alpha[S[i]] << (5 * (length - 1))\n",
    "        if key in s_dict:\n",
    "            return S[s_dict[key][0]: s_dict[key][1]]\n",
    "        else:\n",
    "            s_dict[key] = (i, i + length)\n",
    "    return \"\"\n",
    "def bst(S):\n",
    "    start = 0\n",
    "    end = len(S) // 2 + 1\n",
    "    result = \"\"\n",
    "    while(start <= end):\n",
    "        mid = (start + end) // 2\n",
    "        sub_str = find(S, mid)\n",
    "        if sub_str:\n",
    "            result = sub_str\n",
    "            start = mid + 1\n",
    "        else:\n",
    "            end = mid - 1\n",
    "    return result\n",
    "\n",
    "class Solution:\n",
    "    def longestDupSubstring(self, S: str) -> str:\n",
    "        return bst(S)"
   ]
  },
  {
   "cell_type": "code",
   "execution_count": 65,
   "metadata": {},
   "outputs": [
    {
     "data": {
      "text/plain": [
       "2"
      ]
     },
     "execution_count": 65,
     "metadata": {},
     "output_type": "execute_result"
    }
   ],
   "source": [
    "64 >> 5"
   ]
  },
  {
   "cell_type": "code",
   "execution_count": null,
   "metadata": {},
   "outputs": [],
   "source": []
  }
 ],
 "metadata": {
  "kernelspec": {
   "display_name": "Python 3",
   "language": "python",
   "name": "python3"
  },
  "language_info": {
   "codemirror_mode": {
    "name": "ipython",
    "version": 3
   },
   "file_extension": ".py",
   "mimetype": "text/x-python",
   "name": "python",
   "nbconvert_exporter": "python",
   "pygments_lexer": "ipython3",
   "version": "3.7.3"
  }
 },
 "nbformat": 4,
 "nbformat_minor": 2
}

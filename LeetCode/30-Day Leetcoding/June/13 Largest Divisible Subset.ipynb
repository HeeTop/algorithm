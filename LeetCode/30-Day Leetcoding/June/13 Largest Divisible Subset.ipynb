{
 "cells": [
  {
   "cell_type": "markdown",
   "metadata": {},
   "source": [
    "Largest Divisible Subset\n",
    "Given a set of distinct positive integers, find the largest subset such that every pair (Si, Sj) of elements in this subset satisfies:\n",
    "\n",
    "Si % Sj = 0 or Sj % Si = 0.\n",
    "\n",
    "If there are multiple solutions, return any subset is fine.\n",
    "\n",
    "Example 1:\n",
    "\n",
    "Input: [1,2,3]\n",
    "Output: [1,2] (of course, [1,3] will also be ok)\n",
    "Example 2:\n",
    "\n",
    "Input: [1,2,4,8]\n",
    "Output: [1,2,4,8]"
   ]
  },
  {
   "cell_type": "code",
   "execution_count": 86,
   "metadata": {},
   "outputs": [],
   "source": [
    "nums = [1,2,12, 6]\n",
    "nums.sort()\n",
    "dp = {key: [key] for key in nums}"
   ]
  },
  {
   "cell_type": "code",
   "execution_count": 87,
   "metadata": {},
   "outputs": [
    {
     "data": {
      "text/plain": [
       "{1: [1], 2: [2], 6: [6], 12: [12]}"
      ]
     },
     "execution_count": 87,
     "metadata": {},
     "output_type": "execute_result"
    }
   ],
   "source": [
    "dp"
   ]
  },
  {
   "cell_type": "code",
   "execution_count": 88,
   "metadata": {},
   "outputs": [],
   "source": [
    "result = []\n",
    "\n",
    "for i, num in enumerate(nums):\n",
    "    max_set = 0\n",
    "    max_idx = -1\n",
    "    \n",
    "    for j in reversed(range(i)):\n",
    "        prev = nums[j]\n",
    "        if max_set >= len(dp[prev]):\n",
    "            continue\n",
    "        elif num % prev == 0:\n",
    "            max_set = len(dp[prev])\n",
    "            max_idx = prev\n",
    "        else:\n",
    "            continue\n",
    "    if max_idx == -1:\n",
    "        continue\n",
    "    dp[num] += dp[max_idx]\n",
    "    \n",
    "    if len(result) < len(dp[num]):\n",
    "        result = dp[num]"
   ]
  },
  {
   "cell_type": "code",
   "execution_count": null,
   "metadata": {},
   "outputs": [],
   "source": [
    "class Solution:\n",
    "    def largestDivisibleSubset(self, nums: List[int]) -> List[int]:\n",
    "        if nums == []:\n",
    "            return []\n",
    "        \n",
    "        nums.sort()\n",
    "        dp = {key: [key] for key in nums}\n",
    "\n",
    "        result = [nums[0]]\n",
    "\n",
    "        for i, num in enumerate(nums):\n",
    "            max_set = 0\n",
    "            max_idx = -1\n",
    "\n",
    "            for j in reversed(range(i)):\n",
    "                prev = nums[j]\n",
    "                if max_set >= len(dp[prev]):\n",
    "                    continue\n",
    "                elif num % prev == 0:\n",
    "                    max_set = len(dp[prev])\n",
    "                    max_idx = prev\n",
    "                else:\n",
    "                    continue\n",
    "            if max_idx == -1:\n",
    "                continue\n",
    "            dp[num] += dp[max_idx]\n",
    "\n",
    "            if len(result) < len(dp[num]):\n",
    "                result = dp[num]\n",
    "        return result"
   ]
  }
 ],
 "metadata": {
  "kernelspec": {
   "display_name": "Python 3",
   "language": "python",
   "name": "python3"
  },
  "language_info": {
   "codemirror_mode": {
    "name": "ipython",
    "version": 3
   },
   "file_extension": ".py",
   "mimetype": "text/x-python",
   "name": "python",
   "nbconvert_exporter": "python",
   "pygments_lexer": "ipython3",
   "version": "3.7.3"
  }
 },
 "nbformat": 4,
 "nbformat_minor": 2
}

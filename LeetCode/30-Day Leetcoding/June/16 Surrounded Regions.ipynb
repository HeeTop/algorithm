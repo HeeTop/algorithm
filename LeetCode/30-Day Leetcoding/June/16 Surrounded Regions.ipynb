{
 "cells": [
  {
   "cell_type": "markdown",
   "metadata": {},
   "source": [
    " Surrounded Regions\n",
    "Given a 2D board containing 'X' and 'O' (the letter O), capture all regions surrounded by 'X'.\n",
    "\n",
    "A region is captured by flipping all 'O's into 'X's in that surrounded region.\n",
    "\n",
    "Example:\n",
    "\n",
    "X X X X\n",
    "X O O X\n",
    "X X O X\n",
    "X O X X\n",
    "After running your function, the board should be:\n",
    "\n",
    "X X X X\n",
    "X X X X\n",
    "X X X X\n",
    "X O X X\n",
    "Explanation:\n",
    "\n",
    "Surrounded regions shouldn’t be on the border, which means that any 'O' on the border of the board are not flipped to 'X'. Any 'O' that is not on the border and it is not connected to an 'O' on the border will be flipped to 'X'. Two cells are connected if they are adjacent cells connected horizontally or vertically."
   ]
  },
  {
   "cell_type": "code",
   "execution_count": 33,
   "metadata": {},
   "outputs": [
    {
     "data": {
      "text/plain": [
       "[['X', 'O', 'X', 'O', 'X', 'O'],\n",
       " ['O', 'X', 'O', 'X', 'O', 'X'],\n",
       " ['X', 'O', 'X', 'O', 'X', 'O'],\n",
       " ['O', 'X', 'O', 'X', 'O', 'X']]"
      ]
     },
     "execution_count": 33,
     "metadata": {},
     "output_type": "execute_result"
    }
   ],
   "source": [
    "board = [[\"X\",\"O\",\"X\",\"O\",\"X\",\"O\"],[\"O\",\"X\",\"O\",\"X\",\"O\",\"X\"],[\"X\",\"O\",\"X\",\"O\",\"X\",\"O\"],[\"O\",\"X\",\"O\",\"X\",\"O\",\"X\"]]\n",
    "board"
   ]
  },
  {
   "cell_type": "code",
   "execution_count": 35,
   "metadata": {},
   "outputs": [
    {
     "data": {
      "text/plain": [
       "[[0, 0, 0, 0, 0, 0],\n",
       " [0, 0, 0, 0, 0, 0],\n",
       " [0, 0, 0, 0, 0, 0],\n",
       " [0, 0, 0, 0, 0, 0]]"
      ]
     },
     "execution_count": 35,
     "metadata": {},
     "output_type": "execute_result"
    }
   ],
   "source": [
    "ROW = len(board)\n",
    "COL = len(board[0])\n",
    "visited = [[0] * COL for x in range(ROW)]\n",
    "visited"
   ]
  },
  {
   "cell_type": "code",
   "execution_count": 25,
   "metadata": {},
   "outputs": [],
   "source": [
    "dx = [0,0,-1,1]\n",
    "dy = [1,-1,0,0]\n",
    "is_surround = True\n",
    "\n",
    "def dfs(r, c):\n",
    "    global is_surround\n",
    "    \n",
    "    for i in range(4):\n",
    "        nxt_r = r + dx[i]\n",
    "        nxt_c = c + dy[i]\n",
    "        \n",
    "        if nxt_r < 0 or nxt_r >= N or nxt_c < 0 or nxt_c >=N:\n",
    "             is_surround = False\n",
    "        elif visited[nxt_r][nxt_c] == 0 and board[nxt_r][nxt_c] == 'O':\n",
    "            union.append((nxt_r, nxt_c))\n",
    "            visited[nxt_r][nxt_c] = 1\n",
    "            dfs(nxt_r, nxt_c)"
   ]
  },
  {
   "cell_type": "code",
   "execution_count": 31,
   "metadata": {},
   "outputs": [
    {
     "data": {
      "text/plain": [
       "[['X', 'X', 'X', 'X'],\n",
       " ['X', 'X', 'X', 'X'],\n",
       " ['X', 'X', 'X', 'X'],\n",
       " ['X', 'O', 'X', 'X']]"
      ]
     },
     "execution_count": 31,
     "metadata": {},
     "output_type": "execute_result"
    }
   ],
   "source": [
    "board"
   ]
  },
  {
   "cell_type": "code",
   "execution_count": 27,
   "metadata": {},
   "outputs": [],
   "source": [
    "for r in range(N):\n",
    "    for c in range(N):\n",
    "        if visited[r][c] == 1 or board[r][c] == 'X':\n",
    "            continue\n",
    "        visited[r][c] = 1\n",
    "        union = [(r,c)]\n",
    "        is_surround = True\n",
    "        dfs(r,c)\n",
    "        if is_surround:\n",
    "            while(union):\n",
    "                cur_r, cur_c = union.pop()\n",
    "                board[cur_r][cur_c] = 'X'"
   ]
  },
  {
   "cell_type": "code",
   "execution_count": 28,
   "metadata": {},
   "outputs": [
    {
     "data": {
      "text/plain": [
       "[[0, 0, 0, 0], [0, 1, 1, 0], [0, 0, 1, 0], [0, 1, 0, 0]]"
      ]
     },
     "execution_count": 28,
     "metadata": {},
     "output_type": "execute_result"
    }
   ],
   "source": [
    "visited"
   ]
  },
  {
   "cell_type": "code",
   "execution_count": 29,
   "metadata": {},
   "outputs": [
    {
     "data": {
      "text/plain": [
       "False"
      ]
     },
     "execution_count": 29,
     "metadata": {},
     "output_type": "execute_result"
    }
   ],
   "source": [
    "is_surround"
   ]
  },
  {
   "cell_type": "code",
   "execution_count": 30,
   "metadata": {},
   "outputs": [
    {
     "data": {
      "text/plain": [
       "[(3, 1)]"
      ]
     },
     "execution_count": 30,
     "metadata": {},
     "output_type": "execute_result"
    }
   ],
   "source": [
    "union"
   ]
  },
  {
   "cell_type": "code",
   "execution_count": null,
   "metadata": {},
   "outputs": [],
   "source": [
    "class Solution:\n",
    "    def solve(self, board: List[List[str]]) -> None:\n",
    "        \"\"\"\n",
    "        Do not return anything, modify board in-place instead.\n",
    "        \"\"\"\n",
    "        ROW = len(board)\n",
    "        COL = len(board[0])\n",
    "        visited = [[0] * COL for x in range(ROW)]\n",
    "        dx = [0,0,-1,1]\n",
    "        dy = [1,-1,0,0]\n",
    "\n",
    "        def dfs(r, c):\n",
    "            for i in range(4):\n",
    "                nxt_r = r + dx[i]\n",
    "                nxt_c = c + dy[i]\n",
    "\n",
    "                if nxt_r < 0 or nxt_r >= ROW or nxt_c < 0 or nxt_c >=COL:\n",
    "                     self.is_surround = False\n",
    "                elif visited[nxt_r][nxt_c] == 0 and board[nxt_r][nxt_c] == 'O':\n",
    "                    union.append((nxt_r, nxt_c))\n",
    "                    visited[nxt_r][nxt_c] = 1\n",
    "                    dfs(nxt_r, nxt_c)\n",
    "\n",
    "        for r in range(N):\n",
    "            for c in range(N):\n",
    "                if visited[r][c] == 1 or board[r][c] == 'X':\n",
    "                    continue\n",
    "                visited[r][c] = 1\n",
    "                union = [(r,c)]\n",
    "                self.is_surround = True\n",
    "                dfs(r,c)\n",
    "                if self.is_surround:\n",
    "                    while(union):\n",
    "                        cur_r, cur_c = union.pop()\n",
    "                        board[cur_r][cur_c] = 'X'\n",
    "        return board"
   ]
  }
 ],
 "metadata": {
  "kernelspec": {
   "display_name": "Python 3",
   "language": "python",
   "name": "python3"
  },
  "language_info": {
   "codemirror_mode": {
    "name": "ipython",
    "version": 3
   },
   "file_extension": ".py",
   "mimetype": "text/x-python",
   "name": "python",
   "nbconvert_exporter": "python",
   "pygments_lexer": "ipython3",
   "version": "3.7.7"
  }
 },
 "nbformat": 4,
 "nbformat_minor": 4
}

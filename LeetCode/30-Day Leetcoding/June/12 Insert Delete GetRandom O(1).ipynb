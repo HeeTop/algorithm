{
 "cells": [
  {
   "cell_type": "markdown",
   "metadata": {},
   "source": [
    "  Insert Delete GetRandom O(1)\n",
    "Design a data structure that supports all following operations in average O(1) time.\n",
    "\n",
    "insert(val): Inserts an item val to the set if not already present.\n",
    "remove(val): Removes an item val from the set if present.\n",
    "getRandom: Returns a random element from current set of elements. Each element must have the same probability of being returned.\n",
    "Example:\n",
    "\n",
    "// Init an empty set.\n",
    "RandomizedSet randomSet = new RandomizedSet();\n",
    "\n",
    "// Inserts 1 to the set. Returns true as 1 was inserted successfully.\n",
    "randomSet.insert(1);\n",
    "\n",
    "// Returns false as 2 does not exist in the set.\n",
    "randomSet.remove(2);\n",
    "\n",
    "// Inserts 2 to the set, returns true. Set now contains [1,2].\n",
    "randomSet.insert(2);\n",
    "\n",
    "// getRandom should return either 1 or 2 randomly.\n",
    "randomSet.getRandom();\n",
    "\n",
    "// Removes 1 from the set, returns true. Set now contains [2].\n",
    "randomSet.remove(1);\n",
    "\n",
    "// 2 was already in the set, so return false.\n",
    "randomSet.insert(2);\n",
    "\n",
    "// Since 2 is the only number in the set, getRandom always return 2.\n",
    "randomSet.getRandom();"
   ]
  },
  {
   "cell_type": "code",
   "execution_count": 3,
   "metadata": {},
   "outputs": [],
   "source": [
    "from collections import OrderedDict"
   ]
  },
  {
   "cell_type": "code",
   "execution_count": null,
   "metadata": {},
   "outputs": [],
   "source": []
  },
  {
   "cell_type": "code",
   "execution_count": 4,
   "metadata": {},
   "outputs": [],
   "source": [
    "a = OrderedDict()\n",
    "a[1] = 1\n",
    "a[2] = 1"
   ]
  },
  {
   "cell_type": "code",
   "execution_count": 13,
   "metadata": {},
   "outputs": [
    {
     "data": {
      "text/plain": [
       "[1, 2]"
      ]
     },
     "execution_count": 13,
     "metadata": {},
     "output_type": "execute_result"
    }
   ],
   "source": [
    "list(a.keys())"
   ]
  },
  {
   "cell_type": "code",
   "execution_count": 14,
   "metadata": {},
   "outputs": [
    {
     "data": {
      "text/plain": [
       "2"
      ]
     },
     "execution_count": 14,
     "metadata": {},
     "output_type": "execute_result"
    }
   ],
   "source": [
    "len(a)"
   ]
  },
  {
   "cell_type": "code",
   "execution_count": 15,
   "metadata": {},
   "outputs": [],
   "source": [
    "import random"
   ]
  },
  {
   "cell_type": "code",
   "execution_count": 19,
   "metadata": {
    "scrolled": true
   },
   "outputs": [
    {
     "data": {
      "text/plain": [
       "0"
      ]
     },
     "execution_count": 19,
     "metadata": {},
     "output_type": "execute_result"
    }
   ],
   "source": [
    "random.randrange(0,len(a))"
   ]
  },
  {
   "cell_type": "code",
   "execution_count": null,
   "metadata": {},
   "outputs": [],
   "source": [
    "import random\n",
    "from collections import OrderedDict\n",
    "\n",
    "class RandomizedSet:\n",
    "\n",
    "    def __init__(self):\n",
    "        \"\"\"\n",
    "        Initialize your data structure here.\n",
    "        \"\"\"\n",
    "        self.dict = OrderedDict()\n",
    "\n",
    "    def insert(self, val: int) -> bool:\n",
    "        \"\"\"\n",
    "        Inserts a value to the set. Returns true if the set did not already contain the specified element.\n",
    "        \"\"\"\n",
    "        if val in self.dict:\n",
    "            return False\n",
    "        self.dict[val] = 1\n",
    "        return True\n",
    "    def remove(self, val: int) -> bool:\n",
    "        \"\"\"\n",
    "        Removes a value from the set. Returns true if the set contained the specified element.\n",
    "        \"\"\"\n",
    "        if val in self.dict:\n",
    "            del self.dict[val]\n",
    "            return True\n",
    "        return False\n",
    "    def getRandom(self) -> int:\n",
    "        \"\"\"\n",
    "        Get a random element from the set.\n",
    "        \"\"\"\n",
    "        index = random.randrange(0,len(self.dict))\n",
    "        return list(self.dict)[index]\n",
    "\n",
    "\n",
    "# Your RandomizedSet object will be instantiated and called as such:\n",
    "# obj = RandomizedSet()\n",
    "# param_1 = obj.insert(val)\n",
    "# param_2 = obj.remove(val)\n",
    "# param_3 = obj.getRandom()"
   ]
  },
  {
   "cell_type": "code",
   "execution_count": null,
   "metadata": {},
   "outputs": [],
   "source": [
    "import random\n",
    "\n",
    "\n",
    "class RandomizedSet:\n",
    "\n",
    "    def __init__(self):\n",
    "        self.index = {}\n",
    "        self.set = []\n",
    "        \n",
    "\n",
    "    def insert(self, val: int) -> bool:\n",
    "        if val in self.index:\n",
    "            return False\n",
    "        self.set.append(val)\n",
    "        self.index[val] = len(self.set) - 1\n",
    "\n",
    "    def remove(self, val: int) -> bool:\n",
    "        if val not in self.index:\n",
    "            return False\n",
    "        index = self.index[val]\n",
    "        last_val = self.set[-1]\n",
    "        last_index = self.index[last_val]\n",
    "        \n",
    "        self.index[last_val] = index\n",
    "        self.set[index] = last_val\n",
    "        \n",
    "        del self.index[val]\n",
    "        del self.set[last_index]\n",
    "        \n",
    "    def getRandom(self) -> int:\n",
    "        return random.choice(self.set)"
   ]
  },
  {
   "cell_type": "code",
   "execution_count": null,
   "metadata": {},
   "outputs": [],
   "source": [
    "import random\n",
    "\n",
    "\n",
    "class RandomizedSet:\n",
    "\n",
    "    def __init__(self):\n",
    "        self.index = {}\n",
    "        self.set = []\n",
    "        \n",
    "\n",
    "    def insert(self, val: int) -> bool:\n",
    "        if val in self.index:\n",
    "            return False\n",
    "        self.set.append(val)\n",
    "        self.index[val] = len(self.set) - 1\n",
    "        return True\n",
    "        \n",
    "\n",
    "    def remove(self, val: int) -> bool:\n",
    "        if val not in self.index:\n",
    "            return False\n",
    "        i = self.index[val]\n",
    "        self.set[i] = self.set[-1]\n",
    "        self.index[self.set[i]] = i\n",
    "        del self.set[-1]\n",
    "        del self.index[val]\n",
    "        return True\n",
    "        \n",
    "\n",
    "    def getRandom(self) -> int:\n",
    "        return random.choice(self.set)"
   ]
  }
 ],
 "metadata": {
  "kernelspec": {
   "display_name": "Python 3",
   "language": "python",
   "name": "python3"
  },
  "language_info": {
   "codemirror_mode": {
    "name": "ipython",
    "version": 3
   },
   "file_extension": ".py",
   "mimetype": "text/x-python",
   "name": "python",
   "nbconvert_exporter": "python",
   "pygments_lexer": "ipython3",
   "version": "3.7.7"
  }
 },
 "nbformat": 4,
 "nbformat_minor": 4
}

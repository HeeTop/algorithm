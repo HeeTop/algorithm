{
 "cells": [
  {
   "cell_type": "code",
   "execution_count": null,
   "metadata": {},
   "outputs": [],
   "source": [
    "Validate IP Address\n",
    "Write a function to check whether an input string is a valid IPv4 address or IPv6 address or neither.\n",
    "\n",
    "IPv4 addresses are canonically represented in dot-decimal notation, which consists of four decimal numbers, each ranging from 0 to 255, separated by dots (\".\"), e.g.,172.16.254.1;\n",
    "\n",
    "Besides, leading zeros in the IPv4 is invalid. For example, the address 172.16.254.01 is invalid.\n",
    "\n",
    "IPv6 addresses are represented as eight groups of four hexadecimal digits, each group representing 16 bits. The groups are separated by colons (\":\"). For example, the address 2001:0db8:85a3:0000:0000:8a2e:0370:7334 is a valid one. Also, we could omit some leading zeros among four hexadecimal digits and some low-case characters in the address to upper-case ones, so 2001:db8:85a3:0:0:8A2E:0370:7334 is also a valid IPv6 address(Omit leading zeros and using upper cases).\n",
    "\n",
    "However, we don't replace a consecutive group of zero value with a single empty group using two consecutive colons (::) to pursue simplicity. For example, 2001:0db8:85a3::8A2E:0370:7334 is an invalid IPv6 address.\n",
    "\n",
    "Besides, extra leading zeros in the IPv6 is also invalid. For example, the address 02001:0db8:85a3:0000:0000:8a2e:0370:7334 is invalid.\n",
    "\n",
    "Note: You may assume there is no extra space or special characters in the input string.\n",
    "\n",
    "Example 1:\n",
    "Input: \"172.16.254.1\"\n",
    "\n",
    "Output: \"IPv4\"\n",
    "\n",
    "Explanation: This is a valid IPv4 address, return \"IPv4\".\n",
    "Example 2:\n",
    "Input: \"2001:0db8:85a3:0:0:8A2E:0370:7334\"\n",
    "\n",
    "Output: \"IPv6\"\n",
    "\n",
    "Explanation: This is a valid IPv6 address, return \"IPv6\".\n",
    "Example 3:\n",
    "Input: \"256.256.256.256\"\n",
    "\n",
    "Output: \"Neither\"\n",
    "\n",
    "Explanation: This is neither a IPv4 address nor a IPv6 address."
   ]
  },
  {
   "cell_type": "code",
   "execution_count": 8,
   "metadata": {},
   "outputs": [],
   "source": [
    "IP = \"172.16.254.1\""
   ]
  },
  {
   "cell_type": "code",
   "execution_count": 9,
   "metadata": {},
   "outputs": [
    {
     "data": {
      "text/plain": [
       "['172', '16', '254', '1']"
      ]
     },
     "execution_count": 9,
     "metadata": {},
     "output_type": "execute_result"
    }
   ],
   "source": [
    "IP.split(\".\")"
   ]
  },
  {
   "cell_type": "code",
   "execution_count": 28,
   "metadata": {},
   "outputs": [],
   "source": [
    "def is_IPv4(IP):\n",
    "    regx = list(\"1234567890.\")\n",
    "    for char in IP:\n",
    "        if char not in regx:\n",
    "            return False\n",
    "    IP = IP.split('.')\n",
    "    \n",
    "    if len(IP) != 4:\n",
    "        return\n",
    "    \n",
    "    for num in IP:\n",
    "        if len(num) > 1:\n",
    "            if num[0] == \"0\":\n",
    "                return False\n",
    "            elif int(num) < 256:\n",
    "                continue\n",
    "            else:\n",
    "                return False\n",
    "        elif len(num) == 1:\n",
    "            continue\n",
    "        else:\n",
    "            return False\n",
    "    return True"
   ]
  },
  {
   "cell_type": "code",
   "execution_count": 29,
   "metadata": {},
   "outputs": [
    {
     "data": {
      "text/plain": [
       "False"
      ]
     },
     "execution_count": 29,
     "metadata": {},
     "output_type": "execute_result"
    }
   ],
   "source": [
    "is_IPv4(\"172.16.255.01\")"
   ]
  },
  {
   "cell_type": "code",
   "execution_count": 34,
   "metadata": {},
   "outputs": [],
   "source": [
    "IP = \"2001:0Ab8:85a3:0000:0000:8a2e:0370:7334\""
   ]
  },
  {
   "cell_type": "code",
   "execution_count": 35,
   "metadata": {},
   "outputs": [
    {
     "data": {
      "text/plain": [
       "'2001:0ab8:85a3:0000:0000:8a2e:0370:7334'"
      ]
     },
     "execution_count": 35,
     "metadata": {},
     "output_type": "execute_result"
    }
   ],
   "source": [
    "IP.lower()"
   ]
  },
  {
   "cell_type": "code",
   "execution_count": 36,
   "metadata": {},
   "outputs": [
    {
     "data": {
      "text/plain": [
       "'2001:0Ab8:85a3:0000:0000:8a2e:0370:7334'"
      ]
     },
     "execution_count": 36,
     "metadata": {},
     "output_type": "execute_result"
    }
   ],
   "source": [
    "IP"
   ]
  },
  {
   "cell_type": "code",
   "execution_count": 37,
   "metadata": {},
   "outputs": [],
   "source": [
    "def is_IPv6(IP):\n",
    "    IP = IP.lower()\n",
    "    regx = list(\"1234567890abcdef:\")\n",
    "    for char in IP:\n",
    "        if char not in regx:\n",
    "            return False\n",
    "    IP = IP.split(\":\")\n",
    "    if len(IP) != 8:\n",
    "        return False\n",
    "    for num in IP:\n",
    "        if len(num) > 4 or len(num) == 0:\n",
    "            return False\n",
    "    return True"
   ]
  },
  {
   "cell_type": "code",
   "execution_count": 38,
   "metadata": {},
   "outputs": [
    {
     "data": {
      "text/plain": [
       "True"
      ]
     },
     "execution_count": 38,
     "metadata": {},
     "output_type": "execute_result"
    }
   ],
   "source": [
    "is_IPv6(IP)"
   ]
  },
  {
   "cell_type": "code",
   "execution_count": null,
   "metadata": {},
   "outputs": [],
   "source": [
    "def is_IPv6(IP):\n",
    "    IP = IP.lower()\n",
    "    regx = list(\"1234567890abcdef:\")\n",
    "    for char in IP:\n",
    "        if char not in regx:\n",
    "            return False\n",
    "    IP = IP.split(\":\")\n",
    "    if len(IP) != 8:\n",
    "        return False\n",
    "    for num in IP:\n",
    "        if len(num) > 4 or len(num) == 0:\n",
    "            return False\n",
    "    return True\n",
    "\n",
    "def is_IPv4(IP):\n",
    "    regx = list(\"1234567890.\")\n",
    "    for char in IP:\n",
    "        if char not in regx:\n",
    "            return False\n",
    "    IP = IP.split('.')\n",
    "    \n",
    "    if len(IP) != 4:\n",
    "        return\n",
    "    \n",
    "    for num in IP:\n",
    "        if len(num) > 1:\n",
    "            if num[0] == \"0\":\n",
    "                return False\n",
    "            elif int(num) < 256:\n",
    "                continue\n",
    "            else:\n",
    "                return False\n",
    "        elif len(num) == 1:\n",
    "            continue\n",
    "        else:\n",
    "            return False\n",
    "    return True\n",
    "\n",
    "class Solution:\n",
    "    def validIPAddress(self, IP: str) -> str:\n",
    "        if is_IPv6(IP):\n",
    "            return \"IPv6\"\n",
    "        elif is_IPv4(IP):\n",
    "            return \"IPv4\"\n",
    "        return \"Neither\""
   ]
  }
 ],
 "metadata": {
  "kernelspec": {
   "display_name": "Python 3",
   "language": "python",
   "name": "python3"
  },
  "language_info": {
   "codemirror_mode": {
    "name": "ipython",
    "version": 3
   },
   "file_extension": ".py",
   "mimetype": "text/x-python",
   "name": "python",
   "nbconvert_exporter": "python",
   "pygments_lexer": "ipython3",
   "version": "3.7.3"
  }
 },
 "nbformat": 4,
 "nbformat_minor": 2
}

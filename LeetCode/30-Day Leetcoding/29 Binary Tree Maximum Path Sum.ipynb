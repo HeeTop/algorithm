{
 "cells": [
  {
   "cell_type": "markdown",
   "metadata": {},
   "source": [
    " Binary Tree Maximum Path Sum\n",
    "Given a non-empty binary tree, find the maximum path sum.\n",
    "\n",
    "For this problem, a path is defined as any sequence of nodes from some starting node to any node in the tree along the parent-child connections. The path must contain at least one node and does not need to go through the root.\n",
    "\n",
    "Example 1:\n",
    "\n",
    "Input: [1,2,3]\n",
    "\n",
    "       1\n",
    "      / \\\n",
    "     2   3\n",
    "\n",
    "Output: 6\n",
    "Example 2:\n",
    "\n",
    "Input: [-10,9,20,null,null,15,7]\n",
    "\n",
    "   -10\n",
    "   / \\\n",
    "  9  20\n",
    "    /  \\\n",
    "   15   7\n",
    "\n",
    "Output: 42"
   ]
  },
  {
   "cell_type": "code",
   "execution_count": 7,
   "metadata": {},
   "outputs": [],
   "source": [
    "# Definition for a binary tree node.\n",
    "class TreeNode:\n",
    "    def __init__(self, val=0, left=None, right=None):\n",
    "        self.val = val\n",
    "        \n",
    "        self.left = left\n",
    "        self.right = right\n",
    "\n",
    "result = [-10000000]\n",
    "\n",
    "def preorder(node):\n",
    "    left = 0\n",
    "    right = 0\n",
    "    dp = node.val\n",
    "    \n",
    "    if node.left:\n",
    "        left = preorder(node.left)\n",
    "        if left < 0:\n",
    "            left = 0\n",
    "    if node.right:\n",
    "        right = preorder(node.right)\n",
    "        if right < 0:\n",
    "            right = 0\n",
    "            \n",
    "    result[0] = max(dp + left + right, result[0])\n",
    "    \n",
    "    if left > right:\n",
    "        return dp + left\n",
    "    else:\n",
    "        return dp + right\n",
    "    \n",
    "    \n",
    "class Solution:\n",
    "    result = 0\n",
    "    def maxPathSum(self, root: TreeNode) -> int:\n",
    "        result[0] = -10000000\n",
    "        \n",
    "        \n",
    "        preorder(root)\n",
    "        return result[0]"
   ]
  },
  {
   "cell_type": "code",
   "execution_count": 5,
   "metadata": {},
   "outputs": [],
   "source": [
    "def preorder(node):\n",
    "    left = 0\n",
    "    right = 0\n",
    "    \n",
    "    if node.left:\n",
    "        preorder(node.left)\n",
    "        if node.left.dp > 0:\n",
    "            left = node.left.dp\n",
    "    if node.right:\n",
    "        preorder(node.right)\n",
    "        if node.right.dp > 0:\n",
    "            right = node.right.dp\n",
    "    \n",
    "    node.dp += right + left"
   ]
  },
  {
   "cell_type": "code",
   "execution_count": null,
   "metadata": {},
   "outputs": [],
   "source": []
  }
 ],
 "metadata": {
  "kernelspec": {
   "display_name": "Python 3",
   "language": "python",
   "name": "python3"
  },
  "language_info": {
   "codemirror_mode": {
    "name": "ipython",
    "version": 3
   },
   "file_extension": ".py",
   "mimetype": "text/x-python",
   "name": "python",
   "nbconvert_exporter": "python",
   "pygments_lexer": "ipython3",
   "version": "3.7.3"
  }
 },
 "nbformat": 4,
 "nbformat_minor": 2
}

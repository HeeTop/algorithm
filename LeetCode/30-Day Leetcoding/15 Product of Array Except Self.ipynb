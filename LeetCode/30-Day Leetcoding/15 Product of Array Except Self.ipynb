{
 "cells": [
  {
   "cell_type": "markdown",
   "metadata": {},
   "source": [
    "  Product of Array Except Self\n",
    "Given an array nums of n integers where n > 1,  return an array output such that output[i] is equal to the product of all the elements of nums except nums[i].\n",
    "\n",
    "Example:\n",
    "\n",
    "Input:  [1,2,3,4]\n",
    "Output: [24,12,8,6]\n",
    "Constraint: It's guaranteed that the product of the elements of any prefix or suffix of the array (including the whole array) fits in a 32 bit integer.\n",
    "\n",
    "Note: Please solve it without division and in O(n).\n",
    "\n",
    "Follow up:\n",
    "Could you solve it with constant space complexity? (The output array does not count as extra space for the purpose of space complexity analysis.)"
   ]
  },
  {
   "cell_type": "code",
   "execution_count": null,
   "metadata": {},
   "outputs": [],
   "source": [
    "# with division\n",
    "class Solution:\n",
    "    def productExceptSelf(self, nums: List[int]) -> List[int]:\n",
    "        product = 1\n",
    "        for num in nums:\n",
    "            product *= num\n",
    "        ouputs = [ product // num for num in nums]\n",
    "        return ouputs\n",
    "        "
   ]
  },
  {
   "cell_type": "code",
   "execution_count": 6,
   "metadata": {},
   "outputs": [],
   "source": [
    "nums = [1,2,3,4]\n"
   ]
  },
  {
   "cell_type": "code",
   "execution_count": 7,
   "metadata": {},
   "outputs": [],
   "source": [
    "product = 1\n",
    "for num in nums:\n",
    "    product *= num"
   ]
  },
  {
   "cell_type": "code",
   "execution_count": 8,
   "metadata": {},
   "outputs": [],
   "source": [
    "ouputs = [ product // num for num in nums]"
   ]
  },
  {
   "cell_type": "code",
   "execution_count": 9,
   "metadata": {},
   "outputs": [
    {
     "data": {
      "text/plain": [
       "[24, 12, 8, 6]"
      ]
     },
     "execution_count": 9,
     "metadata": {},
     "output_type": "execute_result"
    }
   ],
   "source": [
    "ouputs"
   ]
  },
  {
   "cell_type": "code",
   "execution_count": 19,
   "metadata": {},
   "outputs": [
    {
     "name": "stdout",
     "output_type": "stream",
     "text": [
      "1 4\n",
      "2 3\n",
      "3 2\n",
      "4 1\n"
     ]
    }
   ],
   "source": [
    "# without division\n",
    "product = []\n",
    "\n",
    "for x, y in zip(nums, reversed(nums)):\n",
    "    if product == []:\n",
    "        product = [[x, y]]\n",
    "    else:\n",
    "        multi = [product[-1][0] * x, product[-1][1] * y]\n",
    "        product.append(multi)"
   ]
  },
  {
   "cell_type": "code",
   "execution_count": 20,
   "metadata": {},
   "outputs": [],
   "source": [
    "nums.reverse()"
   ]
  },
  {
   "cell_type": "code",
   "execution_count": 15,
   "metadata": {},
   "outputs": [
    {
     "data": {
      "text/plain": [
       "[4, 3, 2, 1]"
      ]
     },
     "execution_count": 15,
     "metadata": {},
     "output_type": "execute_result"
    }
   ],
   "source": [
    "list(reversed(nums))"
   ]
  },
  {
   "cell_type": "code",
   "execution_count": 24,
   "metadata": {},
   "outputs": [
    {
     "data": {
      "text/plain": [
       "[6, 24]"
      ]
     },
     "execution_count": 24,
     "metadata": {},
     "output_type": "execute_result"
    }
   ],
   "source": [
    "product[-2]"
   ]
  },
  {
   "cell_type": "code",
   "execution_count": 27,
   "metadata": {},
   "outputs": [
    {
     "data": {
      "text/plain": [
       "12"
      ]
     },
     "execution_count": 27,
     "metadata": {},
     "output_type": "execute_result"
    }
   ],
   "source": [
    "product[0][0] * product[-3][1]"
   ]
  },
  {
   "cell_type": "code",
   "execution_count": 39,
   "metadata": {},
   "outputs": [],
   "source": [
    "i = 0"
   ]
  },
  {
   "cell_type": "code",
   "execution_count": 40,
   "metadata": {},
   "outputs": [
    {
     "data": {
      "text/plain": [
       "576"
      ]
     },
     "execution_count": 40,
     "metadata": {},
     "output_type": "execute_result"
    }
   ],
   "source": [
    "product[i - 1][0] * product[-i - 2][1]"
   ]
  },
  {
   "cell_type": "code",
   "execution_count": 34,
   "metadata": {
    "scrolled": true
   },
   "outputs": [
    {
     "data": {
      "text/plain": [
       "[24, 12, 8, 6]"
      ]
     },
     "execution_count": 34,
     "metadata": {},
     "output_type": "execute_result"
    }
   ],
   "source": [
    "ouputs"
   ]
  },
  {
   "cell_type": "code",
   "execution_count": 44,
   "metadata": {},
   "outputs": [],
   "source": [
    "if i == 0:\n",
    "    multi = product[-i -2][1]\n",
    "elif i == len(product) - 1:\n",
    "    multi = product[i - 1][0]\n",
    "else:\n",
    "    multi = product[i - 1][0] * product[-i - 2][1]"
   ]
  },
  {
   "cell_type": "code",
   "execution_count": 57,
   "metadata": {},
   "outputs": [],
   "source": [
    "# without division\n",
    "product = []\n",
    "result = [0] * (len(nums))\n",
    "for x, y in zip(nums, reversed(nums)):\n",
    "    if product == []:\n",
    "        product = [[x, y]]\n",
    "    else:\n",
    "        multi = [product[-1][0] * x, product[-1][1] * y]\n",
    "        product.append(multi)\n",
    "\n",
    "for i in range(len(nums)):\n",
    "    if i == 0:\n",
    "        multi = product[-i -2][1]\n",
    "    elif i == len(product) - 1:\n",
    "        multi = product[i - 1][0]\n",
    "    else:\n",
    "        multi = product[i - 1][0] * product[-i - 2][1]\n",
    "    result[i] = multi\n",
    "return result\n",
    "    \n"
   ]
  },
  {
   "cell_type": "code",
   "execution_count": 58,
   "metadata": {},
   "outputs": [
    {
     "data": {
      "text/plain": [
       "[24, 12, 8, 6]"
      ]
     },
     "execution_count": 58,
     "metadata": {},
     "output_type": "execute_result"
    }
   ],
   "source": [
    "result"
   ]
  },
  {
   "cell_type": "code",
   "execution_count": 54,
   "metadata": {},
   "outputs": [
    {
     "data": {
      "text/plain": [
       "[6, 8, 12, 24]"
      ]
     },
     "execution_count": 54,
     "metadata": {},
     "output_type": "execute_result"
    }
   ],
   "source": [
    "result"
   ]
  },
  {
   "cell_type": "code",
   "execution_count": 56,
   "metadata": {},
   "outputs": [],
   "source": [
    "nums.reverse()"
   ]
  },
  {
   "cell_type": "code",
   "execution_count": 59,
   "metadata": {},
   "outputs": [
    {
     "data": {
      "text/plain": [
       "[1, 2, 3, 4]"
      ]
     },
     "execution_count": 59,
     "metadata": {},
     "output_type": "execute_result"
    }
   ],
   "source": [
    "nums"
   ]
  },
  {
   "cell_type": "code",
   "execution_count": null,
   "metadata": {},
   "outputs": [],
   "source": [
    "# without division\n",
    "class Solution:\n",
    "    def productExceptSelf(self, nums: List[int]) -> List[int]:\n",
    "        product = []\n",
    "        result = [0] * (len(nums))\n",
    "        for x, y in zip(nums, reversed(nums)):\n",
    "            if product == []:\n",
    "                product = [[x, y]]\n",
    "            else:\n",
    "                multi = [product[-1][0] * x, product[-1][1] * y]\n",
    "                product.append(multi)\n",
    "\n",
    "        for i in range(len(nums)):\n",
    "            if i == 0:\n",
    "                multi = product[-i -2][1]\n",
    "            elif i == len(product) - 1:\n",
    "                multi = product[i - 1][0]\n",
    "            else:\n",
    "                multi = product[i - 1][0] * product[-i - 2][1]\n",
    "            result[i] = multi\n",
    "        return result\n",
    "    "
   ]
  }
 ],
 "metadata": {
  "kernelspec": {
   "display_name": "Python 3",
   "language": "python",
   "name": "python3"
  },
  "language_info": {
   "codemirror_mode": {
    "name": "ipython",
    "version": 3
   },
   "file_extension": ".py",
   "mimetype": "text/x-python",
   "name": "python",
   "nbconvert_exporter": "python",
   "pygments_lexer": "ipython3",
   "version": "3.7.3"
  }
 },
 "nbformat": 4,
 "nbformat_minor": 2
}
